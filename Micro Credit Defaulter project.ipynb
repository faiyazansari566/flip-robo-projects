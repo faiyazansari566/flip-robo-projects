{
 "cells": [
  {
   "cell_type": "code",
   "execution_count": 1,
   "metadata": {},
   "outputs": [],
   "source": [
    "import pandas as pd\n",
    "import numpy as np\n",
    "import matplotlib.pyplot as plt\n",
    "import seaborn as sns\n",
    "import warnings\n",
    "warnings.filterwarnings('ignore')"
   ]
  },
  {
   "cell_type": "code",
   "execution_count": 2,
   "metadata": {},
   "outputs": [],
   "source": [
    "df = pd.read_csv('C:/Users/User/Downloads/Micro-Credit-Project/Micro Credit Project/Data file.csv')"
   ]
  },
  {
   "cell_type": "code",
   "execution_count": 3,
   "metadata": {},
   "outputs": [
    {
     "data": {
      "text/html": [
       "<div>\n",
       "<style scoped>\n",
       "    .dataframe tbody tr th:only-of-type {\n",
       "        vertical-align: middle;\n",
       "    }\n",
       "\n",
       "    .dataframe tbody tr th {\n",
       "        vertical-align: top;\n",
       "    }\n",
       "\n",
       "    .dataframe thead th {\n",
       "        text-align: right;\n",
       "    }\n",
       "</style>\n",
       "<table border=\"1\" class=\"dataframe\">\n",
       "  <thead>\n",
       "    <tr style=\"text-align: right;\">\n",
       "      <th></th>\n",
       "      <th>Unnamed: 0</th>\n",
       "      <th>label</th>\n",
       "      <th>msisdn</th>\n",
       "      <th>aon</th>\n",
       "      <th>daily_decr30</th>\n",
       "      <th>daily_decr90</th>\n",
       "      <th>rental30</th>\n",
       "      <th>rental90</th>\n",
       "      <th>last_rech_date_ma</th>\n",
       "      <th>last_rech_date_da</th>\n",
       "      <th>...</th>\n",
       "      <th>maxamnt_loans30</th>\n",
       "      <th>medianamnt_loans30</th>\n",
       "      <th>cnt_loans90</th>\n",
       "      <th>amnt_loans90</th>\n",
       "      <th>maxamnt_loans90</th>\n",
       "      <th>medianamnt_loans90</th>\n",
       "      <th>payback30</th>\n",
       "      <th>payback90</th>\n",
       "      <th>pcircle</th>\n",
       "      <th>pdate</th>\n",
       "    </tr>\n",
       "  </thead>\n",
       "  <tbody>\n",
       "    <tr>\n",
       "      <th>0</th>\n",
       "      <td>1</td>\n",
       "      <td>0</td>\n",
       "      <td>21408I70789</td>\n",
       "      <td>272.0</td>\n",
       "      <td>3055.050000</td>\n",
       "      <td>3065.150000</td>\n",
       "      <td>220.13</td>\n",
       "      <td>260.13</td>\n",
       "      <td>2.0</td>\n",
       "      <td>0.0</td>\n",
       "      <td>...</td>\n",
       "      <td>6.0</td>\n",
       "      <td>0.0</td>\n",
       "      <td>2.0</td>\n",
       "      <td>12</td>\n",
       "      <td>6</td>\n",
       "      <td>0.0</td>\n",
       "      <td>29.000000</td>\n",
       "      <td>29.000000</td>\n",
       "      <td>UPW</td>\n",
       "      <td>2016-07-20</td>\n",
       "    </tr>\n",
       "    <tr>\n",
       "      <th>1</th>\n",
       "      <td>2</td>\n",
       "      <td>1</td>\n",
       "      <td>76462I70374</td>\n",
       "      <td>712.0</td>\n",
       "      <td>12122.000000</td>\n",
       "      <td>12124.750000</td>\n",
       "      <td>3691.26</td>\n",
       "      <td>3691.26</td>\n",
       "      <td>20.0</td>\n",
       "      <td>0.0</td>\n",
       "      <td>...</td>\n",
       "      <td>12.0</td>\n",
       "      <td>0.0</td>\n",
       "      <td>1.0</td>\n",
       "      <td>12</td>\n",
       "      <td>12</td>\n",
       "      <td>0.0</td>\n",
       "      <td>0.000000</td>\n",
       "      <td>0.000000</td>\n",
       "      <td>UPW</td>\n",
       "      <td>2016-08-10</td>\n",
       "    </tr>\n",
       "    <tr>\n",
       "      <th>2</th>\n",
       "      <td>3</td>\n",
       "      <td>1</td>\n",
       "      <td>17943I70372</td>\n",
       "      <td>535.0</td>\n",
       "      <td>1398.000000</td>\n",
       "      <td>1398.000000</td>\n",
       "      <td>900.13</td>\n",
       "      <td>900.13</td>\n",
       "      <td>3.0</td>\n",
       "      <td>0.0</td>\n",
       "      <td>...</td>\n",
       "      <td>6.0</td>\n",
       "      <td>0.0</td>\n",
       "      <td>1.0</td>\n",
       "      <td>6</td>\n",
       "      <td>6</td>\n",
       "      <td>0.0</td>\n",
       "      <td>0.000000</td>\n",
       "      <td>0.000000</td>\n",
       "      <td>UPW</td>\n",
       "      <td>2016-08-19</td>\n",
       "    </tr>\n",
       "    <tr>\n",
       "      <th>3</th>\n",
       "      <td>4</td>\n",
       "      <td>1</td>\n",
       "      <td>55773I70781</td>\n",
       "      <td>241.0</td>\n",
       "      <td>21.228000</td>\n",
       "      <td>21.228000</td>\n",
       "      <td>159.42</td>\n",
       "      <td>159.42</td>\n",
       "      <td>41.0</td>\n",
       "      <td>0.0</td>\n",
       "      <td>...</td>\n",
       "      <td>6.0</td>\n",
       "      <td>0.0</td>\n",
       "      <td>2.0</td>\n",
       "      <td>12</td>\n",
       "      <td>6</td>\n",
       "      <td>0.0</td>\n",
       "      <td>0.000000</td>\n",
       "      <td>0.000000</td>\n",
       "      <td>UPW</td>\n",
       "      <td>2016-06-06</td>\n",
       "    </tr>\n",
       "    <tr>\n",
       "      <th>4</th>\n",
       "      <td>5</td>\n",
       "      <td>1</td>\n",
       "      <td>03813I82730</td>\n",
       "      <td>947.0</td>\n",
       "      <td>150.619333</td>\n",
       "      <td>150.619333</td>\n",
       "      <td>1098.90</td>\n",
       "      <td>1098.90</td>\n",
       "      <td>4.0</td>\n",
       "      <td>0.0</td>\n",
       "      <td>...</td>\n",
       "      <td>6.0</td>\n",
       "      <td>0.0</td>\n",
       "      <td>7.0</td>\n",
       "      <td>42</td>\n",
       "      <td>6</td>\n",
       "      <td>0.0</td>\n",
       "      <td>2.333333</td>\n",
       "      <td>2.333333</td>\n",
       "      <td>UPW</td>\n",
       "      <td>2016-06-22</td>\n",
       "    </tr>\n",
       "  </tbody>\n",
       "</table>\n",
       "<p>5 rows × 37 columns</p>\n",
       "</div>"
      ],
      "text/plain": [
       "   Unnamed: 0  label       msisdn    aon  daily_decr30  daily_decr90  \\\n",
       "0           1      0  21408I70789  272.0   3055.050000   3065.150000   \n",
       "1           2      1  76462I70374  712.0  12122.000000  12124.750000   \n",
       "2           3      1  17943I70372  535.0   1398.000000   1398.000000   \n",
       "3           4      1  55773I70781  241.0     21.228000     21.228000   \n",
       "4           5      1  03813I82730  947.0    150.619333    150.619333   \n",
       "\n",
       "   rental30  rental90  last_rech_date_ma  last_rech_date_da  ...  \\\n",
       "0    220.13    260.13                2.0                0.0  ...   \n",
       "1   3691.26   3691.26               20.0                0.0  ...   \n",
       "2    900.13    900.13                3.0                0.0  ...   \n",
       "3    159.42    159.42               41.0                0.0  ...   \n",
       "4   1098.90   1098.90                4.0                0.0  ...   \n",
       "\n",
       "   maxamnt_loans30  medianamnt_loans30  cnt_loans90  amnt_loans90  \\\n",
       "0              6.0                 0.0          2.0            12   \n",
       "1             12.0                 0.0          1.0            12   \n",
       "2              6.0                 0.0          1.0             6   \n",
       "3              6.0                 0.0          2.0            12   \n",
       "4              6.0                 0.0          7.0            42   \n",
       "\n",
       "   maxamnt_loans90  medianamnt_loans90  payback30  payback90  pcircle  \\\n",
       "0                6                 0.0  29.000000  29.000000      UPW   \n",
       "1               12                 0.0   0.000000   0.000000      UPW   \n",
       "2                6                 0.0   0.000000   0.000000      UPW   \n",
       "3                6                 0.0   0.000000   0.000000      UPW   \n",
       "4                6                 0.0   2.333333   2.333333      UPW   \n",
       "\n",
       "        pdate  \n",
       "0  2016-07-20  \n",
       "1  2016-08-10  \n",
       "2  2016-08-19  \n",
       "3  2016-06-06  \n",
       "4  2016-06-22  \n",
       "\n",
       "[5 rows x 37 columns]"
      ]
     },
     "execution_count": 3,
     "metadata": {},
     "output_type": "execute_result"
    }
   ],
   "source": [
    "df.head()"
   ]
  },
  {
   "cell_type": "code",
   "execution_count": 4,
   "metadata": {},
   "outputs": [
    {
     "data": {
      "text/plain": [
       "1    183431\n",
       "0     26162\n",
       "Name: label, dtype: int64"
      ]
     },
     "execution_count": 4,
     "metadata": {},
     "output_type": "execute_result"
    }
   ],
   "source": [
    "df['label'].value_counts()"
   ]
  },
  {
   "cell_type": "code",
   "execution_count": 4,
   "metadata": {
    "scrolled": true
   },
   "outputs": [
    {
     "data": {
      "text/plain": [
       "<AxesSubplot:>"
      ]
     },
     "execution_count": 4,
     "metadata": {},
     "output_type": "execute_result"
    },
    {
     "data": {
      "image/png": "[encoded data removed]",
      "text/plain": [
       "<Figure size 432x288 with 1 Axes>"
      ]
     },
     "metadata": {
      "needs_background": "light"
     },
     "output_type": "display_data"
    }
   ],
   "source": [
    "df['label'].hist()"
   ]
  },
  {
   "cell_type": "code",
   "execution_count": 5,
   "metadata": {},
   "outputs": [
    {
     "name": "stdout",
     "output_type": "stream",
     "text": [
      "Non defaulters ---> 87.5177129007171 %\n",
      "Defaulters     ---> 12.482287099282896 %\n"
     ]
    }
   ],
   "source": [
    "print('Non defaulters --->',df['label'].value_counts()[1]/df['label'].shape[0] * 100,'%')\n",
    "print('Defaulters     --->',df['label'].value_counts()[0]/df['label'].shape[0] * 100,'%')\n"
   ]
  },
  {
   "cell_type": "code",
   "execution_count": 6,
   "metadata": {},
   "outputs": [],
   "source": [
    "## here the data is imbalanced"
   ]
  },
  {
   "cell_type": "code",
   "execution_count": 7,
   "metadata": {},
   "outputs": [
    {
     "name": "stdout",
     "output_type": "stream",
     "text": [
      "<class 'pandas.core.frame.DataFrame'>\n",
      "RangeIndex: 209593 entries, 0 to 209592\n",
      "Data columns (total 37 columns):\n",
      " #   Column                Non-Null Count   Dtype  \n",
      "---  ------                --------------   -----  \n",
      " 0   Unnamed: 0            209593 non-null  int64  \n",
      " 1   label                 209593 non-null  int64  \n",
      " 2   msisdn                209593 non-null  object \n",
      " 3   aon                   209593 non-null  float64\n",
      " 4   daily_decr30          209593 non-null  float64\n",
      " 5   daily_decr90          209593 non-null  float64\n",
      " 6   rental30              209593 non-null  float64\n",
      " 7   rental90              209593 non-null  float64\n",
      " 8   last_rech_date_ma     209593 non-null  float64\n",
      " 9   last_rech_date_da     209593 non-null  float64\n",
      " 10  last_rech_amt_ma      209593 non-null  int64  \n",
      " 11  cnt_ma_rech30         209593 non-null  int64  \n",
      " 12  fr_ma_rech30          209593 non-null  float64\n",
      " 13  sumamnt_ma_rech30     209593 non-null  float64\n",
      " 14  medianamnt_ma_rech30  209593 non-null  float64\n",
      " 15  medianmarechprebal30  209593 non-null  float64\n",
      " 16  cnt_ma_rech90         209593 non-null  int64  \n",
      " 17  fr_ma_rech90          209593 non-null  int64  \n",
      " 18  sumamnt_ma_rech90     209593 non-null  int64  \n",
      " 19  medianamnt_ma_rech90  209593 non-null  float64\n",
      " 20  medianmarechprebal90  209593 non-null  float64\n",
      " 21  cnt_da_rech30         209593 non-null  float64\n",
      " 22  fr_da_rech30          209593 non-null  float64\n",
      " 23  cnt_da_rech90         209593 non-null  int64  \n",
      " 24  fr_da_rech90          209593 non-null  int64  \n",
      " 25  cnt_loans30           209593 non-null  int64  \n",
      " 26  amnt_loans30          209593 non-null  int64  \n",
      " 27  maxamnt_loans30       209593 non-null  float64\n",
      " 28  medianamnt_loans30    209593 non-null  float64\n",
      " 29  cnt_loans90           209593 non-null  float64\n",
      " 30  amnt_loans90          209593 non-null  int64  \n",
      " 31  maxamnt_loans90       209593 non-null  int64  \n",
      " 32  medianamnt_loans90    209593 non-null  float64\n",
      " 33  payback30             209593 non-null  float64\n",
      " 34  payback90             209593 non-null  float64\n",
      " 35  pcircle               209593 non-null  object \n",
      " 36  pdate                 209593 non-null  object \n",
      "dtypes: float64(21), int64(13), object(3)\n",
      "memory usage: 59.2+ MB\n"
     ]
    }
   ],
   "source": [
    "df.info()"
   ]
  },
  {
   "cell_type": "code",
   "execution_count": 8,
   "metadata": {},
   "outputs": [
    {
     "data": {
      "text/html": [
       "<div>\n",
       "<style scoped>\n",
       "    .dataframe tbody tr th:only-of-type {\n",
       "        vertical-align: middle;\n",
       "    }\n",
       "\n",
       "    .dataframe tbody tr th {\n",
       "        vertical-align: top;\n",
       "    }\n",
       "\n",
       "    .dataframe thead th {\n",
       "        text-align: right;\n",
       "    }\n",
       "</style>\n",
       "<table border=\"1\" class=\"dataframe\">\n",
       "  <thead>\n",
       "    <tr style=\"text-align: right;\">\n",
       "      <th></th>\n",
       "      <th>Unnamed: 0</th>\n",
       "      <th>label</th>\n",
       "      <th>aon</th>\n",
       "      <th>daily_decr30</th>\n",
       "      <th>daily_decr90</th>\n",
       "      <th>rental30</th>\n",
       "      <th>rental90</th>\n",
       "      <th>last_rech_date_ma</th>\n",
       "      <th>last_rech_date_da</th>\n",
       "      <th>last_rech_amt_ma</th>\n",
       "      <th>...</th>\n",
       "      <th>cnt_loans30</th>\n",
       "      <th>amnt_loans30</th>\n",
       "      <th>maxamnt_loans30</th>\n",
       "      <th>medianamnt_loans30</th>\n",
       "      <th>cnt_loans90</th>\n",
       "      <th>amnt_loans90</th>\n",
       "      <th>maxamnt_loans90</th>\n",
       "      <th>medianamnt_loans90</th>\n",
       "      <th>payback30</th>\n",
       "      <th>payback90</th>\n",
       "    </tr>\n",
       "  </thead>\n",
       "  <tbody>\n",
       "    <tr>\n",
       "      <th>count</th>\n",
       "      <td>209593.000000</td>\n",
       "      <td>209593.000000</td>\n",
       "      <td>209593.000000</td>\n",
       "      <td>209593.000000</td>\n",
       "      <td>209593.000000</td>\n",
       "      <td>209593.000000</td>\n",
       "      <td>209593.000000</td>\n",
       "      <td>209593.000000</td>\n",
       "      <td>209593.000000</td>\n",
       "      <td>209593.000000</td>\n",
       "      <td>...</td>\n",
       "      <td>209593.000000</td>\n",
       "      <td>209593.000000</td>\n",
       "      <td>209593.000000</td>\n",
       "      <td>209593.000000</td>\n",
       "      <td>209593.000000</td>\n",
       "      <td>209593.000000</td>\n",
       "      <td>209593.000000</td>\n",
       "      <td>209593.000000</td>\n",
       "      <td>209593.000000</td>\n",
       "      <td>209593.000000</td>\n",
       "    </tr>\n",
       "    <tr>\n",
       "      <th>mean</th>\n",
       "      <td>104797.000000</td>\n",
       "      <td>0.875177</td>\n",
       "      <td>8112.343445</td>\n",
       "      <td>5381.402289</td>\n",
       "      <td>6082.515068</td>\n",
       "      <td>2692.581910</td>\n",
       "      <td>3483.406534</td>\n",
       "      <td>3755.847800</td>\n",
       "      <td>3712.202921</td>\n",
       "      <td>2064.452797</td>\n",
       "      <td>...</td>\n",
       "      <td>2.758981</td>\n",
       "      <td>17.952021</td>\n",
       "      <td>274.658747</td>\n",
       "      <td>0.054029</td>\n",
       "      <td>18.520919</td>\n",
       "      <td>23.645398</td>\n",
       "      <td>6.703134</td>\n",
       "      <td>0.046077</td>\n",
       "      <td>3.398826</td>\n",
       "      <td>4.321485</td>\n",
       "    </tr>\n",
       "    <tr>\n",
       "      <th>std</th>\n",
       "      <td>60504.431823</td>\n",
       "      <td>0.330519</td>\n",
       "      <td>75696.082531</td>\n",
       "      <td>9220.623400</td>\n",
       "      <td>10918.812767</td>\n",
       "      <td>4308.586781</td>\n",
       "      <td>5770.461279</td>\n",
       "      <td>53905.892230</td>\n",
       "      <td>53374.833430</td>\n",
       "      <td>2370.786034</td>\n",
       "      <td>...</td>\n",
       "      <td>2.554502</td>\n",
       "      <td>17.379741</td>\n",
       "      <td>4245.264648</td>\n",
       "      <td>0.218039</td>\n",
       "      <td>224.797423</td>\n",
       "      <td>26.469861</td>\n",
       "      <td>2.103864</td>\n",
       "      <td>0.200692</td>\n",
       "      <td>8.813729</td>\n",
       "      <td>10.308108</td>\n",
       "    </tr>\n",
       "    <tr>\n",
       "      <th>min</th>\n",
       "      <td>1.000000</td>\n",
       "      <td>0.000000</td>\n",
       "      <td>-48.000000</td>\n",
       "      <td>-93.012667</td>\n",
       "      <td>-93.012667</td>\n",
       "      <td>-23737.140000</td>\n",
       "      <td>-24720.580000</td>\n",
       "      <td>-29.000000</td>\n",
       "      <td>-29.000000</td>\n",
       "      <td>0.000000</td>\n",
       "      <td>...</td>\n",
       "      <td>0.000000</td>\n",
       "      <td>0.000000</td>\n",
       "      <td>0.000000</td>\n",
       "      <td>0.000000</td>\n",
       "      <td>0.000000</td>\n",
       "      <td>0.000000</td>\n",
       "      <td>0.000000</td>\n",
       "      <td>0.000000</td>\n",
       "      <td>0.000000</td>\n",
       "      <td>0.000000</td>\n",
       "    </tr>\n",
       "    <tr>\n",
       "      <th>25%</th>\n",
       "      <td>52399.000000</td>\n",
       "      <td>1.000000</td>\n",
       "      <td>246.000000</td>\n",
       "      <td>42.440000</td>\n",
       "      <td>42.692000</td>\n",
       "      <td>280.420000</td>\n",
       "      <td>300.260000</td>\n",
       "      <td>1.000000</td>\n",
       "      <td>0.000000</td>\n",
       "      <td>770.000000</td>\n",
       "      <td>...</td>\n",
       "      <td>1.000000</td>\n",
       "      <td>6.000000</td>\n",
       "      <td>6.000000</td>\n",
       "      <td>0.000000</td>\n",
       "      <td>1.000000</td>\n",
       "      <td>6.000000</td>\n",
       "      <td>6.000000</td>\n",
       "      <td>0.000000</td>\n",
       "      <td>0.000000</td>\n",
       "      <td>0.000000</td>\n",
       "    </tr>\n",
       "    <tr>\n",
       "      <th>50%</th>\n",
       "      <td>104797.000000</td>\n",
       "      <td>1.000000</td>\n",
       "      <td>527.000000</td>\n",
       "      <td>1469.175667</td>\n",
       "      <td>1500.000000</td>\n",
       "      <td>1083.570000</td>\n",
       "      <td>1334.000000</td>\n",
       "      <td>3.000000</td>\n",
       "      <td>0.000000</td>\n",
       "      <td>1539.000000</td>\n",
       "      <td>...</td>\n",
       "      <td>2.000000</td>\n",
       "      <td>12.000000</td>\n",
       "      <td>6.000000</td>\n",
       "      <td>0.000000</td>\n",
       "      <td>2.000000</td>\n",
       "      <td>12.000000</td>\n",
       "      <td>6.000000</td>\n",
       "      <td>0.000000</td>\n",
       "      <td>0.000000</td>\n",
       "      <td>1.666667</td>\n",
       "    </tr>\n",
       "    <tr>\n",
       "      <th>75%</th>\n",
       "      <td>157195.000000</td>\n",
       "      <td>1.000000</td>\n",
       "      <td>982.000000</td>\n",
       "      <td>7244.000000</td>\n",
       "      <td>7802.790000</td>\n",
       "      <td>3356.940000</td>\n",
       "      <td>4201.790000</td>\n",
       "      <td>7.000000</td>\n",
       "      <td>0.000000</td>\n",
       "      <td>2309.000000</td>\n",
       "      <td>...</td>\n",
       "      <td>4.000000</td>\n",
       "      <td>24.000000</td>\n",
       "      <td>6.000000</td>\n",
       "      <td>0.000000</td>\n",
       "      <td>5.000000</td>\n",
       "      <td>30.000000</td>\n",
       "      <td>6.000000</td>\n",
       "      <td>0.000000</td>\n",
       "      <td>3.750000</td>\n",
       "      <td>4.500000</td>\n",
       "    </tr>\n",
       "    <tr>\n",
       "      <th>max</th>\n",
       "      <td>209593.000000</td>\n",
       "      <td>1.000000</td>\n",
       "      <td>999860.755168</td>\n",
       "      <td>265926.000000</td>\n",
       "      <td>320630.000000</td>\n",
       "      <td>198926.110000</td>\n",
       "      <td>200148.110000</td>\n",
       "      <td>998650.377733</td>\n",
       "      <td>999171.809410</td>\n",
       "      <td>55000.000000</td>\n",
       "      <td>...</td>\n",
       "      <td>50.000000</td>\n",
       "      <td>306.000000</td>\n",
       "      <td>99864.560864</td>\n",
       "      <td>3.000000</td>\n",
       "      <td>4997.517944</td>\n",
       "      <td>438.000000</td>\n",
       "      <td>12.000000</td>\n",
       "      <td>3.000000</td>\n",
       "      <td>171.500000</td>\n",
       "      <td>171.500000</td>\n",
       "    </tr>\n",
       "  </tbody>\n",
       "</table>\n",
       "<p>8 rows × 34 columns</p>\n",
       "</div>"
      ],
      "text/plain": [
       "          Unnamed: 0          label            aon   daily_decr30  \\\n",
       "count  209593.000000  209593.000000  209593.000000  209593.000000   \n",
       "mean   104797.000000       0.875177    8112.343445    5381.402289   \n",
       "std     60504.431823       0.330519   75696.082531    9220.623400   \n",
       "min         1.000000       0.000000     -48.000000     -93.012667   \n",
       "25%     52399.000000       1.000000     246.000000      42.440000   \n",
       "50%    104797.000000       1.000000     527.000000    1469.175667   \n",
       "75%    157195.000000       1.000000     982.000000    7244.000000   \n",
       "max    209593.000000       1.000000  999860.755168  265926.000000   \n",
       "\n",
       "        daily_decr90       rental30       rental90  last_rech_date_ma  \\\n",
       "count  209593.000000  209593.000000  209593.000000      209593.000000   \n",
       "mean     6082.515068    2692.581910    3483.406534        3755.847800   \n",
       "std     10918.812767    4308.586781    5770.461279       53905.892230   \n",
       "min       -93.012667  -23737.140000  -24720.580000         -29.000000   \n",
       "25%        42.692000     280.420000     300.260000           1.000000   \n",
       "50%      1500.000000    1083.570000    1334.000000           3.000000   \n",
       "75%      7802.790000    3356.940000    4201.790000           7.000000   \n",
       "max    320630.000000  198926.110000  200148.110000      998650.377733   \n",
       "\n",
       "       last_rech_date_da  last_rech_amt_ma  ...    cnt_loans30   amnt_loans30  \\\n",
       "count      209593.000000     209593.000000  ...  209593.000000  209593.000000   \n",
       "mean         3712.202921       2064.452797  ...       2.758981      17.952021   \n",
       "std         53374.833430       2370.786034  ...       2.554502      17.379741   \n",
       "min           -29.000000          0.000000  ...       0.000000       0.000000   \n",
       "25%             0.000000        770.000000  ...       1.000000       6.000000   \n",
       "50%             0.000000       1539.000000  ...       2.000000      12.000000   \n",
       "75%             0.000000       2309.000000  ...       4.000000      24.000000   \n",
       "max        999171.809410      55000.000000  ...      50.000000     306.000000   \n",
       "\n",
       "       maxamnt_loans30  medianamnt_loans30    cnt_loans90   amnt_loans90  \\\n",
       "count    209593.000000       209593.000000  209593.000000  209593.000000   \n",
       "mean        274.658747            0.054029      18.520919      23.645398   \n",
       "std        4245.264648            0.218039     224.797423      26.469861   \n",
       "min           0.000000            0.000000       0.000000       0.000000   \n",
       "25%           6.000000            0.000000       1.000000       6.000000   \n",
       "50%           6.000000            0.000000       2.000000      12.000000   \n",
       "75%           6.000000            0.000000       5.000000      30.000000   \n",
       "max       99864.560864            3.000000    4997.517944     438.000000   \n",
       "\n",
       "       maxamnt_loans90  medianamnt_loans90      payback30      payback90  \n",
       "count    209593.000000       209593.000000  209593.000000  209593.000000  \n",
       "mean          6.703134            0.046077       3.398826       4.321485  \n",
       "std           2.103864            0.200692       8.813729      10.308108  \n",
       "min           0.000000            0.000000       0.000000       0.000000  \n",
       "25%           6.000000            0.000000       0.000000       0.000000  \n",
       "50%           6.000000            0.000000       0.000000       1.666667  \n",
       "75%           6.000000            0.000000       3.750000       4.500000  \n",
       "max          12.000000            3.000000     171.500000     171.500000  \n",
       "\n",
       "[8 rows x 34 columns]"
      ]
     },
     "execution_count": 8,
     "metadata": {},
     "output_type": "execute_result"
    }
   ],
   "source": [
    "df.describe()"
   ]
  },
  {
   "cell_type": "code",
   "execution_count": 9,
   "metadata": {},
   "outputs": [
    {
     "data": {
      "text/plain": [
       "Unnamed: 0              0\n",
       "label                   0\n",
       "msisdn                  0\n",
       "aon                     0\n",
       "daily_decr30            0\n",
       "daily_decr90            0\n",
       "rental30                0\n",
       "rental90                0\n",
       "last_rech_date_ma       0\n",
       "last_rech_date_da       0\n",
       "last_rech_amt_ma        0\n",
       "cnt_ma_rech30           0\n",
       "fr_ma_rech30            0\n",
       "sumamnt_ma_rech30       0\n",
       "medianamnt_ma_rech30    0\n",
       "medianmarechprebal30    0\n",
       "cnt_ma_rech90           0\n",
       "fr_ma_rech90            0\n",
       "sumamnt_ma_rech90       0\n",
       "medianamnt_ma_rech90    0\n",
       "medianmarechprebal90    0\n",
       "cnt_da_rech30           0\n",
       "fr_da_rech30            0\n",
       "cnt_da_rech90           0\n",
       "fr_da_rech90            0\n",
       "cnt_loans30             0\n",
       "amnt_loans30            0\n",
       "maxamnt_loans30         0\n",
       "medianamnt_loans30      0\n",
       "cnt_loans90             0\n",
       "amnt_loans90            0\n",
       "maxamnt_loans90         0\n",
       "medianamnt_loans90      0\n",
       "payback30               0\n",
       "payback90               0\n",
       "pcircle                 0\n",
       "pdate                   0\n",
       "dtype: int64"
      ]
     },
     "execution_count": 9,
     "metadata": {},
     "output_type": "execute_result"
    }
   ],
   "source": [
    "df.isnull().sum()"
   ]
  },
  {
   "cell_type": "code",
   "execution_count": 10,
   "metadata": {
    "scrolled": true
   },
   "outputs": [
    {
     "data": {
      "image/png": "[encoded data removed]",
      "text/plain": [
       "<Figure size 1440x864 with 2 Axes>"
      ]
     },
     "metadata": {
      "needs_background": "light"
     },
     "output_type": "display_data"
    }
   ],
   "source": [
    "plt.figure(figsize=(20,12))\n",
    "sns.heatmap(df.isnull())\n",
    "plt.title('Null values')\n",
    "plt.show()"
   ]
  },
  {
   "cell_type": "code",
   "execution_count": 11,
   "metadata": {},
   "outputs": [
    {
     "data": {
      "text/plain": [
       "(209593, 36)"
      ]
     },
     "execution_count": 11,
     "metadata": {},
     "output_type": "execute_result"
    }
   ],
   "source": [
    "x = df.drop('label',axis=1)\n",
    "x.shape"
   ]
  },
  {
   "cell_type": "code",
   "execution_count": 12,
   "metadata": {},
   "outputs": [
    {
     "data": {
      "text/plain": [
       "(209593,)"
      ]
     },
     "execution_count": 12,
     "metadata": {},
     "output_type": "execute_result"
    }
   ],
   "source": [
    "y = df['label']\n",
    "y.shape"
   ]
  },
  {
   "cell_type": "code",
   "execution_count": 13,
   "metadata": {},
   "outputs": [
    {
     "data": {
      "text/plain": [
       "(183431, 37)"
      ]
     },
     "execution_count": 13,
     "metadata": {},
     "output_type": "execute_result"
    }
   ],
   "source": [
    "df[df['label']==1].shape"
   ]
  },
  {
   "cell_type": "code",
   "execution_count": 14,
   "metadata": {},
   "outputs": [
    {
     "data": {
      "text/plain": [
       "(26162, 37)"
      ]
     },
     "execution_count": 14,
     "metadata": {},
     "output_type": "execute_result"
    }
   ],
   "source": [
    "df[df['label']==0].shape"
   ]
  },
  {
   "cell_type": "code",
   "execution_count": 15,
   "metadata": {},
   "outputs": [],
   "source": [
    "from imblearn.over_sampling import RandomOverSampler\n",
    "from collections import Counter"
   ]
  },
  {
   "cell_type": "code",
   "execution_count": 16,
   "metadata": {},
   "outputs": [],
   "source": [
    "os = RandomOverSampler()"
   ]
  },
  {
   "cell_type": "code",
   "execution_count": 17,
   "metadata": {},
   "outputs": [],
   "source": [
    "x_res,y_res = os.fit_resample(x,y)"
   ]
  },
  {
   "cell_type": "code",
   "execution_count": 18,
   "metadata": {
    "scrolled": true
   },
   "outputs": [
    {
     "data": {
      "text/plain": [
       "((366862, 36), (366862,))"
      ]
     },
     "execution_count": 18,
     "metadata": {},
     "output_type": "execute_result"
    }
   ],
   "source": [
    "x_res.shape ,y_res.shape"
   ]
  },
  {
   "cell_type": "code",
   "execution_count": 19,
   "metadata": {},
   "outputs": [
    {
     "data": {
      "text/plain": [
       "((209593, 36), (209593,))"
      ]
     },
     "execution_count": 19,
     "metadata": {},
     "output_type": "execute_result"
    }
   ],
   "source": [
    "x.shape , y.shape"
   ]
  },
  {
   "cell_type": "code",
   "execution_count": 20,
   "metadata": {
    "scrolled": true
   },
   "outputs": [
    {
     "name": "stdout",
     "output_type": "stream",
     "text": [
      "Original dataset shape Counter({1: 183431, 0: 26162})\n",
      "Resample dataset shape Counter({0: 183431, 1: 183431})\n"
     ]
    }
   ],
   "source": [
    "print('Original dataset shape {}'.format(Counter(y)))\n",
    "print('Resample dataset shape {}'.format(Counter(y_res)))"
   ]
  },
  {
   "cell_type": "code",
   "execution_count": 21,
   "metadata": {
    "scrolled": true
   },
   "outputs": [
    {
     "data": {
      "text/plain": [
       "Counter({0: 26162, 1: 183431})"
      ]
     },
     "execution_count": 21,
     "metadata": {},
     "output_type": "execute_result"
    }
   ],
   "source": [
    "Counter(y)"
   ]
  },
  {
   "cell_type": "code",
   "execution_count": 22,
   "metadata": {},
   "outputs": [
    {
     "data": {
      "text/plain": [
       "Counter({0: 183431, 1: 183431})"
      ]
     },
     "execution_count": 22,
     "metadata": {},
     "output_type": "execute_result"
    }
   ],
   "source": [
    "Counter(y_res)"
   ]
  },
  {
   "cell_type": "code",
   "execution_count": 23,
   "metadata": {
    "scrolled": true
   },
   "outputs": [],
   "source": [
    "##y_res[y_res==1].shape"
   ]
  },
  {
   "cell_type": "code",
   "execution_count": 24,
   "metadata": {
    "scrolled": true
   },
   "outputs": [],
   "source": [
    "##y_res[y_res==0].shape"
   ]
  },
  {
   "cell_type": "code",
   "execution_count": 25,
   "metadata": {},
   "outputs": [
    {
     "data": {
      "text/plain": [
       "Index(['Unnamed: 0', 'msisdn', 'aon', 'daily_decr30', 'daily_decr90',\n",
       "       'rental30', 'rental90', 'last_rech_date_ma', 'last_rech_date_da',\n",
       "       'last_rech_amt_ma', 'cnt_ma_rech30', 'fr_ma_rech30',\n",
       "       'sumamnt_ma_rech30', 'medianamnt_ma_rech30', 'medianmarechprebal30',\n",
       "       'cnt_ma_rech90', 'fr_ma_rech90', 'sumamnt_ma_rech90',\n",
       "       'medianamnt_ma_rech90', 'medianmarechprebal90', 'cnt_da_rech30',\n",
       "       'fr_da_rech30', 'cnt_da_rech90', 'fr_da_rech90', 'cnt_loans30',\n",
       "       'amnt_loans30', 'maxamnt_loans30', 'medianamnt_loans30', 'cnt_loans90',\n",
       "       'amnt_loans90', 'maxamnt_loans90', 'medianamnt_loans90', 'payback30',\n",
       "       'payback90', 'pcircle', 'pdate'],\n",
       "      dtype='object')"
      ]
     },
     "execution_count": 25,
     "metadata": {},
     "output_type": "execute_result"
    }
   ],
   "source": [
    "x_res.columns"
   ]
  },
  {
   "cell_type": "code",
   "execution_count": 26,
   "metadata": {},
   "outputs": [],
   "source": [
    "x_res = x_res.drop(['msisdn','pdate','pcircle'],axis=1)"
   ]
  },
  {
   "cell_type": "code",
   "execution_count": 27,
   "metadata": {},
   "outputs": [],
   "source": [
    "df_res = pd.concat((x_res,y_res),axis=1)"
   ]
  },
  {
   "cell_type": "code",
   "execution_count": 28,
   "metadata": {},
   "outputs": [
    {
     "data": {
      "text/html": [
       "<div>\n",
       "<style scoped>\n",
       "    .dataframe tbody tr th:only-of-type {\n",
       "        vertical-align: middle;\n",
       "    }\n",
       "\n",
       "    .dataframe tbody tr th {\n",
       "        vertical-align: top;\n",
       "    }\n",
       "\n",
       "    .dataframe thead th {\n",
       "        text-align: right;\n",
       "    }\n",
       "</style>\n",
       "<table border=\"1\" class=\"dataframe\">\n",
       "  <thead>\n",
       "    <tr style=\"text-align: right;\">\n",
       "      <th></th>\n",
       "      <th>Unnamed: 0</th>\n",
       "      <th>aon</th>\n",
       "      <th>daily_decr30</th>\n",
       "      <th>daily_decr90</th>\n",
       "      <th>rental30</th>\n",
       "      <th>rental90</th>\n",
       "      <th>last_rech_date_ma</th>\n",
       "      <th>last_rech_date_da</th>\n",
       "      <th>last_rech_amt_ma</th>\n",
       "      <th>cnt_ma_rech30</th>\n",
       "      <th>...</th>\n",
       "      <th>amnt_loans30</th>\n",
       "      <th>maxamnt_loans30</th>\n",
       "      <th>medianamnt_loans30</th>\n",
       "      <th>cnt_loans90</th>\n",
       "      <th>amnt_loans90</th>\n",
       "      <th>maxamnt_loans90</th>\n",
       "      <th>medianamnt_loans90</th>\n",
       "      <th>payback30</th>\n",
       "      <th>payback90</th>\n",
       "      <th>label</th>\n",
       "    </tr>\n",
       "  </thead>\n",
       "  <tbody>\n",
       "    <tr>\n",
       "      <th>0</th>\n",
       "      <td>1</td>\n",
       "      <td>272.0</td>\n",
       "      <td>3055.050000</td>\n",
       "      <td>3065.150000</td>\n",
       "      <td>220.13</td>\n",
       "      <td>260.13</td>\n",
       "      <td>2.0</td>\n",
       "      <td>0.0</td>\n",
       "      <td>1539</td>\n",
       "      <td>2</td>\n",
       "      <td>...</td>\n",
       "      <td>12</td>\n",
       "      <td>6.0</td>\n",
       "      <td>0.0</td>\n",
       "      <td>2.0</td>\n",
       "      <td>12</td>\n",
       "      <td>6</td>\n",
       "      <td>0.0</td>\n",
       "      <td>29.000000</td>\n",
       "      <td>29.000000</td>\n",
       "      <td>0</td>\n",
       "    </tr>\n",
       "    <tr>\n",
       "      <th>1</th>\n",
       "      <td>2</td>\n",
       "      <td>712.0</td>\n",
       "      <td>12122.000000</td>\n",
       "      <td>12124.750000</td>\n",
       "      <td>3691.26</td>\n",
       "      <td>3691.26</td>\n",
       "      <td>20.0</td>\n",
       "      <td>0.0</td>\n",
       "      <td>5787</td>\n",
       "      <td>1</td>\n",
       "      <td>...</td>\n",
       "      <td>12</td>\n",
       "      <td>12.0</td>\n",
       "      <td>0.0</td>\n",
       "      <td>1.0</td>\n",
       "      <td>12</td>\n",
       "      <td>12</td>\n",
       "      <td>0.0</td>\n",
       "      <td>0.000000</td>\n",
       "      <td>0.000000</td>\n",
       "      <td>1</td>\n",
       "    </tr>\n",
       "    <tr>\n",
       "      <th>2</th>\n",
       "      <td>3</td>\n",
       "      <td>535.0</td>\n",
       "      <td>1398.000000</td>\n",
       "      <td>1398.000000</td>\n",
       "      <td>900.13</td>\n",
       "      <td>900.13</td>\n",
       "      <td>3.0</td>\n",
       "      <td>0.0</td>\n",
       "      <td>1539</td>\n",
       "      <td>1</td>\n",
       "      <td>...</td>\n",
       "      <td>6</td>\n",
       "      <td>6.0</td>\n",
       "      <td>0.0</td>\n",
       "      <td>1.0</td>\n",
       "      <td>6</td>\n",
       "      <td>6</td>\n",
       "      <td>0.0</td>\n",
       "      <td>0.000000</td>\n",
       "      <td>0.000000</td>\n",
       "      <td>1</td>\n",
       "    </tr>\n",
       "    <tr>\n",
       "      <th>3</th>\n",
       "      <td>4</td>\n",
       "      <td>241.0</td>\n",
       "      <td>21.228000</td>\n",
       "      <td>21.228000</td>\n",
       "      <td>159.42</td>\n",
       "      <td>159.42</td>\n",
       "      <td>41.0</td>\n",
       "      <td>0.0</td>\n",
       "      <td>947</td>\n",
       "      <td>0</td>\n",
       "      <td>...</td>\n",
       "      <td>12</td>\n",
       "      <td>6.0</td>\n",
       "      <td>0.0</td>\n",
       "      <td>2.0</td>\n",
       "      <td>12</td>\n",
       "      <td>6</td>\n",
       "      <td>0.0</td>\n",
       "      <td>0.000000</td>\n",
       "      <td>0.000000</td>\n",
       "      <td>1</td>\n",
       "    </tr>\n",
       "    <tr>\n",
       "      <th>4</th>\n",
       "      <td>5</td>\n",
       "      <td>947.0</td>\n",
       "      <td>150.619333</td>\n",
       "      <td>150.619333</td>\n",
       "      <td>1098.90</td>\n",
       "      <td>1098.90</td>\n",
       "      <td>4.0</td>\n",
       "      <td>0.0</td>\n",
       "      <td>2309</td>\n",
       "      <td>7</td>\n",
       "      <td>...</td>\n",
       "      <td>42</td>\n",
       "      <td>6.0</td>\n",
       "      <td>0.0</td>\n",
       "      <td>7.0</td>\n",
       "      <td>42</td>\n",
       "      <td>6</td>\n",
       "      <td>0.0</td>\n",
       "      <td>2.333333</td>\n",
       "      <td>2.333333</td>\n",
       "      <td>1</td>\n",
       "    </tr>\n",
       "  </tbody>\n",
       "</table>\n",
       "<p>5 rows × 34 columns</p>\n",
       "</div>"
      ],
      "text/plain": [
       "   Unnamed: 0    aon  daily_decr30  daily_decr90  rental30  rental90  \\\n",
       "0           1  272.0   3055.050000   3065.150000    220.13    260.13   \n",
       "1           2  712.0  12122.000000  12124.750000   3691.26   3691.26   \n",
       "2           3  535.0   1398.000000   1398.000000    900.13    900.13   \n",
       "3           4  241.0     21.228000     21.228000    159.42    159.42   \n",
       "4           5  947.0    150.619333    150.619333   1098.90   1098.90   \n",
       "\n",
       "   last_rech_date_ma  last_rech_date_da  last_rech_amt_ma  cnt_ma_rech30  ...  \\\n",
       "0                2.0                0.0              1539              2  ...   \n",
       "1               20.0                0.0              5787              1  ...   \n",
       "2                3.0                0.0              1539              1  ...   \n",
       "3               41.0                0.0               947              0  ...   \n",
       "4                4.0                0.0              2309              7  ...   \n",
       "\n",
       "   amnt_loans30  maxamnt_loans30  medianamnt_loans30  cnt_loans90  \\\n",
       "0            12              6.0                 0.0          2.0   \n",
       "1            12             12.0                 0.0          1.0   \n",
       "2             6              6.0                 0.0          1.0   \n",
       "3            12              6.0                 0.0          2.0   \n",
       "4            42              6.0                 0.0          7.0   \n",
       "\n",
       "   amnt_loans90  maxamnt_loans90  medianamnt_loans90  payback30  payback90  \\\n",
       "0            12                6                 0.0  29.000000  29.000000   \n",
       "1            12               12                 0.0   0.000000   0.000000   \n",
       "2             6                6                 0.0   0.000000   0.000000   \n",
       "3            12                6                 0.0   0.000000   0.000000   \n",
       "4            42                6                 0.0   2.333333   2.333333   \n",
       "\n",
       "   label  \n",
       "0      0  \n",
       "1      1  \n",
       "2      1  \n",
       "3      1  \n",
       "4      1  \n",
       "\n",
       "[5 rows x 34 columns]"
      ]
     },
     "execution_count": 28,
     "metadata": {},
     "output_type": "execute_result"
    }
   ],
   "source": [
    "df_res.head()"
   ]
  },
  {
   "cell_type": "code",
   "execution_count": 29,
   "metadata": {},
   "outputs": [
    {
     "data": {
      "text/plain": [
       "(366862, 34)"
      ]
     },
     "execution_count": 29,
     "metadata": {},
     "output_type": "execute_result"
    }
   ],
   "source": [
    "df_res.shape"
   ]
  },
  {
   "cell_type": "code",
   "execution_count": 30,
   "metadata": {},
   "outputs": [
    {
     "data": {
      "text/plain": [
       "Unnamed: 0              0\n",
       "aon                     0\n",
       "daily_decr30            0\n",
       "daily_decr90            0\n",
       "rental30                0\n",
       "rental90                0\n",
       "last_rech_date_ma       0\n",
       "last_rech_date_da       0\n",
       "last_rech_amt_ma        0\n",
       "cnt_ma_rech30           0\n",
       "fr_ma_rech30            0\n",
       "sumamnt_ma_rech30       0\n",
       "medianamnt_ma_rech30    0\n",
       "medianmarechprebal30    0\n",
       "cnt_ma_rech90           0\n",
       "fr_ma_rech90            0\n",
       "sumamnt_ma_rech90       0\n",
       "medianamnt_ma_rech90    0\n",
       "medianmarechprebal90    0\n",
       "cnt_da_rech30           0\n",
       "fr_da_rech30            0\n",
       "cnt_da_rech90           0\n",
       "fr_da_rech90            0\n",
       "cnt_loans30             0\n",
       "amnt_loans30            0\n",
       "maxamnt_loans30         0\n",
       "medianamnt_loans30      0\n",
       "cnt_loans90             0\n",
       "amnt_loans90            0\n",
       "maxamnt_loans90         0\n",
       "medianamnt_loans90      0\n",
       "payback30               0\n",
       "payback90               0\n",
       "label                   0\n",
       "dtype: int64"
      ]
     },
     "execution_count": 30,
     "metadata": {},
     "output_type": "execute_result"
    }
   ],
   "source": [
    "df_res.isnull().sum()"
   ]
  },
  {
   "cell_type": "code",
   "execution_count": 31,
   "metadata": {
    "scrolled": true
   },
   "outputs": [
    {
     "name": "stdout",
     "output_type": "stream",
     "text": [
      "Non defaulters ---> 50.0 %\n",
      "Defaulters     ---> 50.0 %\n"
     ]
    }
   ],
   "source": [
    "print('Non defaulters --->',df_res['label'].value_counts()[1]/df_res['label'].shape[0] * 100,'%')\n",
    "print('Defaulters     --->',df_res['label'].value_counts()[0]/df_res['label'].shape[0] * 100,'%')"
   ]
  },
  {
   "cell_type": "code",
   "execution_count": 32,
   "metadata": {},
   "outputs": [
    {
     "data": {
      "text/plain": [
       "(366862, 34)"
      ]
     },
     "execution_count": 32,
     "metadata": {},
     "output_type": "execute_result"
    }
   ],
   "source": [
    "df_res.shape"
   ]
  },
  {
   "cell_type": "code",
   "execution_count": 33,
   "metadata": {},
   "outputs": [],
   "source": [
    "## checking casually how the model is performing before data cleaning just o get an idea"
   ]
  },
  {
   "cell_type": "code",
   "execution_count": 34,
   "metadata": {},
   "outputs": [],
   "source": [
    "from sklearn.model_selection import train_test_split"
   ]
  },
  {
   "cell_type": "code",
   "execution_count": 35,
   "metadata": {},
   "outputs": [],
   "source": [
    "x_train,x_test,y_train,y_test = train_test_split(x_res,y_res,test_size=0.25,random_state=0)"
   ]
  },
  {
   "cell_type": "code",
   "execution_count": 36,
   "metadata": {},
   "outputs": [],
   "source": [
    "from sklearn.linear_model import LogisticRegression"
   ]
  },
  {
   "cell_type": "code",
   "execution_count": 37,
   "metadata": {},
   "outputs": [],
   "source": [
    "lg = LogisticRegression()"
   ]
  },
  {
   "cell_type": "code",
   "execution_count": 38,
   "metadata": {},
   "outputs": [
    {
     "data": {
      "text/plain": [
       "LogisticRegression()"
      ]
     },
     "execution_count": 38,
     "metadata": {},
     "output_type": "execute_result"
    }
   ],
   "source": [
    "lg.fit(x_res,y_res)"
   ]
  },
  {
   "cell_type": "code",
   "execution_count": 39,
   "metadata": {},
   "outputs": [],
   "source": [
    "y_pred = lg.predict(x_test)"
   ]
  },
  {
   "cell_type": "code",
   "execution_count": 40,
   "metadata": {},
   "outputs": [],
   "source": [
    "from sklearn.metrics import accuracy_score,confusion_matrix,classification_report"
   ]
  },
  {
   "cell_type": "code",
   "execution_count": 41,
   "metadata": {},
   "outputs": [
    {
     "name": "stdout",
     "output_type": "stream",
     "text": [
      "0.733568842949976\n",
      "[[36961  8593]\n",
      " [15843 30319]]\n",
      "              precision    recall  f1-score   support\n",
      "\n",
      "           0       0.70      0.81      0.75     45554\n",
      "           1       0.78      0.66      0.71     46162\n",
      "\n",
      "    accuracy                           0.73     91716\n",
      "   macro avg       0.74      0.73      0.73     91716\n",
      "weighted avg       0.74      0.73      0.73     91716\n",
      "\n"
     ]
    }
   ],
   "source": [
    "print(accuracy_score(y_test,y_pred))\n",
    "print(confusion_matrix(y_test,y_pred))\n",
    "print(classification_report(y_test,y_pred))"
   ]
  },
  {
   "cell_type": "code",
   "execution_count": 42,
   "metadata": {},
   "outputs": [
    {
     "data": {
      "text/plain": [
       "0.7014202772471964"
      ]
     },
     "execution_count": 42,
     "metadata": {},
     "output_type": "execute_result"
    }
   ],
   "source": [
    "37089/(37089+15788) ##70% it is correctly predicting label 0"
   ]
  },
  {
   "cell_type": "code",
   "execution_count": 43,
   "metadata": {},
   "outputs": [
    {
     "data": {
      "text/plain": [
       "0.7820489713947321"
      ]
     },
     "execution_count": 43,
     "metadata": {},
     "output_type": "execute_result"
    }
   ],
   "source": [
    "30374/(30374+8465) ##78% it is correctly predicting label 1"
   ]
  },
  {
   "cell_type": "code",
   "execution_count": 44,
   "metadata": {
    "scrolled": true
   },
   "outputs": [
    {
     "data": {
      "text/plain": [
       "<AxesSubplot:xlabel='aon'>"
      ]
     },
     "execution_count": 44,
     "metadata": {},
     "output_type": "execute_result"
    },
    {
     "data": {
      "image/png": "[encoded data removed]",
      "text/plain": [
       "<Figure size 432x288 with 1 Axes>"
      ]
     },
     "metadata": {
      "needs_background": "light"
     },
     "output_type": "display_data"
    }
   ],
   "source": [
    "sns.boxplot(df['aon'])   ##lots of outliers in aon column"
   ]
  },
  {
   "cell_type": "markdown",
   "metadata": {},
   "source": [
    "## Data cleaning"
   ]
  },
  {
   "cell_type": "code",
   "execution_count": 45,
   "metadata": {},
   "outputs": [],
   "source": [
    "df2 = df_res.copy()"
   ]
  },
  {
   "cell_type": "code",
   "execution_count": 46,
   "metadata": {
    "scrolled": true
   },
   "outputs": [
    {
     "data": {
      "text/plain": [
       "1    183431\n",
       "0    183431\n",
       "Name: label, dtype: int64"
      ]
     },
     "execution_count": 46,
     "metadata": {},
     "output_type": "execute_result"
    }
   ],
   "source": [
    "df2['label'].value_counts()"
   ]
  },
  {
   "cell_type": "code",
   "execution_count": 47,
   "metadata": {
    "scrolled": true
   },
   "outputs": [
    {
     "data": {
      "text/html": [
       "<div>\n",
       "<style scoped>\n",
       "    .dataframe tbody tr th:only-of-type {\n",
       "        vertical-align: middle;\n",
       "    }\n",
       "\n",
       "    .dataframe tbody tr th {\n",
       "        vertical-align: top;\n",
       "    }\n",
       "\n",
       "    .dataframe thead th {\n",
       "        text-align: right;\n",
       "    }\n",
       "</style>\n",
       "<table border=\"1\" class=\"dataframe\">\n",
       "  <thead>\n",
       "    <tr style=\"text-align: right;\">\n",
       "      <th></th>\n",
       "      <th>Unnamed: 0</th>\n",
       "      <th>aon</th>\n",
       "      <th>daily_decr30</th>\n",
       "      <th>daily_decr90</th>\n",
       "      <th>rental30</th>\n",
       "      <th>rental90</th>\n",
       "      <th>last_rech_date_ma</th>\n",
       "      <th>last_rech_date_da</th>\n",
       "      <th>last_rech_amt_ma</th>\n",
       "      <th>cnt_ma_rech30</th>\n",
       "      <th>...</th>\n",
       "      <th>amnt_loans30</th>\n",
       "      <th>maxamnt_loans30</th>\n",
       "      <th>medianamnt_loans30</th>\n",
       "      <th>cnt_loans90</th>\n",
       "      <th>amnt_loans90</th>\n",
       "      <th>maxamnt_loans90</th>\n",
       "      <th>medianamnt_loans90</th>\n",
       "      <th>payback30</th>\n",
       "      <th>payback90</th>\n",
       "      <th>label</th>\n",
       "    </tr>\n",
       "  </thead>\n",
       "  <tbody>\n",
       "    <tr>\n",
       "      <th>0</th>\n",
       "      <td>1</td>\n",
       "      <td>272.0</td>\n",
       "      <td>3055.050000</td>\n",
       "      <td>3065.150000</td>\n",
       "      <td>220.13</td>\n",
       "      <td>260.13</td>\n",
       "      <td>2.0</td>\n",
       "      <td>0.0</td>\n",
       "      <td>1539</td>\n",
       "      <td>2</td>\n",
       "      <td>...</td>\n",
       "      <td>12</td>\n",
       "      <td>6.0</td>\n",
       "      <td>0.0</td>\n",
       "      <td>2.0</td>\n",
       "      <td>12</td>\n",
       "      <td>6</td>\n",
       "      <td>0.0</td>\n",
       "      <td>29.000000</td>\n",
       "      <td>29.000000</td>\n",
       "      <td>0</td>\n",
       "    </tr>\n",
       "    <tr>\n",
       "      <th>1</th>\n",
       "      <td>2</td>\n",
       "      <td>712.0</td>\n",
       "      <td>12122.000000</td>\n",
       "      <td>12124.750000</td>\n",
       "      <td>3691.26</td>\n",
       "      <td>3691.26</td>\n",
       "      <td>20.0</td>\n",
       "      <td>0.0</td>\n",
       "      <td>5787</td>\n",
       "      <td>1</td>\n",
       "      <td>...</td>\n",
       "      <td>12</td>\n",
       "      <td>12.0</td>\n",
       "      <td>0.0</td>\n",
       "      <td>1.0</td>\n",
       "      <td>12</td>\n",
       "      <td>12</td>\n",
       "      <td>0.0</td>\n",
       "      <td>0.000000</td>\n",
       "      <td>0.000000</td>\n",
       "      <td>1</td>\n",
       "    </tr>\n",
       "    <tr>\n",
       "      <th>2</th>\n",
       "      <td>3</td>\n",
       "      <td>535.0</td>\n",
       "      <td>1398.000000</td>\n",
       "      <td>1398.000000</td>\n",
       "      <td>900.13</td>\n",
       "      <td>900.13</td>\n",
       "      <td>3.0</td>\n",
       "      <td>0.0</td>\n",
       "      <td>1539</td>\n",
       "      <td>1</td>\n",
       "      <td>...</td>\n",
       "      <td>6</td>\n",
       "      <td>6.0</td>\n",
       "      <td>0.0</td>\n",
       "      <td>1.0</td>\n",
       "      <td>6</td>\n",
       "      <td>6</td>\n",
       "      <td>0.0</td>\n",
       "      <td>0.000000</td>\n",
       "      <td>0.000000</td>\n",
       "      <td>1</td>\n",
       "    </tr>\n",
       "    <tr>\n",
       "      <th>3</th>\n",
       "      <td>4</td>\n",
       "      <td>241.0</td>\n",
       "      <td>21.228000</td>\n",
       "      <td>21.228000</td>\n",
       "      <td>159.42</td>\n",
       "      <td>159.42</td>\n",
       "      <td>41.0</td>\n",
       "      <td>0.0</td>\n",
       "      <td>947</td>\n",
       "      <td>0</td>\n",
       "      <td>...</td>\n",
       "      <td>12</td>\n",
       "      <td>6.0</td>\n",
       "      <td>0.0</td>\n",
       "      <td>2.0</td>\n",
       "      <td>12</td>\n",
       "      <td>6</td>\n",
       "      <td>0.0</td>\n",
       "      <td>0.000000</td>\n",
       "      <td>0.000000</td>\n",
       "      <td>1</td>\n",
       "    </tr>\n",
       "    <tr>\n",
       "      <th>4</th>\n",
       "      <td>5</td>\n",
       "      <td>947.0</td>\n",
       "      <td>150.619333</td>\n",
       "      <td>150.619333</td>\n",
       "      <td>1098.90</td>\n",
       "      <td>1098.90</td>\n",
       "      <td>4.0</td>\n",
       "      <td>0.0</td>\n",
       "      <td>2309</td>\n",
       "      <td>7</td>\n",
       "      <td>...</td>\n",
       "      <td>42</td>\n",
       "      <td>6.0</td>\n",
       "      <td>0.0</td>\n",
       "      <td>7.0</td>\n",
       "      <td>42</td>\n",
       "      <td>6</td>\n",
       "      <td>0.0</td>\n",
       "      <td>2.333333</td>\n",
       "      <td>2.333333</td>\n",
       "      <td>1</td>\n",
       "    </tr>\n",
       "  </tbody>\n",
       "</table>\n",
       "<p>5 rows × 34 columns</p>\n",
       "</div>"
      ],
      "text/plain": [
       "   Unnamed: 0    aon  daily_decr30  daily_decr90  rental30  rental90  \\\n",
       "0           1  272.0   3055.050000   3065.150000    220.13    260.13   \n",
       "1           2  712.0  12122.000000  12124.750000   3691.26   3691.26   \n",
       "2           3  535.0   1398.000000   1398.000000    900.13    900.13   \n",
       "3           4  241.0     21.228000     21.228000    159.42    159.42   \n",
       "4           5  947.0    150.619333    150.619333   1098.90   1098.90   \n",
       "\n",
       "   last_rech_date_ma  last_rech_date_da  last_rech_amt_ma  cnt_ma_rech30  ...  \\\n",
       "0                2.0                0.0              1539              2  ...   \n",
       "1               20.0                0.0              5787              1  ...   \n",
       "2                3.0                0.0              1539              1  ...   \n",
       "3               41.0                0.0               947              0  ...   \n",
       "4                4.0                0.0              2309              7  ...   \n",
       "\n",
       "   amnt_loans30  maxamnt_loans30  medianamnt_loans30  cnt_loans90  \\\n",
       "0            12              6.0                 0.0          2.0   \n",
       "1            12             12.0                 0.0          1.0   \n",
       "2             6              6.0                 0.0          1.0   \n",
       "3            12              6.0                 0.0          2.0   \n",
       "4            42              6.0                 0.0          7.0   \n",
       "\n",
       "   amnt_loans90  maxamnt_loans90  medianamnt_loans90  payback30  payback90  \\\n",
       "0            12                6                 0.0  29.000000  29.000000   \n",
       "1            12               12                 0.0   0.000000   0.000000   \n",
       "2             6                6                 0.0   0.000000   0.000000   \n",
       "3            12                6                 0.0   0.000000   0.000000   \n",
       "4            42                6                 0.0   2.333333   2.333333   \n",
       "\n",
       "   label  \n",
       "0      0  \n",
       "1      1  \n",
       "2      1  \n",
       "3      1  \n",
       "4      1  \n",
       "\n",
       "[5 rows x 34 columns]"
      ]
     },
     "execution_count": 47,
     "metadata": {},
     "output_type": "execute_result"
    }
   ],
   "source": [
    "df2.head()"
   ]
  },
  {
   "cell_type": "code",
   "execution_count": 48,
   "metadata": {},
   "outputs": [
    {
     "name": "stdout",
     "output_type": "stream",
     "text": [
      "10-- 132.0\n",
      "20-- 204.0\n",
      "30-- 292.0\n",
      "40-- 400.0\n",
      "50-- 527.0\n",
      "60-- 682.0\n",
      "70-- 869.0\n",
      "80-- 1113.0\n",
      "90-- 1411.0\n",
      "95-- 1749.0\n",
      "96-- 1828.0\n",
      "97-- 1921.0\n",
      "98-- 2040.0\n",
      "99-- 2420.079999999987\n",
      "99.1-- 549286.9308460492\n",
      "99.2-- 596990.0530716397\n",
      "99.3-- 646736.2224468965\n",
      "99.4-- 697756.808224141\n",
      "99.5-- 749902.1577462554\n",
      "99.6-- 801827.7973970415\n",
      "99.7-- 846886.9435954761\n",
      "99.8-- 895235.6163738256\n",
      "99.9-- 948236.8923435013\n",
      "999860.755167902\n"
     ]
    }
   ],
   "source": [
    "print('10--',np.percentile(df['aon'],10))\n",
    "print('20--',np.percentile(df['aon'],20))\n",
    "print('30--',np.percentile(df['aon'],30))\n",
    "print('40--',np.percentile(df['aon'],40))\n",
    "print('50--',np.percentile(df['aon'],50))\n",
    "print('60--',np.percentile(df['aon'],60))\n",
    "print('70--',np.percentile(df['aon'],70))\n",
    "print('80--',np.percentile(df['aon'],80))\n",
    "print('90--',np.percentile(df['aon'],90))\n",
    "print('95--',np.percentile(df['aon'],95))\n",
    "print('96--',np.percentile(df['aon'],96))\n",
    "print('97--',np.percentile(df['aon'],97))\n",
    "print('98--',np.percentile(df['aon'],98))\n",
    "print('99--',np.percentile(df['aon'],99))\n",
    "print('99.1--',np.percentile(df['aon'],99.1))\n",
    "print('99.2--',np.percentile(df['aon'],99.2))\n",
    "print('99.3--',np.percentile(df['aon'],99.3))\n",
    "print('99.4--',np.percentile(df['aon'],99.4))\n",
    "print('99.5--',np.percentile(df['aon'],99.5))\n",
    "print('99.6--',np.percentile(df['aon'],99.6))\n",
    "print('99.7--',np.percentile(df['aon'],99.7))\n",
    "print('99.8--',np.percentile(df['aon'],99.8))\n",
    "print('99.9--',np.percentile(df['aon'],99.9))\n",
    "print(np.percentile(df['aon'],100))"
   ]
  },
  {
   "cell_type": "code",
   "execution_count": 49,
   "metadata": {},
   "outputs": [],
   "source": [
    "## handling aon feature"
   ]
  },
  {
   "cell_type": "code",
   "execution_count": 50,
   "metadata": {},
   "outputs": [
    {
     "data": {
      "text/plain": [
       "92.000000        821\n",
       "94.000000        813\n",
       "99.000000        808\n",
       "108.000000       795\n",
       "95.000000        766\n",
       "                ... \n",
       "593099.546502      1\n",
       "894868.658506      1\n",
       "882663.918310      1\n",
       "950834.295130      1\n",
       "657727.407059      1\n",
       "Name: aon, Length: 4507, dtype: int64"
      ]
     },
     "execution_count": 50,
     "metadata": {},
     "output_type": "execute_result"
    }
   ],
   "source": [
    "df2['aon'].value_counts()"
   ]
  },
  {
   "cell_type": "code",
   "execution_count": 51,
   "metadata": {},
   "outputs": [
    {
     "data": {
      "text/plain": [
       "(3833, 34)"
      ]
     },
     "execution_count": 51,
     "metadata": {},
     "output_type": "execute_result"
    }
   ],
   "source": [
    "df2[df2['aon']>2420].shape"
   ]
  },
  {
   "cell_type": "code",
   "execution_count": 52,
   "metadata": {},
   "outputs": [],
   "source": [
    "df3 = df2[df2['aon']<=2000]"
   ]
  },
  {
   "cell_type": "code",
   "execution_count": 53,
   "metadata": {
    "scrolled": true
   },
   "outputs": [
    {
     "data": {
      "text/plain": [
       "97.86377438927988"
      ]
     },
     "execution_count": 53,
     "metadata": {},
     "output_type": "execute_result"
    }
   ],
   "source": [
    "df3.shape[0] / df2.shape[0] * 100"
   ]
  },
  {
   "cell_type": "code",
   "execution_count": 54,
   "metadata": {},
   "outputs": [],
   "source": [
    "## age can never be negative and fraction ..so it may be typing or obsevation error,,,so making them positive and making fractions as integer values "
   ]
  },
  {
   "cell_type": "code",
   "execution_count": 55,
   "metadata": {},
   "outputs": [],
   "source": [
    "def age(x):  ##function making -ve days to +ve\n",
    "    if x<0 :\n",
    "        return (-1*x)\n",
    "    else :\n",
    "        return x"
   ]
  },
  {
   "cell_type": "code",
   "execution_count": 56,
   "metadata": {},
   "outputs": [
    {
     "data": {
      "text/plain": [
       "(359025, 34)"
      ]
     },
     "execution_count": 56,
     "metadata": {},
     "output_type": "execute_result"
    }
   ],
   "source": [
    "df3.shape"
   ]
  },
  {
   "cell_type": "code",
   "execution_count": 57,
   "metadata": {},
   "outputs": [],
   "source": [
    "df3['aon'] = df3['aon'].apply(lambda x:age(x))"
   ]
  },
  {
   "cell_type": "code",
   "execution_count": 58,
   "metadata": {},
   "outputs": [
    {
     "data": {
      "text/plain": [
       "(359025, 34)"
      ]
     },
     "execution_count": 58,
     "metadata": {},
     "output_type": "execute_result"
    }
   ],
   "source": [
    "df3.shape"
   ]
  },
  {
   "cell_type": "code",
   "execution_count": 59,
   "metadata": {
    "scrolled": false
   },
   "outputs": [
    {
     "data": {
      "text/html": [
       "<div>\n",
       "<style scoped>\n",
       "    .dataframe tbody tr th:only-of-type {\n",
       "        vertical-align: middle;\n",
       "    }\n",
       "\n",
       "    .dataframe tbody tr th {\n",
       "        vertical-align: top;\n",
       "    }\n",
       "\n",
       "    .dataframe thead th {\n",
       "        text-align: right;\n",
       "    }\n",
       "</style>\n",
       "<table border=\"1\" class=\"dataframe\">\n",
       "  <thead>\n",
       "    <tr style=\"text-align: right;\">\n",
       "      <th></th>\n",
       "      <th>Unnamed: 0</th>\n",
       "      <th>aon</th>\n",
       "      <th>daily_decr30</th>\n",
       "      <th>daily_decr90</th>\n",
       "      <th>rental30</th>\n",
       "      <th>rental90</th>\n",
       "      <th>last_rech_date_ma</th>\n",
       "      <th>last_rech_date_da</th>\n",
       "      <th>last_rech_amt_ma</th>\n",
       "      <th>cnt_ma_rech30</th>\n",
       "      <th>...</th>\n",
       "      <th>amnt_loans30</th>\n",
       "      <th>maxamnt_loans30</th>\n",
       "      <th>medianamnt_loans30</th>\n",
       "      <th>cnt_loans90</th>\n",
       "      <th>amnt_loans90</th>\n",
       "      <th>maxamnt_loans90</th>\n",
       "      <th>medianamnt_loans90</th>\n",
       "      <th>payback30</th>\n",
       "      <th>payback90</th>\n",
       "      <th>label</th>\n",
       "    </tr>\n",
       "  </thead>\n",
       "  <tbody>\n",
       "  </tbody>\n",
       "</table>\n",
       "<p>0 rows × 34 columns</p>\n",
       "</div>"
      ],
      "text/plain": [
       "Empty DataFrame\n",
       "Columns: [Unnamed: 0, aon, daily_decr30, daily_decr90, rental30, rental90, last_rech_date_ma, last_rech_date_da, last_rech_amt_ma, cnt_ma_rech30, fr_ma_rech30, sumamnt_ma_rech30, medianamnt_ma_rech30, medianmarechprebal30, cnt_ma_rech90, fr_ma_rech90, sumamnt_ma_rech90, medianamnt_ma_rech90, medianmarechprebal90, cnt_da_rech30, fr_da_rech30, cnt_da_rech90, fr_da_rech90, cnt_loans30, amnt_loans30, maxamnt_loans30, medianamnt_loans30, cnt_loans90, amnt_loans90, maxamnt_loans90, medianamnt_loans90, payback30, payback90, label]\n",
       "Index: []\n",
       "\n",
       "[0 rows x 34 columns]"
      ]
     },
     "execution_count": 59,
     "metadata": {},
     "output_type": "execute_result"
    }
   ],
   "source": [
    "df3[df3['aon']<0] ##no negative days value "
   ]
  },
  {
   "cell_type": "code",
   "execution_count": 60,
   "metadata": {
    "scrolled": true
   },
   "outputs": [
    {
     "data": {
      "text/plain": [
       "<AxesSubplot:xlabel='aon'>"
      ]
     },
     "execution_count": 60,
     "metadata": {},
     "output_type": "execute_result"
    },
    {
     "data": {
      "image/png": "[encoded data removed]",
      "text/plain": [
       "<Figure size 432x288 with 1 Axes>"
      ]
     },
     "metadata": {
      "needs_background": "light"
     },
     "output_type": "display_data"
    }
   ],
   "source": [
    "sns.boxplot(df3['aon'])  ##outliers is removed in aon column"
   ]
  },
  {
   "cell_type": "code",
   "execution_count": 61,
   "metadata": {},
   "outputs": [],
   "source": [
    "def fraction(x):  ##function making fraction day value to integer values since days can never be fraction\n",
    "    if type(x)==float:\n",
    "        return int(x)"
   ]
  },
  {
   "cell_type": "code",
   "execution_count": 62,
   "metadata": {
    "scrolled": false
   },
   "outputs": [
    {
     "data": {
      "text/plain": [
       "92.0      821\n",
       "94.0      813\n",
       "99.0      808\n",
       "108.0     795\n",
       "95.0      766\n",
       "         ... \n",
       "1975.0     14\n",
       "1949.0     14\n",
       "1956.0     13\n",
       "1921.0     10\n",
       "1784.0      7\n",
       "Name: aon, Length: 2000, dtype: int64"
      ]
     },
     "execution_count": 62,
     "metadata": {},
     "output_type": "execute_result"
    }
   ],
   "source": [
    "df3['aon'].value_counts()"
   ]
  },
  {
   "cell_type": "code",
   "execution_count": 63,
   "metadata": {
    "scrolled": true
   },
   "outputs": [
    {
     "data": {
      "text/plain": [
       "100"
      ]
     },
     "execution_count": 63,
     "metadata": {},
     "output_type": "execute_result"
    }
   ],
   "source": [
    "fraction(100.34)"
   ]
  },
  {
   "cell_type": "code",
   "execution_count": 64,
   "metadata": {},
   "outputs": [
    {
     "data": {
      "text/plain": [
       "(4531, 34)"
      ]
     },
     "execution_count": 64,
     "metadata": {},
     "output_type": "execute_result"
    }
   ],
   "source": [
    "df2[df2['aon']<0].shape"
   ]
  },
  {
   "cell_type": "code",
   "execution_count": 65,
   "metadata": {
    "scrolled": true
   },
   "outputs": [
    {
     "data": {
      "text/plain": [
       "(0, 34)"
      ]
     },
     "execution_count": 65,
     "metadata": {},
     "output_type": "execute_result"
    }
   ],
   "source": [
    "df3[df3['aon']<0].shape"
   ]
  },
  {
   "cell_type": "code",
   "execution_count": 66,
   "metadata": {},
   "outputs": [
    {
     "name": "stdout",
     "output_type": "stream",
     "text": [
      "% data remaining 97.86377438927988\n"
     ]
    }
   ],
   "source": [
    "print('% data remaining',df3.shape[0]/df2.shape[0] * 100)"
   ]
  },
  {
   "cell_type": "code",
   "execution_count": 67,
   "metadata": {},
   "outputs": [],
   "source": [
    "##handling last_rech_ma and last_reach_data features"
   ]
  },
  {
   "cell_type": "code",
   "execution_count": 68,
   "metadata": {
    "scrolled": true
   },
   "outputs": [
    {
     "data": {
      "text/plain": [
       "<AxesSubplot:xlabel='last_rech_date_ma'>"
      ]
     },
     "execution_count": 68,
     "metadata": {},
     "output_type": "execute_result"
    },
    {
     "data": {
      "image/png": "[encoded data removed]",
      "text/plain": [
       "<Figure size 432x288 with 1 Axes>"
      ]
     },
     "metadata": {
      "needs_background": "light"
     },
     "output_type": "display_data"
    }
   ],
   "source": [
    "sns.boxplot(df3['last_rech_date_ma']) ##lots of outlliers"
   ]
  },
  {
   "cell_type": "code",
   "execution_count": 69,
   "metadata": {},
   "outputs": [
    {
     "name": "stdout",
     "output_type": "stream",
     "text": [
      "0.0\n",
      "0.0\n",
      "1.0\n",
      "2.0\n",
      "3.0\n",
      "4.0\n",
      "7.0\n",
      "10.0\n",
      "20.0\n",
      "33.0\n",
      "38.0\n",
      "42.0\n",
      "50.0\n",
      "69.0\n",
      "72.0\n",
      "75.0\n",
      "79.0\n",
      "83.0\n",
      "87.0\n",
      "575479.206629097\n",
      "664758.6718497418\n",
      "785195.5714868379\n",
      "895473.5173565862\n",
      "998650.3777327021\n"
     ]
    }
   ],
   "source": [
    "print(np.percentile(df2['last_rech_date_ma'],10))\n",
    "print(np.percentile(df2['last_rech_date_ma'],20))\n",
    "print(np.percentile(df2['last_rech_date_ma'],30))\n",
    "print(np.percentile(df2['last_rech_date_ma'],40))\n",
    "print(np.percentile(df2['last_rech_date_ma'],50))\n",
    "print(np.percentile(df2['last_rech_date_ma'],60))\n",
    "print(np.percentile(df2['last_rech_date_ma'],70))\n",
    "print(np.percentile(df2['last_rech_date_ma'],80))\n",
    "print(np.percentile(df2['last_rech_date_ma'],90))\n",
    "print(np.percentile(df2['last_rech_date_ma'],95))\n",
    "print(np.percentile(df2['last_rech_date_ma'],96))\n",
    "print(np.percentile(df2['last_rech_date_ma'],97))\n",
    "print(np.percentile(df2['last_rech_date_ma'],98))\n",
    "print(np.percentile(df2['last_rech_date_ma'],99))\n",
    "print(np.percentile(df2['last_rech_date_ma'],99.1))\n",
    "print(np.percentile(df2['last_rech_date_ma'],99.2))\n",
    "print(np.percentile(df2['last_rech_date_ma'],99.3))\n",
    "print(np.percentile(df2['last_rech_date_ma'],99.4))\n",
    "print(np.percentile(df2['last_rech_date_ma'],99.5))\n",
    "print(np.percentile(df2['last_rech_date_ma'],99.6))\n",
    "print(np.percentile(df2['last_rech_date_ma'],99.7))\n",
    "print(np.percentile(df2['last_rech_date_ma'],99.8))\n",
    "print(np.percentile(df2['last_rech_date_ma'],99.9))\n",
    "print(np.percentile(df2['last_rech_date_ma'],100))"
   ]
  },
  {
   "cell_type": "code",
   "execution_count": 70,
   "metadata": {
    "scrolled": true
   },
   "outputs": [
    {
     "data": {
      "text/plain": [
       "(74629, 34)"
      ]
     },
     "execution_count": 70,
     "metadata": {},
     "output_type": "execute_result"
    }
   ],
   "source": [
    "df3[df3['last_rech_amt_ma']<80].shape"
   ]
  },
  {
   "cell_type": "code",
   "execution_count": 71,
   "metadata": {},
   "outputs": [
    {
     "data": {
      "text/plain": [
       "(284396, 34)"
      ]
     },
     "execution_count": 71,
     "metadata": {},
     "output_type": "execute_result"
    }
   ],
   "source": [
    "df3[df3['last_rech_amt_ma']>80].shape"
   ]
  },
  {
   "cell_type": "code",
   "execution_count": 72,
   "metadata": {},
   "outputs": [],
   "source": [
    "## there are outliers in last_rech_amt_ma features but they are signifucant and are lying in the iqr"
   ]
  },
  {
   "cell_type": "code",
   "execution_count": 73,
   "metadata": {
    "scrolled": true
   },
   "outputs": [
    {
     "name": "stdout",
     "output_type": "stream",
     "text": [
      "1539.0\n"
     ]
    }
   ],
   "source": [
    "Q1 = df['last_rech_amt_ma'].quantile(0.25)\n",
    "Q3 = df['last_rech_amt_ma'].quantile(0.75)\n",
    "IQR = Q3-Q1\n",
    "print(IQR)"
   ]
  },
  {
   "cell_type": "code",
   "execution_count": 74,
   "metadata": {},
   "outputs": [
    {
     "data": {
      "text/plain": [
       "(359025,)"
      ]
     },
     "execution_count": 74,
     "metadata": {},
     "output_type": "execute_result"
    }
   ],
   "source": [
    "((df3['last_rech_amt_ma'] < Q1 - 1.5*IQR) | (df3['last_rech_amt_ma'] > Q3 + 1.5*IQR)).shape ##all data is required in these feature"
   ]
  },
  {
   "cell_type": "code",
   "execution_count": 75,
   "metadata": {},
   "outputs": [
    {
     "data": {
      "text/plain": [
       "(359025, 34)"
      ]
     },
     "execution_count": 75,
     "metadata": {},
     "output_type": "execute_result"
    }
   ],
   "source": [
    "df3.shape"
   ]
  },
  {
   "cell_type": "code",
   "execution_count": 76,
   "metadata": {},
   "outputs": [
    {
     "name": "stdout",
     "output_type": "stream",
     "text": [
      "0.0 1.1 2.2 3.3 4.4 5.5 6.6 7.7 8.8 "
     ]
    }
   ],
   "source": [
    "from itertools import islice, count\n",
    "## creating function for iterating float values\n",
    "def iter_range(start, stop, step):\n",
    "    if step == 0:\n",
    "        raise ValueError(\"Step could not be NULL\")\n",
    "    length = int(abs(stop - start) / step)\n",
    "    return islice(count(start, step), length)\n",
    "\n",
    "for it in iter_range(0, 10, 1.10):\n",
    "    print (\"{0:.1f}\".format(it), end = \" \")"
   ]
  },
  {
   "cell_type": "code",
   "execution_count": 77,
   "metadata": {
    "scrolled": false
   },
   "outputs": [
    {
     "name": "stdout",
     "output_type": "stream",
     "text": [
      "99\n",
      "99.1\n",
      "99.19999999999999\n",
      "99.29999999999998\n",
      "99.39999999999998\n",
      "99.49999999999997\n",
      "99.59999999999997\n",
      "99.69999999999996\n",
      "99.79999999999995\n",
      "99.89999999999995\n"
     ]
    }
   ],
   "source": [
    "for i in iter_range(99,100,0.1):\n",
    "    print(i)"
   ]
  },
  {
   "cell_type": "code",
   "execution_count": 78,
   "metadata": {},
   "outputs": [],
   "source": [
    "## handling daily_decr_30 and daily_decr_90 features"
   ]
  },
  {
   "cell_type": "code",
   "execution_count": 79,
   "metadata": {
    "scrolled": true
   },
   "outputs": [
    {
     "name": "stdout",
     "output_type": "stream",
     "text": [
      "10 th percentile --> 0.0\n",
      "20 th percentile --> 6.4\n",
      "30 th percentile --> 21.806666666666697\n",
      "40 th percentile --> 64.78879999999997\n",
      "50 th percentile --> 517.17\n",
      "60 th percentile --> 1209.63333333333\n",
      "70 th percentile --> 2621.5975999999996\n",
      "80 th percentile --> 5420.0\n",
      "90 th percentile --> 11109.0\n",
      "91 th percentile --> 12011.0\n",
      "92 th percentile --> 13070.728959999999\n",
      "93 th percentile --> 14294.0\n",
      "94 th percentile --> 15714.835759999944\n",
      "95 th percentile --> 17530.992133333337\n",
      "96 th percentile --> 19654.834399999992\n",
      "97 th percentile --> 22579.169999999984\n",
      "98 th percentile --> 26928.535206666566\n",
      "99.0 th percentile --> 34881.884920000026\n",
      "99.1 th percentile --> 36252.62749999997\n",
      "99.2 th percentile --> 37666.44799999986\n",
      "99.3 th percentile --> 39489.33431333273\n",
      "99.4 th percentile --> 41631.833999999915\n",
      "99.5 th percentile --> 44075.03499999858\n",
      "99.6 th percentile --> 47302.22399999946\n",
      "99.7 th percentile --> 51906.3087929976\n",
      "99.8 th percentile --> 58863.235999988625\n",
      "99.9 th percentile --> 71816.91899999563\n"
     ]
    }
   ],
   "source": [
    "##code for finding outliers manually\n",
    "for i in range(10,91,10):\n",
    "    print(i,'th percentile -->',np.percentile(df2['daily_decr30'],i))\n",
    "for i in range(91,99):\n",
    "    print(i,'th percentile -->',np.percentile(df2['daily_decr30'],i))\n",
    "    \n",
    "for i in iter_range(99,100,0.1):\n",
    "    print('{0:0.1f}'.format(i),'th percentile -->',np.percentile(df2['daily_decr30'],i))"
   ]
  },
  {
   "cell_type": "code",
   "execution_count": 80,
   "metadata": {
    "scrolled": true
   },
   "outputs": [
    {
     "data": {
      "text/plain": [
       "<AxesSubplot:xlabel='daily_decr30'>"
      ]
     },
     "execution_count": 80,
     "metadata": {},
     "output_type": "execute_result"
    },
    {
     "data": {
      "image/png": "[encoded data removed]",
      "text/plain": [
       "<Figure size 432x288 with 1 Axes>"
      ]
     },
     "metadata": {
      "needs_background": "light"
     },
     "output_type": "display_data"
    }
   ],
   "source": [
    "sns.boxplot(df3['daily_decr30'])"
   ]
  },
  {
   "cell_type": "code",
   "execution_count": 81,
   "metadata": {},
   "outputs": [
    {
     "data": {
      "text/plain": [
       "(2398, 34)"
      ]
     },
     "execution_count": 81,
     "metadata": {},
     "output_type": "execute_result"
    }
   ],
   "source": [
    "df3[df3['daily_decr30']>40000].shape"
   ]
  },
  {
   "cell_type": "code",
   "execution_count": 82,
   "metadata": {},
   "outputs": [
    {
     "data": {
      "text/plain": [
       "(356627, 34)"
      ]
     },
     "execution_count": 82,
     "metadata": {},
     "output_type": "execute_result"
    }
   ],
   "source": [
    "df3[df3['daily_decr30']<=40000].shape"
   ]
  },
  {
   "cell_type": "code",
   "execution_count": 83,
   "metadata": {},
   "outputs": [
    {
     "data": {
      "text/plain": [
       "(359025, 34)"
      ]
     },
     "execution_count": 83,
     "metadata": {},
     "output_type": "execute_result"
    }
   ],
   "source": [
    "df3.shape"
   ]
  },
  {
   "cell_type": "code",
   "execution_count": 84,
   "metadata": {},
   "outputs": [],
   "source": [
    "df3 = df3[df3['daily_decr30']<=40000]"
   ]
  },
  {
   "cell_type": "code",
   "execution_count": 85,
   "metadata": {
    "scrolled": true
   },
   "outputs": [
    {
     "data": {
      "text/plain": [
       "<AxesSubplot:xlabel='daily_decr30'>"
      ]
     },
     "execution_count": 85,
     "metadata": {},
     "output_type": "execute_result"
    },
    {
     "data": {
      "image/png": "[encoded data removed]",
      "text/plain": [
       "<Figure size 432x288 with 1 Axes>"
      ]
     },
     "metadata": {
      "needs_background": "light"
     },
     "output_type": "display_data"
    }
   ],
   "source": [
    "sns.boxplot(df3['daily_decr30'])"
   ]
  },
  {
   "cell_type": "code",
   "execution_count": 86,
   "metadata": {},
   "outputs": [
    {
     "name": "stdout",
     "output_type": "stream",
     "text": [
      "10 th percentile --> 0.0\n",
      "20 th percentile --> 6.57533333333333\n",
      "30 th percentile --> 22.276\n",
      "40 th percentile --> 65.53379999999999\n",
      "50 th percentile --> 523.0\n",
      "60 th percentile --> 1227.4480000000005\n",
      "70 th percentile --> 2684.97\n",
      "80 th percentile --> 5677.923999999985\n",
      "90 th percentile --> 12189.613000000003\n",
      "91 th percentile --> 13297.96748333337\n",
      "92 th percentile --> 14576.5368\n",
      "93 th percentile --> 16056.57\n",
      "94 th percentile --> 17799.920799999913\n",
      "95 th percentile --> 19877.688000000006\n",
      "96 th percentile --> 22456.559999999998\n",
      "97 th percentile --> 26056.539299999982\n",
      "98 th percentile --> 31389.45279999995\n",
      "99.0 th percentile --> 41230.738300000055\n",
      "99.1 th percentile --> 42808.156270000036\n",
      "99.2 th percentile --> 44666.29247999985\n",
      "99.3 th percentile --> 46743.16300999932\n",
      "99.4 th percentile --> 49564.71295999843\n",
      "99.5 th percentile --> 52795.79549999921\n",
      "99.6 th percentile --> 56663.73955999567\n",
      "99.7 th percentile --> 62060.600479993474\n",
      "99.8 th percentile --> 69549.16327999909\n",
      "99.9 th percentile --> 85718.08190998457\n"
     ]
    }
   ],
   "source": [
    "for i in range(10,91,10):\n",
    "    print(i,'th percentile -->',np.percentile(df2['daily_decr90'],i))\n",
    "for i in range(91,99):\n",
    "    print(i,'th percentile -->',np.percentile(df2['daily_decr90'],i))\n",
    "    \n",
    "for i in iter_range(99,100,0.1):\n",
    "    print('{0:0.1f}'.format(i),'th percentile -->',np.percentile(df2['daily_decr90'],i))"
   ]
  },
  {
   "cell_type": "code",
   "execution_count": 87,
   "metadata": {},
   "outputs": [
    {
     "name": "stdout",
     "output_type": "stream",
     "text": [
      "97.21012260741097% of data is remaining\n"
     ]
    }
   ],
   "source": [
    "print('{}% of data is remaining'.format(df3.shape[0] / df2.shape[0] *100))"
   ]
  },
  {
   "cell_type": "code",
   "execution_count": 88,
   "metadata": {
    "scrolled": true
   },
   "outputs": [
    {
     "data": {
      "text/plain": [
       "<AxesSubplot:xlabel='daily_decr90'>"
      ]
     },
     "execution_count": 88,
     "metadata": {},
     "output_type": "execute_result"
    },
    {
     "data": {
      "image/png": "[encoded data removed]",
      "text/plain": [
       "<Figure size 432x288 with 1 Axes>"
      ]
     },
     "metadata": {
      "needs_background": "light"
     },
     "output_type": "display_data"
    }
   ],
   "source": [
    "sns.boxplot(df3['daily_decr90'])"
   ]
  },
  {
   "cell_type": "code",
   "execution_count": 89,
   "metadata": {},
   "outputs": [
    {
     "name": "stdout",
     "output_type": "stream",
     "text": [
      "3779.0183333333284\n"
     ]
    }
   ],
   "source": [
    "Q1 = df3['daily_decr90'].quantile(0.25)\n",
    "Q3 = df3['daily_decr90'].quantile(0.75)\n",
    "IQR = Q3-Q1\n",
    "print(IQR)"
   ]
  },
  {
   "cell_type": "code",
   "execution_count": 90,
   "metadata": {},
   "outputs": [
    {
     "data": {
      "text/plain": [
       "(356627, 34)"
      ]
     },
     "execution_count": 90,
     "metadata": {},
     "output_type": "execute_result"
    }
   ],
   "source": [
    "df3[(df3['daily_decr90'] > (Q1 - 1.5*IQR)) | (df3['daily_decr90'] < (Q3 + 1.5*IQR))].shape"
   ]
  },
  {
   "cell_type": "code",
   "execution_count": 91,
   "metadata": {},
   "outputs": [
    {
     "data": {
      "text/plain": [
       "(356627, 34)"
      ]
     },
     "execution_count": 91,
     "metadata": {},
     "output_type": "execute_result"
    }
   ],
   "source": [
    "df3.shape"
   ]
  },
  {
   "cell_type": "code",
   "execution_count": 92,
   "metadata": {
    "scrolled": true
   },
   "outputs": [],
   "source": [
    "df3 = df3[df3['daily_decr90'] < 40000]"
   ]
  },
  {
   "cell_type": "code",
   "execution_count": 93,
   "metadata": {
    "scrolled": false
   },
   "outputs": [
    {
     "data": {
      "text/plain": [
       "<AxesSubplot:xlabel='daily_decr90'>"
      ]
     },
     "execution_count": 93,
     "metadata": {},
     "output_type": "execute_result"
    },
    {
     "data": {
      "image/png": "[encoded data removed]",
      "text/plain": [
       "<Figure size 432x288 with 1 Axes>"
      ]
     },
     "metadata": {
      "needs_background": "light"
     },
     "output_type": "display_data"
    }
   ],
   "source": [
    "sns.boxplot(df3['daily_decr90'])"
   ]
  },
  {
   "cell_type": "code",
   "execution_count": 94,
   "metadata": {
    "scrolled": false
   },
   "outputs": [
    {
     "name": "stdout",
     "output_type": "stream",
     "text": [
      "96.80424791883596% of data is remaining\n"
     ]
    }
   ],
   "source": [
    "print('{}% of data is remaining'.format(df3.shape[0]/df2.shape[0] * 100))"
   ]
  },
  {
   "cell_type": "code",
   "execution_count": 95,
   "metadata": {},
   "outputs": [],
   "source": [
    "df3['daily_decr30'] = df3['daily_decr30'].apply(lambda x:age(x))"
   ]
  },
  {
   "cell_type": "code",
   "execution_count": 96,
   "metadata": {},
   "outputs": [
    {
     "data": {
      "text/plain": [
       "(0, 34)"
      ]
     },
     "execution_count": 96,
     "metadata": {},
     "output_type": "execute_result"
    }
   ],
   "source": [
    "df3[df3['daily_decr30']<0].shape"
   ]
  },
  {
   "cell_type": "code",
   "execution_count": 97,
   "metadata": {},
   "outputs": [
    {
     "data": {
      "text/plain": [
       "(355138, 34)"
      ]
     },
     "execution_count": 97,
     "metadata": {},
     "output_type": "execute_result"
    }
   ],
   "source": [
    "df3.shape"
   ]
  },
  {
   "cell_type": "code",
   "execution_count": 98,
   "metadata": {},
   "outputs": [],
   "source": [
    "df3['daily_decr90'] = df3['daily_decr90'].apply(lambda x:age(x))"
   ]
  },
  {
   "cell_type": "code",
   "execution_count": 99,
   "metadata": {},
   "outputs": [
    {
     "data": {
      "text/plain": [
       "(355138, 34)"
      ]
     },
     "execution_count": 99,
     "metadata": {},
     "output_type": "execute_result"
    }
   ],
   "source": [
    "df3.shape"
   ]
  },
  {
   "cell_type": "code",
   "execution_count": 100,
   "metadata": {
    "scrolled": true
   },
   "outputs": [
    {
     "data": {
      "text/plain": [
       "0.9680424791883596"
      ]
     },
     "execution_count": 100,
     "metadata": {},
     "output_type": "execute_result"
    }
   ],
   "source": [
    "df3.shape[0]/df2.shape[0]"
   ]
  },
  {
   "cell_type": "code",
   "execution_count": 101,
   "metadata": {},
   "outputs": [],
   "source": [
    "## handling features no of last_rech_date_ma and last_rech_date_da"
   ]
  },
  {
   "cell_type": "code",
   "execution_count": 102,
   "metadata": {
    "scrolled": true
   },
   "outputs": [
    {
     "data": {
      "text/plain": [
       "(345181, 34)"
      ]
     },
     "execution_count": 102,
     "metadata": {},
     "output_type": "execute_result"
    }
   ],
   "source": [
    "df3[df3['last_rech_date_da'] == 0].shape"
   ]
  },
  {
   "cell_type": "code",
   "execution_count": 103,
   "metadata": {},
   "outputs": [
    {
     "data": {
      "text/plain": [
       "0.000000         345181\n",
       "7.000000            284\n",
       "17.000000           251\n",
       "8.000000            249\n",
       "13.000000           228\n",
       "                  ...  \n",
       "886093.582725         1\n",
       "822346.916306         1\n",
       "585558.444378         1\n",
       "974876.728375         1\n",
       "820092.591224         1\n",
       "Name: last_rech_date_da, Length: 1136, dtype: int64"
      ]
     },
     "execution_count": 103,
     "metadata": {},
     "output_type": "execute_result"
    }
   ],
   "source": [
    "df3['last_rech_date_da'].value_counts()"
   ]
  },
  {
   "cell_type": "code",
   "execution_count": 104,
   "metadata": {
    "scrolled": false
   },
   "outputs": [],
   "source": [
    "##lst = []\n",
    "##for i in (df2['last_rech_date_da']):\n",
    "  ##  if type(i) == float :\n",
    "    ##    lst.append(i)\n",
    "        \n",
    "         "
   ]
  },
  {
   "cell_type": "code",
   "execution_count": 105,
   "metadata": {},
   "outputs": [],
   "source": [
    "##len(lst)"
   ]
  },
  {
   "cell_type": "code",
   "execution_count": 106,
   "metadata": {},
   "outputs": [
    {
     "data": {
      "text/plain": [
       "(355138, 34)"
      ]
     },
     "execution_count": 106,
     "metadata": {},
     "output_type": "execute_result"
    }
   ],
   "source": [
    "df3.shape"
   ]
  },
  {
   "cell_type": "code",
   "execution_count": 107,
   "metadata": {
    "scrolled": true
   },
   "outputs": [
    {
     "data": {
      "text/plain": [
       "0.000000         345181\n",
       "7.000000            284\n",
       "17.000000           251\n",
       "8.000000            249\n",
       "13.000000           228\n",
       "                  ...  \n",
       "886093.582725         1\n",
       "822346.916306         1\n",
       "585558.444378         1\n",
       "974876.728375         1\n",
       "820092.591224         1\n",
       "Name: last_rech_date_da, Length: 1136, dtype: int64"
      ]
     },
     "execution_count": 107,
     "metadata": {},
     "output_type": "execute_result"
    }
   ],
   "source": [
    "df3['last_rech_date_da'].value_counts()"
   ]
  },
  {
   "cell_type": "code",
   "execution_count": 108,
   "metadata": {},
   "outputs": [],
   "source": [
    "## i m working on last_rech_date_da and trying to write a code to find out float values or fraction value"
   ]
  },
  {
   "cell_type": "code",
   "execution_count": 109,
   "metadata": {},
   "outputs": [],
   "source": [
    "##check dis code to find fraction values\n",
    "##index=[]\n",
    "##for i in range(len(data['age_on_net'])):\n",
    "  ##  if int(data['age_on_net'].iloc[i]) < data['age_on_net'].iloc[i]:\n",
    "    ##    index.append(i)"
   ]
  },
  {
   "cell_type": "code",
   "execution_count": 110,
   "metadata": {},
   "outputs": [],
   "source": [
    "##removing remaining outliers using z score"
   ]
  },
  {
   "cell_type": "code",
   "execution_count": 111,
   "metadata": {
    "scrolled": true
   },
   "outputs": [
    {
     "data": {
      "text/plain": [
       "Index(['Unnamed: 0', 'aon', 'daily_decr30', 'daily_decr90', 'rental30',\n",
       "       'rental90', 'last_rech_date_ma', 'last_rech_date_da',\n",
       "       'last_rech_amt_ma', 'cnt_ma_rech30', 'fr_ma_rech30',\n",
       "       'sumamnt_ma_rech30', 'medianamnt_ma_rech30', 'medianmarechprebal30',\n",
       "       'cnt_ma_rech90', 'fr_ma_rech90', 'sumamnt_ma_rech90',\n",
       "       'medianamnt_ma_rech90', 'medianmarechprebal90', 'cnt_da_rech30',\n",
       "       'fr_da_rech30', 'cnt_da_rech90', 'fr_da_rech90', 'cnt_loans30',\n",
       "       'amnt_loans30', 'maxamnt_loans30', 'medianamnt_loans30', 'cnt_loans90',\n",
       "       'amnt_loans90', 'maxamnt_loans90', 'medianamnt_loans90', 'payback30',\n",
       "       'payback90', 'label'],\n",
       "      dtype='object')"
      ]
     },
     "execution_count": 111,
     "metadata": {},
     "output_type": "execute_result"
    }
   ],
   "source": [
    "df3.columns"
   ]
  },
  {
   "cell_type": "code",
   "execution_count": 112,
   "metadata": {
    "scrolled": true
   },
   "outputs": [
    {
     "data": {
      "text/plain": [
       "(355138, 34)"
      ]
     },
     "execution_count": 112,
     "metadata": {},
     "output_type": "execute_result"
    }
   ],
   "source": [
    "df3.shape"
   ]
  },
  {
   "cell_type": "code",
   "execution_count": 113,
   "metadata": {
    "scrolled": false
   },
   "outputs": [
    {
     "data": {
      "text/plain": [
       "(258519, 34)"
      ]
     },
     "execution_count": 113,
     "metadata": {},
     "output_type": "execute_result"
    }
   ],
   "source": [
    "from scipy.stats import zscore \n",
    "z=zscore(df3)\n",
    "df4=df3[(z<3).all(axis=1)]\n",
    "df4.shape"
   ]
  },
  {
   "cell_type": "code",
   "execution_count": 114,
   "metadata": {
    "scrolled": false
   },
   "outputs": [
    {
     "name": "stdout",
     "output_type": "stream",
     "text": [
      "0.7046764178355894% of data is remaining\n"
     ]
    }
   ],
   "source": [
    "print('{}% of data is remaining'.format(df4.shape[0]/df2.shape[0]))"
   ]
  },
  {
   "cell_type": "code",
   "execution_count": 115,
   "metadata": {},
   "outputs": [
    {
     "data": {
      "text/html": [
       "<div>\n",
       "<style scoped>\n",
       "    .dataframe tbody tr th:only-of-type {\n",
       "        vertical-align: middle;\n",
       "    }\n",
       "\n",
       "    .dataframe tbody tr th {\n",
       "        vertical-align: top;\n",
       "    }\n",
       "\n",
       "    .dataframe thead th {\n",
       "        text-align: right;\n",
       "    }\n",
       "</style>\n",
       "<table border=\"1\" class=\"dataframe\">\n",
       "  <thead>\n",
       "    <tr style=\"text-align: right;\">\n",
       "      <th></th>\n",
       "      <th>Unnamed: 0</th>\n",
       "      <th>aon</th>\n",
       "      <th>daily_decr30</th>\n",
       "      <th>daily_decr90</th>\n",
       "      <th>rental30</th>\n",
       "      <th>rental90</th>\n",
       "      <th>last_rech_date_ma</th>\n",
       "      <th>last_rech_date_da</th>\n",
       "      <th>last_rech_amt_ma</th>\n",
       "      <th>cnt_ma_rech30</th>\n",
       "      <th>...</th>\n",
       "      <th>amnt_loans30</th>\n",
       "      <th>maxamnt_loans30</th>\n",
       "      <th>medianamnt_loans30</th>\n",
       "      <th>cnt_loans90</th>\n",
       "      <th>amnt_loans90</th>\n",
       "      <th>maxamnt_loans90</th>\n",
       "      <th>medianamnt_loans90</th>\n",
       "      <th>payback30</th>\n",
       "      <th>payback90</th>\n",
       "      <th>label</th>\n",
       "    </tr>\n",
       "  </thead>\n",
       "  <tbody>\n",
       "    <tr>\n",
       "      <th>Unnamed: 0</th>\n",
       "      <td>1.000000</td>\n",
       "      <td>-0.000038</td>\n",
       "      <td>0.002290</td>\n",
       "      <td>0.002523</td>\n",
       "      <td>-0.009010</td>\n",
       "      <td>-0.007538</td>\n",
       "      <td>-0.000066</td>\n",
       "      <td>0.002272</td>\n",
       "      <td>-0.006337</td>\n",
       "      <td>0.002908</td>\n",
       "      <td>...</td>\n",
       "      <td>0.001997</td>\n",
       "      <td>-0.001396</td>\n",
       "      <td>-0.003501</td>\n",
       "      <td>-0.002987</td>\n",
       "      <td>0.000577</td>\n",
       "      <td>-0.000109</td>\n",
       "      <td>-0.004211</td>\n",
       "      <td>-0.001174</td>\n",
       "      <td>0.000476</td>\n",
       "      <td>0.000759</td>\n",
       "    </tr>\n",
       "    <tr>\n",
       "      <th>aon</th>\n",
       "      <td>-0.000038</td>\n",
       "      <td>1.000000</td>\n",
       "      <td>0.000036</td>\n",
       "      <td>-0.000532</td>\n",
       "      <td>-0.006873</td>\n",
       "      <td>-0.006759</td>\n",
       "      <td>0.002402</td>\n",
       "      <td>-0.003935</td>\n",
       "      <td>0.002965</td>\n",
       "      <td>-0.004766</td>\n",
       "      <td>...</td>\n",
       "      <td>-0.002549</td>\n",
       "      <td>-0.003096</td>\n",
       "      <td>0.004455</td>\n",
       "      <td>0.001902</td>\n",
       "      <td>-0.002720</td>\n",
       "      <td>-0.003256</td>\n",
       "      <td>0.003081</td>\n",
       "      <td>0.003504</td>\n",
       "      <td>0.002321</td>\n",
       "      <td>-0.005212</td>\n",
       "    </tr>\n",
       "    <tr>\n",
       "      <th>daily_decr30</th>\n",
       "      <td>0.002290</td>\n",
       "      <td>0.000036</td>\n",
       "      <td>1.000000</td>\n",
       "      <td>0.979972</td>\n",
       "      <td>0.384954</td>\n",
       "      <td>0.417381</td>\n",
       "      <td>0.000024</td>\n",
       "      <td>0.000779</td>\n",
       "      <td>0.292094</td>\n",
       "      <td>0.498577</td>\n",
       "      <td>...</td>\n",
       "      <td>0.509508</td>\n",
       "      <td>-0.002253</td>\n",
       "      <td>0.010869</td>\n",
       "      <td>0.007869</td>\n",
       "      <td>0.592471</td>\n",
       "      <td>0.411226</td>\n",
       "      <td>-0.013765</td>\n",
       "      <td>0.056363</td>\n",
       "      <td>0.073764</td>\n",
       "      <td>0.310200</td>\n",
       "    </tr>\n",
       "    <tr>\n",
       "      <th>daily_decr90</th>\n",
       "      <td>0.002523</td>\n",
       "      <td>-0.000532</td>\n",
       "      <td>0.979972</td>\n",
       "      <td>1.000000</td>\n",
       "      <td>0.377782</td>\n",
       "      <td>0.426433</td>\n",
       "      <td>0.000583</td>\n",
       "      <td>0.000426</td>\n",
       "      <td>0.279366</td>\n",
       "      <td>0.476718</td>\n",
       "      <td>...</td>\n",
       "      <td>0.488969</td>\n",
       "      <td>-0.001913</td>\n",
       "      <td>0.015184</td>\n",
       "      <td>0.008383</td>\n",
       "      <td>0.596363</td>\n",
       "      <td>0.406237</td>\n",
       "      <td>-0.012255</td>\n",
       "      <td>0.048232</td>\n",
       "      <td>0.066021</td>\n",
       "      <td>0.309964</td>\n",
       "    </tr>\n",
       "    <tr>\n",
       "      <th>rental30</th>\n",
       "      <td>-0.009010</td>\n",
       "      <td>-0.006873</td>\n",
       "      <td>0.384954</td>\n",
       "      <td>0.377782</td>\n",
       "      <td>1.000000</td>\n",
       "      <td>0.964175</td>\n",
       "      <td>-0.002050</td>\n",
       "      <td>0.005673</td>\n",
       "      <td>0.144146</td>\n",
       "      <td>0.211963</td>\n",
       "      <td>...</td>\n",
       "      <td>0.211121</td>\n",
       "      <td>-0.001477</td>\n",
       "      <td>-0.005082</td>\n",
       "      <td>0.000262</td>\n",
       "      <td>0.262139</td>\n",
       "      <td>0.225813</td>\n",
       "      <td>-0.021865</td>\n",
       "      <td>0.075997</td>\n",
       "      <td>0.098082</td>\n",
       "      <td>0.092798</td>\n",
       "    </tr>\n",
       "    <tr>\n",
       "      <th>rental90</th>\n",
       "      <td>-0.007538</td>\n",
       "      <td>-0.006759</td>\n",
       "      <td>0.417381</td>\n",
       "      <td>0.426433</td>\n",
       "      <td>0.964175</td>\n",
       "      <td>1.000000</td>\n",
       "      <td>-0.002016</td>\n",
       "      <td>0.005108</td>\n",
       "      <td>0.145166</td>\n",
       "      <td>0.225790</td>\n",
       "      <td>...</td>\n",
       "      <td>0.225121</td>\n",
       "      <td>-0.001889</td>\n",
       "      <td>0.001164</td>\n",
       "      <td>0.001909</td>\n",
       "      <td>0.302140</td>\n",
       "      <td>0.246663</td>\n",
       "      <td>-0.020636</td>\n",
       "      <td>0.073752</td>\n",
       "      <td>0.103686</td>\n",
       "      <td>0.126231</td>\n",
       "    </tr>\n",
       "    <tr>\n",
       "      <th>last_rech_date_ma</th>\n",
       "      <td>-0.000066</td>\n",
       "      <td>0.002402</td>\n",
       "      <td>0.000024</td>\n",
       "      <td>0.000583</td>\n",
       "      <td>-0.002050</td>\n",
       "      <td>-0.002016</td>\n",
       "      <td>1.000000</td>\n",
       "      <td>0.005047</td>\n",
       "      <td>-0.004512</td>\n",
       "      <td>0.003925</td>\n",
       "      <td>...</td>\n",
       "      <td>0.003316</td>\n",
       "      <td>0.000443</td>\n",
       "      <td>0.002945</td>\n",
       "      <td>0.004091</td>\n",
       "      <td>0.003133</td>\n",
       "      <td>-0.001234</td>\n",
       "      <td>0.004171</td>\n",
       "      <td>-0.001745</td>\n",
       "      <td>-0.002742</td>\n",
       "      <td>0.006003</td>\n",
       "    </tr>\n",
       "    <tr>\n",
       "      <th>last_rech_date_da</th>\n",
       "      <td>0.002272</td>\n",
       "      <td>-0.003935</td>\n",
       "      <td>0.000779</td>\n",
       "      <td>0.000426</td>\n",
       "      <td>0.005673</td>\n",
       "      <td>0.005108</td>\n",
       "      <td>0.005047</td>\n",
       "      <td>1.000000</td>\n",
       "      <td>0.001083</td>\n",
       "      <td>0.000711</td>\n",
       "      <td>...</td>\n",
       "      <td>-0.000115</td>\n",
       "      <td>0.001397</td>\n",
       "      <td>-0.000358</td>\n",
       "      <td>-0.002271</td>\n",
       "      <td>0.000233</td>\n",
       "      <td>0.001032</td>\n",
       "      <td>-0.001749</td>\n",
       "      <td>-0.003231</td>\n",
       "      <td>-0.002952</td>\n",
       "      <td>0.003439</td>\n",
       "    </tr>\n",
       "    <tr>\n",
       "      <th>last_rech_amt_ma</th>\n",
       "      <td>-0.006337</td>\n",
       "      <td>0.002965</td>\n",
       "      <td>0.292094</td>\n",
       "      <td>0.279366</td>\n",
       "      <td>0.144146</td>\n",
       "      <td>0.145166</td>\n",
       "      <td>-0.004512</td>\n",
       "      <td>0.001083</td>\n",
       "      <td>1.000000</td>\n",
       "      <td>0.094043</td>\n",
       "      <td>...</td>\n",
       "      <td>0.080942</td>\n",
       "      <td>-0.003578</td>\n",
       "      <td>0.042426</td>\n",
       "      <td>0.001989</td>\n",
       "      <td>0.083840</td>\n",
       "      <td>0.159883</td>\n",
       "      <td>0.034706</td>\n",
       "      <td>0.012451</td>\n",
       "      <td>0.023308</td>\n",
       "      <td>0.204513</td>\n",
       "    </tr>\n",
       "    <tr>\n",
       "      <th>cnt_ma_rech30</th>\n",
       "      <td>0.002908</td>\n",
       "      <td>-0.004766</td>\n",
       "      <td>0.498577</td>\n",
       "      <td>0.476718</td>\n",
       "      <td>0.211963</td>\n",
       "      <td>0.225790</td>\n",
       "      <td>0.003925</td>\n",
       "      <td>0.000711</td>\n",
       "      <td>0.094043</td>\n",
       "      <td>1.000000</td>\n",
       "      <td>...</td>\n",
       "      <td>0.777173</td>\n",
       "      <td>-0.002688</td>\n",
       "      <td>-0.020638</td>\n",
       "      <td>0.014382</td>\n",
       "      <td>0.719593</td>\n",
       "      <td>0.230656</td>\n",
       "      <td>-0.028666</td>\n",
       "      <td>0.097881</td>\n",
       "      <td>0.079588</td>\n",
       "      <td>0.409131</td>\n",
       "    </tr>\n",
       "    <tr>\n",
       "      <th>fr_ma_rech30</th>\n",
       "      <td>0.004485</td>\n",
       "      <td>-0.003763</td>\n",
       "      <td>0.001400</td>\n",
       "      <td>0.001344</td>\n",
       "      <td>-0.001014</td>\n",
       "      <td>-0.000852</td>\n",
       "      <td>0.000237</td>\n",
       "      <td>0.000720</td>\n",
       "      <td>0.001468</td>\n",
       "      <td>0.002094</td>\n",
       "      <td>...</td>\n",
       "      <td>0.003117</td>\n",
       "      <td>-0.002495</td>\n",
       "      <td>-0.001911</td>\n",
       "      <td>0.002123</td>\n",
       "      <td>0.003047</td>\n",
       "      <td>-0.000740</td>\n",
       "      <td>-0.002465</td>\n",
       "      <td>0.003514</td>\n",
       "      <td>0.001068</td>\n",
       "      <td>0.001397</td>\n",
       "    </tr>\n",
       "    <tr>\n",
       "      <th>sumamnt_ma_rech30</th>\n",
       "      <td>-0.001563</td>\n",
       "      <td>0.000093</td>\n",
       "      <td>0.657414</td>\n",
       "      <td>0.628908</td>\n",
       "      <td>0.252040</td>\n",
       "      <td>0.256317</td>\n",
       "      <td>0.001237</td>\n",
       "      <td>0.002279</td>\n",
       "      <td>0.467110</td>\n",
       "      <td>0.696657</td>\n",
       "      <td>...</td>\n",
       "      <td>0.575751</td>\n",
       "      <td>-0.002063</td>\n",
       "      <td>-0.000451</td>\n",
       "      <td>0.008846</td>\n",
       "      <td>0.536478</td>\n",
       "      <td>0.293947</td>\n",
       "      <td>-0.010551</td>\n",
       "      <td>0.047617</td>\n",
       "      <td>0.038801</td>\n",
       "      <td>0.358536</td>\n",
       "    </tr>\n",
       "    <tr>\n",
       "      <th>medianamnt_ma_rech30</th>\n",
       "      <td>-0.005968</td>\n",
       "      <td>0.005549</td>\n",
       "      <td>0.312498</td>\n",
       "      <td>0.299028</td>\n",
       "      <td>0.153883</td>\n",
       "      <td>0.149831</td>\n",
       "      <td>-0.004553</td>\n",
       "      <td>0.002624</td>\n",
       "      <td>0.790161</td>\n",
       "      <td>0.104276</td>\n",
       "      <td>...</td>\n",
       "      <td>0.089566</td>\n",
       "      <td>-0.003020</td>\n",
       "      <td>0.046366</td>\n",
       "      <td>0.000564</td>\n",
       "      <td>0.092637</td>\n",
       "      <td>0.175811</td>\n",
       "      <td>0.036805</td>\n",
       "      <td>0.026901</td>\n",
       "      <td>0.040516</td>\n",
       "      <td>0.219998</td>\n",
       "    </tr>\n",
       "    <tr>\n",
       "      <th>medianmarechprebal30</th>\n",
       "      <td>0.000873</td>\n",
       "      <td>-0.000798</td>\n",
       "      <td>-0.003166</td>\n",
       "      <td>-0.002767</td>\n",
       "      <td>-0.003237</td>\n",
       "      <td>-0.002792</td>\n",
       "      <td>0.001656</td>\n",
       "      <td>-0.000535</td>\n",
       "      <td>0.001147</td>\n",
       "      <td>-0.000988</td>\n",
       "      <td>...</td>\n",
       "      <td>-0.000944</td>\n",
       "      <td>-0.001328</td>\n",
       "      <td>-0.005598</td>\n",
       "      <td>-0.001360</td>\n",
       "      <td>-0.000372</td>\n",
       "      <td>-0.003705</td>\n",
       "      <td>-0.005188</td>\n",
       "      <td>-0.000864</td>\n",
       "      <td>-0.000402</td>\n",
       "      <td>-0.006537</td>\n",
       "    </tr>\n",
       "    <tr>\n",
       "      <th>cnt_ma_rech90</th>\n",
       "      <td>0.002090</td>\n",
       "      <td>-0.004822</td>\n",
       "      <td>0.616307</td>\n",
       "      <td>0.621082</td>\n",
       "      <td>0.272684</td>\n",
       "      <td>0.316798</td>\n",
       "      <td>0.004616</td>\n",
       "      <td>0.000785</td>\n",
       "      <td>0.105712</td>\n",
       "      <td>0.902860</td>\n",
       "      <td>...</td>\n",
       "      <td>0.739763</td>\n",
       "      <td>-0.002682</td>\n",
       "      <td>-0.012403</td>\n",
       "      <td>0.014843</td>\n",
       "      <td>0.803986</td>\n",
       "      <td>0.285632</td>\n",
       "      <td>-0.031971</td>\n",
       "      <td>0.060570</td>\n",
       "      <td>0.053704</td>\n",
       "      <td>0.418076</td>\n",
       "    </tr>\n",
       "    <tr>\n",
       "      <th>fr_ma_rech90</th>\n",
       "      <td>0.000042</td>\n",
       "      <td>0.003922</td>\n",
       "      <td>-0.003568</td>\n",
       "      <td>-0.008289</td>\n",
       "      <td>0.011649</td>\n",
       "      <td>0.012009</td>\n",
       "      <td>-0.004398</td>\n",
       "      <td>0.003741</td>\n",
       "      <td>0.130134</td>\n",
       "      <td>-0.030287</td>\n",
       "      <td>...</td>\n",
       "      <td>-0.028103</td>\n",
       "      <td>0.001690</td>\n",
       "      <td>0.029266</td>\n",
       "      <td>-0.001384</td>\n",
       "      <td>-0.036114</td>\n",
       "      <td>0.000200</td>\n",
       "      <td>0.024548</td>\n",
       "      <td>0.071059</td>\n",
       "      <td>0.116565</td>\n",
       "      <td>0.128101</td>\n",
       "    </tr>\n",
       "    <tr>\n",
       "      <th>sumamnt_ma_rech90</th>\n",
       "      <td>-0.001177</td>\n",
       "      <td>-0.000370</td>\n",
       "      <td>0.769709</td>\n",
       "      <td>0.775260</td>\n",
       "      <td>0.303697</td>\n",
       "      <td>0.335172</td>\n",
       "      <td>0.001793</td>\n",
       "      <td>0.001306</td>\n",
       "      <td>0.444174</td>\n",
       "      <td>0.632980</td>\n",
       "      <td>...</td>\n",
       "      <td>0.556663</td>\n",
       "      <td>-0.001586</td>\n",
       "      <td>0.008456</td>\n",
       "      <td>0.010100</td>\n",
       "      <td>0.604311</td>\n",
       "      <td>0.345739</td>\n",
       "      <td>-0.012044</td>\n",
       "      <td>0.018982</td>\n",
       "      <td>0.019249</td>\n",
       "      <td>0.371016</td>\n",
       "    </tr>\n",
       "    <tr>\n",
       "      <th>medianamnt_ma_rech90</th>\n",
       "      <td>-0.005143</td>\n",
       "      <td>0.006020</td>\n",
       "      <td>0.268455</td>\n",
       "      <td>0.259019</td>\n",
       "      <td>0.139806</td>\n",
       "      <td>0.136702</td>\n",
       "      <td>-0.004123</td>\n",
       "      <td>0.002021</td>\n",
       "      <td>0.845927</td>\n",
       "      <td>0.052815</td>\n",
       "      <td>...</td>\n",
       "      <td>0.049690</td>\n",
       "      <td>-0.001762</td>\n",
       "      <td>0.047359</td>\n",
       "      <td>0.001517</td>\n",
       "      <td>0.049127</td>\n",
       "      <td>0.144921</td>\n",
       "      <td>0.041722</td>\n",
       "      <td>0.005832</td>\n",
       "      <td>0.016662</td>\n",
       "      <td>0.182706</td>\n",
       "    </tr>\n",
       "    <tr>\n",
       "      <th>medianmarechprebal90</th>\n",
       "      <td>-0.004465</td>\n",
       "      <td>-0.002031</td>\n",
       "      <td>0.040423</td>\n",
       "      <td>0.039157</td>\n",
       "      <td>0.063471</td>\n",
       "      <td>0.058030</td>\n",
       "      <td>-0.001500</td>\n",
       "      <td>0.011694</td>\n",
       "      <td>0.099345</td>\n",
       "      <td>0.032997</td>\n",
       "      <td>...</td>\n",
       "      <td>-0.001806</td>\n",
       "      <td>0.000498</td>\n",
       "      <td>0.021397</td>\n",
       "      <td>-0.001104</td>\n",
       "      <td>-0.004335</td>\n",
       "      <td>0.035447</td>\n",
       "      <td>0.021646</td>\n",
       "      <td>-0.013841</td>\n",
       "      <td>-0.012020</td>\n",
       "      <td>0.050916</td>\n",
       "    </tr>\n",
       "    <tr>\n",
       "      <th>cnt_da_rech30</th>\n",
       "      <td>0.001823</td>\n",
       "      <td>-0.001685</td>\n",
       "      <td>0.000358</td>\n",
       "      <td>0.000529</td>\n",
       "      <td>-0.003515</td>\n",
       "      <td>-0.002510</td>\n",
       "      <td>-0.003585</td>\n",
       "      <td>-0.003732</td>\n",
       "      <td>0.001733</td>\n",
       "      <td>0.001488</td>\n",
       "      <td>...</td>\n",
       "      <td>0.001581</td>\n",
       "      <td>0.000821</td>\n",
       "      <td>0.002086</td>\n",
       "      <td>-0.002643</td>\n",
       "      <td>0.003830</td>\n",
       "      <td>-0.001341</td>\n",
       "      <td>0.000730</td>\n",
       "      <td>0.001083</td>\n",
       "      <td>0.000325</td>\n",
       "      <td>0.005367</td>\n",
       "    </tr>\n",
       "    <tr>\n",
       "      <th>fr_da_rech30</th>\n",
       "      <td>-0.005319</td>\n",
       "      <td>-0.000015</td>\n",
       "      <td>0.000516</td>\n",
       "      <td>0.000262</td>\n",
       "      <td>-0.000408</td>\n",
       "      <td>-0.000670</td>\n",
       "      <td>-0.003941</td>\n",
       "      <td>-0.001927</td>\n",
       "      <td>-0.001373</td>\n",
       "      <td>0.000537</td>\n",
       "      <td>...</td>\n",
       "      <td>-0.000974</td>\n",
       "      <td>-0.001432</td>\n",
       "      <td>-0.001785</td>\n",
       "      <td>-0.002712</td>\n",
       "      <td>0.000731</td>\n",
       "      <td>0.000042</td>\n",
       "      <td>-0.002967</td>\n",
       "      <td>0.002620</td>\n",
       "      <td>0.000626</td>\n",
       "      <td>0.000563</td>\n",
       "    </tr>\n",
       "    <tr>\n",
       "      <th>cnt_da_rech90</th>\n",
       "      <td>-0.005676</td>\n",
       "      <td>0.008572</td>\n",
       "      <td>0.047765</td>\n",
       "      <td>0.039931</td>\n",
       "      <td>0.093553</td>\n",
       "      <td>0.080334</td>\n",
       "      <td>-0.004356</td>\n",
       "      <td>0.000242</td>\n",
       "      <td>0.025592</td>\n",
       "      <td>0.014696</td>\n",
       "      <td>...</td>\n",
       "      <td>0.025206</td>\n",
       "      <td>-0.003419</td>\n",
       "      <td>-0.004064</td>\n",
       "      <td>0.000235</td>\n",
       "      <td>0.022191</td>\n",
       "      <td>0.041651</td>\n",
       "      <td>-0.004172</td>\n",
       "      <td>0.017776</td>\n",
       "      <td>0.031531</td>\n",
       "      <td>0.001528</td>\n",
       "    </tr>\n",
       "    <tr>\n",
       "      <th>fr_da_rech90</th>\n",
       "      <td>-0.005672</td>\n",
       "      <td>0.008170</td>\n",
       "      <td>0.017837</td>\n",
       "      <td>0.014291</td>\n",
       "      <td>0.065016</td>\n",
       "      <td>0.056835</td>\n",
       "      <td>-0.003050</td>\n",
       "      <td>-0.001844</td>\n",
       "      <td>0.019005</td>\n",
       "      <td>0.004662</td>\n",
       "      <td>...</td>\n",
       "      <td>0.010835</td>\n",
       "      <td>-0.002100</td>\n",
       "      <td>-0.005218</td>\n",
       "      <td>0.000901</td>\n",
       "      <td>0.009297</td>\n",
       "      <td>0.017708</td>\n",
       "      <td>-0.004664</td>\n",
       "      <td>0.006194</td>\n",
       "      <td>0.008504</td>\n",
       "      <td>-0.008478</td>\n",
       "    </tr>\n",
       "    <tr>\n",
       "      <th>cnt_loans30</th>\n",
       "      <td>0.001692</td>\n",
       "      <td>-0.002182</td>\n",
       "      <td>0.416477</td>\n",
       "      <td>0.393760</td>\n",
       "      <td>0.166850</td>\n",
       "      <td>0.174085</td>\n",
       "      <td>0.003888</td>\n",
       "      <td>-0.000265</td>\n",
       "      <td>0.052761</td>\n",
       "      <td>0.785529</td>\n",
       "      <td>...</td>\n",
       "      <td>0.963829</td>\n",
       "      <td>-0.001691</td>\n",
       "      <td>-0.049729</td>\n",
       "      <td>0.015025</td>\n",
       "      <td>0.870668</td>\n",
       "      <td>0.184609</td>\n",
       "      <td>-0.056744</td>\n",
       "      <td>0.114802</td>\n",
       "      <td>0.090053</td>\n",
       "      <td>0.349156</td>\n",
       "    </tr>\n",
       "    <tr>\n",
       "      <th>amnt_loans30</th>\n",
       "      <td>0.001997</td>\n",
       "      <td>-0.002549</td>\n",
       "      <td>0.509508</td>\n",
       "      <td>0.488969</td>\n",
       "      <td>0.211121</td>\n",
       "      <td>0.225121</td>\n",
       "      <td>0.003316</td>\n",
       "      <td>-0.000115</td>\n",
       "      <td>0.080942</td>\n",
       "      <td>0.777173</td>\n",
       "      <td>...</td>\n",
       "      <td>1.000000</td>\n",
       "      <td>-0.001862</td>\n",
       "      <td>-0.037947</td>\n",
       "      <td>0.014171</td>\n",
       "      <td>0.910198</td>\n",
       "      <td>0.357154</td>\n",
       "      <td>-0.048928</td>\n",
       "      <td>0.107550</td>\n",
       "      <td>0.086493</td>\n",
       "      <td>0.352762</td>\n",
       "    </tr>\n",
       "    <tr>\n",
       "      <th>maxamnt_loans30</th>\n",
       "      <td>-0.001396</td>\n",
       "      <td>-0.003096</td>\n",
       "      <td>-0.002253</td>\n",
       "      <td>-0.001913</td>\n",
       "      <td>-0.001477</td>\n",
       "      <td>-0.001889</td>\n",
       "      <td>0.000443</td>\n",
       "      <td>0.001397</td>\n",
       "      <td>-0.003578</td>\n",
       "      <td>-0.002688</td>\n",
       "      <td>...</td>\n",
       "      <td>-0.001862</td>\n",
       "      <td>1.000000</td>\n",
       "      <td>0.007812</td>\n",
       "      <td>0.007969</td>\n",
       "      <td>-0.002701</td>\n",
       "      <td>-0.002262</td>\n",
       "      <td>0.009102</td>\n",
       "      <td>-0.000789</td>\n",
       "      <td>0.002716</td>\n",
       "      <td>-0.000146</td>\n",
       "    </tr>\n",
       "    <tr>\n",
       "      <th>medianamnt_loans30</th>\n",
       "      <td>-0.003501</td>\n",
       "      <td>0.004455</td>\n",
       "      <td>0.010869</td>\n",
       "      <td>0.015184</td>\n",
       "      <td>-0.005082</td>\n",
       "      <td>0.001164</td>\n",
       "      <td>0.002945</td>\n",
       "      <td>-0.000358</td>\n",
       "      <td>0.042426</td>\n",
       "      <td>-0.020638</td>\n",
       "      <td>...</td>\n",
       "      <td>-0.037947</td>\n",
       "      <td>0.007812</td>\n",
       "      <td>1.000000</td>\n",
       "      <td>-0.001021</td>\n",
       "      <td>-0.029952</td>\n",
       "      <td>0.060567</td>\n",
       "      <td>0.927774</td>\n",
       "      <td>0.006331</td>\n",
       "      <td>0.013574</td>\n",
       "      <td>0.075274</td>\n",
       "    </tr>\n",
       "    <tr>\n",
       "      <th>cnt_loans90</th>\n",
       "      <td>-0.002987</td>\n",
       "      <td>0.001902</td>\n",
       "      <td>0.007869</td>\n",
       "      <td>0.008383</td>\n",
       "      <td>0.000262</td>\n",
       "      <td>0.001909</td>\n",
       "      <td>0.004091</td>\n",
       "      <td>-0.002271</td>\n",
       "      <td>0.001989</td>\n",
       "      <td>0.014382</td>\n",
       "      <td>...</td>\n",
       "      <td>0.014171</td>\n",
       "      <td>0.007969</td>\n",
       "      <td>-0.001021</td>\n",
       "      <td>1.000000</td>\n",
       "      <td>0.016244</td>\n",
       "      <td>0.000726</td>\n",
       "      <td>-0.000169</td>\n",
       "      <td>0.003728</td>\n",
       "      <td>0.001359</td>\n",
       "      <td>0.008649</td>\n",
       "    </tr>\n",
       "    <tr>\n",
       "      <th>amnt_loans90</th>\n",
       "      <td>0.000577</td>\n",
       "      <td>-0.002720</td>\n",
       "      <td>0.592471</td>\n",
       "      <td>0.596363</td>\n",
       "      <td>0.262139</td>\n",
       "      <td>0.302140</td>\n",
       "      <td>0.003133</td>\n",
       "      <td>0.000233</td>\n",
       "      <td>0.083840</td>\n",
       "      <td>0.719593</td>\n",
       "      <td>...</td>\n",
       "      <td>0.910198</td>\n",
       "      <td>-0.002701</td>\n",
       "      <td>-0.029952</td>\n",
       "      <td>0.016244</td>\n",
       "      <td>1.000000</td>\n",
       "      <td>0.347849</td>\n",
       "      <td>-0.056348</td>\n",
       "      <td>0.090173</td>\n",
       "      <td>0.077986</td>\n",
       "      <td>0.363944</td>\n",
       "    </tr>\n",
       "    <tr>\n",
       "      <th>maxamnt_loans90</th>\n",
       "      <td>-0.000109</td>\n",
       "      <td>-0.003256</td>\n",
       "      <td>0.411226</td>\n",
       "      <td>0.406237</td>\n",
       "      <td>0.225813</td>\n",
       "      <td>0.246663</td>\n",
       "      <td>-0.001234</td>\n",
       "      <td>0.001032</td>\n",
       "      <td>0.159883</td>\n",
       "      <td>0.230656</td>\n",
       "      <td>...</td>\n",
       "      <td>0.357154</td>\n",
       "      <td>-0.002262</td>\n",
       "      <td>0.060567</td>\n",
       "      <td>0.000726</td>\n",
       "      <td>0.347849</td>\n",
       "      <td>1.000000</td>\n",
       "      <td>0.036732</td>\n",
       "      <td>0.040038</td>\n",
       "      <td>0.053560</td>\n",
       "      <td>0.150857</td>\n",
       "    </tr>\n",
       "    <tr>\n",
       "      <th>medianamnt_loans90</th>\n",
       "      <td>-0.004211</td>\n",
       "      <td>0.003081</td>\n",
       "      <td>-0.013765</td>\n",
       "      <td>-0.012255</td>\n",
       "      <td>-0.021865</td>\n",
       "      <td>-0.020636</td>\n",
       "      <td>0.004171</td>\n",
       "      <td>-0.001749</td>\n",
       "      <td>0.034706</td>\n",
       "      <td>-0.028666</td>\n",
       "      <td>...</td>\n",
       "      <td>-0.048928</td>\n",
       "      <td>0.009102</td>\n",
       "      <td>0.927774</td>\n",
       "      <td>-0.000169</td>\n",
       "      <td>-0.056348</td>\n",
       "      <td>0.036732</td>\n",
       "      <td>1.000000</td>\n",
       "      <td>0.000285</td>\n",
       "      <td>0.003581</td>\n",
       "      <td>0.059273</td>\n",
       "    </tr>\n",
       "    <tr>\n",
       "      <th>payback30</th>\n",
       "      <td>-0.001174</td>\n",
       "      <td>0.003504</td>\n",
       "      <td>0.056363</td>\n",
       "      <td>0.048232</td>\n",
       "      <td>0.075997</td>\n",
       "      <td>0.073752</td>\n",
       "      <td>-0.001745</td>\n",
       "      <td>-0.003231</td>\n",
       "      <td>0.012451</td>\n",
       "      <td>0.097881</td>\n",
       "      <td>...</td>\n",
       "      <td>0.107550</td>\n",
       "      <td>-0.000789</td>\n",
       "      <td>0.006331</td>\n",
       "      <td>0.003728</td>\n",
       "      <td>0.090173</td>\n",
       "      <td>0.040038</td>\n",
       "      <td>0.000285</td>\n",
       "      <td>1.000000</td>\n",
       "      <td>0.843946</td>\n",
       "      <td>0.066911</td>\n",
       "    </tr>\n",
       "    <tr>\n",
       "      <th>payback90</th>\n",
       "      <td>0.000476</td>\n",
       "      <td>0.002321</td>\n",
       "      <td>0.073764</td>\n",
       "      <td>0.066021</td>\n",
       "      <td>0.098082</td>\n",
       "      <td>0.103686</td>\n",
       "      <td>-0.002742</td>\n",
       "      <td>-0.002952</td>\n",
       "      <td>0.023308</td>\n",
       "      <td>0.079588</td>\n",
       "      <td>...</td>\n",
       "      <td>0.086493</td>\n",
       "      <td>0.002716</td>\n",
       "      <td>0.013574</td>\n",
       "      <td>0.001359</td>\n",
       "      <td>0.077986</td>\n",
       "      <td>0.053560</td>\n",
       "      <td>0.003581</td>\n",
       "      <td>0.843946</td>\n",
       "      <td>1.000000</td>\n",
       "      <td>0.068034</td>\n",
       "    </tr>\n",
       "    <tr>\n",
       "      <th>label</th>\n",
       "      <td>0.000759</td>\n",
       "      <td>-0.005212</td>\n",
       "      <td>0.310200</td>\n",
       "      <td>0.309964</td>\n",
       "      <td>0.092798</td>\n",
       "      <td>0.126231</td>\n",
       "      <td>0.006003</td>\n",
       "      <td>0.003439</td>\n",
       "      <td>0.204513</td>\n",
       "      <td>0.409131</td>\n",
       "      <td>...</td>\n",
       "      <td>0.352762</td>\n",
       "      <td>-0.000146</td>\n",
       "      <td>0.075274</td>\n",
       "      <td>0.008649</td>\n",
       "      <td>0.363944</td>\n",
       "      <td>0.150857</td>\n",
       "      <td>0.059273</td>\n",
       "      <td>0.066911</td>\n",
       "      <td>0.068034</td>\n",
       "      <td>1.000000</td>\n",
       "    </tr>\n",
       "  </tbody>\n",
       "</table>\n",
       "<p>34 rows × 34 columns</p>\n",
       "</div>"
      ],
      "text/plain": [
       "                      Unnamed: 0       aon  daily_decr30  daily_decr90  \\\n",
       "Unnamed: 0              1.000000 -0.000038      0.002290      0.002523   \n",
       "aon                    -0.000038  1.000000      0.000036     -0.000532   \n",
       "daily_decr30            0.002290  0.000036      1.000000      0.979972   \n",
       "daily_decr90            0.002523 -0.000532      0.979972      1.000000   \n",
       "rental30               -0.009010 -0.006873      0.384954      0.377782   \n",
       "rental90               -0.007538 -0.006759      0.417381      0.426433   \n",
       "last_rech_date_ma      -0.000066  0.002402      0.000024      0.000583   \n",
       "last_rech_date_da       0.002272 -0.003935      0.000779      0.000426   \n",
       "last_rech_amt_ma       -0.006337  0.002965      0.292094      0.279366   \n",
       "cnt_ma_rech30           0.002908 -0.004766      0.498577      0.476718   \n",
       "fr_ma_rech30            0.004485 -0.003763      0.001400      0.001344   \n",
       "sumamnt_ma_rech30      -0.001563  0.000093      0.657414      0.628908   \n",
       "medianamnt_ma_rech30   -0.005968  0.005549      0.312498      0.299028   \n",
       "medianmarechprebal30    0.000873 -0.000798     -0.003166     -0.002767   \n",
       "cnt_ma_rech90           0.002090 -0.004822      0.616307      0.621082   \n",
       "fr_ma_rech90            0.000042  0.003922     -0.003568     -0.008289   \n",
       "sumamnt_ma_rech90      -0.001177 -0.000370      0.769709      0.775260   \n",
       "medianamnt_ma_rech90   -0.005143  0.006020      0.268455      0.259019   \n",
       "medianmarechprebal90   -0.004465 -0.002031      0.040423      0.039157   \n",
       "cnt_da_rech30           0.001823 -0.001685      0.000358      0.000529   \n",
       "fr_da_rech30           -0.005319 -0.000015      0.000516      0.000262   \n",
       "cnt_da_rech90          -0.005676  0.008572      0.047765      0.039931   \n",
       "fr_da_rech90           -0.005672  0.008170      0.017837      0.014291   \n",
       "cnt_loans30             0.001692 -0.002182      0.416477      0.393760   \n",
       "amnt_loans30            0.001997 -0.002549      0.509508      0.488969   \n",
       "maxamnt_loans30        -0.001396 -0.003096     -0.002253     -0.001913   \n",
       "medianamnt_loans30     -0.003501  0.004455      0.010869      0.015184   \n",
       "cnt_loans90            -0.002987  0.001902      0.007869      0.008383   \n",
       "amnt_loans90            0.000577 -0.002720      0.592471      0.596363   \n",
       "maxamnt_loans90        -0.000109 -0.003256      0.411226      0.406237   \n",
       "medianamnt_loans90     -0.004211  0.003081     -0.013765     -0.012255   \n",
       "payback30              -0.001174  0.003504      0.056363      0.048232   \n",
       "payback90               0.000476  0.002321      0.073764      0.066021   \n",
       "label                   0.000759 -0.005212      0.310200      0.309964   \n",
       "\n",
       "                      rental30  rental90  last_rech_date_ma  \\\n",
       "Unnamed: 0           -0.009010 -0.007538          -0.000066   \n",
       "aon                  -0.006873 -0.006759           0.002402   \n",
       "daily_decr30          0.384954  0.417381           0.000024   \n",
       "daily_decr90          0.377782  0.426433           0.000583   \n",
       "rental30              1.000000  0.964175          -0.002050   \n",
       "rental90              0.964175  1.000000          -0.002016   \n",
       "last_rech_date_ma    -0.002050 -0.002016           1.000000   \n",
       "last_rech_date_da     0.005673  0.005108           0.005047   \n",
       "last_rech_amt_ma      0.144146  0.145166          -0.004512   \n",
       "cnt_ma_rech30         0.211963  0.225790           0.003925   \n",
       "fr_ma_rech30         -0.001014 -0.000852           0.000237   \n",
       "sumamnt_ma_rech30     0.252040  0.256317           0.001237   \n",
       "medianamnt_ma_rech30  0.153883  0.149831          -0.004553   \n",
       "medianmarechprebal30 -0.003237 -0.002792           0.001656   \n",
       "cnt_ma_rech90         0.272684  0.316798           0.004616   \n",
       "fr_ma_rech90          0.011649  0.012009          -0.004398   \n",
       "sumamnt_ma_rech90     0.303697  0.335172           0.001793   \n",
       "medianamnt_ma_rech90  0.139806  0.136702          -0.004123   \n",
       "medianmarechprebal90  0.063471  0.058030          -0.001500   \n",
       "cnt_da_rech30        -0.003515 -0.002510          -0.003585   \n",
       "fr_da_rech30         -0.000408 -0.000670          -0.003941   \n",
       "cnt_da_rech90         0.093553  0.080334          -0.004356   \n",
       "fr_da_rech90          0.065016  0.056835          -0.003050   \n",
       "cnt_loans30           0.166850  0.174085           0.003888   \n",
       "amnt_loans30          0.211121  0.225121           0.003316   \n",
       "maxamnt_loans30      -0.001477 -0.001889           0.000443   \n",
       "medianamnt_loans30   -0.005082  0.001164           0.002945   \n",
       "cnt_loans90           0.000262  0.001909           0.004091   \n",
       "amnt_loans90          0.262139  0.302140           0.003133   \n",
       "maxamnt_loans90       0.225813  0.246663          -0.001234   \n",
       "medianamnt_loans90   -0.021865 -0.020636           0.004171   \n",
       "payback30             0.075997  0.073752          -0.001745   \n",
       "payback90             0.098082  0.103686          -0.002742   \n",
       "label                 0.092798  0.126231           0.006003   \n",
       "\n",
       "                      last_rech_date_da  last_rech_amt_ma  cnt_ma_rech30  ...  \\\n",
       "Unnamed: 0                     0.002272         -0.006337       0.002908  ...   \n",
       "aon                           -0.003935          0.002965      -0.004766  ...   \n",
       "daily_decr30                   0.000779          0.292094       0.498577  ...   \n",
       "daily_decr90                   0.000426          0.279366       0.476718  ...   \n",
       "rental30                       0.005673          0.144146       0.211963  ...   \n",
       "rental90                       0.005108          0.145166       0.225790  ...   \n",
       "last_rech_date_ma              0.005047         -0.004512       0.003925  ...   \n",
       "last_rech_date_da              1.000000          0.001083       0.000711  ...   \n",
       "last_rech_amt_ma               0.001083          1.000000       0.094043  ...   \n",
       "cnt_ma_rech30                  0.000711          0.094043       1.000000  ...   \n",
       "fr_ma_rech30                   0.000720          0.001468       0.002094  ...   \n",
       "sumamnt_ma_rech30              0.002279          0.467110       0.696657  ...   \n",
       "medianamnt_ma_rech30           0.002624          0.790161       0.104276  ...   \n",
       "medianmarechprebal30          -0.000535          0.001147      -0.000988  ...   \n",
       "cnt_ma_rech90                  0.000785          0.105712       0.902860  ...   \n",
       "fr_ma_rech90                   0.003741          0.130134      -0.030287  ...   \n",
       "sumamnt_ma_rech90              0.001306          0.444174       0.632980  ...   \n",
       "medianamnt_ma_rech90           0.002021          0.845927       0.052815  ...   \n",
       "medianmarechprebal90           0.011694          0.099345       0.032997  ...   \n",
       "cnt_da_rech30                 -0.003732          0.001733       0.001488  ...   \n",
       "fr_da_rech30                  -0.001927         -0.001373       0.000537  ...   \n",
       "cnt_da_rech90                  0.000242          0.025592       0.014696  ...   \n",
       "fr_da_rech90                  -0.001844          0.019005       0.004662  ...   \n",
       "cnt_loans30                   -0.000265          0.052761       0.785529  ...   \n",
       "amnt_loans30                  -0.000115          0.080942       0.777173  ...   \n",
       "maxamnt_loans30                0.001397         -0.003578      -0.002688  ...   \n",
       "medianamnt_loans30            -0.000358          0.042426      -0.020638  ...   \n",
       "cnt_loans90                   -0.002271          0.001989       0.014382  ...   \n",
       "amnt_loans90                   0.000233          0.083840       0.719593  ...   \n",
       "maxamnt_loans90                0.001032          0.159883       0.230656  ...   \n",
       "medianamnt_loans90            -0.001749          0.034706      -0.028666  ...   \n",
       "payback30                     -0.003231          0.012451       0.097881  ...   \n",
       "payback90                     -0.002952          0.023308       0.079588  ...   \n",
       "label                          0.003439          0.204513       0.409131  ...   \n",
       "\n",
       "                      amnt_loans30  maxamnt_loans30  medianamnt_loans30  \\\n",
       "Unnamed: 0                0.001997        -0.001396           -0.003501   \n",
       "aon                      -0.002549        -0.003096            0.004455   \n",
       "daily_decr30              0.509508        -0.002253            0.010869   \n",
       "daily_decr90              0.488969        -0.001913            0.015184   \n",
       "rental30                  0.211121        -0.001477           -0.005082   \n",
       "rental90                  0.225121        -0.001889            0.001164   \n",
       "last_rech_date_ma         0.003316         0.000443            0.002945   \n",
       "last_rech_date_da        -0.000115         0.001397           -0.000358   \n",
       "last_rech_amt_ma          0.080942        -0.003578            0.042426   \n",
       "cnt_ma_rech30             0.777173        -0.002688           -0.020638   \n",
       "fr_ma_rech30              0.003117        -0.002495           -0.001911   \n",
       "sumamnt_ma_rech30         0.575751        -0.002063           -0.000451   \n",
       "medianamnt_ma_rech30      0.089566        -0.003020            0.046366   \n",
       "medianmarechprebal30     -0.000944        -0.001328           -0.005598   \n",
       "cnt_ma_rech90             0.739763        -0.002682           -0.012403   \n",
       "fr_ma_rech90             -0.028103         0.001690            0.029266   \n",
       "sumamnt_ma_rech90         0.556663        -0.001586            0.008456   \n",
       "medianamnt_ma_rech90      0.049690        -0.001762            0.047359   \n",
       "medianmarechprebal90     -0.001806         0.000498            0.021397   \n",
       "cnt_da_rech30             0.001581         0.000821            0.002086   \n",
       "fr_da_rech30             -0.000974        -0.001432           -0.001785   \n",
       "cnt_da_rech90             0.025206        -0.003419           -0.004064   \n",
       "fr_da_rech90              0.010835        -0.002100           -0.005218   \n",
       "cnt_loans30               0.963829        -0.001691           -0.049729   \n",
       "amnt_loans30              1.000000        -0.001862           -0.037947   \n",
       "maxamnt_loans30          -0.001862         1.000000            0.007812   \n",
       "medianamnt_loans30       -0.037947         0.007812            1.000000   \n",
       "cnt_loans90               0.014171         0.007969           -0.001021   \n",
       "amnt_loans90              0.910198        -0.002701           -0.029952   \n",
       "maxamnt_loans90           0.357154        -0.002262            0.060567   \n",
       "medianamnt_loans90       -0.048928         0.009102            0.927774   \n",
       "payback30                 0.107550        -0.000789            0.006331   \n",
       "payback90                 0.086493         0.002716            0.013574   \n",
       "label                     0.352762        -0.000146            0.075274   \n",
       "\n",
       "                      cnt_loans90  amnt_loans90  maxamnt_loans90  \\\n",
       "Unnamed: 0              -0.002987      0.000577        -0.000109   \n",
       "aon                      0.001902     -0.002720        -0.003256   \n",
       "daily_decr30             0.007869      0.592471         0.411226   \n",
       "daily_decr90             0.008383      0.596363         0.406237   \n",
       "rental30                 0.000262      0.262139         0.225813   \n",
       "rental90                 0.001909      0.302140         0.246663   \n",
       "last_rech_date_ma        0.004091      0.003133        -0.001234   \n",
       "last_rech_date_da       -0.002271      0.000233         0.001032   \n",
       "last_rech_amt_ma         0.001989      0.083840         0.159883   \n",
       "cnt_ma_rech30            0.014382      0.719593         0.230656   \n",
       "fr_ma_rech30             0.002123      0.003047        -0.000740   \n",
       "sumamnt_ma_rech30        0.008846      0.536478         0.293947   \n",
       "medianamnt_ma_rech30     0.000564      0.092637         0.175811   \n",
       "medianmarechprebal30    -0.001360     -0.000372        -0.003705   \n",
       "cnt_ma_rech90            0.014843      0.803986         0.285632   \n",
       "fr_ma_rech90            -0.001384     -0.036114         0.000200   \n",
       "sumamnt_ma_rech90        0.010100      0.604311         0.345739   \n",
       "medianamnt_ma_rech90     0.001517      0.049127         0.144921   \n",
       "medianmarechprebal90    -0.001104     -0.004335         0.035447   \n",
       "cnt_da_rech30           -0.002643      0.003830        -0.001341   \n",
       "fr_da_rech30            -0.002712      0.000731         0.000042   \n",
       "cnt_da_rech90            0.000235      0.022191         0.041651   \n",
       "fr_da_rech90             0.000901      0.009297         0.017708   \n",
       "cnt_loans30              0.015025      0.870668         0.184609   \n",
       "amnt_loans30             0.014171      0.910198         0.357154   \n",
       "maxamnt_loans30          0.007969     -0.002701        -0.002262   \n",
       "medianamnt_loans30      -0.001021     -0.029952         0.060567   \n",
       "cnt_loans90              1.000000      0.016244         0.000726   \n",
       "amnt_loans90             0.016244      1.000000         0.347849   \n",
       "maxamnt_loans90          0.000726      0.347849         1.000000   \n",
       "medianamnt_loans90      -0.000169     -0.056348         0.036732   \n",
       "payback30                0.003728      0.090173         0.040038   \n",
       "payback90                0.001359      0.077986         0.053560   \n",
       "label                    0.008649      0.363944         0.150857   \n",
       "\n",
       "                      medianamnt_loans90  payback30  payback90     label  \n",
       "Unnamed: 0                     -0.004211  -0.001174   0.000476  0.000759  \n",
       "aon                             0.003081   0.003504   0.002321 -0.005212  \n",
       "daily_decr30                   -0.013765   0.056363   0.073764  0.310200  \n",
       "daily_decr90                   -0.012255   0.048232   0.066021  0.309964  \n",
       "rental30                       -0.021865   0.075997   0.098082  0.092798  \n",
       "rental90                       -0.020636   0.073752   0.103686  0.126231  \n",
       "last_rech_date_ma               0.004171  -0.001745  -0.002742  0.006003  \n",
       "last_rech_date_da              -0.001749  -0.003231  -0.002952  0.003439  \n",
       "last_rech_amt_ma                0.034706   0.012451   0.023308  0.204513  \n",
       "cnt_ma_rech30                  -0.028666   0.097881   0.079588  0.409131  \n",
       "fr_ma_rech30                   -0.002465   0.003514   0.001068  0.001397  \n",
       "sumamnt_ma_rech30              -0.010551   0.047617   0.038801  0.358536  \n",
       "medianamnt_ma_rech30            0.036805   0.026901   0.040516  0.219998  \n",
       "medianmarechprebal30           -0.005188  -0.000864  -0.000402 -0.006537  \n",
       "cnt_ma_rech90                  -0.031971   0.060570   0.053704  0.418076  \n",
       "fr_ma_rech90                    0.024548   0.071059   0.116565  0.128101  \n",
       "sumamnt_ma_rech90              -0.012044   0.018982   0.019249  0.371016  \n",
       "medianamnt_ma_rech90            0.041722   0.005832   0.016662  0.182706  \n",
       "medianmarechprebal90            0.021646  -0.013841  -0.012020  0.050916  \n",
       "cnt_da_rech30                   0.000730   0.001083   0.000325  0.005367  \n",
       "fr_da_rech30                   -0.002967   0.002620   0.000626  0.000563  \n",
       "cnt_da_rech90                  -0.004172   0.017776   0.031531  0.001528  \n",
       "fr_da_rech90                   -0.004664   0.006194   0.008504 -0.008478  \n",
       "cnt_loans30                    -0.056744   0.114802   0.090053  0.349156  \n",
       "amnt_loans30                   -0.048928   0.107550   0.086493  0.352762  \n",
       "maxamnt_loans30                 0.009102  -0.000789   0.002716 -0.000146  \n",
       "medianamnt_loans30              0.927774   0.006331   0.013574  0.075274  \n",
       "cnt_loans90                    -0.000169   0.003728   0.001359  0.008649  \n",
       "amnt_loans90                   -0.056348   0.090173   0.077986  0.363944  \n",
       "maxamnt_loans90                 0.036732   0.040038   0.053560  0.150857  \n",
       "medianamnt_loans90              1.000000   0.000285   0.003581  0.059273  \n",
       "payback30                       0.000285   1.000000   0.843946  0.066911  \n",
       "payback90                       0.003581   0.843946   1.000000  0.068034  \n",
       "label                           0.059273   0.066911   0.068034  1.000000  \n",
       "\n",
       "[34 rows x 34 columns]"
      ]
     },
     "execution_count": 115,
     "metadata": {},
     "output_type": "execute_result"
    }
   ],
   "source": [
    "df2.corr()"
   ]
  },
  {
   "cell_type": "code",
   "execution_count": 116,
   "metadata": {},
   "outputs": [],
   "source": [
    "## selecting features and removing features which are most dependent"
   ]
  },
  {
   "cell_type": "code",
   "execution_count": 117,
   "metadata": {},
   "outputs": [],
   "source": [
    "def correlation(dataset, threshold):\n",
    "    col_corr = set()  # Set of all the names of correlated columns\n",
    "    corr_matrix = dataset.corr()\n",
    "    for i in range(len(corr_matrix.columns)):\n",
    "        for j in range(i):\n",
    "            if abs(corr_matrix.iloc[i, j]) > threshold: # we are interested in absolute coeff value\n",
    "                colname = corr_matrix.columns[i]  # getting the name of column\n",
    "                col_corr.add(colname)\n",
    "    return col_corr"
   ]
  },
  {
   "cell_type": "code",
   "execution_count": 118,
   "metadata": {
    "scrolled": true
   },
   "outputs": [
    {
     "data": {
      "text/plain": [
       "{'amnt_loans30',\n",
       " 'amnt_loans90',\n",
       " 'cnt_loans90',\n",
       " 'cnt_ma_rech90',\n",
       " 'daily_decr90',\n",
       " 'medianamnt_loans90',\n",
       " 'medianamnt_ma_rech90',\n",
       " 'payback90',\n",
       " 'rental90',\n",
       " 'sumamnt_ma_rech30',\n",
       " 'sumamnt_ma_rech90'}"
      ]
     },
     "execution_count": 118,
     "metadata": {},
     "output_type": "execute_result"
    }
   ],
   "source": [
    "correlation(df4,0.8)"
   ]
  },
  {
   "cell_type": "code",
   "execution_count": 119,
   "metadata": {},
   "outputs": [],
   "source": [
    "## all this features are 80% correlated with each other ..hence they can be removed as they are dependent"
   ]
  },
  {
   "cell_type": "code",
   "execution_count": 120,
   "metadata": {},
   "outputs": [],
   "source": [
    "df5 = df4.drop(['amnt_loans30','amnt_loans90','cnt_loans90','cnt_ma_rech90','daily_decr90','medianamnt_loans90','medianamnt_ma_rech90','rental90','sumamnt_ma_rech90'],axis=1)"
   ]
  },
  {
   "cell_type": "code",
   "execution_count": 121,
   "metadata": {
    "scrolled": false
   },
   "outputs": [
    {
     "data": {
      "text/html": [
       "<div>\n",
       "<style scoped>\n",
       "    .dataframe tbody tr th:only-of-type {\n",
       "        vertical-align: middle;\n",
       "    }\n",
       "\n",
       "    .dataframe tbody tr th {\n",
       "        vertical-align: top;\n",
       "    }\n",
       "\n",
       "    .dataframe thead th {\n",
       "        text-align: right;\n",
       "    }\n",
       "</style>\n",
       "<table border=\"1\" class=\"dataframe\">\n",
       "  <thead>\n",
       "    <tr style=\"text-align: right;\">\n",
       "      <th></th>\n",
       "      <th>Unnamed: 0</th>\n",
       "      <th>aon</th>\n",
       "      <th>daily_decr30</th>\n",
       "      <th>rental30</th>\n",
       "      <th>last_rech_date_ma</th>\n",
       "      <th>last_rech_date_da</th>\n",
       "      <th>last_rech_amt_ma</th>\n",
       "      <th>cnt_ma_rech30</th>\n",
       "      <th>fr_ma_rech30</th>\n",
       "      <th>sumamnt_ma_rech30</th>\n",
       "      <th>...</th>\n",
       "      <th>fr_da_rech30</th>\n",
       "      <th>cnt_da_rech90</th>\n",
       "      <th>fr_da_rech90</th>\n",
       "      <th>cnt_loans30</th>\n",
       "      <th>maxamnt_loans30</th>\n",
       "      <th>medianamnt_loans30</th>\n",
       "      <th>maxamnt_loans90</th>\n",
       "      <th>payback30</th>\n",
       "      <th>payback90</th>\n",
       "      <th>label</th>\n",
       "    </tr>\n",
       "  </thead>\n",
       "  <tbody>\n",
       "    <tr>\n",
       "      <th>0</th>\n",
       "      <td>1</td>\n",
       "      <td>272.0</td>\n",
       "      <td>3055.050000</td>\n",
       "      <td>220.13</td>\n",
       "      <td>2.0</td>\n",
       "      <td>0.0</td>\n",
       "      <td>1539</td>\n",
       "      <td>2</td>\n",
       "      <td>21.0</td>\n",
       "      <td>3078.0</td>\n",
       "      <td>...</td>\n",
       "      <td>0.0</td>\n",
       "      <td>0</td>\n",
       "      <td>0</td>\n",
       "      <td>2</td>\n",
       "      <td>6.0</td>\n",
       "      <td>0.0</td>\n",
       "      <td>6</td>\n",
       "      <td>29.000000</td>\n",
       "      <td>29.000000</td>\n",
       "      <td>0</td>\n",
       "    </tr>\n",
       "    <tr>\n",
       "      <th>2</th>\n",
       "      <td>3</td>\n",
       "      <td>535.0</td>\n",
       "      <td>1398.000000</td>\n",
       "      <td>900.13</td>\n",
       "      <td>3.0</td>\n",
       "      <td>0.0</td>\n",
       "      <td>1539</td>\n",
       "      <td>1</td>\n",
       "      <td>0.0</td>\n",
       "      <td>1539.0</td>\n",
       "      <td>...</td>\n",
       "      <td>0.0</td>\n",
       "      <td>0</td>\n",
       "      <td>0</td>\n",
       "      <td>1</td>\n",
       "      <td>6.0</td>\n",
       "      <td>0.0</td>\n",
       "      <td>6</td>\n",
       "      <td>0.000000</td>\n",
       "      <td>0.000000</td>\n",
       "      <td>1</td>\n",
       "    </tr>\n",
       "    <tr>\n",
       "      <th>3</th>\n",
       "      <td>4</td>\n",
       "      <td>241.0</td>\n",
       "      <td>21.228000</td>\n",
       "      <td>159.42</td>\n",
       "      <td>41.0</td>\n",
       "      <td>0.0</td>\n",
       "      <td>947</td>\n",
       "      <td>0</td>\n",
       "      <td>0.0</td>\n",
       "      <td>0.0</td>\n",
       "      <td>...</td>\n",
       "      <td>0.0</td>\n",
       "      <td>0</td>\n",
       "      <td>0</td>\n",
       "      <td>2</td>\n",
       "      <td>6.0</td>\n",
       "      <td>0.0</td>\n",
       "      <td>6</td>\n",
       "      <td>0.000000</td>\n",
       "      <td>0.000000</td>\n",
       "      <td>1</td>\n",
       "    </tr>\n",
       "    <tr>\n",
       "      <th>4</th>\n",
       "      <td>5</td>\n",
       "      <td>947.0</td>\n",
       "      <td>150.619333</td>\n",
       "      <td>1098.90</td>\n",
       "      <td>4.0</td>\n",
       "      <td>0.0</td>\n",
       "      <td>2309</td>\n",
       "      <td>7</td>\n",
       "      <td>2.0</td>\n",
       "      <td>20029.0</td>\n",
       "      <td>...</td>\n",
       "      <td>0.0</td>\n",
       "      <td>0</td>\n",
       "      <td>0</td>\n",
       "      <td>7</td>\n",
       "      <td>6.0</td>\n",
       "      <td>0.0</td>\n",
       "      <td>6</td>\n",
       "      <td>2.333333</td>\n",
       "      <td>2.333333</td>\n",
       "      <td>1</td>\n",
       "    </tr>\n",
       "    <tr>\n",
       "      <th>5</th>\n",
       "      <td>6</td>\n",
       "      <td>568.0</td>\n",
       "      <td>2257.362667</td>\n",
       "      <td>368.13</td>\n",
       "      <td>2.0</td>\n",
       "      <td>0.0</td>\n",
       "      <td>1539</td>\n",
       "      <td>4</td>\n",
       "      <td>10.0</td>\n",
       "      <td>6156.0</td>\n",
       "      <td>...</td>\n",
       "      <td>0.0</td>\n",
       "      <td>0</td>\n",
       "      <td>0</td>\n",
       "      <td>3</td>\n",
       "      <td>6.0</td>\n",
       "      <td>0.0</td>\n",
       "      <td>6</td>\n",
       "      <td>11.000000</td>\n",
       "      <td>8.333333</td>\n",
       "      <td>1</td>\n",
       "    </tr>\n",
       "  </tbody>\n",
       "</table>\n",
       "<p>5 rows × 25 columns</p>\n",
       "</div>"
      ],
      "text/plain": [
       "   Unnamed: 0    aon  daily_decr30  rental30  last_rech_date_ma  \\\n",
       "0           1  272.0   3055.050000    220.13                2.0   \n",
       "2           3  535.0   1398.000000    900.13                3.0   \n",
       "3           4  241.0     21.228000    159.42               41.0   \n",
       "4           5  947.0    150.619333   1098.90                4.0   \n",
       "5           6  568.0   2257.362667    368.13                2.0   \n",
       "\n",
       "   last_rech_date_da  last_rech_amt_ma  cnt_ma_rech30  fr_ma_rech30  \\\n",
       "0                0.0              1539              2          21.0   \n",
       "2                0.0              1539              1           0.0   \n",
       "3                0.0               947              0           0.0   \n",
       "4                0.0              2309              7           2.0   \n",
       "5                0.0              1539              4          10.0   \n",
       "\n",
       "   sumamnt_ma_rech30  ...  fr_da_rech30  cnt_da_rech90  fr_da_rech90  \\\n",
       "0             3078.0  ...           0.0              0             0   \n",
       "2             1539.0  ...           0.0              0             0   \n",
       "3                0.0  ...           0.0              0             0   \n",
       "4            20029.0  ...           0.0              0             0   \n",
       "5             6156.0  ...           0.0              0             0   \n",
       "\n",
       "   cnt_loans30  maxamnt_loans30  medianamnt_loans30  maxamnt_loans90  \\\n",
       "0            2              6.0                 0.0                6   \n",
       "2            1              6.0                 0.0                6   \n",
       "3            2              6.0                 0.0                6   \n",
       "4            7              6.0                 0.0                6   \n",
       "5            3              6.0                 0.0                6   \n",
       "\n",
       "   payback30  payback90  label  \n",
       "0  29.000000  29.000000      0  \n",
       "2   0.000000   0.000000      1  \n",
       "3   0.000000   0.000000      1  \n",
       "4   2.333333   2.333333      1  \n",
       "5  11.000000   8.333333      1  \n",
       "\n",
       "[5 rows x 25 columns]"
      ]
     },
     "execution_count": 121,
     "metadata": {},
     "output_type": "execute_result"
    }
   ],
   "source": [
    "df5.head()"
   ]
  },
  {
   "cell_type": "code",
   "execution_count": 122,
   "metadata": {},
   "outputs": [],
   "source": [
    "##df3.skew()"
   ]
  },
  {
   "cell_type": "code",
   "execution_count": 123,
   "metadata": {},
   "outputs": [],
   "source": [
    "## most of the data are very skewed ..we can handle them using transformation"
   ]
  },
  {
   "cell_type": "code",
   "execution_count": 124,
   "metadata": {},
   "outputs": [],
   "source": [
    "#from scipy import stats"
   ]
  },
  {
   "cell_type": "code",
   "execution_count": 125,
   "metadata": {
    "scrolled": true
   },
   "outputs": [],
   "source": [
    "##df5 = stats.boxcox(df4) use to transfrom 1 dimensional array\n",
    "\n",
    "\n"
   ]
  },
  {
   "cell_type": "code",
   "execution_count": 126,
   "metadata": {},
   "outputs": [],
   "source": [
    "##As expected, we cannot use the transform on the raw data because it is not strictly positive.\n",
    "##One way to solve this problem is to use a MixMaxScaler transform first to scale the data to positive values, then apply the transform.\n",
    "##We can use a Pipeline object to apply both transforms in sequence;"
   ]
  },
  {
   "cell_type": "code",
   "execution_count": 127,
   "metadata": {},
   "outputs": [],
   "source": [
    "##df5 = df3.drop(['Unnamed: 0','label'],axis=1)"
   ]
  },
  {
   "cell_type": "code",
   "execution_count": 128,
   "metadata": {},
   "outputs": [],
   "source": [
    "#from sklearn.preprocessing import MinMaxScaler\n",
    "#from sklearn.preprocessing import PowerTransformer\n",
    "#from sklearn.pipeline import Pipeline\n"
   ]
  },
  {
   "cell_type": "code",
   "execution_count": 129,
   "metadata": {},
   "outputs": [],
   "source": [
    "#mms = MinMaxScaler()\n",
    "#df6 = mms.fit_transform(df3)\n",
    "#pt = PowerTransformer()\n",
    "#df7 = pd.DataFrame(pt.fit_transform(df6),columns=df3.columns)"
   ]
  },
  {
   "cell_type": "code",
   "execution_count": 130,
   "metadata": {
    "scrolled": true
   },
   "outputs": [],
   "source": [
    "#df7.skew()"
   ]
  },
  {
   "cell_type": "code",
   "execution_count": 131,
   "metadata": {},
   "outputs": [],
   "source": [
    "#df8 = df7.copy()"
   ]
  },
  {
   "cell_type": "code",
   "execution_count": 132,
   "metadata": {},
   "outputs": [],
   "source": [
    "#df8['cnt_da_rech90'] = np.sqrt(df8['cnt_da_rech90']\n",
    "#df8['last_rech_date_da'] = np.sqrt(df8['last_rech_date_da'])\n",
    "#df8['last_rech_date_ma'] = np.sqrt(df8['last_rech_date_ma'])\n",
    "#df8['fr_ma_rech30'] = np.sqrt(df8['fr_ma_rech30'])\n",
    "#df8['cnt_da_rech30'] = np.sqrt(df8['cnt_da_rech30'])\n",
    "#df8['fr_da_rech90'] = np.sqrt(df8['fr_da_rech90'])\n",
    "#df8['maxamnt_loans30'] = np.sqrt(df8['maxamnt_loans30'])\n",
    "#df8['medianamnt_loans30'] = np.sqrt(df8['medianamnt_loans30'])"
   ]
  },
  {
   "cell_type": "code",
   "execution_count": 133,
   "metadata": {
    "scrolled": true
   },
   "outputs": [],
   "source": [
    "##col = df5.columns\n",
    "#for i in col :\n",
    "  #  plt.subplots()\n",
    "   # plt.xlabel(i)\n",
    "    #sns.distplot(df6[i])"
   ]
  },
  {
   "cell_type": "code",
   "execution_count": 134,
   "metadata": {},
   "outputs": [],
   "source": [
    "## almost skweness has been removed"
   ]
  },
  {
   "cell_type": "code",
   "execution_count": 135,
   "metadata": {
    "scrolled": true
   },
   "outputs": [],
   "source": [
    "x = df5.drop('label',axis=1)\n",
    "y = df5['label']"
   ]
  },
  {
   "cell_type": "code",
   "execution_count": 136,
   "metadata": {
    "scrolled": true
   },
   "outputs": [
    {
     "name": "stdout",
     "output_type": "stream",
     "text": [
      "(258519, 24)\n",
      "(258519,)\n"
     ]
    }
   ],
   "source": [
    "print(x.shape)\n",
    "print(y.shape)"
   ]
  },
  {
   "cell_type": "code",
   "execution_count": 137,
   "metadata": {},
   "outputs": [
    {
     "name": "stdout",
     "output_type": "stream",
     "text": [
      "(206815, 24)\n",
      "(51704, 24)\n",
      "(206815,)\n",
      "(51704,)\n"
     ]
    }
   ],
   "source": [
    "from sklearn.model_selection import train_test_split\n",
    "x_train, x_test, y_train, y_test = train_test_split(x, y, test_size=0.2, random_state=1)\n",
    "\n",
    "print(x_train.shape)\n",
    "print(x_test.shape)\n",
    "print(y_train.shape)\n",
    "print(y_test.shape)"
   ]
  },
  {
   "cell_type": "code",
   "execution_count": 138,
   "metadata": {},
   "outputs": [],
   "source": [
    "##from sklearn.linear_model import LogisticRegression\n",
    "#lg = LogisticRegression()\n",
    "#lg.fit(x_train,y_train)"
   ]
  },
  {
   "cell_type": "code",
   "execution_count": 139,
   "metadata": {
    "scrolled": true
   },
   "outputs": [
    {
     "data": {
      "text/plain": [
       "LogisticRegression()"
      ]
     },
     "execution_count": 139,
     "metadata": {},
     "output_type": "execute_result"
    }
   ],
   "source": [
    "lg.fit(x_train,y_train)"
   ]
  },
  {
   "cell_type": "code",
   "execution_count": 140,
   "metadata": {
    "scrolled": true
   },
   "outputs": [
    {
     "name": "stdout",
     "output_type": "stream",
     "text": [
      "0.7336763113105369\n"
     ]
    }
   ],
   "source": [
    "y_pred = lg.predict(x_test)\n",
    "print(accuracy_score(y_test,y_pred))"
   ]
  },
  {
   "cell_type": "code",
   "execution_count": 141,
   "metadata": {
    "scrolled": false
   },
   "outputs": [
    {
     "name": "stdout",
     "output_type": "stream",
     "text": [
      "[[24625  4782]\n",
      " [ 8988 13309]]\n",
      "              precision    recall  f1-score   support\n",
      "\n",
      "           0       0.73      0.84      0.78     29407\n",
      "           1       0.74      0.60      0.66     22297\n",
      "\n",
      "    accuracy                           0.73     51704\n",
      "   macro avg       0.73      0.72      0.72     51704\n",
      "weighted avg       0.73      0.73      0.73     51704\n",
      "\n"
     ]
    }
   ],
   "source": [
    "print(confusion_matrix(y_test,y_pred))\n",
    "print(classification_report(y_test,y_pred))"
   ]
  },
  {
   "cell_type": "code",
   "execution_count": 142,
   "metadata": {},
   "outputs": [
    {
     "data": {
      "text/plain": [
       "0.735541425912047"
      ]
     },
     "execution_count": 142,
     "metadata": {},
     "output_type": "execute_result"
    }
   ],
   "source": [
    "lg.score(x_train,y_train)"
   ]
  },
  {
   "cell_type": "code",
   "execution_count": 143,
   "metadata": {},
   "outputs": [
    {
     "data": {
      "text/plain": [
       "0.7336763113105369"
      ]
     },
     "execution_count": 143,
     "metadata": {},
     "output_type": "execute_result"
    }
   ],
   "source": [
    "lg.score(x_test,y_test)"
   ]
  },
  {
   "cell_type": "code",
   "execution_count": 144,
   "metadata": {},
   "outputs": [
    {
     "name": "stdout",
     "output_type": "stream",
     "text": [
      "0.7192040042951253\n"
     ]
    }
   ],
   "source": [
    "from sklearn.model_selection import cross_val_score\n",
    "cv_score = cross_val_score(lg,x,y,cv=5).mean()\n",
    "print(cv_score)"
   ]
  },
  {
   "cell_type": "code",
   "execution_count": 145,
   "metadata": {},
   "outputs": [],
   "source": [
    "##difference between accuracy_score and cross val score is less.. so there is no overfitting"
   ]
  },
  {
   "cell_type": "code",
   "execution_count": 146,
   "metadata": {},
   "outputs": [],
   "source": [
    "df6 = df5.copy()"
   ]
  },
  {
   "cell_type": "code",
   "execution_count": 147,
   "metadata": {
    "scrolled": true
   },
   "outputs": [
    {
     "data": {
      "text/plain": [
       "Unnamed: 0               0.000037\n",
       "aon                      0.992368\n",
       "daily_decr30             2.667411\n",
       "rental30                 2.442072\n",
       "last_rech_date_ma        2.924044\n",
       "last_rech_date_da       12.366105\n",
       "last_rech_amt_ma         2.141178\n",
       "cnt_ma_rech30            1.574703\n",
       "fr_ma_rech30             2.470923\n",
       "sumamnt_ma_rech30        2.001251\n",
       "medianamnt_ma_rech30     1.720565\n",
       "medianmarechprebal30     8.659371\n",
       "fr_ma_rech90             2.348374\n",
       "medianmarechprebal90     4.666390\n",
       "cnt_da_rech30           50.699472\n",
       "fr_da_rech30             0.000000\n",
       "cnt_da_rech90            8.081865\n",
       "fr_da_rech90             0.000000\n",
       "cnt_loans30              2.011343\n",
       "maxamnt_loans30         58.009852\n",
       "medianamnt_loans30       6.572917\n",
       "maxamnt_loans90        -14.000756\n",
       "payback30                3.297486\n",
       "payback90                3.071260\n",
       "label                    0.281530\n",
       "dtype: float64"
      ]
     },
     "execution_count": 147,
     "metadata": {},
     "output_type": "execute_result"
    }
   ],
   "source": [
    "df6.skew()"
   ]
  },
  {
   "cell_type": "code",
   "execution_count": 148,
   "metadata": {},
   "outputs": [],
   "source": [
    "## using standard scaler to improve the skewness and accuracy "
   ]
  },
  {
   "cell_type": "code",
   "execution_count": 149,
   "metadata": {},
   "outputs": [],
   "source": [
    "from sklearn.preprocessing import StandardScaler"
   ]
  },
  {
   "cell_type": "code",
   "execution_count": 150,
   "metadata": {},
   "outputs": [],
   "source": [
    "from sklearn.preprocessing import StandardScaler\n",
    "ss = StandardScaler()\n",
    "df8_x = pd.DataFrame(ss.fit_transform(df6.drop('label',axis=1)),columns=df6.drop('label',axis=1).columns)"
   ]
  },
  {
   "cell_type": "code",
   "execution_count": 151,
   "metadata": {},
   "outputs": [],
   "source": [
    "x2 = df8_x\n",
    "y2 = df6['label']"
   ]
  },
  {
   "cell_type": "code",
   "execution_count": 152,
   "metadata": {},
   "outputs": [],
   "source": [
    "x2_train, x2_test, y2_train, y2_test = train_test_split(x2, y2, test_size=0.2, random_state=1)"
   ]
  },
  {
   "cell_type": "code",
   "execution_count": 153,
   "metadata": {},
   "outputs": [
    {
     "data": {
      "text/plain": [
       "LogisticRegression()"
      ]
     },
     "execution_count": 153,
     "metadata": {},
     "output_type": "execute_result"
    }
   ],
   "source": [
    "lg.fit(x2_train,y2_train)"
   ]
  },
  {
   "cell_type": "code",
   "execution_count": 154,
   "metadata": {},
   "outputs": [
    {
     "data": {
      "text/plain": [
       "0.7631324462323998"
      ]
     },
     "execution_count": 154,
     "metadata": {},
     "output_type": "execute_result"
    }
   ],
   "source": [
    "lg.score(x2_test,y2_test)"
   ]
  },
  {
   "cell_type": "code",
   "execution_count": 155,
   "metadata": {},
   "outputs": [],
   "source": [
    "y2_pred=lg.predict(x2_test)"
   ]
  },
  {
   "cell_type": "code",
   "execution_count": 156,
   "metadata": {
    "scrolled": true
   },
   "outputs": [
    {
     "name": "stdout",
     "output_type": "stream",
     "text": [
      "0.7631324462323998\n"
     ]
    }
   ],
   "source": [
    "print(accuracy_score(y2_pred,y2_test))"
   ]
  },
  {
   "cell_type": "code",
   "execution_count": 157,
   "metadata": {},
   "outputs": [
    {
     "name": "stdout",
     "output_type": "stream",
     "text": [
      "[[24675  4732]\n",
      " [ 7515 14782]]\n",
      "              precision    recall  f1-score   support\n",
      "\n",
      "           0       0.77      0.84      0.80     29407\n",
      "           1       0.76      0.66      0.71     22297\n",
      "\n",
      "    accuracy                           0.76     51704\n",
      "   macro avg       0.76      0.75      0.75     51704\n",
      "weighted avg       0.76      0.76      0.76     51704\n",
      "\n"
     ]
    }
   ],
   "source": [
    "print(confusion_matrix(y2_test,y2_pred))\n",
    "print(classification_report(y2_test,y2_pred))"
   ]
  },
  {
   "cell_type": "code",
   "execution_count": 158,
   "metadata": {},
   "outputs": [],
   "source": [
    "## using standard scaler gives better results"
   ]
  },
  {
   "cell_type": "code",
   "execution_count": 159,
   "metadata": {
    "scrolled": true
   },
   "outputs": [
    {
     "name": "stdout",
     "output_type": "stream",
     "text": [
      "0.7332883260273901\n"
     ]
    }
   ],
   "source": [
    "cv2_score = cross_val_score(lg,x2,y2,cv=5).mean()\n",
    "print(cv2_score)"
   ]
  },
  {
   "cell_type": "code",
   "execution_count": 160,
   "metadata": {},
   "outputs": [],
   "source": [
    "## cross val score has also improved"
   ]
  },
  {
   "cell_type": "code",
   "execution_count": 161,
   "metadata": {},
   "outputs": [],
   "source": [
    "## now i will test with different models and find the best model"
   ]
  },
  {
   "cell_type": "code",
   "execution_count": 162,
   "metadata": {},
   "outputs": [],
   "source": [
    "from sklearn.naive_bayes import GaussianNB\n",
    "from sklearn.neighbors import KNeighborsClassifier\n",
    "from sklearn.tree import DecisionTreeClassifier\n",
    "from sklearn.ensemble import RandomForestClassifier,BaggingClassifier,AdaBoostClassifier,GradientBoostingClassifier"
   ]
  },
  {
   "cell_type": "code",
   "execution_count": 163,
   "metadata": {},
   "outputs": [],
   "source": [
    "##from sklearn.model_selection import GridSearchCV,RandomizedSearchCV\n",
    "##knn = KNeighborsClassifier()\n",
    "##param = {'n_neighbors' : [4,5,6,7,8]}\n",
    "\n",
    "##GS  = RandomizedSearchCV(knn,param,cv=5,n_jobs=-1)\n",
    "##GS.fit(x_train,y_train)"
   ]
  },
  {
   "cell_type": "code",
   "execution_count": 164,
   "metadata": {
    "scrolled": false
   },
   "outputs": [
    {
     "name": "stdout",
     "output_type": "stream",
     "text": [
      "0.8506885347361907\n",
      "[[28713   694]\n",
      " [ 7026 15271]]\n",
      "              precision    recall  f1-score   support\n",
      "\n",
      "           0       0.80      0.98      0.88     29407\n",
      "           1       0.96      0.68      0.80     22297\n",
      "\n",
      "    accuracy                           0.85     51704\n",
      "   macro avg       0.88      0.83      0.84     51704\n",
      "weighted avg       0.87      0.85      0.85     51704\n",
      "\n"
     ]
    }
   ],
   "source": [
    "knn = KNeighborsClassifier()\n",
    "knn.fit(x_train,y_train)\n",
    "y_predkn = knn.predict(x_test)\n",
    "print(accuracy_score(y_test,y_predkn))\n",
    "print(confusion_matrix(y_test,y_predkn))\n",
    "print(classification_report(y_test,y_predkn))"
   ]
  },
  {
   "cell_type": "code",
   "execution_count": 165,
   "metadata": {
    "scrolled": false
   },
   "outputs": [
    {
     "name": "stdout",
     "output_type": "stream",
     "text": [
      "0.7306397957604828\n",
      "[[24626  4781]\n",
      " [ 9146 13151]]\n",
      "              precision    recall  f1-score   support\n",
      "\n",
      "           0       0.73      0.84      0.78     29407\n",
      "           1       0.73      0.59      0.65     22297\n",
      "\n",
      "    accuracy                           0.73     51704\n",
      "   macro avg       0.73      0.71      0.72     51704\n",
      "weighted avg       0.73      0.73      0.73     51704\n",
      "\n"
     ]
    }
   ],
   "source": [
    "gnb = GaussianNB()\n",
    "gnb.fit(x_train,y_train)\n",
    "y_predgnb = gnb.predict(x_test)\n",
    "print(accuracy_score(y_test,y_predgnb))\n",
    "print(confusion_matrix(y_test,y_predgnb))\n",
    "print(classification_report(y_test,y_predgnb))"
   ]
  },
  {
   "cell_type": "code",
   "execution_count": 166,
   "metadata": {
    "scrolled": true
   },
   "outputs": [
    {
     "name": "stdout",
     "output_type": "stream",
     "text": [
      "0.9526729073185827\n",
      "[[29360    47]\n",
      " [ 2400 19897]]\n",
      "              precision    recall  f1-score   support\n",
      "\n",
      "           0       0.92      1.00      0.96     29407\n",
      "           1       1.00      0.89      0.94     22297\n",
      "\n",
      "    accuracy                           0.95     51704\n",
      "   macro avg       0.96      0.95      0.95     51704\n",
      "weighted avg       0.96      0.95      0.95     51704\n",
      "\n"
     ]
    }
   ],
   "source": [
    "dt = DecisionTreeClassifier()\n",
    "dt.fit(x_train,y_train)\n",
    "y_preddt = dt.predict(x_test)\n",
    "print(accuracy_score(y_test,y_preddt))\n",
    "print(confusion_matrix(y_test,y_preddt))\n",
    "print(classification_report(y_test,y_preddt))"
   ]
  },
  {
   "cell_type": "code",
   "execution_count": 167,
   "metadata": {
    "scrolled": true
   },
   "outputs": [
    {
     "name": "stdout",
     "output_type": "stream",
     "text": [
      "0.9751276496982826\n",
      "[[29362    45]\n",
      " [ 1241 21056]]\n",
      "              precision    recall  f1-score   support\n",
      "\n",
      "           0       0.96      1.00      0.98     29407\n",
      "           1       1.00      0.94      0.97     22297\n",
      "\n",
      "    accuracy                           0.98     51704\n",
      "   macro avg       0.98      0.97      0.97     51704\n",
      "weighted avg       0.98      0.98      0.98     51704\n",
      "\n"
     ]
    }
   ],
   "source": [
    "rfc = RandomForestClassifier()\n",
    "rfc.fit(x_train,y_train)\n",
    "y_predrfc = rfc.predict(x_test)\n",
    "print(accuracy_score(y_test,y_predrfc))\n",
    "print(confusion_matrix(y_test,y_predrfc))\n",
    "print(classification_report(y_test,y_predrfc))"
   ]
  },
  {
   "cell_type": "code",
   "execution_count": 168,
   "metadata": {},
   "outputs": [
    {
     "data": {
      "text/plain": [
       "0.7192040042951253"
      ]
     },
     "execution_count": 168,
     "metadata": {},
     "output_type": "execute_result"
    }
   ],
   "source": [
    "cv_svore = cross_val_score(rfc,x,y,cv=5)\n",
    "cv_score.mean()"
   ]
  },
  {
   "cell_type": "code",
   "execution_count": 169,
   "metadata": {},
   "outputs": [
    {
     "data": {
      "text/plain": [
       "0.6574020195819091"
      ]
     },
     "execution_count": 169,
     "metadata": {},
     "output_type": "execute_result"
    }
   ],
   "source": [
    "cv_scoredt = cross_val_score(dt,x,y,cv=5)\n",
    "cv_scoredt.mean()"
   ]
  },
  {
   "cell_type": "code",
   "execution_count": 170,
   "metadata": {},
   "outputs": [
    {
     "data": {
      "text/plain": [
       "0.7200978980539864"
      ]
     },
     "execution_count": 170,
     "metadata": {},
     "output_type": "execute_result"
    }
   ],
   "source": [
    "cv_scoregn = cross_val_score(gnb,x,y,cv=5)\n",
    "cv_scoregn.mean()"
   ]
  },
  {
   "cell_type": "code",
   "execution_count": 171,
   "metadata": {},
   "outputs": [
    {
     "data": {
      "text/plain": [
       "0.7192040042951253"
      ]
     },
     "execution_count": 171,
     "metadata": {},
     "output_type": "execute_result"
    }
   ],
   "source": [
    "cv_scorelg = cross_val_score(lg,x,y,cv=5) \n",
    "cv_scorelg.mean()"
   ]
  },
  {
   "cell_type": "code",
   "execution_count": 172,
   "metadata": {},
   "outputs": [
    {
     "data": {
      "text/plain": [
       "0.5736522088757043"
      ]
     },
     "execution_count": 172,
     "metadata": {},
     "output_type": "execute_result"
    }
   ],
   "source": [
    "cv_scoreknn = cross_val_score(knn,x,y,cv=5)\n",
    "cv_scoreknn.mean()"
   ]
  },
  {
   "cell_type": "code",
   "execution_count": 173,
   "metadata": {},
   "outputs": [
    {
     "data": {
      "text/html": [
       "<div>\n",
       "<style scoped>\n",
       "    .dataframe tbody tr th:only-of-type {\n",
       "        vertical-align: middle;\n",
       "    }\n",
       "\n",
       "    .dataframe tbody tr th {\n",
       "        vertical-align: top;\n",
       "    }\n",
       "\n",
       "    .dataframe thead th {\n",
       "        text-align: right;\n",
       "    }\n",
       "</style>\n",
       "<table border=\"1\" class=\"dataframe\">\n",
       "  <thead>\n",
       "    <tr style=\"text-align: right;\">\n",
       "      <th></th>\n",
       "      <th>Models</th>\n",
       "      <th>Accuracy Score</th>\n",
       "      <th>Cross_val_score</th>\n",
       "    </tr>\n",
       "  </thead>\n",
       "  <tbody>\n",
       "    <tr>\n",
       "      <th>0</th>\n",
       "      <td>LogisticRegression</td>\n",
       "      <td>0.73</td>\n",
       "      <td>0.72</td>\n",
       "    </tr>\n",
       "    <tr>\n",
       "      <th>1</th>\n",
       "      <td>KNearestNeighbors</td>\n",
       "      <td>0.85</td>\n",
       "      <td>0.57</td>\n",
       "    </tr>\n",
       "    <tr>\n",
       "      <th>2</th>\n",
       "      <td>Naive bayes</td>\n",
       "      <td>0.73</td>\n",
       "      <td>0.72</td>\n",
       "    </tr>\n",
       "    <tr>\n",
       "      <th>3</th>\n",
       "      <td>DecisionTreeClassifier</td>\n",
       "      <td>0.95</td>\n",
       "      <td>0.65</td>\n",
       "    </tr>\n",
       "    <tr>\n",
       "      <th>4</th>\n",
       "      <td>RandomForestClassifier</td>\n",
       "      <td>0.97</td>\n",
       "      <td>0.72</td>\n",
       "    </tr>\n",
       "  </tbody>\n",
       "</table>\n",
       "</div>"
      ],
      "text/plain": [
       "                   Models  Accuracy Score  Cross_val_score\n",
       "0      LogisticRegression            0.73             0.72\n",
       "1       KNearestNeighbors            0.85             0.57\n",
       "2             Naive bayes            0.73             0.72\n",
       "3  DecisionTreeClassifier            0.95             0.65\n",
       "4  RandomForestClassifier            0.97             0.72"
      ]
     },
     "execution_count": 173,
     "metadata": {},
     "output_type": "execute_result"
    }
   ],
   "source": [
    "result=pd.DataFrame({'Models':['LogisticRegression','KNearestNeighbors','Naive bayes','DecisionTreeClassifier','RandomForestClassifier'],'Accuracy Score':[0.73,0.85,0.73,0.95,0.97],'Cross_val_score':[0.72,0.57,0.72,0.65,0.72]})\n",
    "result"
   ]
  },
  {
   "cell_type": "code",
   "execution_count": null,
   "metadata": {},
   "outputs": [],
   "source": [
    "##so logistic regression and naive bayes are the best model with no overfitting .."
   ]
  },
  {
   "cell_type": "code",
   "execution_count": 174,
   "metadata": {},
   "outputs": [],
   "source": [
    "import joblib"
   ]
  },
  {
   "cell_type": "code",
   "execution_count": 175,
   "metadata": {},
   "outputs": [
    {
     "data": {
      "text/plain": [
       "['Micro_credit_defaulter.pkl']"
      ]
     },
     "execution_count": 175,
     "metadata": {},
     "output_type": "execute_result"
    }
   ],
   "source": [
    "joblib.dump(lg,'Micro_credit_defaulter.pkl')"
   ]
  },
  {
   "cell_type": "code",
   "execution_count": null,
   "metadata": {},
   "outputs": [],
   "source": []
  },
  {
   "cell_type": "code",
   "execution_count": null,
   "metadata": {},
   "outputs": [],
   "source": []
  },
  {
   "cell_type": "code",
   "execution_count": null,
   "metadata": {},
   "outputs": [],
   "source": []
  }
 ],
 "metadata": {
  "kernelspec": {
   "display_name": "Python 3",
   "language": "python",
   "name": "python3"
  },
  "language_info": {
   "codemirror_mode": {
    "name": "ipython",
    "version": 3
   },
   "file_extension": ".py",
   "mimetype": "text/x-python",
   "name": "python",
   "nbconvert_exporter": "python",
   "pygments_lexer": "ipython3",
   "version": "3.8.5"
  }
 },
 "nbformat": 4,
 "nbformat_minor": 4
}
