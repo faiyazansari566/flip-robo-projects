{
 "cells": [
  {
   "cell_type": "markdown",
   "metadata": {},
   "source": [
    "##  Task 1"
   ]
  },
  {
   "cell_type": "code",
   "execution_count": 1,
   "metadata": {},
   "outputs": [],
   "source": [
    "from bs4 import BeautifulSoup\n",
    "import requests"
   ]
  },
  {
   "cell_type": "code",
   "execution_count": 2,
   "metadata": {},
   "outputs": [
    {
     "data": {
      "text/plain": [
       "<Response [200]>"
      ]
     },
     "execution_count": 2,
     "metadata": {},
     "output_type": "execute_result"
    }
   ],
   "source": [
    "page = requests.get('https://en.wikipedia.org/wiki/Main_Page')\n",
    "page"
   ]
  },
  {
   "cell_type": "code",
   "execution_count": 4,
   "metadata": {},
   "outputs": [
    {
     "data": {
      "text/plain": [
       "<!DOCTYPE html>\n",
       "<html class=\"client-nojs\" dir=\"ltr\" lang=\"en\">\n",
       "<head>\n",
       "<meta charset=\"utf-8\"/>\n",
       "<title>Wikipedia, the free encyclopedia</title>\n",
       "<script>document.documentElement.className=\"client-js\";RLCONF={\"wgBreakFrames\":!1,\"wgSeparatorTransformTable\":[\"\",\"\"],\"wgDigitTransformTable\":[\"\",\"\"],\"wgDefaultDateFormat\":\"dmy\",\"wgMonthNames\":[\"\",\"January\",\"February\",\"March\",\"April\",\"May\",\"June\",\"July\",\"August\",\"September\",\"October\",\"November\",\"December\"],\"wgRequestId\":\"7522f86c-dc6c-4489-92f8-470e9f63420e\",\"wgCSPNonce\":!1,\"wgCanonicalNamespace\":\"\",\"wgCanonicalSpecialPageName\":!1,\"wgNamespaceNumber\":0,\"wgPageName\":\"Main_Page\",\"wgTitle\":\"Main Page\",\"wgCurRevisionId\":1004593520,\"wgRevisionId\":1004593520,\"wgArticleId\":15580374,\"wgIsArticle\":!0,\"wgIsRedirect\":!1,\"wgAction\":\"view\",\"wgUserName\":null,\"wgUserGroups\":[\"*\"],\"wgCategories\":[],\"wgPageContentLanguage\":\"en\",\"wgPageContentModel\":\"wikitext\",\"wgRelevantPageName\":\"Main_Page\",\"wgRelevantArticleId\":15580374,\"wgIsProbablyEditable\":!1,\"wgRelevantPageIsProbablyEditable\":!1,\"wgRestrictionEdit\":[\"sysop\"],\"wgRestrictionMove\":[\"sysop\"],\"wgIsMainPage\":!0,\"wgFlaggedRevsParams\":{\n",
       "\"tags\":{\"status\":{\"levels\":-1}}},\"wgMediaViewerOnClick\":!0,\"wgMediaViewerEnabledByDefault\":!0,\"wgPopupsFlags\":10,\"wgVisualEditor\":{\"pageLanguageCode\":\"en\",\"pageLanguageDir\":\"ltr\",\"pageVariantFallbacks\":\"en\"},\"wgMFDisplayWikibaseDescriptions\":{\"search\":!0,\"nearby\":!0,\"watchlist\":!0,\"tagline\":!1},\"wgWMESchemaEditAttemptStepOversample\":!1,\"wgULSCurrentAutonym\":\"English\",\"wgNoticeProject\":\"wikipedia\",\"wgCentralAuthMobileDomain\":!1,\"wgEditSubmitButtonLabelPublish\":!0,\"wgULSPosition\":\"interlanguage\",\"wgGENewcomerTasksGuidanceEnabled\":!0,\"wgGEAskQuestionEnabled\":!1,\"wgGELinkRecommendationsFrontendEnabled\":!1,\"wgWikibaseItemId\":\"Q5296\"};RLSTATE={\"ext.globalCssJs.user.styles\":\"ready\",\"site.styles\":\"ready\",\"noscript\":\"ready\",\"user.styles\":\"ready\",\"ext.globalCssJs.user\":\"ready\",\"user\":\"ready\",\"user.options\":\"loading\",\"skins.vector.styles.legacy\":\"ready\",\"ext.visualEditor.desktopArticleTarget.noscript\":\"ready\",\"ext.uls.interlanguage\":\"ready\",\"ext.wikimediaBadges\":\n",
       "\"ready\"};RLPAGEMODULES=[\"site\",\"mediawiki.page.ready\",\"skins.vector.legacy.js\",\"ext.gadget.ReferenceTooltips\",\"ext.gadget.charinsert\",\"ext.gadget.extra-toolbar-buttons\",\"ext.gadget.refToolbar\",\"ext.gadget.switcher\",\"ext.centralauth.centralautologin\",\"mmv.head\",\"mmv.bootstrap.autostart\",\"ext.popups\",\"ext.visualEditor.desktopArticleTarget.init\",\"ext.visualEditor.targetLoader\",\"ext.eventLogging\",\"ext.wikimediaEvents\",\"ext.navigationTiming\",\"ext.uls.interface\",\"ext.cx.eventlogging.campaigns\",\"ext.centralNotice.geoIP\",\"ext.centralNotice.startUp\",\"ext.growthExperiments.SuggestedEditSession\"];</script>\n",
       "<script>(RLQ=window.RLQ||[]).push(function(){mw.loader.implement(\"user.options@1hzgi\",function($,jQuery,require,module){/*@nomin*/mw.user.tokens.set({\"patrolToken\":\"+\\\\\",\"watchToken\":\"+\\\\\",\"csrfToken\":\"+\\\\\"});\n",
       "});});</script>\n",
       "<link href=\"/w/load.php?lang=en&amp;modules=ext.uls.interlanguage%7Cext.visualEditor.desktopArticleTarget.noscript%7Cext.wikimediaBadges%7Cskins.vector.styles.legacy&amp;only=styles&amp;skin=vector\" rel=\"stylesheet\"/>\n",
       "<script async=\"\" src=\"/w/load.php?lang=en&amp;modules=startup&amp;only=scripts&amp;raw=1&amp;skin=vector\"></script>\n",
       "<meta content=\"\" name=\"ResourceLoaderDynamicStyles\"/>\n",
       "<link href=\"/w/load.php?lang=en&amp;modules=site.styles&amp;only=styles&amp;skin=vector\" rel=\"stylesheet\"/>\n",
       "<meta content=\"MediaWiki 1.37.0-wmf.3\" name=\"generator\"/>\n",
       "<meta content=\"origin\" name=\"referrer\"/>\n",
       "<meta content=\"origin-when-crossorigin\" name=\"referrer\"/>\n",
       "<meta content=\"origin-when-cross-origin\" name=\"referrer\"/>\n",
       "<meta content=\"https://upload.wikimedia.org/wikipedia/commons/thumb/d/d8/London%2C_England_%284131769324%29.jpg/1200px-London%2C_England_%284131769324%29.jpg\" property=\"og:image\"/>\n",
       "<meta content=\"Wikipedia, the free encyclopedia\" property=\"og:title\"/>\n",
       "<meta content=\"website\" property=\"og:type\"/>\n",
       "<link href=\"//upload.wikimedia.org\" rel=\"preconnect\"/>\n",
       "<link href=\"//en.m.wikipedia.org/wiki/Main_Page\" media=\"only screen and (max-width: 720px)\" rel=\"alternate\"/>\n",
       "<link href=\"/w/api.php?action=featuredfeed&amp;feed=potd&amp;feedformat=atom\" rel=\"alternate\" title=\"Wikipedia picture of the day feed\" type=\"application/atom+xml\"/>\n",
       "<link href=\"/w/api.php?action=featuredfeed&amp;feed=featured&amp;feedformat=atom\" rel=\"alternate\" title=\"Wikipedia featured articles feed\" type=\"application/atom+xml\"/>\n",
       "<link href=\"/w/api.php?action=featuredfeed&amp;feed=onthisday&amp;feedformat=atom\" rel=\"alternate\" title='Wikipedia \"On this day...\" feed' type=\"application/atom+xml\"/>\n",
       "<link href=\"/static/apple-touch/wikipedia.png\" rel=\"apple-touch-icon\"/>\n",
       "<link href=\"/static/favicon/wikipedia.ico\" rel=\"shortcut icon\"/>\n",
       "<link href=\"/w/opensearch_desc.php\" rel=\"search\" title=\"Wikipedia (en)\" type=\"application/opensearchdescription+xml\"/>\n",
       "<link href=\"//en.wikipedia.org/w/api.php?action=rsd\" rel=\"EditURI\" type=\"application/rsd+xml\"/>\n",
       "<link href=\"//creativecommons.org/licenses/by-sa/3.0/\" rel=\"license\"/>\n",
       "<link href=\"https://en.wikipedia.org/wiki/Main_Page\" rel=\"canonical\"/>\n",
       "<link href=\"//login.wikimedia.org\" rel=\"dns-prefetch\"/>\n",
       "<link href=\"//meta.wikimedia.org\" rel=\"dns-prefetch\"/>\n",
       "</head>\n",
       "<body class=\"mediawiki ltr sitedir-ltr mw-hide-empty-elt ns-0 ns-subject page-Main_Page rootpage-Main_Page skin-vector action-view skin-vector-legacy\"><div class=\"noprint\" id=\"mw-page-base\"></div>\n",
       "<div class=\"noprint\" id=\"mw-head-base\"></div>\n",
       "<div class=\"mw-body\" id=\"content\" role=\"main\">\n",
       "<a id=\"top\"></a>\n",
       "<div class=\"mw-body-content\" id=\"siteNotice\"><!-- CentralNotice --></div>\n",
       "<div class=\"mw-indicators mw-body-content\">\n",
       "</div>\n",
       "<h1 class=\"firstHeading\" id=\"firstHeading\">Main Page</h1>\n",
       "<div class=\"mw-body-content\" id=\"bodyContent\">\n",
       "<div class=\"noprint\" id=\"siteSub\">From Wikipedia, the free encyclopedia</div>\n",
       "<div id=\"contentSub\"></div>\n",
       "<div id=\"contentSub2\"></div>\n",
       "<div id=\"jump-to-nav\"></div>\n",
       "<a class=\"mw-jump-link\" href=\"#mw-head\">Jump to navigation</a>\n",
       "<a class=\"mw-jump-link\" href=\"#searchInput\">Jump to search</a>\n",
       "<div class=\"mw-content-ltr\" dir=\"ltr\" id=\"mw-content-text\" lang=\"en\"><div class=\"mw-parser-output\"><style data-mw-deduplicate=\"TemplateStyles:r1004580458\">.mw-parser-output #mp-topbanner{position:relative;box-sizing:border-box;min-width:47em;border-color:#ddd;background-color:#f9f9f9;white-space:nowrap}.mw-parser-output .mp-bordered,.mw-parser-output .mp-h2,body.skin-timeless .mw-parser-output .mp-h2{border-width:1px;border-style:solid}.mw-parser-output #mp-topbanner,.mw-parser-output .mp-h2,.mw-parser-output #mp-left{color:#000}.mw-parser-output #mp-welcomecount{margin:0.4em;width:22em;text-align:center}.mw-parser-output #mp-welcome{font-size:162%;padding:0.1em}.mw-parser-output #mp-free{font-size:95%}.mw-parser-output #articlecount{font-size:85%}.mw-parser-output #mp-portals{position:absolute;right:-1em;top:50%;margin-top:-2.4em;width:38%;min-width:25em;font-size:95%}.mw-parser-output #mp-portals li{position:absolute;left:0;top:0}.mw-parser-output #mp-portals .portal-hmid{left:33%}.mw-parser-output #mp-portals .portal-hright{left:66%}.mw-parser-output #mp-portals .portal-vmid{top:1.6em}.mw-parser-output #mp-portals .portal-vbot{top:3.2em}.mw-parser-output #mp-portals li:last-child{font-weight:bold}.mw-parser-output #mp-banner{margin-top:4px;padding:0.5em;background-color:#fffaf5;border-color:#f2e0ce}.mw-parser-output .mp-h2,body.skin-timeless .mw-parser-output .mp-h2{margin:0.5em;padding:0.2em 0.4em;font-size:120%;font-weight:bold;font-family:inherit}.mw-parser-output h2.mp-h2::after{border:none}.mw-parser-output .mp-later{font-size:85%;font-weight:normal}.mw-parser-output #mp-upper{width:100%;margin-top:4px;margin-bottom:0;border-spacing:0;border-collapse:separate}.mw-parser-output #mp-upper .mid-table{border-color:transparent}.mw-parser-output #mp-left{width:55%;border-color:#cef2e0;background:#f5fffa}.mw-parser-output #mp-right{width:45%;border-color:#cedff2;background:#f5faff}.mw-parser-output #mp-left,.mw-parser-output #mp-right{padding:0;vertical-align:top}.mw-parser-output #mp-left .mp-h2{background:#cef2e0;border-color:#a3bfb1}.mw-parser-output #mp-right .mp-h2{background:#cedff2;border-color:#a3b0bf}.mw-parser-output #mp-tfa,.mw-parser-output #mp-dyk,.mw-parser-output #mp-itn,.mw-parser-output #mp-otd,.mw-parser-output #mp-other-lower>div{padding:0.1em 0.6em}.mw-parser-output #mp-dyk-h2,.mw-parser-output #mp-otd-h2{clear:both}.mw-parser-output #mp-middle{margin-top:4px;border-color:#f2cedd;background:#fff5fa}.mw-parser-output #mp-middle,.mw-parser-output #mp-lower,.mw-parser-output #mp-other-lower{overflow:auto}.mw-parser-output #mp-tfl-h2{background:#f2cedd;border-color:#bfa3af}.mw-parser-output #mp-tfl{padding:0.3em 0.7em}.mw-parser-output #mp-lower{margin-top:4px;border-color:#ddcef2;background:#faf5ff}.mw-parser-output #mp-tfp-h2{background:#ddcef2;border-color:#afa3bf}.mw-parser-output #mp-tfp{margin:0.1em 0.4em 0.6em}.mw-parser-output #mp-other-lower{padding:0;border-color:#e2e2e2;margin-top:4px}.mw-parser-output #mp-dyk,.mw-parser-output #mp-otd,.mw-parser-output #mp-other-lower{padding-bottom:0.5em}.mw-parser-output #mp-other-lower .mp-h2{background:#eee;border-color:#ddd;color:#222}@media(max-width:875px){body.skin--responsive .mw-parser-output #mp-welcomecount{width:auto}body.skin--responsive .mw-parser-output #mp-topbanner{min-width:0;white-space:normal}body.skin--responsive .mw-parser-output #mp-portals{position:static;width:auto;min-width:0;text-align:center;border-top:1px solid #ddd;padding:0.4em 0;margin:0 0.4em}body.skin--responsive .mw-parser-output #mp-portals li{position:static;display:inline;padding:0 5px;white-space:nowrap}body.skin--responsive .mw-parser-output table,body.skin--responsive .mw-parser-output tr,body.skin--responsive .mw-parser-output td,body.skin--responsive .mw-parser-output tbody{display:block!important;width:100%!important;box-sizing:border-box}body.skin--responsive .mw-parser-output #mp-tfp tr:first-child td:first-child a{text-align:center;display:table;margin:0 auto}}</style>\n",
       "<div class=\"mp-bordered\" id=\"mp-topbanner\">\n",
       "<div id=\"mp-welcomecount\">\n",
       "<div id=\"mp-welcome\">Welcome to <a href=\"/wiki/Wikipedia\" title=\"Wikipedia\">Wikipedia</a>,</div>\n",
       "<div id=\"mp-free\">the <a href=\"/wiki/Free_content\" title=\"Free content\">free</a> <a href=\"/wiki/Encyclopedia\" title=\"Encyclopedia\">encyclopedia</a> that <a href=\"/wiki/Help:Introduction_to_Wikipedia\" title=\"Help:Introduction to Wikipedia\">anyone can edit</a>.</div>\n",
       "<div id=\"articlecount\"><a href=\"/wiki/Special:Statistics\" title=\"Special:Statistics\">6,293,604</a> articles in <a href=\"/wiki/English_language\" title=\"English language\">English</a></div>\n",
       "</div>\n",
       "<ul id=\"mp-portals\">\n",
       "<li><a href=\"/wiki/Portal:The_arts\" title=\"Portal:The arts\">The arts</a></li>\n",
       "<li class=\"portal-vmid\"><a href=\"/wiki/Portal:Biography\" title=\"Portal:Biography\">Biography</a></li>\n",
       "<li class=\"portal-vbot\"><a href=\"/wiki/Portal:Geography\" title=\"Portal:Geography\">Geography</a></li>\n",
       "<li class=\"portal-hmid\"><a href=\"/wiki/Portal:History\" title=\"Portal:History\">History</a></li>\n",
       "<li class=\"portal-hmid portal-vmid\"><a href=\"/wiki/Portal:Mathematics\" title=\"Portal:Mathematics\">Mathematics</a></li>\n",
       "<li class=\"portal-hmid portal-vbot\"><a href=\"/wiki/Portal:Science\" title=\"Portal:Science\">Science</a></li>\n",
       "<li class=\"portal-hright\"><a href=\"/wiki/Portal:Society\" title=\"Portal:Society\">Society</a></li>\n",
       "<li class=\"portal-hright portal-vmid\"><a href=\"/wiki/Portal:Technology\" title=\"Portal:Technology\">Technology</a></li>\n",
       "<li class=\"portal-hright portal-vbot\"><a href=\"/wiki/Wikipedia:Contents/Portals\" title=\"Wikipedia:Contents/Portals\">All portals</a></li>\n",
       "</ul>\n",
       "</div>\n",
       "<table id=\"mp-upper\" role=\"presentation\">\n",
       "<tbody><tr>\n",
       "<td class=\"MainPageBG mp-bordered\" id=\"mp-left\">\n",
       "<h2 class=\"mp-h2\" id=\"mp-tfa-h2\"><span id=\"From_today.27s_featured_article\"></span><span class=\"mw-headline\" id=\"From_today's_featured_article\">From today's featured article</span></h2>\n",
       "<div id=\"mp-tfa\"><div id=\"mp-tfa-img\" style=\"float: left; margin: 0.5em 0.9em 0.4em 0em;\">\n",
       "<div class=\"thumbinner mp-thumb\" style=\"background: transparent; border: none; padding: 0; max-width: 159px;\">\n",
       "<a class=\"image\" href=\"/wiki/File:London,_England_(4131769324).jpg\" title=\"Metropolitan Police armed response vehicle\"><img alt=\"Metropolitan Police armed response vehicle\" data-file-height=\"1722\" data-file-width=\"2223\" decoding=\"async\" height=\"123\" src=\"//upload.wikimedia.org/wikipedia/commons/thumb/d/d8/London%2C_England_%284131769324%29.jpg/159px-London%2C_England_%284131769324%29.jpg\" srcset=\"//upload.wikimedia.org/wikipedia/commons/thumb/d/d8/London%2C_England_%284131769324%29.jpg/239px-London%2C_England_%284131769324%29.jpg 1.5x, //upload.wikimedia.org/wikipedia/commons/thumb/d/d8/London%2C_England_%284131769324%29.jpg/318px-London%2C_England_%284131769324%29.jpg 2x\" width=\"159\"/></a><div class=\"thumbcaption\" style=\"padding: 0.25em 0; word-wrap: break-word;\">Metropolitan Police <a href=\"/wiki/Armed_response_vehicle\" title=\"Armed response vehicle\">armed response vehicle</a></div></div>\n",
       "</div>\n",
       "<p><b><a href=\"/wiki/Death_of_Mark_Saunders\" title=\"Death of Mark Saunders\">Mark Saunders</a></b> was a British <a href=\"/wiki/Barrister\" title=\"Barrister\">barrister</a> who struggled with depression and alcoholism. On 6 May 2008 he repeatedly fired a shotgun from a window of his home in <a href=\"/wiki/Markham_Square\" title=\"Markham Square\">Markham Square</a>, London. When armed police arrived, Saunders fired at their vehicle <i>(example pictured)</i> and a siege began. Saunders fired twice more and police returned fire, slightly wounding him. Saunders then waved the shotgun out of a window in the direction of a group of police officers; seven officers fired eleven shots, of which at least five struck him. Saunders was pronounced dead at a waiting ambulance. An <a href=\"/wiki/Inquests_in_England_and_Wales\" title=\"Inquests in England and Wales\">inquest</a> was held where the jury returned a verdict of <a href=\"/wiki/Justifiable_homicide\" title=\"Justifiable homicide\">lawful killing</a>, but found several flaws in the police handling of the incident. They did not consider that any of these significantly contributed to the outcome. They could not decide whether Saunders had intentionally provoked a lethal response (\"<a href=\"/wiki/Suicide_by_cop\" title=\"Suicide by cop\">suicide by cop</a>\"). In 2010, the <a href=\"/wiki/Metropolitan_Police\" title=\"Metropolitan Police\">Metropolitan Police</a> created a unit of senior officers to manage similar incidents. (<b><a href=\"/wiki/Death_of_Mark_Saunders\" title=\"Death of Mark Saunders\">Full article...</a></b>)\n",
       "</p>\n",
       "<div class=\"tfa-recent\" style=\"text-align: right;\">\n",
       "Recently featured: <div class=\"hlist hlist-separated inline\">\n",
       "<ul><li><i><a href=\"/wiki/The_Heart_of_Thomas\" title=\"The Heart of Thomas\">The Heart of Thomas</a></i></li>\n",
       "<li><a href=\"/wiki/William_Feiner\" title=\"William Feiner\">William Feiner</a></li>\n",
       "<li><a href=\"/wiki/2020_World_Snooker_Championship\" title=\"2020 World Snooker Championship\">2020 World Snooker Championship</a></li></ul>\n",
       "</div></div>\n",
       "<div class=\"tfa-footer hlist hlist-separated noprint\" style=\"text-align: right;\">\n",
       "<ul><li><b><a href=\"/wiki/Wikipedia:Today%27s_featured_article/May_2021\" title=\"Wikipedia:Today's featured article/May 2021\">Archive</a></b></li>\n",
       "<li><b><a class=\"extiw\" href=\"https://lists.wikimedia.org/mailman/listinfo/daily-article-l\" title=\"mail:daily-article-l\">By email</a></b></li>\n",
       "<li><b><a href=\"/wiki/Wikipedia:Featured_articles\" title=\"Wikipedia:Featured articles\">More featured articles</a></b></li></ul>\n",
       "</div></div>\n",
       "<h2 class=\"mp-h2\" id=\"mp-dyk-h2\"><span class=\"mw-headline\" id=\"Did_you_know_...\">Did you know ...</span></h2>\n",
       "<div id=\"mp-dyk\">\n",
       "<div class=\"dyk-img\" style=\"float: right; margin-left: 0.5em;\">\n",
       "<div class=\"thumbinner mp-thumb\" style=\"background: transparent; border: none; padding: 0; max-width: 124px;\">\n",
       "<a class=\"image\" href=\"/wiki/File:RosaVonMilde1857_(cropped).png\" title=\"Rosa von Milde\"><img alt=\"Rosa von Milde\" data-file-height=\"1440\" data-file-width=\"1128\" decoding=\"async\" height=\"158\" src=\"//upload.wikimedia.org/wikipedia/commons/thumb/2/2d/RosaVonMilde1857_%28cropped%29.png/124px-RosaVonMilde1857_%28cropped%29.png\" srcset=\"//upload.wikimedia.org/wikipedia/commons/thumb/2/2d/RosaVonMilde1857_%28cropped%29.png/186px-RosaVonMilde1857_%28cropped%29.png 1.5x, //upload.wikimedia.org/wikipedia/commons/thumb/2/2d/RosaVonMilde1857_%28cropped%29.png/248px-RosaVonMilde1857_%28cropped%29.png 2x\" width=\"124\"/></a><div class=\"thumbcaption\" style=\"padding: 0.25em 0; word-wrap: break-word;\">Rosa von Milde</div></div>\n",
       "</div>\n",
       "<ul><li>... that <b><a href=\"/wiki/Rosa_von_Milde\" title=\"Rosa von Milde\">Rosa Agthe</a></b> <i>(pictured)</i> and <a href=\"/wiki/Hans_von_Milde\" title=\"Hans von Milde\">her future husband</a> performed the roles of Elsa and Telramund, respectively, in the world premiere of Wagner's <i><a href=\"/wiki/Lohengrin_(opera)\" title=\"Lohengrin (opera)\">Lohengrin</a></i>, conducted by <a href=\"/wiki/Franz_Liszt\" title=\"Franz Liszt\">Franz Liszt</a> in <a href=\"/wiki/Deutsches_Nationaltheater_und_Staatskapelle_Weimar#History\" title=\"Deutsches Nationaltheater und Staatskapelle Weimar\">Weimar</a>?</li>\n",
       "<li>... that the <i><a href=\"/wiki/Hartford_Courant\" title=\"Hartford Courant\">Hartford Courant</a></i> described the library of the <b><a href=\"/wiki/Hartford_Medical_Society\" title=\"Hartford Medical Society\">Hartford Medical Society</a></b> as \"one of the country's finest collections of medical literature\"?</li>\n",
       "<li>... that when <b><a href=\"/wiki/Giovanni_Rossi_(anarchist)\" title=\"Giovanni Rossi (anarchist)\">Giovanni Rossi</a></b> founded a utopian community in Brazil, based on <a href=\"/wiki/Anarchism\" title=\"Anarchism\">anarchist</a> ideals including <a href=\"/wiki/Free_love\" title=\"Free love\">free love</a>, most of its 300 members were men?</li>\n",
       "<li>... that one of the highest death rates in the Holocaust was in Bulgarian-occupied Greece, where <b><a href=\"/wiki/The_Holocaust_in_Bulgarian-occupied_Greece\" title=\"The Holocaust in Bulgarian-occupied Greece\">97 percent of Jews were killed</a></b> in less than a month?</li>\n",
       "<li>... that <b><a href=\"/wiki/Emma_Mullin\" title=\"Emma Mullin\">Emma Mullin</a></b>, who won four <a href=\"/wiki/All-Ireland_Senior_Ladies%27_Football_Championship\" title=\"All-Ireland Senior Ladies' Football Championship\">Gaelic football championships</a>, was also the first player from her <a href=\"/wiki/Association_football\" title=\"Association football\">association football</a> club to play <a href=\"/wiki/Republic_of_Ireland_women%27s_national_football_team\" title=\"Republic of Ireland women's national football team\">for the Republic of Ireland</a>?</li>\n",
       "<li>... that the <b><a href=\"/wiki/Chamber_of_Progress\" title=\"Chamber of Progress\">Chamber of Progress</a></b> describes itself as devoted to a \"progressive society\" but some critics have called it an <a href=\"/wiki/Astroturfing\" title=\"Astroturfing\">astroturfing</a> group and \"progressive camouflage\" for anti-union organizing?</li>\n",
       "<li>... that Spanish actress <a href=\"/wiki/%C3%9Arsula_Corber%C3%B3\" title=\"Úrsula Corberó\">Úrsula Corberó</a> captured footage for the music video for \"<b><a href=\"/wiki/Un_Dia_(One_Day)\" title=\"Un Dia (One Day)\">Un Dia (One Day)</a></b>\" without involving production assistants?</li>\n",
       "<li>... that the <b><a href=\"/wiki/Russula_mustelina\" title=\"Russula mustelina\">russet brittlegill</a></b> is collected and eaten by people in the Ivory Coast?</li></ul>\n",
       "<div class=\"dyk-footer hlist noprint\" style=\"margin-top: 0.5em; text-align: right;\">\n",
       "<ul><li><b><a href=\"/wiki/Wikipedia:Recent_additions\" title=\"Wikipedia:Recent additions\">Archive</a></b></li>\n",
       "<li><b><a href=\"/wiki/Help:Your_first_article\" title=\"Help:Your first article\">Start a new article</a></b></li>\n",
       "<li><b><a href=\"/wiki/Template_talk:Did_you_know\" title=\"Template talk:Did you know\">Nominate an article</a></b></li></ul>\n",
       "</div>\n",
       "</div>\n",
       "</td>\n",
       "<td class=\"mp-bordered mid-table\">\n",
       "</td>\n",
       "<td class=\"MainPageBG mp-bordered\" id=\"mp-right\">\n",
       "<h2 class=\"mp-h2\" id=\"mp-itn-h2\"><span class=\"mw-headline\" id=\"In_the_news\">In the news</span></h2>\n",
       "<div id=\"mp-itn\"><div class=\"itn-img\" role=\"figure\" style=\"float: right; margin-left: 0.5em; margin-top: 0.2em;\">\n",
       "<div class=\"thumbinner mp-thumb\" style=\"background: transparent; border: none; padding: 0; max-width: 130px;\">\n",
       "<a class=\"image\" href=\"/wiki/File:Mark_Selby_at_Snooker_German_Masters_(DerHexer)_2015-02-08_16_(cropped).jpg\" title=\"Mark Selby in 2015\"><img alt=\"Mark Selby in 2015\" data-file-height=\"2218\" data-file-width=\"1920\" decoding=\"async\" height=\"150\" src=\"//upload.wikimedia.org/wikipedia/commons/thumb/f/fe/Mark_Selby_at_Snooker_German_Masters_%28DerHexer%29_2015-02-08_16_%28cropped%29.jpg/130px-Mark_Selby_at_Snooker_German_Masters_%28DerHexer%29_2015-02-08_16_%28cropped%29.jpg\" srcset=\"//upload.wikimedia.org/wikipedia/commons/thumb/f/fe/Mark_Selby_at_Snooker_German_Masters_%28DerHexer%29_2015-02-08_16_%28cropped%29.jpg/195px-Mark_Selby_at_Snooker_German_Masters_%28DerHexer%29_2015-02-08_16_%28cropped%29.jpg 1.5x, //upload.wikimedia.org/wikipedia/commons/thumb/f/fe/Mark_Selby_at_Snooker_German_Masters_%28DerHexer%29_2015-02-08_16_%28cropped%29.jpg/260px-Mark_Selby_at_Snooker_German_Masters_%28DerHexer%29_2015-02-08_16_%28cropped%29.jpg 2x\" width=\"130\"/></a><div class=\"thumbcaption\" style=\"padding: 0.25em 0; word-wrap: break-word; text-align: left;\">Mark Selby</div></div>\n",
       "</div>\n",
       "<ul><li>An elevated section of the <a href=\"/wiki/Mexico_City_Metro\" title=\"Mexico City Metro\">Mexico City Metro</a> <b><a href=\"/wiki/Mexico_City_Metro_overpass_collapse\" title=\"Mexico City Metro overpass collapse\">collapses</a></b>, leaving at least 25 people dead and more than 70 others injured.</li>\n",
       "<li><a href=\"/wiki/Mark_Selby\" title=\"Mark Selby\">Mark Selby</a> <i>(pictured)</i> wins <b><a href=\"/wiki/2021_World_Snooker_Championship\" title=\"2021 World Snooker Championship\">the World Snooker Championship</a></b>, defeating <a href=\"/wiki/Shaun_Murphy\" title=\"Shaun Murphy\">Shaun Murphy</a> in the final.</li>\n",
       "<li>Colombian president <a href=\"/wiki/Iv%C3%A1n_Duque_M%C3%A1rquez\" title=\"Iván Duque Márquez\">Iván Duque Márquez</a> withdraws a proposed tax reform after <b><a href=\"/wiki/2021_Colombian_protests\" title=\"2021 Colombian protests\">nationwide protests</a></b> leave at least 19 people dead.</li>\n",
       "<li>In <a href=\"/wiki/Horse_racing\" title=\"Horse racing\">horse racing</a>, <a href=\"/wiki/Medina_Spirit\" title=\"Medina Spirit\">Medina Spirit</a> wins <b><a href=\"/wiki/2021_Kentucky_Derby\" title=\"2021 Kentucky Derby\">the Kentucky Derby</a></b>, earning trainer <a href=\"/wiki/Bob_Baffert\" title=\"Bob Baffert\">Bob Baffert</a> a record seventh victory in the race.</li>\n",
       "<li>In Israel, 45 people are killed in <b><a href=\"/wiki/2021_Meron_stampede\" title=\"2021 Meron stampede\">a crowd crush</a></b> at a religious festival on <a href=\"/wiki/Mount_Meron\" title=\"Mount Meron\">Mount Meron</a>.</li></ul>\n",
       "<div class=\"itn-footer\" style=\"margin-top: 0.5em;\">\n",
       "<div><b><a href=\"/wiki/Portal:Current_events\" title=\"Portal:Current events\">Ongoing</a></b>: <div class=\"hlist hlist-separated inline\">\n",
       "<ul><li><a href=\"/wiki/COVID-19_pandemic\" title=\"COVID-19 pandemic\">COVID-19 pandemic</a></li></ul></div></div>\n",
       "<div><b><a href=\"/wiki/Deaths_in_2021\" title=\"Deaths in 2021\">Recent deaths</a></b>: <div class=\"hlist hlist-separated inline\">\n",
       "<ul><li><a href=\"/wiki/Ernest_E._West\" title=\"Ernest E. West\">Ernest E. West</a></li>\n",
       "<li><a href=\"/wiki/Olympia_Dukakis\" title=\"Olympia Dukakis\">Olympia Dukakis</a></li>\n",
       "<li><a href=\"/wiki/Eli_Broad\" title=\"Eli Broad\">Eli Broad</a></li>\n",
       "<li><a href=\"/wiki/Madeline_Davis\" title=\"Madeline Davis\">Madeline Davis</a></li>\n",
       "<li><span class=\"nowrap\"><a href=\"/wiki/S._G._Neginhal\" title=\"S. G. Neginhal\">S. G. Neginhal</a></span></li>\n",
       "<li><a href=\"/wiki/Byron_Seaman\" title=\"Byron Seaman\">Byron Seaman</a></li></ul></div></div></div>\n",
       "<div class=\"itn-footer hlist hlist-separated noprint\" style=\"text-align: right;\">\n",
       "<ul><li><b><a href=\"/wiki/Wikipedia:In_the_news/Candidates\" title=\"Wikipedia:In the news/Candidates\">Nominate an article</a></b></li></ul></div></div>\n",
       "<h2 class=\"mp-h2\" id=\"mp-otd-h2\"><span class=\"mw-headline\" id=\"On_this_day\">On this day</span></h2>\n",
       "<div id=\"mp-otd\">\n",
       "<p><b><a href=\"/wiki/May_6\" title=\"May 6\">May 6</a></b>: <b><a href=\"/wiki/National_Day_of_Prayer\" title=\"National Day of Prayer\">National Day of Prayer</a></b> in the United States (2021)\n",
       "</p>\n",
       "<div id=\"mp-otd-img\" style=\"float:right;margin-left:0.5em;\">\n",
       "<div class=\"thumbinner mp-thumb\" style=\"background: transparent; border: none; padding: 0; max-width: 186px;\">\n",
       "<a class=\"image\" href=\"/wiki/File:Grand_Palace_of_Bangkok_1860s.jpg\" title=\"Grand Palace\"><img alt=\"Grand Palace\" data-file-height=\"294\" data-file-width=\"519\" decoding=\"async\" height=\"105\" src=\"//upload.wikimedia.org/wikipedia/commons/thumb/3/3a/Grand_Palace_of_Bangkok_1860s.jpg/186px-Grand_Palace_of_Bangkok_1860s.jpg\" srcset=\"//upload.wikimedia.org/wikipedia/commons/thumb/3/3a/Grand_Palace_of_Bangkok_1860s.jpg/279px-Grand_Palace_of_Bangkok_1860s.jpg 1.5x, //upload.wikimedia.org/wikipedia/commons/thumb/3/3a/Grand_Palace_of_Bangkok_1860s.jpg/372px-Grand_Palace_of_Bangkok_1860s.jpg 2x\" width=\"186\"/></a><div class=\"thumbcaption\" style=\"padding: 0.25em 0; word-wrap: break-word;\">Grand Palace</div></div>\n",
       "</div>\n",
       "<ul><li><a href=\"/wiki/1757\" title=\"1757\">1757</a> – English poet <a href=\"/wiki/Christopher_Smart\" title=\"Christopher Smart\">Christopher Smart</a> was admitted to <a href=\"/wiki/St_Luke%27s_Hospital_for_Lunatics\" title=\"St Luke's Hospital for Lunatics\">St Luke's Hospital for Lunatics</a> in London, beginning <b><a href=\"/wiki/Asylum_confinement_of_Christopher_Smart\" title=\"Asylum confinement of Christopher Smart\">his six-year confinement</a></b> to <a href=\"/wiki/Psychiatric_hospital\" title=\"Psychiatric hospital\">mental asylums</a>.</li>\n",
       "<li><a href=\"/wiki/1782\" title=\"1782\">1782</a> – Construction began on the <b><a href=\"/wiki/Grand_Palace\" title=\"Grand Palace\">Grand Palace</a></b> <i>(pictured)</i> in Bangkok, the official residence of the <a href=\"/wiki/Monarchy_of_Thailand\" title=\"Monarchy of Thailand\">king of Thailand</a>.</li>\n",
       "<li><a href=\"/wiki/1882\" title=\"1882\">1882</a> – Irish civil servants <a href=\"/wiki/Thomas_Henry_Burke_(civil_servant)\" title=\"Thomas Henry Burke (civil servant)\">Thomas Henry Burke</a> and <a href=\"/wiki/Lord_Frederick_Cavendish\" title=\"Lord Frederick Cavendish\">Lord Frederick Cavendish</a> <b><a href=\"/wiki/Phoenix_Park_Murders\" title=\"Phoenix Park Murders\">were stabbed to death</a></b> by members of the radical <a href=\"/wiki/Irish_National_Invincibles\" title=\"Irish National Invincibles\">Irish National Invincibles</a> in <a href=\"/wiki/Phoenix_Park\" title=\"Phoenix Park\">Phoenix Park</a>, Dublin.</li>\n",
       "<li><a href=\"/wiki/1941\" title=\"1941\">1941</a> – American entertainer <b><a href=\"/wiki/Bob_Hope\" title=\"Bob Hope\">Bob Hope</a></b> performed his first show with the <a href=\"/wiki/United_Service_Organizations\" title=\"United Service Organizations\">United Service Organizations</a>, beginning a 50-year involvement with them.</li>\n",
       "<li><a href=\"/wiki/1991\" title=\"1991\">1991</a> – <i><a href=\"/wiki/Time_(magazine)\" title=\"Time (magazine)\">Time</a></i> magazine published the article \"<b><a href=\"/wiki/The_Thriving_Cult_of_Greed_and_Power\" title=\"The Thriving Cult of Greed and Power\">The Thriving Cult of Greed and Power</a></b>\" by <a href=\"/wiki/Richard_Behar\" title=\"Richard Behar\">Richard Behar</a> criticizing the <a href=\"/wiki/Church_of_Scientology\" title=\"Church of Scientology\">Church of Scientology</a>, leading to years of legal conflict.</li></ul>\n",
       "<div class=\"hlist hlist-separated\" style=\"margin-top: 0.5em;\"><ul><li><b><a href=\"/wiki/Giaches_de_Wert\" title=\"Giaches de Wert\">Giaches de Wert</a></b>  (<abbr title=\"died\">d.</abbr> 1596)</li><li><b><a href=\"/wiki/Victor_Grignard\" title=\"Victor Grignard\">Victor Grignard</a></b>  (<abbr title=\"born\">b.</abbr> 1871)</li><li><b><a href=\"/wiki/George_Clooney\" title=\"George Clooney\">George Clooney</a></b>  (<abbr title=\"born\">b.</abbr> 1961)</li></ul></div>\n",
       "<div style=\"margin-top: 0.5em;\">\n",
       "More anniversaries: <div class=\"hlist hlist-separated inline nowraplinks\">\n",
       "<ul><li><a href=\"/wiki/May_5\" title=\"May 5\">May 5</a></li>\n",
       "<li><b><a href=\"/wiki/May_6\" title=\"May 6\">May 6</a></b></li>\n",
       "<li><a href=\"/wiki/May_7\" title=\"May 7\">May 7</a></li></ul>\n",
       "</div></div>\n",
       "<div class=\"otd-footer hlist hlist-separated noprint\" style=\"text-align: right;\">\n",
       "<ul><li><b><a href=\"/wiki/Wikipedia:Selected_anniversaries/May\" title=\"Wikipedia:Selected anniversaries/May\">Archive</a></b></li>\n",
       "<li><b><a class=\"extiw\" href=\"https://lists.wikimedia.org/mailman/listinfo/daily-article-l\" title=\"mail:daily-article-l\">By email</a></b></li>\n",
       "<li><b><a href=\"/wiki/List_of_days_of_the_year\" title=\"List of days of the year\">List of days of the year</a></b></li></ul>\n",
       "</div></div>\n",
       "</td></tr></tbody></table>\n",
       "<div class=\"MainPageBG mp-bordered\" id=\"mp-lower\">\n",
       "<div id=\"mp-bottom\">\n",
       "<h2 class=\"mp-h2\" id=\"mp-tfp-h2\"><span id=\"Today.27s_featured_picture\"></span><span class=\"mw-headline\" id=\"Today's_featured_picture\">Today's featured picture</span></h2>\n",
       "<div id=\"mp-tfp\">\n",
       "<table role=\"presentation\" style=\"margin:0 3px 3px; width:100%; box-sizing:border-box; text-align:left; background-color:transparent; border-collapse:collapse;\">\n",
       "<tbody><tr>\n",
       "<td style=\"padding:0 0.9em 0 0; width:350px;\"><a class=\"image\" href=\"/wiki/File:Xbox-console.jpg\" title=\"Xbox\"><img alt=\"Xbox\" data-file-height=\"2620\" data-file-width=\"5700\" decoding=\"async\" height=\"161\" src=\"//upload.wikimedia.org/wikipedia/commons/thumb/4/43/Xbox-console.jpg/350px-Xbox-console.jpg\" srcset=\"//upload.wikimedia.org/wikipedia/commons/thumb/4/43/Xbox-console.jpg/525px-Xbox-console.jpg 1.5x, //upload.wikimedia.org/wikipedia/commons/thumb/4/43/Xbox-console.jpg/700px-Xbox-console.jpg 2x\" width=\"350\"/></a>\n",
       "</td>\n",
       "<td style=\"padding:0 6px 0 0\">\n",
       "<p>The <b><a href=\"/wiki/Xbox_(console)\" title=\"Xbox (console)\">Xbox</a></b> is a <a href=\"/wiki/Home_video_game_console\" title=\"Home video game console\">home video game console</a> and the first installment in the <a href=\"/wiki/Xbox\" title=\"Xbox\">Xbox</a> series of <a href=\"/wiki/Video_game_console\" title=\"Video game console\">video game consoles</a> manufactured by <a href=\"/wiki/Microsoft\" title=\"Microsoft\">Microsoft</a>. Classified as a <a href=\"/wiki/Sixth_generation_of_video_game_consoles\" title=\"Sixth generation of video game consoles\">sixth-generation console</a>, it was released as Microsoft's first foray into the gaming console market in 2001 in North America, followed by Australia, Europe and Japan in 2002, and was succeeded in 2005 by the <a href=\"/wiki/Xbox_360\" title=\"Xbox 360\">Xbox 360</a>. The console is shown here with the <a href=\"/wiki/Xbox_controller\" title=\"Xbox controller\">S controller</a>, which replaced the console's original as the standard pack-in <a href=\"/wiki/Game_controller\" title=\"Game controller\">game controller</a>. The Xbox console is notable for having a built-in <a href=\"/wiki/Hard_disk_drive\" title=\"Hard disk drive\">hard drive</a>, breakaway controller <a href=\"/wiki/Dongle\" title=\"Dongle\">dongles</a>, and an <a href=\"/wiki/Ethernet\" title=\"Ethernet\">Ethernet</a> port to support Microsoft's online gaming service, <a href=\"/wiki/Xbox_network\" title=\"Xbox network\">Xbox Live</a>.\n",
       "</p>\n",
       "<p style=\"text-align:left;\"><small>Photograph credit: <a href=\"/wiki/User:Evan-Amos\" title=\"User:Evan-Amos\">Evan Amos</a></small></p>\n",
       "<div class=\"potd-recent\" style=\"text-align:right;\">\n",
       "Recently featured: <div class=\"hlist hlist-separated inline\">\n",
       "<ul><li><a href=\"/wiki/Template:POTD/2021-05-05\" title=\"Template:POTD/2021-05-05\">Sun</a></li>\n",
       "<li><a href=\"/wiki/Template:POTD/2021-05-04\" title=\"Template:POTD/2021-05-04\"><i>William Tell</i></a></li>\n",
       "<li><a href=\"/wiki/Template:POTD/2021-05-03\" title=\"Template:POTD/2021-05-03\">Smolny Institute</a></li></ul>\n",
       "</div></div>\n",
       "<div class=\"potd-footer hlist hlist-separated noprint\" style=\"text-align:right;\">\n",
       "<ul><li><b><a href=\"/wiki/Wikipedia:Picture_of_the_day/Archive\" title=\"Wikipedia:Picture of the day/Archive\">Archive</a></b></li>\n",
       "<li><b><a href=\"/wiki/Wikipedia:Featured_pictures\" title=\"Wikipedia:Featured pictures\">More featured pictures</a></b></li></ul>\n",
       "</div>\n",
       "</td></tr></tbody></table></div>\n",
       "</div>\n",
       "</div>\n",
       "<div class=\"mp-bordered\" id=\"mp-other-lower\">\n",
       "<h2 class=\"mp-h2\" id=\"mp-other\"><span class=\"mw-headline\" id=\"Other_areas_of_Wikipedia\">Other areas of Wikipedia</span></h2>\n",
       "<div id=\"mp-other-content\">\n",
       "<ul><li><b><a href=\"/wiki/Wikipedia:Community_portal\" title=\"Wikipedia:Community portal\">Community portal</a></b> – Bulletin board, projects, resources and activities covering a wide range of Wikipedia areas.</li>\n",
       "<li><b><a href=\"/wiki/Wikipedia:Help_desk\" title=\"Wikipedia:Help desk\">Help desk</a></b> – Ask questions about using Wikipedia.</li>\n",
       "<li><b><a href=\"/wiki/Wikipedia:Local_Embassy\" title=\"Wikipedia:Local Embassy\">Local embassy</a></b> – For Wikipedia-related communication in languages other than English.</li>\n",
       "<li><b><a href=\"/wiki/Wikipedia:Reference_desk\" title=\"Wikipedia:Reference desk\">Reference desk</a></b> – Serving as virtual librarians, Wikipedia volunteers tackle your questions on a wide range of subjects.</li>\n",
       "<li><b><a href=\"/wiki/Wikipedia:News\" title=\"Wikipedia:News\">Site news</a></b> – Announcements, updates, articles and press releases on Wikipedia and the Wikimedia Foundation.</li>\n",
       "<li><b><a href=\"/wiki/Wikipedia:Village_pump\" title=\"Wikipedia:Village pump\">Village pump</a></b> – For discussions about Wikipedia itself, including areas for technical issues and policies.</li></ul>\n",
       "</div>\n",
       "<h2 class=\"mp-h2\" id=\"mp-sister\"><span id=\"Wikipedia.27s_sister_projects\"></span><span class=\"mw-headline\" id=\"Wikipedia's_sister_projects\">Wikipedia's sister projects</span></h2>\n",
       "<div id=\"mp-sister-content\"><style data-mw-deduplicate=\"TemplateStyles:r1007624485\">.mw-parser-output #sister-projects-list{display:flex;flex-wrap:wrap}.mw-parser-output #sister-projects-list li{display:inline-block}.mw-parser-output #sister-projects-list li span{font-weight:bold}.mw-parser-output #sister-projects-list li>div{display:inline-block;vertical-align:middle;padding:6px 4px}.mw-parser-output #sister-projects-list li>div:first-child{text-align:center}@media(min-width:360px){.mw-parser-output #sister-projects-list li{width:33%;min-width:20em;white-space:nowrap;flex:1 0 25%}.mw-parser-output #sister-projects-list li>div:first-child{min-width:50px}}</style>\n",
       "<p>Wikipedia is hosted by the <a href=\"/wiki/Wikimedia_Foundation\" title=\"Wikimedia Foundation\">Wikimedia Foundation</a>, a non-profit organization that also hosts a range of other <a class=\"extiw\" href=\"https://wikimediafoundation.org/our-work/wikimedia-projects/\" title=\"foundationsite:our-work/wikimedia-projects/\">projects</a>:\n",
       "</p>\n",
       "<div class=\"plainlist\">\n",
       "<ul id=\"sister-projects-list\">\n",
       "<li>\n",
       "<div><a href=\"https://commons.wikimedia.org/wiki/\" title=\"Commons\"><img alt=\"\" data-file-height=\"1376\" data-file-width=\"1024\" decoding=\"async\" height=\"42\" src=\"//upload.wikimedia.org/wikipedia/en/thumb/4/4a/Commons-logo.svg/31px-Commons-logo.svg.png\" srcset=\"//upload.wikimedia.org/wikipedia/en/thumb/4/4a/Commons-logo.svg/47px-Commons-logo.svg.png 1.5x, //upload.wikimedia.org/wikipedia/en/thumb/4/4a/Commons-logo.svg/62px-Commons-logo.svg.png 2x\" width=\"31\"/></a></div>\n",
       "<div><span><a class=\"extiw\" href=\"https://commons.wikimedia.org/wiki/\" title=\"c:\">Commons</a></span><br/>Free media repository</div>\n",
       "</li>\n",
       "<li>\n",
       "<div><a href=\"https://www.mediawiki.org/wiki/\" title=\"MediaWiki\"><img alt=\"\" data-file-height=\"100\" data-file-width=\"100\" decoding=\"async\" height=\"35\" src=\"//upload.wikimedia.org/wikipedia/commons/thumb/a/a6/MediaWiki-2020-icon.svg/35px-MediaWiki-2020-icon.svg.png\" srcset=\"//upload.wikimedia.org/wikipedia/commons/thumb/a/a6/MediaWiki-2020-icon.svg/53px-MediaWiki-2020-icon.svg.png 1.5x, //upload.wikimedia.org/wikipedia/commons/thumb/a/a6/MediaWiki-2020-icon.svg/70px-MediaWiki-2020-icon.svg.png 2x\" width=\"35\"/></a></div>\n",
       "<div><span><a class=\"extiw\" href=\"https://www.mediawiki.org/wiki/\" title=\"mw:\">MediaWiki</a></span><br/>Wiki software development</div>\n",
       "</li>\n",
       "<li>\n",
       "<div><a href=\"https://meta.wikimedia.org/wiki/\" title=\"Meta-Wiki\"><img alt=\"\" data-file-height=\"900\" data-file-width=\"900\" decoding=\"async\" height=\"35\" src=\"//upload.wikimedia.org/wikipedia/commons/thumb/7/75/Wikimedia_Community_Logo.svg/35px-Wikimedia_Community_Logo.svg.png\" srcset=\"//upload.wikimedia.org/wikipedia/commons/thumb/7/75/Wikimedia_Community_Logo.svg/53px-Wikimedia_Community_Logo.svg.png 1.5x, //upload.wikimedia.org/wikipedia/commons/thumb/7/75/Wikimedia_Community_Logo.svg/70px-Wikimedia_Community_Logo.svg.png 2x\" width=\"35\"/></a></div>\n",
       "<div><span><a class=\"extiw\" href=\"https://meta.wikimedia.org/wiki/\" title=\"m:\">Meta-Wiki</a></span><br/>Wikimedia project coordination</div>\n",
       "</li>\n",
       "<li>\n",
       "<div><a href=\"https://en.wikibooks.org/wiki/\" title=\"Wikibooks\"><img alt=\"\" data-file-height=\"300\" data-file-width=\"300\" decoding=\"async\" height=\"35\" src=\"//upload.wikimedia.org/wikipedia/commons/thumb/f/fa/Wikibooks-logo.svg/35px-Wikibooks-logo.svg.png\" srcset=\"//upload.wikimedia.org/wikipedia/commons/thumb/f/fa/Wikibooks-logo.svg/53px-Wikibooks-logo.svg.png 1.5x, //upload.wikimedia.org/wikipedia/commons/thumb/f/fa/Wikibooks-logo.svg/70px-Wikibooks-logo.svg.png 2x\" width=\"35\"/></a></div>\n",
       "<div><span><a class=\"extiw\" href=\"https://en.wikibooks.org/wiki/\" title=\"b:\">Wikibooks</a></span><br/>Free textbooks and manuals</div>\n",
       "</li>\n",
       "<li>\n",
       "<div><a href=\"https://www.wikidata.org/wiki/\" title=\"Wikidata\"><img alt=\"\" data-file-height=\"590\" data-file-width=\"1050\" decoding=\"async\" height=\"26\" src=\"//upload.wikimedia.org/wikipedia/commons/thumb/f/ff/Wikidata-logo.svg/47px-Wikidata-logo.svg.png\" srcset=\"//upload.wikimedia.org/wikipedia/commons/thumb/f/ff/Wikidata-logo.svg/71px-Wikidata-logo.svg.png 1.5x, //upload.wikimedia.org/wikipedia/commons/thumb/f/ff/Wikidata-logo.svg/94px-Wikidata-logo.svg.png 2x\" width=\"47\"/></a></div>\n",
       "<div><span><a class=\"extiw\" href=\"https://www.wikidata.org/wiki/\" title=\"d:\">Wikidata</a></span><br/>Free knowledge base</div>\n",
       "</li>\n",
       "<li>\n",
       "<div><a href=\"https://en.wikinews.org/wiki/\" title=\"Wikinews\"><img alt=\"\" data-file-height=\"415\" data-file-width=\"759\" decoding=\"async\" height=\"28\" src=\"//upload.wikimedia.org/wikipedia/commons/thumb/2/24/Wikinews-logo.svg/51px-Wikinews-logo.svg.png\" srcset=\"//upload.wikimedia.org/wikipedia/commons/thumb/2/24/Wikinews-logo.svg/77px-Wikinews-logo.svg.png 1.5x, //upload.wikimedia.org/wikipedia/commons/thumb/2/24/Wikinews-logo.svg/102px-Wikinews-logo.svg.png 2x\" width=\"51\"/></a></div>\n",
       "<div><span><a class=\"extiw\" href=\"https://en.wikinews.org/wiki/\" title=\"n:\">Wikinews</a></span><br/>Free-content news</div>\n",
       "</li>\n",
       "<li>\n",
       "<div><a href=\"https://en.wikiquote.org/wiki/\" title=\"Wikiquote\"><img alt=\"\" data-file-height=\"355\" data-file-width=\"300\" decoding=\"async\" height=\"41\" src=\"//upload.wikimedia.org/wikipedia/commons/thumb/f/fa/Wikiquote-logo.svg/35px-Wikiquote-logo.svg.png\" srcset=\"//upload.wikimedia.org/wikipedia/commons/thumb/f/fa/Wikiquote-logo.svg/53px-Wikiquote-logo.svg.png 1.5x, //upload.wikimedia.org/wikipedia/commons/thumb/f/fa/Wikiquote-logo.svg/70px-Wikiquote-logo.svg.png 2x\" width=\"35\"/></a></div>\n",
       "<div><span><a class=\"extiw\" href=\"https://en.wikiquote.org/wiki/\" title=\"q:\">Wikiquote</a></span><br/>Collection of quotations</div>\n",
       "</li>\n",
       "<li>\n",
       "<div><a href=\"https://en.wikisource.org/wiki/\" title=\"Wikisource\"><img alt=\"\" data-file-height=\"430\" data-file-width=\"410\" decoding=\"async\" height=\"37\" src=\"//upload.wikimedia.org/wikipedia/commons/thumb/4/4c/Wikisource-logo.svg/35px-Wikisource-logo.svg.png\" srcset=\"//upload.wikimedia.org/wikipedia/commons/thumb/4/4c/Wikisource-logo.svg/53px-Wikisource-logo.svg.png 1.5x, //upload.wikimedia.org/wikipedia/commons/thumb/4/4c/Wikisource-logo.svg/70px-Wikisource-logo.svg.png 2x\" width=\"35\"/></a></div>\n",
       "<div><span><a class=\"extiw\" href=\"https://en.wikisource.org/wiki/\" title=\"s:\">Wikisource</a></span><br/>Free-content library</div>\n",
       "</li>\n",
       "<li>\n",
       "<div><a href=\"https://species.wikimedia.org/wiki/\" title=\"Wikispecies\"><img alt=\"\" data-file-height=\"1103\" data-file-width=\"941\" decoding=\"async\" height=\"41\" src=\"//upload.wikimedia.org/wikipedia/commons/thumb/d/df/Wikispecies-logo.svg/35px-Wikispecies-logo.svg.png\" srcset=\"//upload.wikimedia.org/wikipedia/commons/thumb/d/df/Wikispecies-logo.svg/53px-Wikispecies-logo.svg.png 1.5x, //upload.wikimedia.org/wikipedia/commons/thumb/d/df/Wikispecies-logo.svg/70px-Wikispecies-logo.svg.png 2x\" width=\"35\"/></a></div>\n",
       "<div><span><a class=\"extiw\" href=\"https://species.wikimedia.org/wiki/\" title=\"species:\">Wikispecies</a></span><br/>Directory of species</div>\n",
       "</li>\n",
       "<li>\n",
       "<div><a href=\"https://en.wikiversity.org/wiki/\" title=\"Wikiversity\"><img alt=\"\" data-file-height=\"512\" data-file-width=\"626\" decoding=\"async\" height=\"34\" src=\"//upload.wikimedia.org/wikipedia/commons/thumb/0/0b/Wikiversity_logo_2017.svg/41px-Wikiversity_logo_2017.svg.png\" srcset=\"//upload.wikimedia.org/wikipedia/commons/thumb/0/0b/Wikiversity_logo_2017.svg/62px-Wikiversity_logo_2017.svg.png 1.5x, //upload.wikimedia.org/wikipedia/commons/thumb/0/0b/Wikiversity_logo_2017.svg/82px-Wikiversity_logo_2017.svg.png 2x\" width=\"41\"/></a></div>\n",
       "<div><span><a class=\"extiw\" href=\"https://en.wikiversity.org/wiki/\" title=\"v:\">Wikiversity</a></span><br/>Free learning tools</div>\n",
       "</li>\n",
       "<li>\n",
       "<div><a href=\"https://en.wikivoyage.org/wiki/\" title=\"Wikivoyage\"><img alt=\"\" data-file-height=\"193\" data-file-width=\"193\" decoding=\"async\" height=\"35\" src=\"//upload.wikimedia.org/wikipedia/commons/thumb/d/dd/Wikivoyage-Logo-v3-icon.svg/35px-Wikivoyage-Logo-v3-icon.svg.png\" srcset=\"//upload.wikimedia.org/wikipedia/commons/thumb/d/dd/Wikivoyage-Logo-v3-icon.svg/53px-Wikivoyage-Logo-v3-icon.svg.png 1.5x, //upload.wikimedia.org/wikipedia/commons/thumb/d/dd/Wikivoyage-Logo-v3-icon.svg/70px-Wikivoyage-Logo-v3-icon.svg.png 2x\" width=\"35\"/></a></div>\n",
       "<div><span><a class=\"extiw\" href=\"https://en.wikivoyage.org/wiki/\" title=\"voy:\">Wikivoyage</a></span><br/>Free travel guide</div>\n",
       "</li>\n",
       "<li>\n",
       "<div><a href=\"https://en.wiktionary.org/wiki/\" title=\"Wiktionary\"><img alt=\"\" data-file-height=\"391\" data-file-width=\"391\" decoding=\"async\" height=\"35\" src=\"//upload.wikimedia.org/wikipedia/en/thumb/0/06/Wiktionary-logo-v2.svg/35px-Wiktionary-logo-v2.svg.png\" srcset=\"//upload.wikimedia.org/wikipedia/en/thumb/0/06/Wiktionary-logo-v2.svg/53px-Wiktionary-logo-v2.svg.png 1.5x, //upload.wikimedia.org/wikipedia/en/thumb/0/06/Wiktionary-logo-v2.svg/70px-Wiktionary-logo-v2.svg.png 2x\" width=\"35\"/></a></div>\n",
       "<div><span><a class=\"extiw\" href=\"https://en.wiktionary.org/wiki/\" title=\"wikt:\">Wiktionary</a></span><br/>Dictionary and thesaurus</div>\n",
       "</li>\n",
       "</ul>\n",
       "</div></div>\n",
       "<h2 class=\"mp-h2\" id=\"mp-lang\"><span class=\"mw-headline\" id=\"Wikipedia_languages\">Wikipedia languages</span></h2>\n",
       "<div><style data-mw-deduplicate=\"TemplateStyles:r997272951\">.mw-parser-output .wikipedia-languages-complete{font-weight:bold}.mw-parser-output .wikipedia-languages ul{margin-left:0}.mw-parser-output .wikipedia-languages ul a{white-space:nowrap}.mw-parser-output .wikipedia-languages>ul{list-style:none;text-align:center;clear:both}.mw-parser-output .wikipedia-languages-count-container{width:90%;display:flex;justify-content:center;padding-top:1em;margin:0 auto}.mw-parser-output .wikipedia-languages-prettybars{width:100%;height:1px;margin:0.5em 0;background-color:#c8ccd1;flex-shrink:1;align-self:center}.mw-parser-output .wikipedia-languages-count{padding:0 1em;white-space:nowrap}</style>\n",
       "<div class=\"wikipedia-languages nourlexpansion\">\n",
       "<p>This Wikipedia is written in <a href=\"/wiki/English_language\" title=\"English language\">English</a>. Many <a class=\"extiw\" href=\"https://meta.wikimedia.org/wiki/List_of_Wikipedias\" title=\"meta:List of Wikipedias\">other Wikipedias are available</a>; some of the largest are listed below.\n",
       "</p>\n",
       "<ul class=\"plainlinks\">\n",
       "<li>\n",
       "<div class=\"wikipedia-languages-count-container\">\n",
       "<div class=\"wikipedia-languages-prettybars\"></div>\n",
       "<div class=\"wikipedia-languages-count\" role=\"heading\">1,000,000+ articles</div>\n",
       "<div class=\"wikipedia-languages-prettybars\"></div>\n",
       "</div>\n",
       "<ul class=\"wikipedia-languages-langs hlist hlist-separated inline\">\n",
       "<li><a class=\"external text\" href=\"https://ar.wikipedia.org/wiki/\"><span class=\"autonym\" lang=\"ar\" title=\"Arabic (ar:)\">العربية</span></a></li>\n",
       "<li><a class=\"external text\" href=\"https://de.wikipedia.org/wiki/\"><span class=\"autonym\" lang=\"de\" title=\"German (de:)\">Deutsch</span></a></li>\n",
       "<li><a class=\"external text\" href=\"https://es.wikipedia.org/wiki/\"><span class=\"autonym\" lang=\"es\" title=\"Spanish (es:)\">Español</span></a></li>\n",
       "<li><a class=\"external text\" href=\"https://fr.wikipedia.org/wiki/\"><span class=\"autonym\" lang=\"fr\" title=\"French (fr:)\">Français</span></a></li>\n",
       "<li><a class=\"external text\" href=\"https://it.wikipedia.org/wiki/\"><span class=\"autonym\" lang=\"it\" title=\"Italian (it:)\">Italiano</span></a></li>\n",
       "<li><a class=\"external text\" href=\"https://nl.wikipedia.org/wiki/\"><span class=\"autonym\" lang=\"nl\" title=\"Dutch (nl:)\">Nederlands</span></a></li>\n",
       "<li><a class=\"external text\" href=\"https://ja.wikipedia.org/wiki/\"><span class=\"autonym\" lang=\"ja\" title=\"Japanese (ja:)\">日本語</span></a></li>\n",
       "<li><a class=\"external text\" href=\"https://pl.wikipedia.org/wiki/\"><span class=\"autonym\" lang=\"pl\" title=\"Polish (pl:)\">Polski</span></a></li>\n",
       "<li><a class=\"external text\" href=\"https://pt.wikipedia.org/wiki/\"><span class=\"autonym\" lang=\"pt\" title=\"Portuguese (pt:)\">Português</span></a></li>\n",
       "<li><a class=\"external text\" href=\"https://ru.wikipedia.org/wiki/\"><span class=\"autonym\" lang=\"ru\" title=\"Russian (ru:)\">Русский</span></a></li>\n",
       "<li><a class=\"external text\" href=\"https://sv.wikipedia.org/wiki/\"><span class=\"autonym\" lang=\"sv\" title=\"Swedish (sv:)\">Svenska</span></a></li>\n",
       "<li><a class=\"external text\" href=\"https://uk.wikipedia.org/wiki/\"><span class=\"autonym\" lang=\"uk\" title=\"Ukrainian (uk:)\">Українська</span></a></li>\n",
       "<li><a class=\"external text\" href=\"https://vi.wikipedia.org/wiki/\"><span class=\"autonym\" lang=\"vi\" title=\"Vietnamese (vi:)\">Tiếng Việt</span></a></li>\n",
       "<li><a class=\"external text\" href=\"https://zh.wikipedia.org/wiki/\"><span class=\"autonym\" lang=\"zh\" title=\"Chinese (zh:)\">中文</span></a></li>\n",
       "</ul>\n",
       "</li>\n",
       "<li>\n",
       "<div class=\"wikipedia-languages-count-container\">\n",
       "<div class=\"wikipedia-languages-prettybars\"></div>\n",
       "<div class=\"wikipedia-languages-count\" role=\"heading\">250,000+ articles</div>\n",
       "<div class=\"wikipedia-languages-prettybars\"></div>\n",
       "</div>\n",
       "<ul class=\"wikipedia-languages-langs hlist hlist-separated inline\">\n",
       "<li><a class=\"external text\" href=\"https://id.wikipedia.org/wiki/\"><span class=\"autonym\" lang=\"id\" title=\"Indonesian (id:)\">Bahasa Indonesia</span></a></li>\n",
       "<li><a class=\"external text\" href=\"https://ms.wikipedia.org/wiki/\"><span class=\"autonym\" lang=\"ms\" title=\"Malay (ms:)\">Bahasa Melayu</span></a></li>\n",
       "<li><a class=\"external text\" href=\"https://zh-min-nan.wikipedia.org/wiki/\"><span class=\"autonym\" lang=\"nan\" title=\"Min Nan Chinese (nan:)\">Bân-lâm-gú</span></a></li>\n",
       "<li><a class=\"external text\" href=\"https://bg.wikipedia.org/wiki/\"><span class=\"autonym\" lang=\"bg\" title=\"Bulgarian (bg:)\">Български</span></a></li>\n",
       "<li><a class=\"external text\" href=\"https://ca.wikipedia.org/wiki/\"><span class=\"autonym\" lang=\"ca\" title=\"Catalan (ca:)\">Català</span></a></li>\n",
       "<li><a class=\"external text\" href=\"https://cs.wikipedia.org/wiki/\"><span class=\"autonym\" lang=\"cs\" title=\"Czech (cs:)\">Čeština</span></a></li>\n",
       "<li><a class=\"external text\" href=\"https://da.wikipedia.org/wiki/\"><span class=\"autonym\" lang=\"da\" title=\"Danish (da:)\">Dansk</span></a></li>\n",
       "<li><a class=\"external text\" href=\"https://eo.wikipedia.org/wiki/\"><span class=\"autonym\" lang=\"eo\" title=\"Esperanto (eo:)\">Esperanto</span></a></li>\n",
       "<li><a class=\"external text\" href=\"https://eu.wikipedia.org/wiki/\"><span class=\"autonym\" lang=\"eu\" title=\"Basque (eu:)\">Euskara</span></a></li>\n",
       "<li><a class=\"external text\" href=\"https://fa.wikipedia.org/wiki/\"><span class=\"autonym\" lang=\"fa\" title=\"Persian (fa:)\">فارسی</span></a>‎</li>\n",
       "<li><a class=\"external text\" href=\"https://he.wikipedia.org/wiki/\"><span class=\"autonym\" lang=\"he\" title=\"Hebrew (he:)\">עברית</span></a></li>\n",
       "<li><a class=\"external text\" href=\"https://ko.wikipedia.org/wiki/\"><span class=\"autonym\" lang=\"ko\" title=\"Korean (ko:)\">한국어</span></a></li>\n",
       "<li><a class=\"external text\" href=\"https://hu.wikipedia.org/wiki/\"><span class=\"autonym\" lang=\"hu\" title=\"Hungarian (hu:)\">Magyar</span></a></li>\n",
       "<li><a class=\"external text\" href=\"https://no.wikipedia.org/wiki/\"><span class=\"autonym\" lang=\"no\" title=\"Norwegian (no:)\">Norsk Bokmål</span></a></li>\n",
       "<li><a class=\"external text\" href=\"https://ro.wikipedia.org/wiki/\"><span class=\"autonym\" lang=\"ro\" title=\"Romanian (ro:)\">Română</span></a></li>\n",
       "<li><a class=\"external text\" href=\"https://sr.wikipedia.org/wiki/\"><span class=\"autonym\" lang=\"sr\" title=\"Serbian (sr:)\">Srpski</span></a></li>\n",
       "<li><a class=\"external text\" href=\"https://sh.wikipedia.org/wiki/\"><span class=\"autonym\" lang=\"sh\" title=\"Serbo-Croatian (sh:)\">Srpskohrvatski</span></a></li>\n",
       "<li><a class=\"external text\" href=\"https://fi.wikipedia.org/wiki/\"><span class=\"autonym\" lang=\"fi\" title=\"Finnish (fi:)\">Suomi</span></a></li>\n",
       "<li><a class=\"external text\" href=\"https://tr.wikipedia.org/wiki/\"><span class=\"autonym\" lang=\"tr\" title=\"Turkish (tr:)\">Türkçe</span></a></li>\n",
       "</ul>\n",
       "</li>\n",
       "<li>\n",
       "<div class=\"wikipedia-languages-count-container\">\n",
       "<div class=\"wikipedia-languages-prettybars\"></div>\n",
       "<div class=\"wikipedia-languages-count\" role=\"heading\">50,000+ articles</div>\n",
       "<div class=\"wikipedia-languages-prettybars\"></div>\n",
       "</div>\n",
       "<ul class=\"wikipedia-languages-langs hlist hlist-separated inline\">\n",
       "<li><a class=\"external text\" href=\"https://ast.wikipedia.org/wiki/\"><span class=\"autonym\" lang=\"ast\" title=\"Asturian (ast:)\">Asturianu</span></a></li>\n",
       "<li><a class=\"external text\" href=\"https://bs.wikipedia.org/wiki/\"><span class=\"autonym\" lang=\"bs\" title=\"Bosnian (bs:)\">Bosanski</span></a></li>\n",
       "<li><a class=\"external text\" href=\"https://et.wikipedia.org/wiki/\"><span class=\"autonym\" lang=\"et\" title=\"Estonian (et:)\">Eesti</span></a></li>\n",
       "<li><a class=\"external text\" href=\"https://el.wikipedia.org/wiki/\"><span class=\"autonym\" lang=\"el\" title=\"Greek (el:)\">Ελληνικά</span></a></li>\n",
       "<li><a class=\"external text\" href=\"https://simple.wikipedia.org/wiki/\"><span class=\"autonym\" lang=\"simple\" title=\"Simple English (simple:)\">Simple English</span></a></li>\n",
       "<li><a class=\"external text\" href=\"https://gl.wikipedia.org/wiki/\"><span class=\"autonym\" lang=\"gl\" title=\"Galician (gl:)\">Galego</span></a></li>\n",
       "<li><a class=\"external text\" href=\"https://hr.wikipedia.org/wiki/\"><span class=\"autonym\" lang=\"hr\" title=\"Croatian (hr:)\">Hrvatski</span></a></li>\n",
       "<li><a class=\"external text\" href=\"https://lv.wikipedia.org/wiki/\"><span class=\"autonym\" lang=\"lv\" title=\"Latvian (lv:)\">Latviešu</span></a></li>\n",
       "<li><a class=\"external text\" href=\"https://lt.wikipedia.org/wiki/\"><span class=\"autonym\" lang=\"lt\" title=\"Lithuanian (lt:)\">Lietuvių</span></a></li>\n",
       "<li><a class=\"external text\" href=\"https://ml.wikipedia.org/wiki/\"><span class=\"autonym\" lang=\"ml\" title=\"Malayalam (ml:)\">മലയാളം</span></a></li>\n",
       "<li><a class=\"external text\" href=\"https://mk.wikipedia.org/wiki/\"><span class=\"autonym\" lang=\"mk\" title=\"Macedonian (mk:)\">Македонски</span></a></li>\n",
       "<li><a class=\"external text\" href=\"https://nn.wikipedia.org/wiki/\"><span class=\"autonym\" lang=\"nn\" title=\"Norwegian Nynorsk (nn:)\">Norsk nynorsk</span></a></li>\n",
       "<li><a class=\"external text\" href=\"https://sk.wikipedia.org/wiki/\"><span class=\"autonym\" lang=\"sk\" title=\"Slovak (sk:)\">Slovenčina</span></a></li>\n",
       "<li><a class=\"external text\" href=\"https://sl.wikipedia.org/wiki/\"><span class=\"autonym\" lang=\"sl\" title=\"Slovenian (sl:)\">Slovenščina</span></a></li>\n",
       "<li><a class=\"external text\" href=\"https://th.wikipedia.org/wiki/\"><span class=\"autonym\" lang=\"th\" title=\"Thai (th:)\">ไทย</span></a></li>\n",
       "</ul>\n",
       "</li>\n",
       "</ul>\n",
       "</div></div>\n",
       "</div>\n",
       "<!-- \n",
       "NewPP limit report\n",
       "Parsed by mw1372\n",
       "Cached time: 20210506162007\n",
       "Cache expiry: 3600\n",
       "Dynamic content: true\n",
       "Complications: []\n",
       "CPU time usage: 0.501 seconds\n",
       "Real time usage: 0.628 seconds\n",
       "Preprocessor visited node count: 4038/1000000\n",
       "Post‐expand include size: 123814/2097152 bytes\n",
       "Template argument size: 8416/2097152 bytes\n",
       "Highest expansion depth: 23/40\n",
       "Expensive parser function count: 17/500\n",
       "Unstrip recursion depth: 0/20\n",
       "Unstrip post‐expand size: 5370/5000000 bytes\n",
       "Lua time usage: 0.116/10.000 seconds\n",
       "Lua memory usage: 2370879/52428800 bytes\n",
       "Number of Wikibase entities loaded: 0/400\n",
       "-->\n",
       "<!--\n",
       "Transclusion expansion time report (%,ms,calls,template)\n",
       "100.00%  449.973      1 -total\n",
       " 46.35%  208.577      9 Template:Main_page_image\n",
       " 44.81%  201.642      1 Wikipedia:Main_Page/Tomorrow\n",
       " 29.97%  134.859      9 Template:Str_number/trim\n",
       " 24.22%  108.996     27 Template:If_empty\n",
       " 22.28%  100.269      2 Template:Main_page_image/TFA\n",
       " 20.19%   90.840      1 Wikipedia:Today's_featured_article/May_6,_2021\n",
       " 12.50%   56.264      2 Template:Wikipedia_languages\n",
       " 11.19%   50.336     18 Template:Remove_file_prefix\n",
       " 10.60%   47.694      1 Template:Did_you_know/Queue/5\n",
       "-->\n",
       "<!-- Saved in parser cache with key enwiki:pcache:idhash:15580374-0!canonical and timestamp 20210506162006 and revision id 1004593520. Serialized with JSON.\n",
       " -->\n",
       "</div><noscript><img alt=\"\" height=\"1\" src=\"//en.wikipedia.org/wiki/Special:CentralAutoLogin/start?type=1x1\" style=\"border: none; position: absolute;\" title=\"\" width=\"1\"/></noscript>\n",
       "<div class=\"printfooter\">Retrieved from \"<a dir=\"ltr\" href=\"https://en.wikipedia.org/w/index.php?title=Main_Page&amp;oldid=1004593520\">https://en.wikipedia.org/w/index.php?title=Main_Page&amp;oldid=1004593520</a>\"</div></div>\n",
       "<div class=\"catlinks catlinks-allhidden\" data-mw=\"interface\" id=\"catlinks\"></div>\n",
       "</div>\n",
       "</div>\n",
       "<div id=\"mw-data-after-content\">\n",
       "<div class=\"read-more-container\"></div>\n",
       "</div>\n",
       "<div id=\"mw-navigation\">\n",
       "<h2>Navigation menu</h2>\n",
       "<div id=\"mw-head\">\n",
       "<!-- Please do not use role attribute as CSS selector, it is deprecated. -->\n",
       "<nav aria-labelledby=\"p-personal-label\" class=\"mw-portlet mw-portlet-personal vector-menu\" id=\"p-personal\" role=\"navigation\">\n",
       "<h3 class=\"vector-menu-heading\" id=\"p-personal-label\">\n",
       "<span>Personal tools</span>\n",
       "</h3>\n",
       "<div class=\"vector-menu-content\">\n",
       "<ul class=\"vector-menu-content-list\"><li id=\"pt-anonuserpage\">Not logged in</li><li id=\"pt-anontalk\"><a accesskey=\"n\" href=\"/wiki/Special:MyTalk\" title=\"Discussion about edits from this IP address [n]\">Talk</a></li><li id=\"pt-anoncontribs\"><a accesskey=\"y\" href=\"/wiki/Special:MyContributions\" title=\"A list of edits made from this IP address [y]\">Contributions</a></li><li id=\"pt-createaccount\"><a href=\"/w/index.php?title=Special:CreateAccount&amp;returnto=Main+Page\" title=\"You are encouraged to create an account and log in; however, it is not mandatory\">Create account</a></li><li id=\"pt-login\"><a accesskey=\"o\" href=\"/w/index.php?title=Special:UserLogin&amp;returnto=Main+Page\" title=\"You're encouraged to log in; however, it's not mandatory. [o]\">Log in</a></li></ul>\n",
       "</div>\n",
       "</nav>\n",
       "<div id=\"left-navigation\">\n",
       "<!-- Please do not use role attribute as CSS selector, it is deprecated. -->\n",
       "<nav aria-labelledby=\"p-namespaces-label\" class=\"mw-portlet mw-portlet-namespaces vector-menu vector-menu-tabs\" id=\"p-namespaces\" role=\"navigation\">\n",
       "<h3 class=\"vector-menu-heading\" id=\"p-namespaces-label\">\n",
       "<span>Namespaces</span>\n",
       "</h3>\n",
       "<div class=\"vector-menu-content\">\n",
       "<ul class=\"vector-menu-content-list\"><li class=\"selected\" id=\"ca-nstab-main\"><a accesskey=\"c\" href=\"/wiki/Main_Page\" title=\"View the content page [c]\">Main Page</a></li><li id=\"ca-talk\"><a accesskey=\"t\" href=\"/wiki/Talk:Main_Page\" rel=\"discussion\" title=\"Discuss improvements to the content page [t]\">Talk</a></li></ul>\n",
       "</div>\n",
       "</nav>\n",
       "<!-- Please do not use role attribute as CSS selector, it is deprecated. -->\n",
       "<nav aria-labelledby=\"p-variants-label\" class=\"mw-portlet mw-portlet-variants emptyPortlet vector-menu vector-menu-dropdown\" id=\"p-variants\" role=\"navigation\">\n",
       "<input aria-labelledby=\"p-variants-label\" class=\"vector-menu-checkbox\" type=\"checkbox\"/>\n",
       "<h3 class=\"vector-menu-heading\" id=\"p-variants-label\">\n",
       "<span>Variants</span>\n",
       "</h3>\n",
       "<div class=\"vector-menu-content\">\n",
       "<ul class=\"vector-menu-content-list\"></ul>\n",
       "</div>\n",
       "</nav>\n",
       "</div>\n",
       "<div id=\"right-navigation\">\n",
       "<!-- Please do not use role attribute as CSS selector, it is deprecated. -->\n",
       "<nav aria-labelledby=\"p-views-label\" class=\"mw-portlet mw-portlet-views vector-menu vector-menu-tabs\" id=\"p-views\" role=\"navigation\">\n",
       "<h3 class=\"vector-menu-heading\" id=\"p-views-label\">\n",
       "<span>Views</span>\n",
       "</h3>\n",
       "<div class=\"vector-menu-content\">\n",
       "<ul class=\"vector-menu-content-list\"><li class=\"selected\" id=\"ca-view\"><a href=\"/wiki/Main_Page\">Read</a></li><li id=\"ca-viewsource\"><a accesskey=\"e\" href=\"/w/index.php?title=Main_Page&amp;action=edit\" title=\"This page is protected.\n",
       "You can view its source [e]\">View source</a></li><li id=\"ca-history\"><a accesskey=\"h\" href=\"/w/index.php?title=Main_Page&amp;action=history\" title=\"Past revisions of this page [h]\">View history</a></li></ul>\n",
       "</div>\n",
       "</nav>\n",
       "<!-- Please do not use role attribute as CSS selector, it is deprecated. -->\n",
       "<nav aria-labelledby=\"p-cactions-label\" class=\"mw-portlet mw-portlet-cactions emptyPortlet vector-menu vector-menu-dropdown\" id=\"p-cactions\" role=\"navigation\">\n",
       "<input aria-labelledby=\"p-cactions-label\" class=\"vector-menu-checkbox\" type=\"checkbox\"/>\n",
       "<h3 class=\"vector-menu-heading\" id=\"p-cactions-label\">\n",
       "<span>More</span>\n",
       "</h3>\n",
       "<div class=\"vector-menu-content\">\n",
       "<ul class=\"vector-menu-content-list\"></ul>\n",
       "</div>\n",
       "</nav>\n",
       "<div id=\"p-search\" role=\"search\">\n",
       "<h3>\n",
       "<label for=\"searchInput\">Search</label>\n",
       "</h3>\n",
       "<form action=\"/w/index.php\" id=\"searchform\">\n",
       "<div data-search-loc=\"header-navigation\" id=\"simpleSearch\">\n",
       "<input accesskey=\"f\" autocapitalize=\"sentences\" id=\"searchInput\" name=\"search\" placeholder=\"Search Wikipedia\" title=\"Search Wikipedia [f]\" type=\"search\"/>\n",
       "<input name=\"title\" type=\"hidden\" value=\"Special:Search\"/>\n",
       "<input class=\"searchButton mw-fallbackSearchButton\" id=\"mw-searchButton\" name=\"fulltext\" title=\"Search Wikipedia for this text\" type=\"submit\" value=\"Search\"/>\n",
       "<input class=\"searchButton\" id=\"searchButton\" name=\"go\" title=\"Go to a page with this exact name if it exists\" type=\"submit\" value=\"Go\"/>\n",
       "</div>\n",
       "</form>\n",
       "</div>\n",
       "</div>\n",
       "</div>\n",
       "<div id=\"mw-panel\">\n",
       "<div id=\"p-logo\" role=\"banner\">\n",
       "<a class=\"mw-wiki-logo\" href=\"/wiki/Main_Page\" title=\"Visit the main page\"></a>\n",
       "</div>\n",
       "<!-- Please do not use role attribute as CSS selector, it is deprecated. -->\n",
       "<nav aria-labelledby=\"p-navigation-label\" class=\"mw-portlet mw-portlet-navigation vector-menu vector-menu-portal portal\" id=\"p-navigation\" role=\"navigation\">\n",
       "<h3 class=\"vector-menu-heading\" id=\"p-navigation-label\">\n",
       "<span>Navigation</span>\n",
       "</h3>\n",
       "<div class=\"vector-menu-content\">\n",
       "<ul class=\"vector-menu-content-list\"><li id=\"n-mainpage-description\"><a accesskey=\"z\" href=\"/wiki/Main_Page\" title=\"Visit the main page [z]\">Main page</a></li><li id=\"n-contents\"><a href=\"/wiki/Wikipedia:Contents\" title=\"Guides to browsing Wikipedia\">Contents</a></li><li id=\"n-currentevents\"><a href=\"/wiki/Portal:Current_events\" title=\"Articles related to current events\">Current events</a></li><li id=\"n-randompage\"><a accesskey=\"x\" href=\"/wiki/Special:Random\" title=\"Visit a randomly selected article [x]\">Random article</a></li><li id=\"n-aboutsite\"><a href=\"/wiki/Wikipedia:About\" title=\"Learn about Wikipedia and how it works\">About Wikipedia</a></li><li id=\"n-contactpage\"><a href=\"//en.wikipedia.org/wiki/Wikipedia:Contact_us\" title=\"How to contact Wikipedia\">Contact us</a></li><li id=\"n-sitesupport\"><a href=\"https://donate.wikimedia.org/wiki/Special:FundraiserRedirector?utm_source=donate&amp;utm_medium=sidebar&amp;utm_campaign=C13_en.wikipedia.org&amp;uselang=en\" title=\"Support us by donating to the Wikimedia Foundation\">Donate</a></li></ul>\n",
       "</div>\n",
       "</nav>\n",
       "<!-- Please do not use role attribute as CSS selector, it is deprecated. -->\n",
       "<nav aria-labelledby=\"p-interaction-label\" class=\"mw-portlet mw-portlet-interaction vector-menu vector-menu-portal portal\" id=\"p-interaction\" role=\"navigation\">\n",
       "<h3 class=\"vector-menu-heading\" id=\"p-interaction-label\">\n",
       "<span>Contribute</span>\n",
       "</h3>\n",
       "<div class=\"vector-menu-content\">\n",
       "<ul class=\"vector-menu-content-list\"><li id=\"n-help\"><a href=\"/wiki/Help:Contents\" title=\"Guidance on how to use and edit Wikipedia\">Help</a></li><li id=\"n-introduction\"><a href=\"/wiki/Help:Introduction\" title=\"Learn how to edit Wikipedia\">Learn to edit</a></li><li id=\"n-portal\"><a href=\"/wiki/Wikipedia:Community_portal\" title=\"The hub for editors\">Community portal</a></li><li id=\"n-recentchanges\"><a accesskey=\"r\" href=\"/wiki/Special:RecentChanges\" title=\"A list of recent changes to Wikipedia [r]\">Recent changes</a></li><li id=\"n-upload\"><a href=\"/wiki/Wikipedia:File_Upload_Wizard\" title=\"Add images or other media for use on Wikipedia\">Upload file</a></li></ul>\n",
       "</div>\n",
       "</nav>\n",
       "<!-- Please do not use role attribute as CSS selector, it is deprecated. -->\n",
       "<nav aria-labelledby=\"p-tb-label\" class=\"mw-portlet mw-portlet-tb vector-menu vector-menu-portal portal\" id=\"p-tb\" role=\"navigation\">\n",
       "<h3 class=\"vector-menu-heading\" id=\"p-tb-label\">\n",
       "<span>Tools</span>\n",
       "</h3>\n",
       "<div class=\"vector-menu-content\">\n",
       "<ul class=\"vector-menu-content-list\"><li id=\"t-whatlinkshere\"><a accesskey=\"j\" href=\"/wiki/Special:WhatLinksHere/Main_Page\" title=\"List of all English Wikipedia pages containing links to this page [j]\">What links here</a></li><li id=\"t-recentchangeslinked\"><a accesskey=\"k\" href=\"/wiki/Special:RecentChangesLinked/Main_Page\" rel=\"nofollow\" title=\"Recent changes in pages linked from this page [k]\">Related changes</a></li><li id=\"t-upload\"><a accesskey=\"u\" href=\"/wiki/Wikipedia:File_Upload_Wizard\" title=\"Upload files [u]\">Upload file</a></li><li id=\"t-specialpages\"><a accesskey=\"q\" href=\"/wiki/Special:SpecialPages\" title=\"A list of all special pages [q]\">Special pages</a></li><li id=\"t-permalink\"><a href=\"/w/index.php?title=Main_Page&amp;oldid=1004593520\" title=\"Permanent link to this revision of this page\">Permanent link</a></li><li id=\"t-info\"><a href=\"/w/index.php?title=Main_Page&amp;action=info\" title=\"More information about this page\">Page information</a></li><li id=\"t-cite\"><a href=\"/w/index.php?title=Special:CiteThisPage&amp;page=Main_Page&amp;id=1004593520&amp;wpFormIdentifier=titleform\" title=\"Information on how to cite this page\">Cite this page</a></li><li id=\"t-wikibase\"><a accesskey=\"g\" href=\"https://www.wikidata.org/wiki/Special:EntityPage/Q5296\" title=\"Structured data on this page hosted by Wikidata [g]\">Wikidata item</a></li></ul>\n",
       "</div>\n",
       "</nav>\n",
       "<!-- Please do not use role attribute as CSS selector, it is deprecated. -->\n",
       "<nav aria-labelledby=\"p-coll-print_export-label\" class=\"mw-portlet mw-portlet-coll-print_export vector-menu vector-menu-portal portal\" id=\"p-coll-print_export\" role=\"navigation\">\n",
       "<h3 class=\"vector-menu-heading\" id=\"p-coll-print_export-label\">\n",
       "<span>Print/export</span>\n",
       "</h3>\n",
       "<div class=\"vector-menu-content\">\n",
       "<ul class=\"vector-menu-content-list\"><li id=\"coll-download-as-rl\"><a href=\"/w/index.php?title=Special:DownloadAsPdf&amp;page=Main_Page&amp;action=show-download-screen\" title=\"Download this page as a PDF file\">Download as PDF</a></li><li id=\"t-print\"><a accesskey=\"p\" href=\"/w/index.php?title=Main_Page&amp;printable=yes\" title=\"Printable version of this page [p]\">Printable version</a></li></ul>\n",
       "</div>\n",
       "</nav>\n",
       "<!-- Please do not use role attribute as CSS selector, it is deprecated. -->\n",
       "<nav aria-labelledby=\"p-wikibase-otherprojects-label\" class=\"mw-portlet mw-portlet-wikibase-otherprojects vector-menu vector-menu-portal portal\" id=\"p-wikibase-otherprojects\" role=\"navigation\">\n",
       "<h3 class=\"vector-menu-heading\" id=\"p-wikibase-otherprojects-label\">\n",
       "<span>In other projects</span>\n",
       "</h3>\n",
       "<div class=\"vector-menu-content\">\n",
       "<ul class=\"vector-menu-content-list\"><li class=\"wb-otherproject-link wb-otherproject-commons\"><a href=\"https://commons.wikimedia.org/wiki/Main_Page\" hreflang=\"en\">Wikimedia Commons</a></li><li class=\"wb-otherproject-link wb-otherproject-mediawiki\"><a href=\"https://www.mediawiki.org/wiki/MediaWiki\" hreflang=\"en\">MediaWiki</a></li><li class=\"wb-otherproject-link wb-otherproject-meta\"><a href=\"https://meta.wikimedia.org/wiki/Main_Page\" hreflang=\"en\">Meta-Wiki</a></li><li class=\"wb-otherproject-link wb-otherproject-sources\"><a href=\"https://wikisource.org/wiki/Main_Page\" hreflang=\"en\">Multilingual Wikisource</a></li><li class=\"wb-otherproject-link wb-otherproject-species\"><a href=\"https://species.wikimedia.org/wiki/Main_Page\" hreflang=\"en\">Wikispecies</a></li><li class=\"wb-otherproject-link wb-otherproject-wikibooks\"><a href=\"https://en.wikibooks.org/wiki/Main_Page\" hreflang=\"en\">Wikibooks</a></li><li class=\"wb-otherproject-link wb-otherproject-wikidata\"><a href=\"https://www.wikidata.org/wiki/Wikidata:Main_Page\" hreflang=\"en\">Wikidata</a></li><li class=\"wb-otherproject-link wb-otherproject-wikimania\"><a href=\"https://wikimania.wikimedia.org/wiki/Wikimania\" hreflang=\"en\">Wikimania</a></li><li class=\"wb-otherproject-link wb-otherproject-wikinews\"><a href=\"https://en.wikinews.org/wiki/Main_Page\" hreflang=\"en\">Wikinews</a></li><li class=\"wb-otherproject-link wb-otherproject-wikiquote\"><a href=\"https://en.wikiquote.org/wiki/Main_Page\" hreflang=\"en\">Wikiquote</a></li><li class=\"wb-otherproject-link wb-otherproject-wikisource\"><a href=\"https://en.wikisource.org/wiki/Main_Page\" hreflang=\"en\">Wikisource</a></li><li class=\"wb-otherproject-link wb-otherproject-wikiversity\"><a href=\"https://en.wikiversity.org/wiki/Wikiversity:Main_Page\" hreflang=\"en\">Wikiversity</a></li><li class=\"wb-otherproject-link wb-otherproject-wikivoyage\"><a href=\"https://en.wikivoyage.org/wiki/Main_Page\" hreflang=\"en\">Wikivoyage</a></li><li class=\"wb-otherproject-link wb-otherproject-wiktionary\"><a href=\"https://en.wiktionary.org/wiki/Wiktionary:Main_Page\" hreflang=\"en\">Wiktionary</a></li></ul>\n",
       "</div>\n",
       "</nav>\n",
       "<!-- Please do not use role attribute as CSS selector, it is deprecated. -->\n",
       "<nav aria-labelledby=\"p-lang-label\" class=\"mw-portlet mw-portlet-lang vector-menu vector-menu-portal portal\" id=\"p-lang\" role=\"navigation\">\n",
       "<h3 class=\"vector-menu-heading\" id=\"p-lang-label\">\n",
       "<span>Languages</span>\n",
       "</h3>\n",
       "<div class=\"vector-menu-content\">\n",
       "<ul class=\"vector-menu-content-list\"><li class=\"interlanguage-link interwiki-ar\"><a class=\"interlanguage-link-target\" href=\"https://ar.wikipedia.org/wiki/\" hreflang=\"ar\" lang=\"ar\" title=\"Arabic\">العربية</a></li><li class=\"interlanguage-link interwiki-bn\"><a class=\"interlanguage-link-target\" href=\"https://bn.wikipedia.org/wiki/\" hreflang=\"bn\" lang=\"bn\" title=\"Bangla\">বাংলা</a></li><li class=\"interlanguage-link interwiki-bg\"><a class=\"interlanguage-link-target\" href=\"https://bg.wikipedia.org/wiki/\" hreflang=\"bg\" lang=\"bg\" title=\"Bulgarian\">Български</a></li><li class=\"interlanguage-link interwiki-bs\"><a class=\"interlanguage-link-target\" href=\"https://bs.wikipedia.org/wiki/\" hreflang=\"bs\" lang=\"bs\" title=\"Bosnian\">Bosanski</a></li><li class=\"interlanguage-link interwiki-ca\"><a class=\"interlanguage-link-target\" href=\"https://ca.wikipedia.org/wiki/\" hreflang=\"ca\" lang=\"ca\" title=\"Catalan\">Català</a></li><li class=\"interlanguage-link interwiki-cs\"><a class=\"interlanguage-link-target\" href=\"https://cs.wikipedia.org/wiki/\" hreflang=\"cs\" lang=\"cs\" title=\"Czech\">Čeština</a></li><li class=\"interlanguage-link interwiki-da\"><a class=\"interlanguage-link-target\" href=\"https://da.wikipedia.org/wiki/\" hreflang=\"da\" lang=\"da\" title=\"Danish\">Dansk</a></li><li class=\"interlanguage-link interwiki-de\"><a class=\"interlanguage-link-target\" href=\"https://de.wikipedia.org/wiki/\" hreflang=\"de\" lang=\"de\" title=\"German\">Deutsch</a></li><li class=\"interlanguage-link interwiki-et\"><a class=\"interlanguage-link-target\" href=\"https://et.wikipedia.org/wiki/\" hreflang=\"et\" lang=\"et\" title=\"Estonian\">Eesti</a></li><li class=\"interlanguage-link interwiki-el\"><a class=\"interlanguage-link-target\" href=\"https://el.wikipedia.org/wiki/\" hreflang=\"el\" lang=\"el\" title=\"Greek\">Ελληνικά</a></li><li class=\"interlanguage-link interwiki-es\"><a class=\"interlanguage-link-target\" href=\"https://es.wikipedia.org/wiki/\" hreflang=\"es\" lang=\"es\" title=\"Spanish\">Español</a></li><li class=\"interlanguage-link interwiki-eo\"><a class=\"interlanguage-link-target\" href=\"https://eo.wikipedia.org/wiki/\" hreflang=\"eo\" lang=\"eo\" title=\"Esperanto\">Esperanto</a></li><li class=\"interlanguage-link interwiki-eu\"><a class=\"interlanguage-link-target\" href=\"https://eu.wikipedia.org/wiki/\" hreflang=\"eu\" lang=\"eu\" title=\"Basque\">Euskara</a></li><li class=\"interlanguage-link interwiki-fa\"><a class=\"interlanguage-link-target\" href=\"https://fa.wikipedia.org/wiki/\" hreflang=\"fa\" lang=\"fa\" title=\"Persian\">فارسی</a></li><li class=\"interlanguage-link interwiki-fr\"><a class=\"interlanguage-link-target\" href=\"https://fr.wikipedia.org/wiki/\" hreflang=\"fr\" lang=\"fr\" title=\"French\">Français</a></li><li class=\"interlanguage-link interwiki-gl\"><a class=\"interlanguage-link-target\" href=\"https://gl.wikipedia.org/wiki/\" hreflang=\"gl\" lang=\"gl\" title=\"Galician\">Galego</a></li><li class=\"interlanguage-link interwiki-ko\"><a class=\"interlanguage-link-target\" href=\"https://ko.wikipedia.org/wiki/\" hreflang=\"ko\" lang=\"ko\" title=\"Korean\">한국어</a></li><li class=\"interlanguage-link interwiki-hr\"><a class=\"interlanguage-link-target\" href=\"https://hr.wikipedia.org/wiki/\" hreflang=\"hr\" lang=\"hr\" title=\"Croatian\">Hrvatski</a></li><li class=\"interlanguage-link interwiki-id\"><a class=\"interlanguage-link-target\" href=\"https://id.wikipedia.org/wiki/\" hreflang=\"id\" lang=\"id\" title=\"Indonesian\">Bahasa Indonesia</a></li><li class=\"interlanguage-link interwiki-it\"><a class=\"interlanguage-link-target\" href=\"https://it.wikipedia.org/wiki/\" hreflang=\"it\" lang=\"it\" title=\"Italian\">Italiano</a></li><li class=\"interlanguage-link interwiki-he\"><a class=\"interlanguage-link-target\" href=\"https://he.wikipedia.org/wiki/\" hreflang=\"he\" lang=\"he\" title=\"Hebrew\">עברית</a></li><li class=\"interlanguage-link interwiki-ka\"><a class=\"interlanguage-link-target\" href=\"https://ka.wikipedia.org/wiki/\" hreflang=\"ka\" lang=\"ka\" title=\"Georgian\">ქართული</a></li><li class=\"interlanguage-link interwiki-lv\"><a class=\"interlanguage-link-target\" href=\"https://lv.wikipedia.org/wiki/\" hreflang=\"lv\" lang=\"lv\" title=\"Latvian\">Latviešu</a></li><li class=\"interlanguage-link interwiki-lt\"><a class=\"interlanguage-link-target\" href=\"https://lt.wikipedia.org/wiki/\" hreflang=\"lt\" lang=\"lt\" title=\"Lithuanian\">Lietuvių</a></li><li class=\"interlanguage-link interwiki-hu\"><a class=\"interlanguage-link-target\" href=\"https://hu.wikipedia.org/wiki/\" hreflang=\"hu\" lang=\"hu\" title=\"Hungarian\">Magyar</a></li><li class=\"interlanguage-link interwiki-mk\"><a class=\"interlanguage-link-target\" href=\"https://mk.wikipedia.org/wiki/\" hreflang=\"mk\" lang=\"mk\" title=\"Macedonian\">Македонски</a></li><li class=\"interlanguage-link interwiki-ms\"><a class=\"interlanguage-link-target\" href=\"https://ms.wikipedia.org/wiki/\" hreflang=\"ms\" lang=\"ms\" title=\"Malay\">Bahasa Melayu</a></li><li class=\"interlanguage-link interwiki-nl\"><a class=\"interlanguage-link-target\" href=\"https://nl.wikipedia.org/wiki/\" hreflang=\"nl\" lang=\"nl\" title=\"Dutch\">Nederlands</a></li><li class=\"interlanguage-link interwiki-ja\"><a class=\"interlanguage-link-target\" href=\"https://ja.wikipedia.org/wiki/\" hreflang=\"ja\" lang=\"ja\" title=\"Japanese\">日本語</a></li><li class=\"interlanguage-link interwiki-no\"><a class=\"interlanguage-link-target\" href=\"https://no.wikipedia.org/wiki/\" hreflang=\"nb\" lang=\"nb\" title=\"Norwegian Bokmål\">Norsk bokmål</a></li><li class=\"interlanguage-link interwiki-nn\"><a class=\"interlanguage-link-target\" href=\"https://nn.wikipedia.org/wiki/\" hreflang=\"nn\" lang=\"nn\" title=\"Norwegian Nynorsk\">Norsk nynorsk</a></li><li class=\"interlanguage-link interwiki-pl\"><a class=\"interlanguage-link-target\" href=\"https://pl.wikipedia.org/wiki/\" hreflang=\"pl\" lang=\"pl\" title=\"Polish\">Polski</a></li><li class=\"interlanguage-link interwiki-pt\"><a class=\"interlanguage-link-target\" href=\"https://pt.wikipedia.org/wiki/\" hreflang=\"pt\" lang=\"pt\" title=\"Portuguese\">Português</a></li><li class=\"interlanguage-link interwiki-ro\"><a class=\"interlanguage-link-target\" href=\"https://ro.wikipedia.org/wiki/\" hreflang=\"ro\" lang=\"ro\" title=\"Romanian\">Română</a></li><li class=\"interlanguage-link interwiki-ru\"><a class=\"interlanguage-link-target\" href=\"https://ru.wikipedia.org/wiki/\" hreflang=\"ru\" lang=\"ru\" title=\"Russian\">Русский</a></li><li class=\"interlanguage-link interwiki-simple\"><a class=\"interlanguage-link-target\" href=\"https://simple.wikipedia.org/wiki/\" hreflang=\"en-simple\" lang=\"en-simple\" title=\"Simple English\">Simple English</a></li><li class=\"interlanguage-link interwiki-sk\"><a class=\"interlanguage-link-target\" href=\"https://sk.wikipedia.org/wiki/\" hreflang=\"sk\" lang=\"sk\" title=\"Slovak\">Slovenčina</a></li><li class=\"interlanguage-link interwiki-sl\"><a class=\"interlanguage-link-target\" href=\"https://sl.wikipedia.org/wiki/\" hreflang=\"sl\" lang=\"sl\" title=\"Slovenian\">Slovenščina</a></li><li class=\"interlanguage-link interwiki-sr\"><a class=\"interlanguage-link-target\" href=\"https://sr.wikipedia.org/wiki/\" hreflang=\"sr\" lang=\"sr\" title=\"Serbian\">Српски / srpski</a></li><li class=\"interlanguage-link interwiki-sh\"><a class=\"interlanguage-link-target\" href=\"https://sh.wikipedia.org/wiki/\" hreflang=\"sh\" lang=\"sh\" title=\"Serbo-Croatian\">Srpskohrvatski / српскохрватски</a></li><li class=\"interlanguage-link interwiki-fi\"><a class=\"interlanguage-link-target\" href=\"https://fi.wikipedia.org/wiki/\" hreflang=\"fi\" lang=\"fi\" title=\"Finnish\">Suomi</a></li><li class=\"interlanguage-link interwiki-sv\"><a class=\"interlanguage-link-target\" href=\"https://sv.wikipedia.org/wiki/\" hreflang=\"sv\" lang=\"sv\" title=\"Swedish\">Svenska</a></li><li class=\"interlanguage-link interwiki-th\"><a class=\"interlanguage-link-target\" href=\"https://th.wikipedia.org/wiki/\" hreflang=\"th\" lang=\"th\" title=\"Thai\">ไทย</a></li><li class=\"interlanguage-link interwiki-tr\"><a class=\"interlanguage-link-target\" href=\"https://tr.wikipedia.org/wiki/\" hreflang=\"tr\" lang=\"tr\" title=\"Turkish\">Türkçe</a></li><li class=\"interlanguage-link interwiki-uk\"><a class=\"interlanguage-link-target\" href=\"https://uk.wikipedia.org/wiki/\" hreflang=\"uk\" lang=\"uk\" title=\"Ukrainian\">Українська</a></li><li class=\"interlanguage-link interwiki-vi\"><a class=\"interlanguage-link-target\" href=\"https://vi.wikipedia.org/wiki/\" hreflang=\"vi\" lang=\"vi\" title=\"Vietnamese\">Tiếng Việt</a></li><li class=\"interlanguage-link interwiki-zh\"><a class=\"interlanguage-link-target\" href=\"https://zh.wikipedia.org/wiki/\" hreflang=\"zh\" lang=\"zh\" title=\"Chinese\">中文</a></li></ul>\n",
       "</div>\n",
       "</nav>\n",
       "</div>\n",
       "</div>\n",
       "<footer class=\"mw-footer\" id=\"footer\" role=\"contentinfo\">\n",
       "<ul id=\"footer-info\">\n",
       "<li id=\"footer-info-lastmod\"> This page was last edited on 3 February 2021, at 11:11<span class=\"anonymous-show\"> (UTC)</span>.</li>\n",
       "<li id=\"footer-info-copyright\">Text is available under the <a href=\"//en.wikipedia.org/wiki/Wikipedia:Text_of_Creative_Commons_Attribution-ShareAlike_3.0_Unported_License\" rel=\"license\">Creative Commons Attribution-ShareAlike License</a><a href=\"//creativecommons.org/licenses/by-sa/3.0/\" rel=\"license\" style=\"display:none;\"></a>;\n",
       "additional terms may apply.  By using this site, you agree to the <a href=\"//foundation.wikimedia.org/wiki/Terms_of_Use\">Terms of Use</a> and <a href=\"//foundation.wikimedia.org/wiki/Privacy_policy\">Privacy Policy</a>. Wikipedia® is a registered trademark of the <a href=\"//www.wikimediafoundation.org/\">Wikimedia Foundation, Inc.</a>, a non-profit organization.</li>\n",
       "</ul>\n",
       "<ul id=\"footer-places\">\n",
       "<li id=\"footer-places-privacy\"><a class=\"extiw\" href=\"https://foundation.wikimedia.org/wiki/Privacy_policy\" title=\"wmf:Privacy policy\">Privacy policy</a></li>\n",
       "<li id=\"footer-places-about\"><a href=\"/wiki/Wikipedia:About\" title=\"Wikipedia:About\">About Wikipedia</a></li>\n",
       "<li id=\"footer-places-disclaimer\"><a href=\"/wiki/Wikipedia:General_disclaimer\" title=\"Wikipedia:General disclaimer\">Disclaimers</a></li>\n",
       "<li id=\"footer-places-contact\"><a href=\"//en.wikipedia.org/wiki/Wikipedia:Contact_us\">Contact Wikipedia</a></li>\n",
       "<li id=\"footer-places-mobileview\"><a class=\"noprint stopMobileRedirectToggle\" href=\"//en.m.wikipedia.org/w/index.php?title=Main_Page&amp;mobileaction=toggle_view_mobile\">Mobile view</a></li>\n",
       "<li id=\"footer-places-developers\"><a href=\"https://www.mediawiki.org/wiki/Special:MyLanguage/How_to_contribute\">Developers</a></li>\n",
       "<li id=\"footer-places-statslink\"><a href=\"https://stats.wikimedia.org/#/en.wikipedia.org\">Statistics</a></li>\n",
       "<li id=\"footer-places-cookiestatement\"><a href=\"https://foundation.wikimedia.org/wiki/Cookie_statement\">Cookie statement</a></li>\n",
       "</ul>\n",
       "<ul class=\"noprint\" id=\"footer-icons\">\n",
       "<li id=\"footer-copyrightico\"><a href=\"https://wikimediafoundation.org/\"><img alt=\"Wikimedia Foundation\" height=\"31\" loading=\"lazy\" src=\"/static/images/footer/wikimedia-button.png\" srcset=\"/static/images/footer/wikimedia-button-1.5x.png 1.5x, /static/images/footer/wikimedia-button-2x.png 2x\" width=\"88\"/></a></li>\n",
       "<li id=\"footer-poweredbyico\"><a href=\"https://www.mediawiki.org/\"><img alt=\"Powered by MediaWiki\" height=\"31\" loading=\"lazy\" src=\"/static/images/footer/poweredby_mediawiki_88x31.png\" srcset=\"/static/images/footer/poweredby_mediawiki_132x47.png 1.5x, /static/images/footer/poweredby_mediawiki_176x62.png 2x\" width=\"88\"/></a></li>\n",
       "</ul>\n",
       "</footer>\n",
       "<script>(RLQ=window.RLQ||[]).push(function(){mw.config.set({\"wgPageParseReport\":{\"limitreport\":{\"cputime\":\"0.501\",\"walltime\":\"0.628\",\"ppvisitednodes\":{\"value\":4038,\"limit\":1000000},\"postexpandincludesize\":{\"value\":123814,\"limit\":2097152},\"templateargumentsize\":{\"value\":8416,\"limit\":2097152},\"expansiondepth\":{\"value\":23,\"limit\":40},\"expensivefunctioncount\":{\"value\":17,\"limit\":500},\"unstrip-depth\":{\"value\":0,\"limit\":20},\"unstrip-size\":{\"value\":5370,\"limit\":5000000},\"entityaccesscount\":{\"value\":0,\"limit\":400},\"timingprofile\":[\"100.00%  449.973      1 -total\",\" 46.35%  208.577      9 Template:Main_page_image\",\" 44.81%  201.642      1 Wikipedia:Main_Page/Tomorrow\",\" 29.97%  134.859      9 Template:Str_number/trim\",\" 24.22%  108.996     27 Template:If_empty\",\" 22.28%  100.269      2 Template:Main_page_image/TFA\",\" 20.19%   90.840      1 Wikipedia:Today's_featured_article/May_6,_2021\",\" 12.50%   56.264      2 Template:Wikipedia_languages\",\" 11.19%   50.336     18 Template:Remove_file_prefix\",\" 10.60%   47.694      1 Template:Did_you_know/Queue/5\"]},\"scribunto\":{\"limitreport-timeusage\":{\"value\":\"0.116\",\"limit\":\"10.000\"},\"limitreport-memusage\":{\"value\":2370879,\"limit\":52428800}},\"cachereport\":{\"origin\":\"mw1372\",\"timestamp\":\"20210506162007\",\"ttl\":3600,\"transientcontent\":true}}});});</script>\n",
       "<script type=\"application/ld+json\">{\"@context\":\"https:\\/\\/schema.org\",\"@type\":\"Article\",\"name\":\"Main Page\",\"url\":\"https:\\/\\/en.wikipedia.org\\/wiki\\/Main_Page\",\"sameAs\":\"http:\\/\\/www.wikidata.org\\/entity\\/Q5296\",\"mainEntity\":\"http:\\/\\/www.wikidata.org\\/entity\\/Q5296\",\"author\":{\"@type\":\"Organization\",\"name\":\"Contributors to Wikimedia projects\"},\"publisher\":{\"@type\":\"Organization\",\"name\":\"Wikimedia Foundation, Inc.\",\"logo\":{\"@type\":\"ImageObject\",\"url\":\"https:\\/\\/www.wikimedia.org\\/static\\/images\\/wmf-hor-googpub.png\"}},\"datePublished\":\"2002-01-26T15:28:12Z\",\"dateModified\":\"2021-02-03T11:11:30Z\",\"image\":\"https:\\/\\/upload.wikimedia.org\\/wikipedia\\/commons\\/d\\/d8\\/London%2C_England_%284131769324%29.jpg\",\"headline\":\"Wikimedia project page\"}</script>\n",
       "<script>(RLQ=window.RLQ||[]).push(function(){mw.config.set({\"wgBackendResponseTime\":162,\"wgHostname\":\"mw1328\"});});</script>\n",
       "</body></html>"
      ]
     },
     "execution_count": 4,
     "metadata": {},
     "output_type": "execute_result"
    }
   ],
   "source": [
    "soup = BeautifulSoup(page.content)\n",
    "soup"
   ]
  },
  {
   "cell_type": "code",
   "execution_count": 5,
   "metadata": {
    "scrolled": true
   },
   "outputs": [
    {
     "name": "stdout",
     "output_type": "stream",
     "text": [
      "List all the header tags :\n",
      "\n",
      "<h1 class=\"firstHeading\" id=\"firstHeading\">Main Page</h1>\n",
      "\n",
      "<h2 class=\"mp-h2\" id=\"mp-tfa-h2\"><span id=\"From_today.27s_featured_article\"></span><span class=\"mw-headline\" id=\"From_today's_featured_article\">From today's featured article</span></h2>\n",
      "\n",
      "<h2 class=\"mp-h2\" id=\"mp-dyk-h2\"><span class=\"mw-headline\" id=\"Did_you_know_...\">Did you know ...</span></h2>\n",
      "\n",
      "<h2 class=\"mp-h2\" id=\"mp-itn-h2\"><span class=\"mw-headline\" id=\"In_the_news\">In the news</span></h2>\n",
      "\n",
      "<h2 class=\"mp-h2\" id=\"mp-otd-h2\"><span class=\"mw-headline\" id=\"On_this_day\">On this day</span></h2>\n",
      "\n",
      "<h2 class=\"mp-h2\" id=\"mp-tfp-h2\"><span id=\"Today.27s_featured_picture\"></span><span class=\"mw-headline\" id=\"Today's_featured_picture\">Today's featured picture</span></h2>\n",
      "\n",
      "<h2 class=\"mp-h2\" id=\"mp-other\"><span class=\"mw-headline\" id=\"Other_areas_of_Wikipedia\">Other areas of Wikipedia</span></h2>\n",
      "\n",
      "<h2 class=\"mp-h2\" id=\"mp-sister\"><span id=\"Wikipedia.27s_sister_projects\"></span><span class=\"mw-headline\" id=\"Wikipedia's_sister_projects\">Wikipedia's sister projects</span></h2>\n",
      "\n",
      "<h2 class=\"mp-h2\" id=\"mp-lang\"><span class=\"mw-headline\" id=\"Wikipedia_languages\">Wikipedia languages</span></h2>\n",
      "\n",
      "<h2>Navigation menu</h2>\n",
      "\n",
      "<h3 class=\"vector-menu-heading\" id=\"p-personal-label\">\n",
      "<span>Personal tools</span>\n",
      "</h3>\n",
      "\n",
      "<h3 class=\"vector-menu-heading\" id=\"p-namespaces-label\">\n",
      "<span>Namespaces</span>\n",
      "</h3>\n",
      "\n",
      "<h3 class=\"vector-menu-heading\" id=\"p-variants-label\">\n",
      "<span>Variants</span>\n",
      "</h3>\n",
      "\n",
      "<h3 class=\"vector-menu-heading\" id=\"p-views-label\">\n",
      "<span>Views</span>\n",
      "</h3>\n",
      "\n",
      "<h3 class=\"vector-menu-heading\" id=\"p-cactions-label\">\n",
      "<span>More</span>\n",
      "</h3>\n",
      "\n",
      "<h3>\n",
      "<label for=\"searchInput\">Search</label>\n",
      "</h3>\n",
      "\n",
      "<h3 class=\"vector-menu-heading\" id=\"p-navigation-label\">\n",
      "<span>Navigation</span>\n",
      "</h3>\n",
      "\n",
      "<h3 class=\"vector-menu-heading\" id=\"p-interaction-label\">\n",
      "<span>Contribute</span>\n",
      "</h3>\n",
      "\n",
      "<h3 class=\"vector-menu-heading\" id=\"p-tb-label\">\n",
      "<span>Tools</span>\n",
      "</h3>\n",
      "\n",
      "<h3 class=\"vector-menu-heading\" id=\"p-coll-print_export-label\">\n",
      "<span>Print/export</span>\n",
      "</h3>\n",
      "\n",
      "<h3 class=\"vector-menu-heading\" id=\"p-wikibase-otherprojects-label\">\n",
      "<span>In other projects</span>\n",
      "</h3>\n",
      "\n",
      "<h3 class=\"vector-menu-heading\" id=\"p-lang-label\">\n",
      "<span>Languages</span>\n",
      "</h3>\n"
     ]
    }
   ],
   "source": [
    "titles = soup.find_all(['h1', 'h2','h3','h4','h5','h6'])\n",
    "print('List all the header tags :', *titles, sep='\\n\\n')"
   ]
  },
  {
   "cell_type": "markdown",
   "metadata": {},
   "source": [
    "## Task 2"
   ]
  },
  {
   "cell_type": "code",
   "execution_count": 32,
   "metadata": {},
   "outputs": [
    {
     "data": {
      "text/plain": [
       "<Response [200]>"
      ]
     },
     "execution_count": 32,
     "metadata": {},
     "output_type": "execute_result"
    }
   ],
   "source": [
    "page2 = requests.get('https://www.imdb.com/search/title/?groups=top_100&sort=user_rating,desc')\n",
    "page2"
   ]
  },
  {
   "cell_type": "code",
   "execution_count": 33,
   "metadata": {},
   "outputs": [],
   "source": [
    "soup2 = BeautifulSoup(page2.content)"
   ]
  },
  {
   "cell_type": "code",
   "execution_count": 38,
   "metadata": {
    "scrolled": false
   },
   "outputs": [],
   "source": [
    "title = soup2.find_all('h3',class_='lister-item-header')"
   ]
  },
  {
   "cell_type": "code",
   "execution_count": 40,
   "metadata": {
    "scrolled": true
   },
   "outputs": [
    {
     "data": {
      "text/plain": [
       "[]"
      ]
     },
     "execution_count": 40,
     "metadata": {},
     "output_type": "execute_result"
    }
   ],
   "source": [
    "title2 = soup2.find_all('a',href_='/title/tt0034583/?ref_=adv_li_tt')\n",
    "title2 ##<a href=\"/title/tt0034583/?ref_=adv_li_tt\">Casablanca</a>"
   ]
  },
  {
   "cell_type": "code",
   "execution_count": 12,
   "metadata": {
    "scrolled": true
   },
   "outputs": [
    {
     "data": {
      "text/plain": [
       "['1.The Shawshank Redemption(1994)',\n",
       " '2.The Godfather(1972)',\n",
       " '3.The Dark Knight(2008)',\n",
       " '4.The Godfather: Part II(1974)',\n",
       " '5.12 Angry Men(1957)',\n",
       " '6.The Lord of the Rings: The Return of the King(2003)',\n",
       " '7.Pulp Fiction(1994)',\n",
       " \"8.Schindler's List(1993)\",\n",
       " '9.Inception(2010)',\n",
       " '10.Fight Club(1999)',\n",
       " '11.The Lord of the Rings: The Fellowship of the Ring(2001)',\n",
       " '12.Forrest Gump(1994)',\n",
       " '13.Il buono, il brutto, il cattivo(1966)',\n",
       " '14.The Lord of the Rings: The Two Towers(2002)',\n",
       " '15.The Matrix(1999)',\n",
       " '16.Goodfellas(1990)',\n",
       " '17.Star Wars: Episode V - The Empire Strikes Back(1980)',\n",
       " \"18.One Flew Over the Cuckoo's Nest(1975)\",\n",
       " '19.Gisaengchung(2019)',\n",
       " '20.Interstellar(2014)',\n",
       " '21.Cidade de Deus(2002)',\n",
       " '22.Sen to Chihiro no kamikakushi(2001)',\n",
       " '23.Saving Private Ryan(1998)',\n",
       " '24.The Green Mile(1999)',\n",
       " '25.La vita è bella(1997)',\n",
       " '26.Se7en(1995)',\n",
       " '27.The Silence of the Lambs(1991)',\n",
       " '28.Star Wars(1977)',\n",
       " '29.Seppuku(1962)',\n",
       " '30.Shichinin no samurai(1954)',\n",
       " \"31.It's a Wonderful Life(1946)\",\n",
       " '32.Hamilton(2020)',\n",
       " '33.Whiplash(2014)',\n",
       " '34.The Intouchables(2011)',\n",
       " '35.The Prestige(2006)',\n",
       " '36.The Departed(2006)',\n",
       " '37.The Pianist(2002)',\n",
       " '38.Gladiator(2000)',\n",
       " '39.American History X(1998)',\n",
       " '40.The Usual Suspects(1995)',\n",
       " '41.Léon(1994)',\n",
       " '42.The Lion King(1994)',\n",
       " '43.Terminator 2: Judgment Day(1991)',\n",
       " '44.Nuovo Cinema Paradiso(1988)',\n",
       " '45.Hotaru no haka(1988)',\n",
       " '46.Back to the Future(1985)',\n",
       " '47.Once Upon a Time in the West(1968)',\n",
       " '48.Psycho(1960)',\n",
       " '49.Casablanca(1942)',\n",
       " '50.Modern Times(1936)']"
      ]
     },
     "execution_count": 12,
     "metadata": {},
     "output_type": "execute_result"
    }
   ],
   "source": [
    "names = []\n",
    "for i in title:\n",
    "    names.append(i.text.replace('\\n',''))\n",
    "names"
   ]
  },
  {
   "cell_type": "code",
   "execution_count": 14,
   "metadata": {},
   "outputs": [
    {
     "data": {
      "text/plain": [
       "[<div class=\"inline-block ratings-imdb-rating\" data-value=\"9.3\" name=\"ir\">\n",
       " <span class=\"global-sprite rating-star imdb-rating\"></span>\n",
       " <strong>9.3</strong>\n",
       " </div>,\n",
       " <div class=\"inline-block ratings-imdb-rating\" data-value=\"9.2\" name=\"ir\">\n",
       " <span class=\"global-sprite rating-star imdb-rating\"></span>\n",
       " <strong>9.2</strong>\n",
       " </div>,\n",
       " <div class=\"inline-block ratings-imdb-rating\" data-value=\"9\" name=\"ir\">\n",
       " <span class=\"global-sprite rating-star imdb-rating\"></span>\n",
       " <strong>9.0</strong>\n",
       " </div>,\n",
       " <div class=\"inline-block ratings-imdb-rating\" data-value=\"9\" name=\"ir\">\n",
       " <span class=\"global-sprite rating-star imdb-rating\"></span>\n",
       " <strong>9.0</strong>\n",
       " </div>,\n",
       " <div class=\"inline-block ratings-imdb-rating\" data-value=\"9\" name=\"ir\">\n",
       " <span class=\"global-sprite rating-star imdb-rating\"></span>\n",
       " <strong>9.0</strong>\n",
       " </div>,\n",
       " <div class=\"inline-block ratings-imdb-rating\" data-value=\"8.9\" name=\"ir\">\n",
       " <span class=\"global-sprite rating-star imdb-rating\"></span>\n",
       " <strong>8.9</strong>\n",
       " </div>,\n",
       " <div class=\"inline-block ratings-imdb-rating\" data-value=\"8.9\" name=\"ir\">\n",
       " <span class=\"global-sprite rating-star imdb-rating\"></span>\n",
       " <strong>8.9</strong>\n",
       " </div>,\n",
       " <div class=\"inline-block ratings-imdb-rating\" data-value=\"8.9\" name=\"ir\">\n",
       " <span class=\"global-sprite rating-star imdb-rating\"></span>\n",
       " <strong>8.9</strong>\n",
       " </div>,\n",
       " <div class=\"inline-block ratings-imdb-rating\" data-value=\"8.8\" name=\"ir\">\n",
       " <span class=\"global-sprite rating-star imdb-rating\"></span>\n",
       " <strong>8.8</strong>\n",
       " </div>,\n",
       " <div class=\"inline-block ratings-imdb-rating\" data-value=\"8.8\" name=\"ir\">\n",
       " <span class=\"global-sprite rating-star imdb-rating\"></span>\n",
       " <strong>8.8</strong>\n",
       " </div>,\n",
       " <div class=\"inline-block ratings-imdb-rating\" data-value=\"8.8\" name=\"ir\">\n",
       " <span class=\"global-sprite rating-star imdb-rating\"></span>\n",
       " <strong>8.8</strong>\n",
       " </div>,\n",
       " <div class=\"inline-block ratings-imdb-rating\" data-value=\"8.8\" name=\"ir\">\n",
       " <span class=\"global-sprite rating-star imdb-rating\"></span>\n",
       " <strong>8.8</strong>\n",
       " </div>,\n",
       " <div class=\"inline-block ratings-imdb-rating\" data-value=\"8.8\" name=\"ir\">\n",
       " <span class=\"global-sprite rating-star imdb-rating\"></span>\n",
       " <strong>8.8</strong>\n",
       " </div>,\n",
       " <div class=\"inline-block ratings-imdb-rating\" data-value=\"8.7\" name=\"ir\">\n",
       " <span class=\"global-sprite rating-star imdb-rating\"></span>\n",
       " <strong>8.7</strong>\n",
       " </div>,\n",
       " <div class=\"inline-block ratings-imdb-rating\" data-value=\"8.7\" name=\"ir\">\n",
       " <span class=\"global-sprite rating-star imdb-rating\"></span>\n",
       " <strong>8.7</strong>\n",
       " </div>,\n",
       " <div class=\"inline-block ratings-imdb-rating\" data-value=\"8.7\" name=\"ir\">\n",
       " <span class=\"global-sprite rating-star imdb-rating\"></span>\n",
       " <strong>8.7</strong>\n",
       " </div>,\n",
       " <div class=\"inline-block ratings-imdb-rating\" data-value=\"8.7\" name=\"ir\">\n",
       " <span class=\"global-sprite rating-star imdb-rating\"></span>\n",
       " <strong>8.7</strong>\n",
       " </div>,\n",
       " <div class=\"inline-block ratings-imdb-rating\" data-value=\"8.7\" name=\"ir\">\n",
       " <span class=\"global-sprite rating-star imdb-rating\"></span>\n",
       " <strong>8.7</strong>\n",
       " </div>,\n",
       " <div class=\"inline-block ratings-imdb-rating\" data-value=\"8.6\" name=\"ir\">\n",
       " <span class=\"global-sprite rating-star imdb-rating\"></span>\n",
       " <strong>8.6</strong>\n",
       " </div>,\n",
       " <div class=\"inline-block ratings-imdb-rating\" data-value=\"8.6\" name=\"ir\">\n",
       " <span class=\"global-sprite rating-star imdb-rating\"></span>\n",
       " <strong>8.6</strong>\n",
       " </div>,\n",
       " <div class=\"inline-block ratings-imdb-rating\" data-value=\"8.6\" name=\"ir\">\n",
       " <span class=\"global-sprite rating-star imdb-rating\"></span>\n",
       " <strong>8.6</strong>\n",
       " </div>,\n",
       " <div class=\"inline-block ratings-imdb-rating\" data-value=\"8.6\" name=\"ir\">\n",
       " <span class=\"global-sprite rating-star imdb-rating\"></span>\n",
       " <strong>8.6</strong>\n",
       " </div>,\n",
       " <div class=\"inline-block ratings-imdb-rating\" data-value=\"8.6\" name=\"ir\">\n",
       " <span class=\"global-sprite rating-star imdb-rating\"></span>\n",
       " <strong>8.6</strong>\n",
       " </div>,\n",
       " <div class=\"inline-block ratings-imdb-rating\" data-value=\"8.6\" name=\"ir\">\n",
       " <span class=\"global-sprite rating-star imdb-rating\"></span>\n",
       " <strong>8.6</strong>\n",
       " </div>,\n",
       " <div class=\"inline-block ratings-imdb-rating\" data-value=\"8.6\" name=\"ir\">\n",
       " <span class=\"global-sprite rating-star imdb-rating\"></span>\n",
       " <strong>8.6</strong>\n",
       " </div>,\n",
       " <div class=\"inline-block ratings-imdb-rating\" data-value=\"8.6\" name=\"ir\">\n",
       " <span class=\"global-sprite rating-star imdb-rating\"></span>\n",
       " <strong>8.6</strong>\n",
       " </div>,\n",
       " <div class=\"inline-block ratings-imdb-rating\" data-value=\"8.6\" name=\"ir\">\n",
       " <span class=\"global-sprite rating-star imdb-rating\"></span>\n",
       " <strong>8.6</strong>\n",
       " </div>,\n",
       " <div class=\"inline-block ratings-imdb-rating\" data-value=\"8.6\" name=\"ir\">\n",
       " <span class=\"global-sprite rating-star imdb-rating\"></span>\n",
       " <strong>8.6</strong>\n",
       " </div>,\n",
       " <div class=\"inline-block ratings-imdb-rating\" data-value=\"8.6\" name=\"ir\">\n",
       " <span class=\"global-sprite rating-star imdb-rating\"></span>\n",
       " <strong>8.6</strong>\n",
       " </div>,\n",
       " <div class=\"inline-block ratings-imdb-rating\" data-value=\"8.6\" name=\"ir\">\n",
       " <span class=\"global-sprite rating-star imdb-rating\"></span>\n",
       " <strong>8.6</strong>\n",
       " </div>,\n",
       " <div class=\"inline-block ratings-imdb-rating\" data-value=\"8.6\" name=\"ir\">\n",
       " <span class=\"global-sprite rating-star imdb-rating\"></span>\n",
       " <strong>8.6</strong>\n",
       " </div>,\n",
       " <div class=\"inline-block ratings-imdb-rating\" data-value=\"8.5\" name=\"ir\">\n",
       " <span class=\"global-sprite rating-star imdb-rating\"></span>\n",
       " <strong>8.5</strong>\n",
       " </div>,\n",
       " <div class=\"inline-block ratings-imdb-rating\" data-value=\"8.5\" name=\"ir\">\n",
       " <span class=\"global-sprite rating-star imdb-rating\"></span>\n",
       " <strong>8.5</strong>\n",
       " </div>,\n",
       " <div class=\"inline-block ratings-imdb-rating\" data-value=\"8.5\" name=\"ir\">\n",
       " <span class=\"global-sprite rating-star imdb-rating\"></span>\n",
       " <strong>8.5</strong>\n",
       " </div>,\n",
       " <div class=\"inline-block ratings-imdb-rating\" data-value=\"8.5\" name=\"ir\">\n",
       " <span class=\"global-sprite rating-star imdb-rating\"></span>\n",
       " <strong>8.5</strong>\n",
       " </div>,\n",
       " <div class=\"inline-block ratings-imdb-rating\" data-value=\"8.5\" name=\"ir\">\n",
       " <span class=\"global-sprite rating-star imdb-rating\"></span>\n",
       " <strong>8.5</strong>\n",
       " </div>,\n",
       " <div class=\"inline-block ratings-imdb-rating\" data-value=\"8.5\" name=\"ir\">\n",
       " <span class=\"global-sprite rating-star imdb-rating\"></span>\n",
       " <strong>8.5</strong>\n",
       " </div>,\n",
       " <div class=\"inline-block ratings-imdb-rating\" data-value=\"8.5\" name=\"ir\">\n",
       " <span class=\"global-sprite rating-star imdb-rating\"></span>\n",
       " <strong>8.5</strong>\n",
       " </div>,\n",
       " <div class=\"inline-block ratings-imdb-rating\" data-value=\"8.5\" name=\"ir\">\n",
       " <span class=\"global-sprite rating-star imdb-rating\"></span>\n",
       " <strong>8.5</strong>\n",
       " </div>,\n",
       " <div class=\"inline-block ratings-imdb-rating\" data-value=\"8.5\" name=\"ir\">\n",
       " <span class=\"global-sprite rating-star imdb-rating\"></span>\n",
       " <strong>8.5</strong>\n",
       " </div>,\n",
       " <div class=\"inline-block ratings-imdb-rating\" data-value=\"8.5\" name=\"ir\">\n",
       " <span class=\"global-sprite rating-star imdb-rating\"></span>\n",
       " <strong>8.5</strong>\n",
       " </div>,\n",
       " <div class=\"inline-block ratings-imdb-rating\" data-value=\"8.5\" name=\"ir\">\n",
       " <span class=\"global-sprite rating-star imdb-rating\"></span>\n",
       " <strong>8.5</strong>\n",
       " </div>,\n",
       " <div class=\"inline-block ratings-imdb-rating\" data-value=\"8.5\" name=\"ir\">\n",
       " <span class=\"global-sprite rating-star imdb-rating\"></span>\n",
       " <strong>8.5</strong>\n",
       " </div>,\n",
       " <div class=\"inline-block ratings-imdb-rating\" data-value=\"8.5\" name=\"ir\">\n",
       " <span class=\"global-sprite rating-star imdb-rating\"></span>\n",
       " <strong>8.5</strong>\n",
       " </div>,\n",
       " <div class=\"inline-block ratings-imdb-rating\" data-value=\"8.5\" name=\"ir\">\n",
       " <span class=\"global-sprite rating-star imdb-rating\"></span>\n",
       " <strong>8.5</strong>\n",
       " </div>,\n",
       " <div class=\"inline-block ratings-imdb-rating\" data-value=\"8.5\" name=\"ir\">\n",
       " <span class=\"global-sprite rating-star imdb-rating\"></span>\n",
       " <strong>8.5</strong>\n",
       " </div>,\n",
       " <div class=\"inline-block ratings-imdb-rating\" data-value=\"8.5\" name=\"ir\">\n",
       " <span class=\"global-sprite rating-star imdb-rating\"></span>\n",
       " <strong>8.5</strong>\n",
       " </div>,\n",
       " <div class=\"inline-block ratings-imdb-rating\" data-value=\"8.5\" name=\"ir\">\n",
       " <span class=\"global-sprite rating-star imdb-rating\"></span>\n",
       " <strong>8.5</strong>\n",
       " </div>,\n",
       " <div class=\"inline-block ratings-imdb-rating\" data-value=\"8.5\" name=\"ir\">\n",
       " <span class=\"global-sprite rating-star imdb-rating\"></span>\n",
       " <strong>8.5</strong>\n",
       " </div>,\n",
       " <div class=\"inline-block ratings-imdb-rating\" data-value=\"8.5\" name=\"ir\">\n",
       " <span class=\"global-sprite rating-star imdb-rating\"></span>\n",
       " <strong>8.5</strong>\n",
       " </div>]"
      ]
     },
     "execution_count": 14,
     "metadata": {},
     "output_type": "execute_result"
    }
   ],
   "source": [
    "title2 = soup2.find_all('div',class_='inline-block ratings-imdb-rating')\n",
    "title2"
   ]
  },
  {
   "cell_type": "code",
   "execution_count": 16,
   "metadata": {},
   "outputs": [
    {
     "data": {
      "text/plain": [
       "['9.3',\n",
       " '9.2',\n",
       " '9.0',\n",
       " '9.0',\n",
       " '9.0',\n",
       " '8.9',\n",
       " '8.9',\n",
       " '8.9',\n",
       " '8.8',\n",
       " '8.8',\n",
       " '8.8',\n",
       " '8.8',\n",
       " '8.8',\n",
       " '8.7',\n",
       " '8.7',\n",
       " '8.7',\n",
       " '8.7',\n",
       " '8.7',\n",
       " '8.6',\n",
       " '8.6',\n",
       " '8.6',\n",
       " '8.6',\n",
       " '8.6',\n",
       " '8.6',\n",
       " '8.6',\n",
       " '8.6',\n",
       " '8.6',\n",
       " '8.6',\n",
       " '8.6',\n",
       " '8.6',\n",
       " '8.6',\n",
       " '8.5',\n",
       " '8.5',\n",
       " '8.5',\n",
       " '8.5',\n",
       " '8.5',\n",
       " '8.5',\n",
       " '8.5',\n",
       " '8.5',\n",
       " '8.5',\n",
       " '8.5',\n",
       " '8.5',\n",
       " '8.5',\n",
       " '8.5',\n",
       " '8.5',\n",
       " '8.5',\n",
       " '8.5',\n",
       " '8.5',\n",
       " '8.5',\n",
       " '8.5']"
      ]
     },
     "execution_count": 16,
     "metadata": {},
     "output_type": "execute_result"
    }
   ],
   "source": [
    "stars = []\n",
    "for i in title2:\n",
    "    stars.append(i.text.replace('\\n',''))\n",
    "stars"
   ]
  },
  {
   "cell_type": "code",
   "execution_count": 18,
   "metadata": {},
   "outputs": [
    {
     "data": {
      "text/plain": [
       "[<span class=\"lister-item-year text-muted unbold\">(1994)</span>,\n",
       " <span class=\"lister-item-year text-muted unbold\">(1972)</span>,\n",
       " <span class=\"lister-item-year text-muted unbold\">(2008)</span>,\n",
       " <span class=\"lister-item-year text-muted unbold\">(1974)</span>,\n",
       " <span class=\"lister-item-year text-muted unbold\">(1957)</span>,\n",
       " <span class=\"lister-item-year text-muted unbold\">(2003)</span>,\n",
       " <span class=\"lister-item-year text-muted unbold\">(1994)</span>,\n",
       " <span class=\"lister-item-year text-muted unbold\">(1993)</span>,\n",
       " <span class=\"lister-item-year text-muted unbold\">(2010)</span>,\n",
       " <span class=\"lister-item-year text-muted unbold\">(1999)</span>,\n",
       " <span class=\"lister-item-year text-muted unbold\">(2001)</span>,\n",
       " <span class=\"lister-item-year text-muted unbold\">(1994)</span>,\n",
       " <span class=\"lister-item-year text-muted unbold\">(1966)</span>,\n",
       " <span class=\"lister-item-year text-muted unbold\">(2002)</span>,\n",
       " <span class=\"lister-item-year text-muted unbold\">(1999)</span>,\n",
       " <span class=\"lister-item-year text-muted unbold\">(1990)</span>,\n",
       " <span class=\"lister-item-year text-muted unbold\">(1980)</span>,\n",
       " <span class=\"lister-item-year text-muted unbold\">(1975)</span>,\n",
       " <span class=\"lister-item-year text-muted unbold\">(2019)</span>,\n",
       " <span class=\"lister-item-year text-muted unbold\">(2014)</span>,\n",
       " <span class=\"lister-item-year text-muted unbold\">(2002)</span>,\n",
       " <span class=\"lister-item-year text-muted unbold\">(2001)</span>,\n",
       " <span class=\"lister-item-year text-muted unbold\">(1998)</span>,\n",
       " <span class=\"lister-item-year text-muted unbold\">(1999)</span>,\n",
       " <span class=\"lister-item-year text-muted unbold\">(1997)</span>,\n",
       " <span class=\"lister-item-year text-muted unbold\">(1995)</span>,\n",
       " <span class=\"lister-item-year text-muted unbold\">(1991)</span>,\n",
       " <span class=\"lister-item-year text-muted unbold\">(1977)</span>,\n",
       " <span class=\"lister-item-year text-muted unbold\">(1962)</span>,\n",
       " <span class=\"lister-item-year text-muted unbold\">(1954)</span>,\n",
       " <span class=\"lister-item-year text-muted unbold\">(1946)</span>,\n",
       " <span class=\"lister-item-year text-muted unbold\">(2020)</span>,\n",
       " <span class=\"lister-item-year text-muted unbold\">(2014)</span>,\n",
       " <span class=\"lister-item-year text-muted unbold\">(2011)</span>,\n",
       " <span class=\"lister-item-year text-muted unbold\">(2006)</span>,\n",
       " <span class=\"lister-item-year text-muted unbold\">(2006)</span>,\n",
       " <span class=\"lister-item-year text-muted unbold\">(2002)</span>,\n",
       " <span class=\"lister-item-year text-muted unbold\">(2000)</span>,\n",
       " <span class=\"lister-item-year text-muted unbold\">(1998)</span>,\n",
       " <span class=\"lister-item-year text-muted unbold\">(1995)</span>,\n",
       " <span class=\"lister-item-year text-muted unbold\">(1994)</span>,\n",
       " <span class=\"lister-item-year text-muted unbold\">(1994)</span>,\n",
       " <span class=\"lister-item-year text-muted unbold\">(1991)</span>,\n",
       " <span class=\"lister-item-year text-muted unbold\">(1988)</span>,\n",
       " <span class=\"lister-item-year text-muted unbold\">(1988)</span>,\n",
       " <span class=\"lister-item-year text-muted unbold\">(1985)</span>,\n",
       " <span class=\"lister-item-year text-muted unbold\">(1968)</span>,\n",
       " <span class=\"lister-item-year text-muted unbold\">(1960)</span>,\n",
       " <span class=\"lister-item-year text-muted unbold\">(1942)</span>,\n",
       " <span class=\"lister-item-year text-muted unbold\">(1936)</span>]"
      ]
     },
     "execution_count": 18,
     "metadata": {},
     "output_type": "execute_result"
    }
   ],
   "source": [
    "year = soup2.find_all('span',class_='lister-item-year text-muted unbold')\n",
    "year"
   ]
  },
  {
   "cell_type": "code",
   "execution_count": 21,
   "metadata": {},
   "outputs": [
    {
     "data": {
      "text/plain": [
       "['(1994)',\n",
       " '(1972)',\n",
       " '(2008)',\n",
       " '(1974)',\n",
       " '(1957)',\n",
       " '(2003)',\n",
       " '(1994)',\n",
       " '(1993)',\n",
       " '(2010)',\n",
       " '(1999)',\n",
       " '(2001)',\n",
       " '(1994)',\n",
       " '(1966)',\n",
       " '(2002)',\n",
       " '(1999)',\n",
       " '(1990)',\n",
       " '(1980)',\n",
       " '(1975)',\n",
       " '(2019)',\n",
       " '(2014)',\n",
       " '(2002)',\n",
       " '(2001)',\n",
       " '(1998)',\n",
       " '(1999)',\n",
       " '(1997)',\n",
       " '(1995)',\n",
       " '(1991)',\n",
       " '(1977)',\n",
       " '(1962)',\n",
       " '(1954)',\n",
       " '(1946)',\n",
       " '(2020)',\n",
       " '(2014)',\n",
       " '(2011)',\n",
       " '(2006)',\n",
       " '(2006)',\n",
       " '(2002)',\n",
       " '(2000)',\n",
       " '(1998)',\n",
       " '(1995)',\n",
       " '(1994)',\n",
       " '(1994)',\n",
       " '(1991)',\n",
       " '(1988)',\n",
       " '(1988)',\n",
       " '(1985)',\n",
       " '(1968)',\n",
       " '(1960)',\n",
       " '(1942)',\n",
       " '(1936)']"
      ]
     },
     "execution_count": 21,
     "metadata": {},
     "output_type": "execute_result"
    }
   ],
   "source": [
    "years = []\n",
    "for i in year:\n",
    "    years.append(i.text)\n",
    "years"
   ]
  },
  {
   "cell_type": "code",
   "execution_count": 82,
   "metadata": {},
   "outputs": [],
   "source": [
    "def year(x):\n",
    "    for i in years:\n",
    "         i.replace('(x)',x)\n",
    "            "
   ]
  },
  {
   "cell_type": "code",
   "execution_count": 83,
   "metadata": {
    "scrolled": true
   },
   "outputs": [
    {
     "ename": "TypeError",
     "evalue": "replace() argument 2 must be str, not int",
     "output_type": "error",
     "traceback": [
      "\u001b[1;31m---------------------------------------------------------------------------\u001b[0m",
      "\u001b[1;31mTypeError\u001b[0m                                 Traceback (most recent call last)",
      "\u001b[1;32m<ipython-input-83-dee89517d305>\u001b[0m in \u001b[0;36m<module>\u001b[1;34m\u001b[0m\n\u001b[1;32m----> 1\u001b[1;33m \u001b[0myear\u001b[0m\u001b[1;33m(\u001b[0m\u001b[1;33m(\u001b[0m\u001b[1;36m200\u001b[0m\u001b[1;33m)\u001b[0m\u001b[1;33m)\u001b[0m\u001b[1;33m\u001b[0m\u001b[1;33m\u001b[0m\u001b[0m\n\u001b[0m",
      "\u001b[1;32m<ipython-input-82-855c10819d4f>\u001b[0m in \u001b[0;36myear\u001b[1;34m(x)\u001b[0m\n\u001b[0;32m      1\u001b[0m \u001b[1;32mdef\u001b[0m \u001b[0myear\u001b[0m\u001b[1;33m(\u001b[0m\u001b[0mx\u001b[0m\u001b[1;33m)\u001b[0m\u001b[1;33m:\u001b[0m\u001b[1;33m\u001b[0m\u001b[1;33m\u001b[0m\u001b[0m\n\u001b[0;32m      2\u001b[0m     \u001b[1;32mfor\u001b[0m \u001b[0mi\u001b[0m \u001b[1;32min\u001b[0m \u001b[0myears\u001b[0m\u001b[1;33m:\u001b[0m\u001b[1;33m\u001b[0m\u001b[1;33m\u001b[0m\u001b[0m\n\u001b[1;32m----> 3\u001b[1;33m          \u001b[0mi\u001b[0m\u001b[1;33m.\u001b[0m\u001b[0mreplace\u001b[0m\u001b[1;33m(\u001b[0m\u001b[1;34m'(x)'\u001b[0m\u001b[1;33m,\u001b[0m\u001b[0mx\u001b[0m\u001b[1;33m)\u001b[0m\u001b[1;33m\u001b[0m\u001b[1;33m\u001b[0m\u001b[0m\n\u001b[0m\u001b[0;32m      4\u001b[0m \u001b[1;33m\u001b[0m\u001b[0m\n",
      "\u001b[1;31mTypeError\u001b[0m: replace() argument 2 must be str, not int"
     ]
    }
   ],
   "source": [
    "year((200))"
   ]
  },
  {
   "cell_type": "code",
   "execution_count": 88,
   "metadata": {},
   "outputs": [],
   "source": [
    "import pandas as pd"
   ]
  },
  {
   "cell_type": "code",
   "execution_count": 89,
   "metadata": {},
   "outputs": [],
   "source": [
    "movies = pd.DataFrame({})\n",
    "movies['names'] = names\n",
    "movies['release_year'] = years\n",
    "movies['imdb_ratings'] = stars"
   ]
  },
  {
   "cell_type": "code",
   "execution_count": 90,
   "metadata": {
    "scrolled": true
   },
   "outputs": [
    {
     "data": {
      "text/html": [
       "<div>\n",
       "<style scoped>\n",
       "    .dataframe tbody tr th:only-of-type {\n",
       "        vertical-align: middle;\n",
       "    }\n",
       "\n",
       "    .dataframe tbody tr th {\n",
       "        vertical-align: top;\n",
       "    }\n",
       "\n",
       "    .dataframe thead th {\n",
       "        text-align: right;\n",
       "    }\n",
       "</style>\n",
       "<table border=\"1\" class=\"dataframe\">\n",
       "  <thead>\n",
       "    <tr style=\"text-align: right;\">\n",
       "      <th></th>\n",
       "      <th>names</th>\n",
       "      <th>release_year</th>\n",
       "      <th>imdb_ratings</th>\n",
       "    </tr>\n",
       "  </thead>\n",
       "  <tbody>\n",
       "    <tr>\n",
       "      <th>0</th>\n",
       "      <td>1.The Shawshank Redemption(1994)</td>\n",
       "      <td>(1994)</td>\n",
       "      <td>9.3</td>\n",
       "    </tr>\n",
       "    <tr>\n",
       "      <th>1</th>\n",
       "      <td>2.The Godfather(1972)</td>\n",
       "      <td>(1972)</td>\n",
       "      <td>9.2</td>\n",
       "    </tr>\n",
       "    <tr>\n",
       "      <th>2</th>\n",
       "      <td>3.The Dark Knight(2008)</td>\n",
       "      <td>(2008)</td>\n",
       "      <td>9.0</td>\n",
       "    </tr>\n",
       "    <tr>\n",
       "      <th>3</th>\n",
       "      <td>4.The Godfather: Part II(1974)</td>\n",
       "      <td>(1974)</td>\n",
       "      <td>9.0</td>\n",
       "    </tr>\n",
       "    <tr>\n",
       "      <th>4</th>\n",
       "      <td>5.12 Angry Men(1957)</td>\n",
       "      <td>(1957)</td>\n",
       "      <td>9.0</td>\n",
       "    </tr>\n",
       "    <tr>\n",
       "      <th>5</th>\n",
       "      <td>6.The Lord of the Rings: The Return of the Kin...</td>\n",
       "      <td>(2003)</td>\n",
       "      <td>8.9</td>\n",
       "    </tr>\n",
       "    <tr>\n",
       "      <th>6</th>\n",
       "      <td>7.Pulp Fiction(1994)</td>\n",
       "      <td>(1994)</td>\n",
       "      <td>8.9</td>\n",
       "    </tr>\n",
       "    <tr>\n",
       "      <th>7</th>\n",
       "      <td>8.Schindler's List(1993)</td>\n",
       "      <td>(1993)</td>\n",
       "      <td>8.9</td>\n",
       "    </tr>\n",
       "    <tr>\n",
       "      <th>8</th>\n",
       "      <td>9.Inception(2010)</td>\n",
       "      <td>(2010)</td>\n",
       "      <td>8.8</td>\n",
       "    </tr>\n",
       "    <tr>\n",
       "      <th>9</th>\n",
       "      <td>10.Fight Club(1999)</td>\n",
       "      <td>(1999)</td>\n",
       "      <td>8.8</td>\n",
       "    </tr>\n",
       "    <tr>\n",
       "      <th>10</th>\n",
       "      <td>11.The Lord of the Rings: The Fellowship of th...</td>\n",
       "      <td>(2001)</td>\n",
       "      <td>8.8</td>\n",
       "    </tr>\n",
       "    <tr>\n",
       "      <th>11</th>\n",
       "      <td>12.Forrest Gump(1994)</td>\n",
       "      <td>(1994)</td>\n",
       "      <td>8.8</td>\n",
       "    </tr>\n",
       "    <tr>\n",
       "      <th>12</th>\n",
       "      <td>13.Il buono, il brutto, il cattivo(1966)</td>\n",
       "      <td>(1966)</td>\n",
       "      <td>8.8</td>\n",
       "    </tr>\n",
       "    <tr>\n",
       "      <th>13</th>\n",
       "      <td>14.The Lord of the Rings: The Two Towers(2002)</td>\n",
       "      <td>(2002)</td>\n",
       "      <td>8.7</td>\n",
       "    </tr>\n",
       "    <tr>\n",
       "      <th>14</th>\n",
       "      <td>15.The Matrix(1999)</td>\n",
       "      <td>(1999)</td>\n",
       "      <td>8.7</td>\n",
       "    </tr>\n",
       "    <tr>\n",
       "      <th>15</th>\n",
       "      <td>16.Goodfellas(1990)</td>\n",
       "      <td>(1990)</td>\n",
       "      <td>8.7</td>\n",
       "    </tr>\n",
       "    <tr>\n",
       "      <th>16</th>\n",
       "      <td>17.Star Wars: Episode V - The Empire Strikes B...</td>\n",
       "      <td>(1980)</td>\n",
       "      <td>8.7</td>\n",
       "    </tr>\n",
       "    <tr>\n",
       "      <th>17</th>\n",
       "      <td>18.One Flew Over the Cuckoo's Nest(1975)</td>\n",
       "      <td>(1975)</td>\n",
       "      <td>8.7</td>\n",
       "    </tr>\n",
       "    <tr>\n",
       "      <th>18</th>\n",
       "      <td>19.Gisaengchung(2019)</td>\n",
       "      <td>(2019)</td>\n",
       "      <td>8.6</td>\n",
       "    </tr>\n",
       "    <tr>\n",
       "      <th>19</th>\n",
       "      <td>20.Interstellar(2014)</td>\n",
       "      <td>(2014)</td>\n",
       "      <td>8.6</td>\n",
       "    </tr>\n",
       "    <tr>\n",
       "      <th>20</th>\n",
       "      <td>21.Cidade de Deus(2002)</td>\n",
       "      <td>(2002)</td>\n",
       "      <td>8.6</td>\n",
       "    </tr>\n",
       "    <tr>\n",
       "      <th>21</th>\n",
       "      <td>22.Sen to Chihiro no kamikakushi(2001)</td>\n",
       "      <td>(2001)</td>\n",
       "      <td>8.6</td>\n",
       "    </tr>\n",
       "    <tr>\n",
       "      <th>22</th>\n",
       "      <td>23.Saving Private Ryan(1998)</td>\n",
       "      <td>(1998)</td>\n",
       "      <td>8.6</td>\n",
       "    </tr>\n",
       "    <tr>\n",
       "      <th>23</th>\n",
       "      <td>24.The Green Mile(1999)</td>\n",
       "      <td>(1999)</td>\n",
       "      <td>8.6</td>\n",
       "    </tr>\n",
       "    <tr>\n",
       "      <th>24</th>\n",
       "      <td>25.La vita è bella(1997)</td>\n",
       "      <td>(1997)</td>\n",
       "      <td>8.6</td>\n",
       "    </tr>\n",
       "    <tr>\n",
       "      <th>25</th>\n",
       "      <td>26.Se7en(1995)</td>\n",
       "      <td>(1995)</td>\n",
       "      <td>8.6</td>\n",
       "    </tr>\n",
       "    <tr>\n",
       "      <th>26</th>\n",
       "      <td>27.The Silence of the Lambs(1991)</td>\n",
       "      <td>(1991)</td>\n",
       "      <td>8.6</td>\n",
       "    </tr>\n",
       "    <tr>\n",
       "      <th>27</th>\n",
       "      <td>28.Star Wars(1977)</td>\n",
       "      <td>(1977)</td>\n",
       "      <td>8.6</td>\n",
       "    </tr>\n",
       "    <tr>\n",
       "      <th>28</th>\n",
       "      <td>29.Seppuku(1962)</td>\n",
       "      <td>(1962)</td>\n",
       "      <td>8.6</td>\n",
       "    </tr>\n",
       "    <tr>\n",
       "      <th>29</th>\n",
       "      <td>30.Shichinin no samurai(1954)</td>\n",
       "      <td>(1954)</td>\n",
       "      <td>8.6</td>\n",
       "    </tr>\n",
       "    <tr>\n",
       "      <th>30</th>\n",
       "      <td>31.It's a Wonderful Life(1946)</td>\n",
       "      <td>(1946)</td>\n",
       "      <td>8.6</td>\n",
       "    </tr>\n",
       "    <tr>\n",
       "      <th>31</th>\n",
       "      <td>32.Hamilton(2020)</td>\n",
       "      <td>(2020)</td>\n",
       "      <td>8.5</td>\n",
       "    </tr>\n",
       "    <tr>\n",
       "      <th>32</th>\n",
       "      <td>33.Whiplash(2014)</td>\n",
       "      <td>(2014)</td>\n",
       "      <td>8.5</td>\n",
       "    </tr>\n",
       "    <tr>\n",
       "      <th>33</th>\n",
       "      <td>34.The Intouchables(2011)</td>\n",
       "      <td>(2011)</td>\n",
       "      <td>8.5</td>\n",
       "    </tr>\n",
       "    <tr>\n",
       "      <th>34</th>\n",
       "      <td>35.The Prestige(2006)</td>\n",
       "      <td>(2006)</td>\n",
       "      <td>8.5</td>\n",
       "    </tr>\n",
       "    <tr>\n",
       "      <th>35</th>\n",
       "      <td>36.The Departed(2006)</td>\n",
       "      <td>(2006)</td>\n",
       "      <td>8.5</td>\n",
       "    </tr>\n",
       "    <tr>\n",
       "      <th>36</th>\n",
       "      <td>37.The Pianist(2002)</td>\n",
       "      <td>(2002)</td>\n",
       "      <td>8.5</td>\n",
       "    </tr>\n",
       "    <tr>\n",
       "      <th>37</th>\n",
       "      <td>38.Gladiator(2000)</td>\n",
       "      <td>(2000)</td>\n",
       "      <td>8.5</td>\n",
       "    </tr>\n",
       "    <tr>\n",
       "      <th>38</th>\n",
       "      <td>39.American History X(1998)</td>\n",
       "      <td>(1998)</td>\n",
       "      <td>8.5</td>\n",
       "    </tr>\n",
       "    <tr>\n",
       "      <th>39</th>\n",
       "      <td>40.The Usual Suspects(1995)</td>\n",
       "      <td>(1995)</td>\n",
       "      <td>8.5</td>\n",
       "    </tr>\n",
       "    <tr>\n",
       "      <th>40</th>\n",
       "      <td>41.Léon(1994)</td>\n",
       "      <td>(1994)</td>\n",
       "      <td>8.5</td>\n",
       "    </tr>\n",
       "    <tr>\n",
       "      <th>41</th>\n",
       "      <td>42.The Lion King(1994)</td>\n",
       "      <td>(1994)</td>\n",
       "      <td>8.5</td>\n",
       "    </tr>\n",
       "    <tr>\n",
       "      <th>42</th>\n",
       "      <td>43.Terminator 2: Judgment Day(1991)</td>\n",
       "      <td>(1991)</td>\n",
       "      <td>8.5</td>\n",
       "    </tr>\n",
       "    <tr>\n",
       "      <th>43</th>\n",
       "      <td>44.Nuovo Cinema Paradiso(1988)</td>\n",
       "      <td>(1988)</td>\n",
       "      <td>8.5</td>\n",
       "    </tr>\n",
       "    <tr>\n",
       "      <th>44</th>\n",
       "      <td>45.Hotaru no haka(1988)</td>\n",
       "      <td>(1988)</td>\n",
       "      <td>8.5</td>\n",
       "    </tr>\n",
       "    <tr>\n",
       "      <th>45</th>\n",
       "      <td>46.Back to the Future(1985)</td>\n",
       "      <td>(1985)</td>\n",
       "      <td>8.5</td>\n",
       "    </tr>\n",
       "    <tr>\n",
       "      <th>46</th>\n",
       "      <td>47.Once Upon a Time in the West(1968)</td>\n",
       "      <td>(1968)</td>\n",
       "      <td>8.5</td>\n",
       "    </tr>\n",
       "    <tr>\n",
       "      <th>47</th>\n",
       "      <td>48.Psycho(1960)</td>\n",
       "      <td>(1960)</td>\n",
       "      <td>8.5</td>\n",
       "    </tr>\n",
       "    <tr>\n",
       "      <th>48</th>\n",
       "      <td>49.Casablanca(1942)</td>\n",
       "      <td>(1942)</td>\n",
       "      <td>8.5</td>\n",
       "    </tr>\n",
       "    <tr>\n",
       "      <th>49</th>\n",
       "      <td>50.Modern Times(1936)</td>\n",
       "      <td>(1936)</td>\n",
       "      <td>8.5</td>\n",
       "    </tr>\n",
       "  </tbody>\n",
       "</table>\n",
       "</div>"
      ],
      "text/plain": [
       "                                                names release_year  \\\n",
       "0                    1.The Shawshank Redemption(1994)       (1994)   \n",
       "1                               2.The Godfather(1972)       (1972)   \n",
       "2                             3.The Dark Knight(2008)       (2008)   \n",
       "3                      4.The Godfather: Part II(1974)       (1974)   \n",
       "4                                5.12 Angry Men(1957)       (1957)   \n",
       "5   6.The Lord of the Rings: The Return of the Kin...       (2003)   \n",
       "6                                7.Pulp Fiction(1994)       (1994)   \n",
       "7                            8.Schindler's List(1993)       (1993)   \n",
       "8                                   9.Inception(2010)       (2010)   \n",
       "9                                 10.Fight Club(1999)       (1999)   \n",
       "10  11.The Lord of the Rings: The Fellowship of th...       (2001)   \n",
       "11                              12.Forrest Gump(1994)       (1994)   \n",
       "12           13.Il buono, il brutto, il cattivo(1966)       (1966)   \n",
       "13     14.The Lord of the Rings: The Two Towers(2002)       (2002)   \n",
       "14                                15.The Matrix(1999)       (1999)   \n",
       "15                                16.Goodfellas(1990)       (1990)   \n",
       "16  17.Star Wars: Episode V - The Empire Strikes B...       (1980)   \n",
       "17           18.One Flew Over the Cuckoo's Nest(1975)       (1975)   \n",
       "18                              19.Gisaengchung(2019)       (2019)   \n",
       "19                              20.Interstellar(2014)       (2014)   \n",
       "20                            21.Cidade de Deus(2002)       (2002)   \n",
       "21             22.Sen to Chihiro no kamikakushi(2001)       (2001)   \n",
       "22                       23.Saving Private Ryan(1998)       (1998)   \n",
       "23                            24.The Green Mile(1999)       (1999)   \n",
       "24                           25.La vita è bella(1997)       (1997)   \n",
       "25                                     26.Se7en(1995)       (1995)   \n",
       "26                  27.The Silence of the Lambs(1991)       (1991)   \n",
       "27                                 28.Star Wars(1977)       (1977)   \n",
       "28                                   29.Seppuku(1962)       (1962)   \n",
       "29                      30.Shichinin no samurai(1954)       (1954)   \n",
       "30                     31.It's a Wonderful Life(1946)       (1946)   \n",
       "31                                  32.Hamilton(2020)       (2020)   \n",
       "32                                  33.Whiplash(2014)       (2014)   \n",
       "33                          34.The Intouchables(2011)       (2011)   \n",
       "34                              35.The Prestige(2006)       (2006)   \n",
       "35                              36.The Departed(2006)       (2006)   \n",
       "36                               37.The Pianist(2002)       (2002)   \n",
       "37                                 38.Gladiator(2000)       (2000)   \n",
       "38                        39.American History X(1998)       (1998)   \n",
       "39                        40.The Usual Suspects(1995)       (1995)   \n",
       "40                                      41.Léon(1994)       (1994)   \n",
       "41                             42.The Lion King(1994)       (1994)   \n",
       "42                43.Terminator 2: Judgment Day(1991)       (1991)   \n",
       "43                     44.Nuovo Cinema Paradiso(1988)       (1988)   \n",
       "44                            45.Hotaru no haka(1988)       (1988)   \n",
       "45                        46.Back to the Future(1985)       (1985)   \n",
       "46              47.Once Upon a Time in the West(1968)       (1968)   \n",
       "47                                    48.Psycho(1960)       (1960)   \n",
       "48                                49.Casablanca(1942)       (1942)   \n",
       "49                              50.Modern Times(1936)       (1936)   \n",
       "\n",
       "   imdb_ratings  \n",
       "0           9.3  \n",
       "1           9.2  \n",
       "2           9.0  \n",
       "3           9.0  \n",
       "4           9.0  \n",
       "5           8.9  \n",
       "6           8.9  \n",
       "7           8.9  \n",
       "8           8.8  \n",
       "9           8.8  \n",
       "10          8.8  \n",
       "11          8.8  \n",
       "12          8.8  \n",
       "13          8.7  \n",
       "14          8.7  \n",
       "15          8.7  \n",
       "16          8.7  \n",
       "17          8.7  \n",
       "18          8.6  \n",
       "19          8.6  \n",
       "20          8.6  \n",
       "21          8.6  \n",
       "22          8.6  \n",
       "23          8.6  \n",
       "24          8.6  \n",
       "25          8.6  \n",
       "26          8.6  \n",
       "27          8.6  \n",
       "28          8.6  \n",
       "29          8.6  \n",
       "30          8.6  \n",
       "31          8.5  \n",
       "32          8.5  \n",
       "33          8.5  \n",
       "34          8.5  \n",
       "35          8.5  \n",
       "36          8.5  \n",
       "37          8.5  \n",
       "38          8.5  \n",
       "39          8.5  \n",
       "40          8.5  \n",
       "41          8.5  \n",
       "42          8.5  \n",
       "43          8.5  \n",
       "44          8.5  \n",
       "45          8.5  \n",
       "46          8.5  \n",
       "47          8.5  \n",
       "48          8.5  \n",
       "49          8.5  "
      ]
     },
     "execution_count": 90,
     "metadata": {},
     "output_type": "execute_result"
    }
   ],
   "source": [
    "movies"
   ]
  },
  {
   "cell_type": "code",
   "execution_count": 92,
   "metadata": {
    "scrolled": true
   },
   "outputs": [],
   "source": [
    "movies.to_csv('top_movies.csv')"
   ]
  },
  {
   "cell_type": "code",
   "execution_count": 49,
   "metadata": {},
   "outputs": [],
   "source": [
    "##next 50 movies on page 2"
   ]
  },
  {
   "cell_type": "code",
   "execution_count": 84,
   "metadata": {},
   "outputs": [],
   "source": [
    "##title_page2 = soup2.find_all('h3',class_='lister-item-header')\n",
    "##title_page2 "
   ]
  },
  {
   "cell_type": "markdown",
   "metadata": {},
   "source": [
    "## Task 3"
   ]
  },
  {
   "cell_type": "code",
   "execution_count": 93,
   "metadata": {},
   "outputs": [
    {
     "data": {
      "text/plain": [
       "<Response [200]>"
      ]
     },
     "execution_count": 93,
     "metadata": {},
     "output_type": "execute_result"
    }
   ],
   "source": [
    "page3 = requests.get('https://www.imdb.com/list/ls009997493/')\n",
    "page3"
   ]
  },
  {
   "cell_type": "code",
   "execution_count": 94,
   "metadata": {},
   "outputs": [],
   "source": [
    "soup3 = BeautifulSoup(page3.content)"
   ]
  },
  {
   "cell_type": "code",
   "execution_count": 102,
   "metadata": {},
   "outputs": [],
   "source": [
    "df = soup3.find_all('h3',class_='lister-item-header')"
   ]
  },
  {
   "cell_type": "code",
   "execution_count": 103,
   "metadata": {},
   "outputs": [
    {
     "data": {
      "text/plain": [
       "['1.Rang De Basanti(2006)',\n",
       " '2.3 Idiots(2009)',\n",
       " '3.Taare Zameen Par(2007)',\n",
       " '4.Dil Chahta Hai(2001)',\n",
       " '5.Swades: We, the People(2004)',\n",
       " '6.Lagaan: Once Upon a Time in India(2001)',\n",
       " '7.Gangs of Wasseypur(2012)',\n",
       " '8.Barfi!(2012)',\n",
       " '9.Anand(1971)',\n",
       " '10.Munna Bhai M.B.B.S.(2003)',\n",
       " '11.A Wednesday(2008)',\n",
       " '12.Andaz Apna Apna(1994)',\n",
       " '13.Sholay(1975)',\n",
       " '14.Bhaag Milkha Bhaag(2013)',\n",
       " '15.Hera Pheri(2000)',\n",
       " '16.Udaan(2010)',\n",
       " '17.Kahaani(2012)',\n",
       " '18.Black(2005)',\n",
       " '19.Chak De! India(2007)',\n",
       " '20.Khosla Ka Ghosla!(2006)',\n",
       " '21.Jo Jeeta Wohi Sikandar(1992)',\n",
       " '22.Zindagi Na Milegi Dobara(2011)',\n",
       " '23.Paan Singh Tomar(2012)',\n",
       " '24.Dilwale Dulhania Le Jayenge(1995)',\n",
       " '25.Omkara(2006)',\n",
       " '26.Lage Raho Munna Bhai(2006)',\n",
       " '27.Iqbal(2005)',\n",
       " '28.The Lunchbox(2013)',\n",
       " '29.Black Friday(2004)',\n",
       " '30.Company(2002)',\n",
       " '31.Gol Maal(1979)',\n",
       " '32.Dev.D(2009)',\n",
       " '33.Jaane Bhi Do Yaaro(1983)',\n",
       " '34.OMG: Oh My God!(2012)',\n",
       " '35.Mughal-E-Azam(1960)',\n",
       " '36.Gulaal(2009)',\n",
       " '37.Dor(2006)',\n",
       " '38.Jab We Met(2007)',\n",
       " '39.Pyaasa(1957)',\n",
       " '40.The Legend of Bhagat Singh(2002)',\n",
       " '41.Masoom(1983)',\n",
       " '42.Salaam Bombay!(1988)',\n",
       " '43.Satya(1998)',\n",
       " '44.Vicky Donor(2012)',\n",
       " '45.Lakshya(2004)',\n",
       " '46.Vaastav: The Reality(1999)',\n",
       " '47.Kal Ho Naa Ho(2003)',\n",
       " '48.Oye Lucky! Lucky Oye!(2008)',\n",
       " '49.Sarfarosh(1999)',\n",
       " '50.Gangaajal(2003)',\n",
       " '51.Angoor(1982)',\n",
       " '52.Madras Cafe(2013)',\n",
       " '53.English Vinglish(2012)',\n",
       " '54.Chupke Chupke(1975)',\n",
       " '55.Johnny Gaddaar(2007)',\n",
       " '56.Maqbool(2003)',\n",
       " '57.Hazaaron Khwaishein Aisi(2003)',\n",
       " '58.Rock On!!(2008)',\n",
       " '59.Don(1978)',\n",
       " '60.Chhoti Si Baat(1976)',\n",
       " '61.Guide(1965)',\n",
       " '62.Raanjhanaa(2013)',\n",
       " '63.Deewaar(1975)',\n",
       " '64.Special Chabbis(2013)',\n",
       " '65.Padosan(1968)',\n",
       " '66.Mumbai Meri Jaan(2008)',\n",
       " '67.Ab Tak Chhappan(2004)',\n",
       " '68.Kai po che!(2013)',\n",
       " '69.Awaara(1951)',\n",
       " '70.Shree 420(1955)',\n",
       " '71.Earth(1998)',\n",
       " '72.Gunda(1998)',\n",
       " '73.Parinda(1989)',\n",
       " '74.Dasvidaniya(2008)',\n",
       " '75.Hey Ram(2000)',\n",
       " '76.Pinjar: Beyond Boundaries...(2003)',\n",
       " '77.Socha Na Tha(2005)',\n",
       " '78.Guru(2007)',\n",
       " '79.Bawarchi(1972)',\n",
       " '80.Manorama: Six Feet Under(2007)',\n",
       " '81.Mr. India(1987)',\n",
       " '82.Aamir(2008)',\n",
       " '83.Zakhm(1998)',\n",
       " '84.Water(I) (2005)',\n",
       " '85.Stanley Ka Dabba(2011)',\n",
       " '86.Agneepath(1990)',\n",
       " '87.My Name Is Khan(2010)',\n",
       " '88.Qayamat Se Qayamat Tak(1988)',\n",
       " '89.3 Deewarein(2003)',\n",
       " '90.Abhimaan(1973)',\n",
       " '91.Sarkar(2005)',\n",
       " '92.Bheja Fry(2007)',\n",
       " '93.Mother India(1957)',\n",
       " '94.Jaane Tu... Ya Jaane Na(2008)',\n",
       " '95.Delhi Belly(2011)',\n",
       " '96.Wake Up Sid(2009)',\n",
       " '97.Rangeela(1995)',\n",
       " '98.Shatranj Ke Khilari(1977)',\n",
       " '99.Pyaar Ka Punchnama(2011)',\n",
       " '100.Ek Hasina Thi(2004)']"
      ]
     },
     "execution_count": 103,
     "metadata": {},
     "output_type": "execute_result"
    }
   ],
   "source": [
    "df2 = []\n",
    "for i in df:\n",
    "    df2.append(i.text.replace('\\n',''))\n",
    "df2"
   ]
  },
  {
   "cell_type": "markdown",
   "metadata": {},
   "source": [
    "## Task 4"
   ]
  },
  {
   "cell_type": "code",
   "execution_count": 117,
   "metadata": {},
   "outputs": [
    {
     "data": {
      "text/plain": [
       "<Response [200]>"
      ]
     },
     "execution_count": 117,
     "metadata": {},
     "output_type": "execute_result"
    }
   ],
   "source": [
    "page4 = requests.get('https://bookpage.com/')\n",
    "page4"
   ]
  },
  {
   "cell_type": "code",
   "execution_count": 120,
   "metadata": {},
   "outputs": [],
   "source": [
    "soup4 = BeautifulSoup(page4.content)"
   ]
  },
  {
   "cell_type": "code",
   "execution_count": 122,
   "metadata": {},
   "outputs": [],
   "source": [
    "book_titles = soup4.find_all('h4',class_='italic')"
   ]
  },
  {
   "cell_type": "code",
   "execution_count": 128,
   "metadata": {
    "scrolled": true
   },
   "outputs": [
    {
     "data": {
      "text/plain": [
       "['China, then and now',\n",
       " 'Katy Birchall',\n",
       " 'Pawcasso',\n",
       " ' ★ On Juneteenth',\n",
       " 'The Most Beautiful Girl in Cuba']"
      ]
     },
     "execution_count": 128,
     "metadata": {},
     "output_type": "execute_result"
    }
   ],
   "source": [
    "titles = []\n",
    "for i in book_titles:\n",
    "    titles.append(i.text.replace('\\n',''))\n",
    "title2 = titles[0:5]\n",
    "title2"
   ]
  },
  {
   "cell_type": "code",
   "execution_count": 139,
   "metadata": {
    "scrolled": false
   },
   "outputs": [],
   "source": [
    "aut = soup4.find_all('p',class_='sans bold')"
   ]
  },
  {
   "cell_type": "code",
   "execution_count": 140,
   "metadata": {},
   "outputs": [
    {
     "data": {
      "text/plain": [
       "['Behind the Book by Brian Klingborg',\n",
       " 'Interview by Savanna Walker',\n",
       " 'Review by Sharon Verbeten',\n",
       " 'Review by Deborah Mason',\n",
       " 'Review by Amy Scribner']"
      ]
     },
     "execution_count": 140,
     "metadata": {},
     "output_type": "execute_result"
    }
   ],
   "source": [
    "authors = []\n",
    "for i in aut:\n",
    "    authors.append(i.text.replace('\\n',''))\n",
    "authors[0:5]"
   ]
  },
  {
   "cell_type": "markdown",
   "metadata": {},
   "source": [
    "## Task 5 & 6"
   ]
  },
  {
   "cell_type": "code",
   "execution_count": 143,
   "metadata": {},
   "outputs": [
    {
     "data": {
      "text/plain": [
       "<Response [200]>"
      ]
     },
     "execution_count": 143,
     "metadata": {},
     "output_type": "execute_result"
    }
   ],
   "source": [
    "page5 = requests.get('https://www.icc-cricket.com/rankings/mens/team-rankings/odi')\n",
    "page5"
   ]
  },
  {
   "cell_type": "code",
   "execution_count": 144,
   "metadata": {},
   "outputs": [],
   "source": [
    "soup5 = BeautifulSoup(page5.content)"
   ]
  },
  {
   "cell_type": "code",
   "execution_count": 146,
   "metadata": {},
   "outputs": [],
   "source": [
    "top = soup5.find_all('span',class_='u-hide-phablet')"
   ]
  },
  {
   "cell_type": "code",
   "execution_count": 149,
   "metadata": {},
   "outputs": [
    {
     "data": {
      "text/plain": [
       "['New Zealand',\n",
       " 'Australia',\n",
       " 'India',\n",
       " 'England',\n",
       " 'South Africa',\n",
       " 'Pakistan',\n",
       " 'Bangladesh',\n",
       " 'West Indies',\n",
       " 'Sri Lanka',\n",
       " 'Afghanistan',\n",
       " 'Netherlands',\n",
       " 'Ireland',\n",
       " 'Zimbabwe',\n",
       " 'Oman',\n",
       " 'Scotland',\n",
       " 'Nepal',\n",
       " 'UAE',\n",
       " 'Namibia',\n",
       " 'United States',\n",
       " 'Papua New Guinea']"
      ]
     },
     "execution_count": 149,
     "metadata": {},
     "output_type": "execute_result"
    }
   ],
   "source": [
    "top_teams = []\n",
    "for i in top:\n",
    "    top_teams.append(i.text.replace('\\n',''))\n",
    "top_teams = top_teams[0:-5]\n",
    "top_teams"
   ]
  },
  {
   "cell_type": "code",
   "execution_count": 156,
   "metadata": {
    "scrolled": true
   },
   "outputs": [
    {
     "data": {
      "text/plain": [
       "[<td class=\"table-body__cell u-center-text\">25</td>,\n",
       " <td class=\"table-body__cell u-center-text\">2,945</td>,\n",
       " <td class=\"table-body__cell u-center-text\">29</td>,\n",
       " <td class=\"table-body__cell u-center-text\">3,344</td>,\n",
       " <td class=\"table-body__cell u-center-text\">27</td>,\n",
       " <td class=\"table-body__cell u-center-text\">3,100</td>,\n",
       " <td class=\"table-body__cell u-center-text\">20</td>,\n",
       " <td class=\"table-body__cell u-center-text\">2,137</td>,\n",
       " <td class=\"table-body__cell u-center-text\">24</td>,\n",
       " <td class=\"table-body__cell u-center-text\">2,323</td>,\n",
       " <td class=\"table-body__cell u-center-text\">24</td>,\n",
       " <td class=\"table-body__cell u-center-text\">2,157</td>,\n",
       " <td class=\"table-body__cell u-center-text\">27</td>,\n",
       " <td class=\"table-body__cell u-center-text\">2,222</td>,\n",
       " <td class=\"table-body__cell u-center-text\">21</td>,\n",
       " <td class=\"table-body__cell u-center-text\">1,652</td>,\n",
       " <td class=\"table-body__cell u-center-text\">17</td>,\n",
       " <td class=\"table-body__cell u-center-text\">1,054</td>,\n",
       " <td class=\"table-body__cell u-center-text\">2</td>,\n",
       " <td class=\"table-body__cell u-center-text\">99</td>,\n",
       " <td class=\"table-body__cell u-center-text\">18</td>,\n",
       " <td class=\"table-body__cell u-center-text\">818</td>,\n",
       " <td class=\"table-body__cell u-center-text\">15</td>,\n",
       " <td class=\"table-body__cell u-center-text\">588</td>,\n",
       " <td class=\"table-body__cell u-center-text\">7</td>,\n",
       " <td class=\"table-body__cell u-center-text\">240</td>,\n",
       " <td class=\"table-body__cell u-center-text\">5</td>,\n",
       " <td class=\"table-body__cell u-center-text\">148</td>,\n",
       " <td class=\"table-body__cell u-center-text\">5</td>,\n",
       " <td class=\"table-body__cell u-center-text\">119</td>,\n",
       " <td class=\"table-body__cell u-center-text\">9</td>,\n",
       " <td class=\"table-body__cell u-center-text\">190</td>,\n",
       " <td class=\"table-body__cell u-center-text\">6</td>,\n",
       " <td class=\"table-body__cell u-center-text\">97</td>,\n",
       " <td class=\"table-body__cell u-center-text\">8</td>,\n",
       " <td class=\"table-body__cell u-center-text\">93</td>,\n",
       " <td class=\"table-body__cell u-center-text\">5</td>,\n",
       " <td class=\"table-body__cell u-center-text\">0</td>]"
      ]
     },
     "execution_count": 156,
     "metadata": {},
     "output_type": "execute_result"
    }
   ],
   "source": [
    "mat = soup5.find_all('td',class_='table-body__cell u-center-text')\n",
    "mat"
   ]
  },
  {
   "cell_type": "code",
   "execution_count": 158,
   "metadata": {},
   "outputs": [
    {
     "data": {
      "text/plain": [
       "['25',\n",
       " '2,945',\n",
       " '29',\n",
       " '3,344',\n",
       " '27',\n",
       " '3,100',\n",
       " '20',\n",
       " '2,137',\n",
       " '24',\n",
       " '2,323',\n",
       " '24',\n",
       " '2,157',\n",
       " '27',\n",
       " '2,222',\n",
       " '21',\n",
       " '1,652',\n",
       " '17',\n",
       " '1,054',\n",
       " '2',\n",
       " '99',\n",
       " '18',\n",
       " '818',\n",
       " '15',\n",
       " '588',\n",
       " '7',\n",
       " '240',\n",
       " '5',\n",
       " '148',\n",
       " '5',\n",
       " '119',\n",
       " '9',\n",
       " '190',\n",
       " '6',\n",
       " '97',\n",
       " '8',\n",
       " '93',\n",
       " '5',\n",
       " '0']"
      ]
     },
     "execution_count": 158,
     "metadata": {},
     "output_type": "execute_result"
    }
   ],
   "source": [
    "mats = []  #matches and ratings\n",
    "for i in mat:\n",
    "    mats.append(i.text.replace('\\n',''))\n",
    "mats"
   ]
  },
  {
   "cell_type": "code",
   "execution_count": 159,
   "metadata": {},
   "outputs": [
    {
     "data": {
      "text/plain": [
       "<Response [200]>"
      ]
     },
     "execution_count": 159,
     "metadata": {},
     "output_type": "execute_result"
    }
   ],
   "source": [
    "page5_1 = requests.get('https://www.icc-cricket.com/rankings/mens/player-rankings/odi/batting')\n",
    "page5_1"
   ]
  },
  {
   "cell_type": "code",
   "execution_count": 160,
   "metadata": {},
   "outputs": [],
   "source": [
    "soup5_1 = BeautifulSoup(page5_1.content)"
   ]
  },
  {
   "cell_type": "code",
   "execution_count": 180,
   "metadata": {},
   "outputs": [
    {
     "data": {
      "text/plain": [
       "'Babar Azam'"
      ]
     },
     "execution_count": 180,
     "metadata": {},
     "output_type": "execute_result"
    }
   ],
   "source": [
    "top1 = soup5_1.find('div',class_=\"rankings-block__banner--name-large\")\n",
    "top1.text"
   ]
  },
  {
   "cell_type": "code",
   "execution_count": 177,
   "metadata": {},
   "outputs": [
    {
     "data": {
      "text/plain": [
       "'Virat Kohli'"
      ]
     },
     "execution_count": 177,
     "metadata": {},
     "output_type": "execute_result"
    }
   ],
   "source": [
    "top2 = soup5_1.find('a',href=\"/rankings/mens/player-rankings/164\")\n",
    "top2.text"
   ]
  },
  {
   "cell_type": "code",
   "execution_count": 182,
   "metadata": {},
   "outputs": [
    {
     "data": {
      "text/plain": [
       "'Rohit Sharma'"
      ]
     },
     "execution_count": 182,
     "metadata": {},
     "output_type": "execute_result"
    }
   ],
   "source": [
    "top3 = soup5_1.find('a',href=\"/rankings/mens/player-rankings/107\")\n",
    "top3.text"
   ]
  },
  {
   "cell_type": "code",
   "execution_count": 208,
   "metadata": {},
   "outputs": [
    {
     "data": {
      "text/plain": [
       "'Ross Taylor'"
      ]
     },
     "execution_count": 208,
     "metadata": {},
     "output_type": "execute_result"
    }
   ],
   "source": [
    "top4 = soup5_1.find('a',href=\"/rankings/mens/player-rankings/226\")\n",
    "top4.text"
   ]
  },
  {
   "cell_type": "code",
   "execution_count": 209,
   "metadata": {},
   "outputs": [
    {
     "data": {
      "text/plain": [
       "'Aaron Finch'"
      ]
     },
     "execution_count": 209,
     "metadata": {},
     "output_type": "execute_result"
    }
   ],
   "source": [
    "top5 = soup5_1.find('a',href=\"/rankings/mens/player-rankings/167\")\n",
    "top5.text"
   ]
  },
  {
   "cell_type": "code",
   "execution_count": 210,
   "metadata": {},
   "outputs": [
    {
     "data": {
      "text/plain": [
       "'Jonny Bairstow'"
      ]
     },
     "execution_count": 210,
     "metadata": {},
     "output_type": "execute_result"
    }
   ],
   "source": [
    "top6 = soup5_1.find('a',href=\"/rankings/mens/player-rankings/506\")\n",
    "top6.text"
   ]
  },
  {
   "cell_type": "code",
   "execution_count": 211,
   "metadata": {},
   "outputs": [
    {
     "data": {
      "text/plain": [
       "'Fakhar Zaman'"
      ]
     },
     "execution_count": 211,
     "metadata": {},
     "output_type": "execute_result"
    }
   ],
   "source": [
    "top7 = soup5_1.find('a',href=\"/rankings/mens/player-rankings/3801\")\n",
    "top7.text"
   ]
  },
  {
   "cell_type": "code",
   "execution_count": 214,
   "metadata": {},
   "outputs": [
    {
     "data": {
      "text/plain": [
       "'Francois du Plessis'"
      ]
     },
     "execution_count": 214,
     "metadata": {},
     "output_type": "execute_result"
    }
   ],
   "source": [
    "top8 = soup5_1.find('a',href=\"/rankings/mens/player-rankings/24\")\n",
    "top8.text"
   ]
  },
  {
   "cell_type": "code",
   "execution_count": 215,
   "metadata": {},
   "outputs": [
    {
     "data": {
      "text/plain": [
       "'David Warner'"
      ]
     },
     "execution_count": 215,
     "metadata": {},
     "output_type": "execute_result"
    }
   ],
   "source": [
    "top9 = soup5_1.find('a',href=\"/rankings/mens/player-rankings/170\")\n",
    "top9.text"
   ]
  },
  {
   "cell_type": "code",
   "execution_count": 216,
   "metadata": {},
   "outputs": [
    {
     "data": {
      "text/plain": [
       "'Shai Hope'"
      ]
     },
     "execution_count": 216,
     "metadata": {},
     "output_type": "execute_result"
    }
   ],
   "source": [
    "top10 = soup5_1.find('a',href=\"/rankings/mens/player-rankings/2751\")\n",
    "top10.text"
   ]
  },
  {
   "cell_type": "code",
   "execution_count": 187,
   "metadata": {
    "scrolled": true
   },
   "outputs": [],
   "source": [
    "##top4 = soup5_1.find_all('h2',class_='rankings-player-bio__name')\n",
    "##top4.text"
   ]
  },
  {
   "cell_type": "code",
   "execution_count": 193,
   "metadata": {},
   "outputs": [
    {
     "data": {
      "text/plain": [
       "<Response [200]>"
      ]
     },
     "execution_count": 193,
     "metadata": {},
     "output_type": "execute_result"
    }
   ],
   "source": [
    "page5_2 = requests.get('https://www.icc-cricket.com/rankings/mens/player-rankings/odi/bowling')\n",
    "page5_2"
   ]
  },
  {
   "cell_type": "code",
   "execution_count": 194,
   "metadata": {},
   "outputs": [],
   "source": [
    "soup5_2 = BeautifulSoup(page5_2.content)"
   ]
  },
  {
   "cell_type": "code",
   "execution_count": 196,
   "metadata": {},
   "outputs": [
    {
     "data": {
      "text/plain": [
       "'Trent Boult'"
      ]
     },
     "execution_count": 196,
     "metadata": {},
     "output_type": "execute_result"
    }
   ],
   "source": [
    "top1 = soup5_2.find('div',class_='rankings-block__banner--name-large')\n",
    "top1.text"
   ]
  },
  {
   "cell_type": "code",
   "execution_count": 198,
   "metadata": {},
   "outputs": [
    {
     "data": {
      "text/plain": [
       "'Mujeeb Ur Rahman'"
      ]
     },
     "execution_count": 198,
     "metadata": {},
     "output_type": "execute_result"
    }
   ],
   "source": [
    "top2 = soup5_2.find('a',href=\"/rankings/mens/player-rankings/4572\")\n",
    "top2.text"
   ]
  },
  {
   "cell_type": "code",
   "execution_count": 200,
   "metadata": {},
   "outputs": [
    {
     "data": {
      "text/plain": [
       "'Matt Henry'"
      ]
     },
     "execution_count": 200,
     "metadata": {},
     "output_type": "execute_result"
    }
   ],
   "source": [
    "top3 = soup5_2.find('a',href=\"/rankings/mens/player-rankings/1505\")\n",
    "top3.text"
   ]
  },
  {
   "cell_type": "code",
   "execution_count": 201,
   "metadata": {},
   "outputs": [
    {
     "data": {
      "text/plain": [
       "'Jasprit Bumrah'"
      ]
     },
     "execution_count": 201,
     "metadata": {},
     "output_type": "execute_result"
    }
   ],
   "source": [
    "top4 = soup5_2.find('a',href=\"/rankings/mens/player-rankings/1124\")\n",
    "top4.text"
   ]
  },
  {
   "cell_type": "code",
   "execution_count": 202,
   "metadata": {},
   "outputs": [
    {
     "data": {
      "text/plain": [
       "'Mehedi Hasan'"
      ]
     },
     "execution_count": 202,
     "metadata": {},
     "output_type": "execute_result"
    }
   ],
   "source": [
    "top5 = soup5_2.find('a',href=\"/rankings/mens/player-rankings/1597\")\n",
    "top5.text"
   ]
  },
  {
   "cell_type": "code",
   "execution_count": 203,
   "metadata": {},
   "outputs": [
    {
     "data": {
      "text/plain": [
       "'Kagiso Rabada'"
      ]
     },
     "execution_count": 203,
     "metadata": {},
     "output_type": "execute_result"
    }
   ],
   "source": [
    "top6 = soup5_2.find('a',href=\"/rankings/mens/player-rankings/1664\")\n",
    "top6.text"
   ]
  },
  {
   "cell_type": "code",
   "execution_count": 204,
   "metadata": {},
   "outputs": [
    {
     "data": {
      "text/plain": [
       "'Chris Woakes'"
      ]
     },
     "execution_count": 204,
     "metadata": {},
     "output_type": "execute_result"
    }
   ],
   "source": [
    "top7 = soup5_2.find('a',href=\"/rankings/mens/player-rankings/967\")\n",
    "top7.text"
   ]
  },
  {
   "cell_type": "code",
   "execution_count": 205,
   "metadata": {},
   "outputs": [
    {
     "data": {
      "text/plain": [
       "'Josh Hazlewood'"
      ]
     },
     "execution_count": 205,
     "metadata": {},
     "output_type": "execute_result"
    }
   ],
   "source": [
    "top8 = soup5_2.find('a',href=\"/rankings/mens/player-rankings/857\")\n",
    "top8.text"
   ]
  },
  {
   "cell_type": "code",
   "execution_count": 206,
   "metadata": {},
   "outputs": [
    {
     "data": {
      "text/plain": [
       "'Pat Cummins'"
      ]
     },
     "execution_count": 206,
     "metadata": {},
     "output_type": "execute_result"
    }
   ],
   "source": [
    "top9 = soup5_2.find('a',href=\"/rankings/mens/player-rankings/488\")\n",
    "top9.text"
   ]
  },
  {
   "cell_type": "code",
   "execution_count": 207,
   "metadata": {},
   "outputs": [
    {
     "data": {
      "text/plain": [
       "'Mohammad Amir'"
      ]
     },
     "execution_count": 207,
     "metadata": {},
     "output_type": "execute_result"
    }
   ],
   "source": [
    "top10 = soup5_2.find('a',href=\"/rankings/mens/player-rankings/2896\")\n",
    "top10.text"
   ]
  },
  {
   "cell_type": "code",
   "execution_count": 217,
   "metadata": {},
   "outputs": [],
   "source": [
    "##same can be done for top women team , batsmen and bowler"
   ]
  },
  {
   "cell_type": "markdown",
   "metadata": {},
   "source": [
    "## Task 7"
   ]
  },
  {
   "cell_type": "code",
   "execution_count": 219,
   "metadata": {},
   "outputs": [],
   "source": [
    "page7 = requests.get('https://www.amazon.in/best-mobile-under-20000/s?k=best+mobile+under+20000')\n",
    "soup7 = BeautifulSoup(page7.content)"
   ]
  },
  {
   "cell_type": "code",
   "execution_count": 227,
   "metadata": {
    "scrolled": false
   },
   "outputs": [
    {
     "data": {
      "text/plain": [
       "['Redmi 9A (Nature Green, 2GB Ram, 32GB Storage) | 2GHz Octa-core Helio G25 Processor',\n",
       " 'Redmi 9 (Sky Blue, 4GB RAM, 64GB Storage)| 5000 mAh| 2.3GHz Mediatek Helio G35 Octa core Processor',\n",
       " 'Samsung Galaxy M12 (Blue,4GB RAM, 64GB Storage) 6000 mAh with 8nm Processor | True 48 MP Quad Camera | 90Hz Refresh Rate',\n",
       " 'Oppo A31 (Mystery Black, 6GB RAM, 128GB Storage) with No Cost EMI/Additional Exchange Offers',\n",
       " 'Oppo A31 (Fantasy White, 6GB RAM, 128GB Storage) with No Cost EMI/Additional Exchange Offers',\n",
       " 'Vivo Y91i (Fusion Black, 2GB RAM, 32GB Storage) with No Cost EMI/Additional Exchange Offers',\n",
       " 'OPPO A31 (Fantasy White, 4GB RAM, 64GB Storage) with No Cost EMI/Additional Exchange Offers',\n",
       " 'Samsung Galaxy M21 (Midnight Blue, 4GB RAM, 64GB Storage)',\n",
       " 'Vivo Y91i (Ocean Blue, 2GB RAM, 32GB Storage) with No Cost EMI/Additional Exchange Offers',\n",
       " 'Redmi Note 9 (Pebble Grey, 4GB RAM 64GB Storage) - 48MP Quad Camera & Full HD+ Display',\n",
       " 'Samsung Galaxy M31 (Space Black, 6GB RAM, 128GB Storage)',\n",
       " 'Vivo Y31 (Ocean Blue, 6GB, 128GB Storage) with No Cost EMI/Additional Exchange Offers',\n",
       " 'Redmi 9 Power (Mighty Black, 6GB RAM, 128GB Storage) - 6000mAh Battery |FHD+ Screen| 48MP Quad Camera | Snapdragon 662 Processor',\n",
       " 'Redmi 9A (Nature Green, 3GB Ram, 32GB Storage) | 2GHz Octa-core Helio G25 Processor',\n",
       " 'Redmi 9A (Midnight Black, 3GB Ram, 32GB Storage) | 2GHz Octa-core Helio G25 Processor',\n",
       " 'Samsung Galaxy M31s (Mirage Blue, 6GB RAM, 128GB Storage)']"
      ]
     },
     "execution_count": 227,
     "metadata": {},
     "output_type": "execute_result"
    }
   ],
   "source": [
    "brand = soup7.find_all('span',class_='a-size-medium a-color-base a-text-normal')\n",
    "names = []\n",
    "for i in brand:\n",
    "    names.append(i.text.replace('\\n',''))\n",
    "names"
   ]
  },
  {
   "cell_type": "code",
   "execution_count": 229,
   "metadata": {},
   "outputs": [
    {
     "data": {
      "text/plain": [
       "['19,990',\n",
       " '24,980',\n",
       " '21,900',\n",
       " '20,999',\n",
       " '6,799',\n",
       " '8,499',\n",
       " '9,999',\n",
       " '10,990',\n",
       " '10,990',\n",
       " '7,490',\n",
       " '9,990',\n",
       " '12,499',\n",
       " '7,490',\n",
       " '10,999',\n",
       " '16,490',\n",
       " '12,999',\n",
       " '7,499',\n",
       " '7,499',\n",
       " '16,999']"
      ]
     },
     "execution_count": 229,
     "metadata": {},
     "output_type": "execute_result"
    }
   ],
   "source": [
    "pri= soup7.find_all('span',class_='a-price-whole')\n",
    "price = []\n",
    "for i in pri:\n",
    "    price.append(i.text.replace('\\n',''))\n",
    "price"
   ]
  },
  {
   "cell_type": "code",
   "execution_count": null,
   "metadata": {},
   "outputs": [],
   "source": [
    "<span class=\"a-price-whole\">8,499</span>"
   ]
  },
  {
   "cell_type": "code",
   "execution_count": 243,
   "metadata": {
    "scrolled": true
   },
   "outputs": [],
   "source": [
    "##rev = soup7.find_all('span',class_=\"a-icon-alt\")\n",
    "#reviews = []\n",
    "#for i in rev:\n",
    " #   reviews.append(i.text.replace('\\n',''))\n",
    "#reviews"
   ]
  },
  {
   "cell_type": "code",
   "execution_count": 244,
   "metadata": {},
   "outputs": [],
   "source": [
    "#<i class=\"a-icon a-icon-star-small a-star-small-4 aok-align-bottom\"><span class=\"a-icon-alt\">4.2 out of 5 stars</span></i>"
   ]
  },
  {
   "cell_type": "code",
   "execution_count": 245,
   "metadata": {},
   "outputs": [
    {
     "data": {
      "text/plain": [
       "['4.2 out of 5 stars',\n",
       " '4.2 out of 5 stars',\n",
       " '4.0 out of 5 stars',\n",
       " '4.2 out of 5 stars',\n",
       " '4.2 out of 5 stars',\n",
       " '4.2 out of 5 stars',\n",
       " '4.2 out of 5 stars',\n",
       " '4.2 out of 5 stars',\n",
       " '4.1 out of 5 stars',\n",
       " '4.1 out of 5 stars',\n",
       " '4.2 out of 5 stars',\n",
       " '4.2 out of 5 stars',\n",
       " '4.2 out of 5 stars']"
      ]
     },
     "execution_count": 245,
     "metadata": {},
     "output_type": "execute_result"
    }
   ],
   "source": [
    "rev2 = soup7.find_all('i',class_=\"a-icon a-icon-star-small a-star-small-4 aok-align-bottom\")\n",
    "reviews = []\n",
    "for i in rev2:\n",
    "    reviews.append(i.text.replace('\\n',''))\n",
    "reviews"
   ]
  },
  {
   "cell_type": "code",
   "execution_count": 249,
   "metadata": {
    "scrolled": true
   },
   "outputs": [],
   "source": [
    "##soup7.find_all('img',class_='s_image')"
   ]
  },
  {
   "cell_type": "code",
   "execution_count": 259,
   "metadata": {
    "scrolled": false
   },
   "outputs": [
    {
     "data": {
      "text/plain": [
       "[<div class=\"a-section aok-relative s-image-fixed-height\"><img alt=\"Redmi 9A (Nature Green, 2GB Ram, 32GB Storage) | 2GHz Octa-core Helio G25 Processor\" class=\"s-image\" data-image-index=\"1\" data-image-latency=\"s-product-image\" data-image-load=\"\" data-image-source-density=\"1\" src=\"https://m.media-amazon.com/images/I/71sxlhYhKWL._AC_UY218_.jpg\" srcset=\"https://m.media-amazon.com/images/I/71sxlhYhKWL._AC_UY218_.jpg 1x, https://m.media-amazon.com/images/I/71sxlhYhKWL._AC_UY327_QL65_.jpg 1.5x, https://m.media-amazon.com/images/I/71sxlhYhKWL._AC_UY436_QL65_.jpg 2x, https://m.media-amazon.com/images/I/71sxlhYhKWL._AC_UY545_QL65_.jpg 2.5x, https://m.media-amazon.com/images/I/71sxlhYhKWL._AC_UY654_QL65_.jpg 3x\"/></div>,\n",
       " <div class=\"a-section aok-relative s-image-fixed-height\"><img alt=\"Redmi 9 (Sky Blue, 4GB RAM, 64GB Storage)| 5000 mAh| 2.3GHz Mediatek Helio G35 Octa core Processor\" class=\"s-image\" data-image-index=\"2\" data-image-latency=\"s-product-image\" data-image-load=\"\" data-image-source-density=\"1\" src=\"https://m.media-amazon.com/images/I/71A9Vo1BatL._AC_UY218_.jpg\" srcset=\"https://m.media-amazon.com/images/I/71A9Vo1BatL._AC_UY218_.jpg 1x, https://m.media-amazon.com/images/I/71A9Vo1BatL._AC_UY327_QL65_.jpg 1.5x, https://m.media-amazon.com/images/I/71A9Vo1BatL._AC_UY436_QL65_.jpg 2x, https://m.media-amazon.com/images/I/71A9Vo1BatL._AC_UY545_QL65_.jpg 2.5x, https://m.media-amazon.com/images/I/71A9Vo1BatL._AC_UY654_QL65_.jpg 3x\"/></div>,\n",
       " <div class=\"a-section aok-relative s-image-fixed-height\"><img alt=\"Samsung Galaxy M12 (Blue,4GB RAM, 64GB Storage) 6000 mAh with 8nm Processor | True 48 MP Quad Camera | 90Hz Refresh Rate\" class=\"s-image\" data-image-index=\"3\" data-image-latency=\"s-product-image\" data-image-load=\"\" data-image-source-density=\"1\" src=\"https://m.media-amazon.com/images/I/71yYaNztZ0L._AC_UY218_.jpg\" srcset=\"https://m.media-amazon.com/images/I/71yYaNztZ0L._AC_UY218_.jpg 1x, https://m.media-amazon.com/images/I/71yYaNztZ0L._AC_UY327_QL65_.jpg 1.5x, https://m.media-amazon.com/images/I/71yYaNztZ0L._AC_UY436_QL65_.jpg 2x, https://m.media-amazon.com/images/I/71yYaNztZ0L._AC_UY545_QL65_.jpg 2.5x, https://m.media-amazon.com/images/I/71yYaNztZ0L._AC_UY654_QL65_.jpg 3x\"/></div>,\n",
       " <div class=\"a-section aok-relative s-image-fixed-height\"><img alt=\"Oppo A31 (Mystery Black, 6GB RAM, 128GB Storage) with No Cost EMI/Additional Exchange Offers\" class=\"s-image\" data-image-index=\"4\" data-image-latency=\"s-product-image\" data-image-load=\"\" data-image-source-density=\"1\" src=\"https://m.media-amazon.com/images/I/71KCwNV6MuL._AC_UY218_.jpg\" srcset=\"https://m.media-amazon.com/images/I/71KCwNV6MuL._AC_UY218_.jpg 1x, https://m.media-amazon.com/images/I/71KCwNV6MuL._AC_UY327_QL65_.jpg 1.5x, https://m.media-amazon.com/images/I/71KCwNV6MuL._AC_UY436_QL65_.jpg 2x, https://m.media-amazon.com/images/I/71KCwNV6MuL._AC_UY545_QL65_.jpg 2.5x, https://m.media-amazon.com/images/I/71KCwNV6MuL._AC_UY654_QL65_.jpg 3x\"/></div>,\n",
       " <div class=\"a-section aok-relative s-image-fixed-height\"><img alt=\"Oppo A31 (Fantasy White, 6GB RAM, 128GB Storage) with No Cost EMI/Additional Exchange Offers\" class=\"s-image\" data-image-index=\"5\" data-image-latency=\"s-product-image\" data-image-load=\"\" data-image-source-density=\"1\" src=\"https://m.media-amazon.com/images/I/61IhTtJUXJL._AC_UY218_.jpg\" srcset=\"https://m.media-amazon.com/images/I/61IhTtJUXJL._AC_UY218_.jpg 1x, https://m.media-amazon.com/images/I/61IhTtJUXJL._AC_UY327_QL65_.jpg 1.5x, https://m.media-amazon.com/images/I/61IhTtJUXJL._AC_UY436_QL65_.jpg 2x, https://m.media-amazon.com/images/I/61IhTtJUXJL._AC_UY545_QL65_.jpg 2.5x, https://m.media-amazon.com/images/I/61IhTtJUXJL._AC_UY654_QL65_.jpg 3x\"/></div>,\n",
       " <div class=\"a-section aok-relative s-image-fixed-height\"><img alt=\"Vivo Y91i (Fusion Black, 2GB RAM, 32GB Storage) with No Cost EMI/Additional Exchange Offers\" class=\"s-image\" data-image-index=\"6\" data-image-latency=\"s-product-image\" data-image-load=\"\" data-image-source-density=\"1\" src=\"https://m.media-amazon.com/images/I/51ZoulFBPGL._AC_UY218_.jpg\" srcset=\"https://m.media-amazon.com/images/I/51ZoulFBPGL._AC_UY218_.jpg 1x, https://m.media-amazon.com/images/I/51ZoulFBPGL._AC_UY327_QL65_.jpg 1.5x, https://m.media-amazon.com/images/I/51ZoulFBPGL._AC_UY436_QL65_.jpg 2x, https://m.media-amazon.com/images/I/51ZoulFBPGL._AC_UY545_QL65_.jpg 2.5x, https://m.media-amazon.com/images/I/51ZoulFBPGL._AC_UY654_QL65_.jpg 3x\"/></div>,\n",
       " <div class=\"a-section aok-relative s-image-fixed-height\"><img alt=\"OPPO A31 (Fantasy White, 4GB RAM, 64GB Storage) with No Cost EMI/Additional Exchange Offers\" class=\"s-image\" data-image-index=\"7\" data-image-latency=\"s-product-image\" data-image-load=\"\" data-image-source-density=\"1\" src=\"https://m.media-amazon.com/images/I/61IhTtJUXJL._AC_UY218_.jpg\" srcset=\"https://m.media-amazon.com/images/I/61IhTtJUXJL._AC_UY218_.jpg 1x, https://m.media-amazon.com/images/I/61IhTtJUXJL._AC_UY327_QL65_.jpg 1.5x, https://m.media-amazon.com/images/I/61IhTtJUXJL._AC_UY436_QL65_.jpg 2x, https://m.media-amazon.com/images/I/61IhTtJUXJL._AC_UY545_QL65_.jpg 2.5x, https://m.media-amazon.com/images/I/61IhTtJUXJL._AC_UY654_QL65_.jpg 3x\"/></div>,\n",
       " <div class=\"a-section aok-relative s-image-fixed-height\"><img alt=\"Samsung Galaxy M21 (Midnight Blue, 4GB RAM, 64GB Storage)\" class=\"s-image\" data-image-index=\"8\" data-image-latency=\"s-product-image\" data-image-load=\"\" data-image-source-density=\"1\" src=\"https://m.media-amazon.com/images/I/71dujTTJDZL._AC_UY218_.jpg\" srcset=\"https://m.media-amazon.com/images/I/71dujTTJDZL._AC_UY218_.jpg 1x, https://m.media-amazon.com/images/I/71dujTTJDZL._AC_UY327_QL65_.jpg 1.5x, https://m.media-amazon.com/images/I/71dujTTJDZL._AC_UY436_QL65_.jpg 2x, https://m.media-amazon.com/images/I/71dujTTJDZL._AC_UY545_QL65_.jpg 2.5x, https://m.media-amazon.com/images/I/71dujTTJDZL._AC_UY654_QL65_.jpg 3x\"/></div>,\n",
       " <div class=\"a-section aok-relative s-image-fixed-height\"><img alt=\"Vivo Y91i (Ocean Blue, 2GB RAM, 32GB Storage) with No Cost EMI/Additional Exchange Offers\" class=\"s-image\" data-image-index=\"9\" data-image-latency=\"s-product-image\" data-image-load=\"\" data-image-source-density=\"1\" src=\"https://m.media-amazon.com/images/I/51FnmxwFHDL._AC_UY218_.jpg\" srcset=\"https://m.media-amazon.com/images/I/51FnmxwFHDL._AC_UY218_.jpg 1x, https://m.media-amazon.com/images/I/51FnmxwFHDL._AC_UY327_QL65_.jpg 1.5x, https://m.media-amazon.com/images/I/51FnmxwFHDL._AC_UY436_QL65_.jpg 2x, https://m.media-amazon.com/images/I/51FnmxwFHDL._AC_UY545_QL65_.jpg 2.5x, https://m.media-amazon.com/images/I/51FnmxwFHDL._AC_UY654_QL65_.jpg 3x\"/></div>,\n",
       " <div class=\"a-section aok-relative s-image-fixed-height\"><img alt=\"Redmi Note 9 (Pebble Grey, 4GB RAM 64GB Storage) - 48MP Quad Camera &amp; Full HD+ Display\" class=\"s-image\" data-image-index=\"10\" data-image-latency=\"s-product-image\" data-image-load=\"\" data-image-source-density=\"1\" src=\"https://m.media-amazon.com/images/I/71X5I1cVfbL._AC_UY218_.jpg\" srcset=\"https://m.media-amazon.com/images/I/71X5I1cVfbL._AC_UY218_.jpg 1x, https://m.media-amazon.com/images/I/71X5I1cVfbL._AC_UY327_QL65_.jpg 1.5x, https://m.media-amazon.com/images/I/71X5I1cVfbL._AC_UY436_QL65_.jpg 2x, https://m.media-amazon.com/images/I/71X5I1cVfbL._AC_UY545_QL65_.jpg 2.5x, https://m.media-amazon.com/images/I/71X5I1cVfbL._AC_UY654_QL65_.jpg 3x\"/></div>,\n",
       " <div class=\"a-section aok-relative s-image-fixed-height\"><img alt=\"Samsung Galaxy M31 (Space Black, 6GB RAM, 128GB Storage)\" class=\"s-image\" data-image-index=\"11\" data-image-latency=\"s-product-image\" data-image-load=\"\" data-image-source-density=\"1\" src=\"https://m.media-amazon.com/images/I/71OxJeyywSL._AC_UY218_.jpg\" srcset=\"https://m.media-amazon.com/images/I/71OxJeyywSL._AC_UY218_.jpg 1x, https://m.media-amazon.com/images/I/71OxJeyywSL._AC_UY327_QL65_.jpg 1.5x, https://m.media-amazon.com/images/I/71OxJeyywSL._AC_UY436_QL65_.jpg 2x, https://m.media-amazon.com/images/I/71OxJeyywSL._AC_UY545_QL65_.jpg 2.5x, https://m.media-amazon.com/images/I/71OxJeyywSL._AC_UY654_QL65_.jpg 3x\"/></div>,\n",
       " <div class=\"a-section aok-relative s-image-fixed-height\"><img alt=\"Vivo Y31 (Ocean Blue, 6GB, 128GB Storage) with No Cost EMI/Additional Exchange Offers\" class=\"s-image\" data-image-index=\"12\" data-image-latency=\"s-product-image\" data-image-load=\"\" data-image-source-density=\"1\" src=\"https://m.media-amazon.com/images/I/71YW54xTE1L._AC_UY218_.jpg\" srcset=\"https://m.media-amazon.com/images/I/71YW54xTE1L._AC_UY218_.jpg 1x, https://m.media-amazon.com/images/I/71YW54xTE1L._AC_UY327_QL65_.jpg 1.5x, https://m.media-amazon.com/images/I/71YW54xTE1L._AC_UY436_QL65_.jpg 2x, https://m.media-amazon.com/images/I/71YW54xTE1L._AC_UY545_QL65_.jpg 2.5x, https://m.media-amazon.com/images/I/71YW54xTE1L._AC_UY654_QL65_.jpg 3x\"/></div>,\n",
       " <div class=\"a-section aok-relative s-image-fixed-height\"><img alt=\"Redmi 9 Power (Mighty Black, 6GB RAM, 128GB Storage) - 6000mAh Battery |FHD+ Screen| 48MP Quad Camera | Snapdragon 662 Pro...\" class=\"s-image\" data-image-index=\"13\" data-image-latency=\"s-product-image\" data-image-load=\"\" data-image-source-density=\"1\" src=\"https://m.media-amazon.com/images/I/61LHaUOhehL._AC_UY218_.jpg\" srcset=\"https://m.media-amazon.com/images/I/61LHaUOhehL._AC_UY218_.jpg 1x, https://m.media-amazon.com/images/I/61LHaUOhehL._AC_UY327_QL65_.jpg 1.5x, https://m.media-amazon.com/images/I/61LHaUOhehL._AC_UY436_QL65_.jpg 2x, https://m.media-amazon.com/images/I/61LHaUOhehL._AC_UY545_QL65_.jpg 2.5x, https://m.media-amazon.com/images/I/61LHaUOhehL._AC_UY654_QL65_.jpg 3x\"/></div>,\n",
       " <div class=\"a-section aok-relative s-image-fixed-height\"><img alt=\"Redmi 9A (Nature Green, 3GB Ram, 32GB Storage) | 2GHz Octa-core Helio G25 Processor\" class=\"s-image\" data-image-index=\"14\" data-image-latency=\"s-product-image\" data-image-load=\"\" data-image-source-density=\"1\" src=\"https://m.media-amazon.com/images/I/71sxlhYhKWL._AC_UY218_.jpg\" srcset=\"https://m.media-amazon.com/images/I/71sxlhYhKWL._AC_UY218_.jpg 1x, https://m.media-amazon.com/images/I/71sxlhYhKWL._AC_UY327_QL65_.jpg 1.5x, https://m.media-amazon.com/images/I/71sxlhYhKWL._AC_UY436_QL65_.jpg 2x, https://m.media-amazon.com/images/I/71sxlhYhKWL._AC_UY545_QL65_.jpg 2.5x, https://m.media-amazon.com/images/I/71sxlhYhKWL._AC_UY654_QL65_.jpg 3x\"/></div>,\n",
       " <div class=\"a-section aok-relative s-image-fixed-height\"><img alt=\"Redmi 9A (Midnight Black, 3GB Ram, 32GB Storage) | 2GHz Octa-core Helio G25 Processor\" class=\"s-image\" data-image-index=\"15\" data-image-latency=\"s-product-image\" data-image-load=\"\" data-image-source-density=\"1\" src=\"https://m.media-amazon.com/images/I/71sxlhYhKWL._AC_UY218_.jpg\" srcset=\"https://m.media-amazon.com/images/I/71sxlhYhKWL._AC_UY218_.jpg 1x, https://m.media-amazon.com/images/I/71sxlhYhKWL._AC_UY327_QL65_.jpg 1.5x, https://m.media-amazon.com/images/I/71sxlhYhKWL._AC_UY436_QL65_.jpg 2x, https://m.media-amazon.com/images/I/71sxlhYhKWL._AC_UY545_QL65_.jpg 2.5x, https://m.media-amazon.com/images/I/71sxlhYhKWL._AC_UY654_QL65_.jpg 3x\"/></div>,\n",
       " <div class=\"a-section aok-relative s-image-fixed-height\"><img alt=\"Samsung Galaxy M31s (Mirage Blue, 6GB RAM, 128GB Storage)\" class=\"s-image\" data-image-index=\"16\" data-image-latency=\"s-product-image\" data-image-load=\"\" data-image-source-density=\"1\" src=\"https://m.media-amazon.com/images/I/61d-phh4GfL._AC_UY218_.jpg\" srcset=\"https://m.media-amazon.com/images/I/61d-phh4GfL._AC_UY218_.jpg 1x, https://m.media-amazon.com/images/I/61d-phh4GfL._AC_UY327_QL65_.jpg 1.5x, https://m.media-amazon.com/images/I/61d-phh4GfL._AC_UY436_QL65_.jpg 2x, https://m.media-amazon.com/images/I/61d-phh4GfL._AC_UY545_QL65_.jpg 2.5x, https://m.media-amazon.com/images/I/61d-phh4GfL._AC_UY654_QL65_.jpg 3x\"/></div>]"
      ]
     },
     "execution_count": 259,
     "metadata": {},
     "output_type": "execute_result"
    }
   ],
   "source": [
    "ur = soup7.find_all('div',class_='a-section aok-relative s-image-fixed-height')\n",
    "ur"
   ]
  },
  {
   "cell_type": "code",
   "execution_count": 263,
   "metadata": {},
   "outputs": [
    {
     "data": {
      "text/plain": [
       "[<bound method Tag.get_text of <div class=\"a-section aok-relative s-image-fixed-height\"><img alt=\"Redmi 9A (Nature Green, 2GB Ram, 32GB Storage) | 2GHz Octa-core Helio G25 Processor\" class=\"s-image\" data-image-index=\"1\" data-image-latency=\"s-product-image\" data-image-load=\"\" data-image-source-density=\"1\" src=\"https://m.media-amazon.com/images/I/71sxlhYhKWL._AC_UY218_.jpg\" srcset=\"https://m.media-amazon.com/images/I/71sxlhYhKWL._AC_UY218_.jpg 1x, https://m.media-amazon.com/images/I/71sxlhYhKWL._AC_UY327_QL65_.jpg 1.5x, https://m.media-amazon.com/images/I/71sxlhYhKWL._AC_UY436_QL65_.jpg 2x, https://m.media-amazon.com/images/I/71sxlhYhKWL._AC_UY545_QL65_.jpg 2.5x, https://m.media-amazon.com/images/I/71sxlhYhKWL._AC_UY654_QL65_.jpg 3x\"/></div>>,\n",
       " <bound method Tag.get_text of <div class=\"a-section aok-relative s-image-fixed-height\"><img alt=\"Redmi 9 (Sky Blue, 4GB RAM, 64GB Storage)| 5000 mAh| 2.3GHz Mediatek Helio G35 Octa core Processor\" class=\"s-image\" data-image-index=\"2\" data-image-latency=\"s-product-image\" data-image-load=\"\" data-image-source-density=\"1\" src=\"https://m.media-amazon.com/images/I/71A9Vo1BatL._AC_UY218_.jpg\" srcset=\"https://m.media-amazon.com/images/I/71A9Vo1BatL._AC_UY218_.jpg 1x, https://m.media-amazon.com/images/I/71A9Vo1BatL._AC_UY327_QL65_.jpg 1.5x, https://m.media-amazon.com/images/I/71A9Vo1BatL._AC_UY436_QL65_.jpg 2x, https://m.media-amazon.com/images/I/71A9Vo1BatL._AC_UY545_QL65_.jpg 2.5x, https://m.media-amazon.com/images/I/71A9Vo1BatL._AC_UY654_QL65_.jpg 3x\"/></div>>,\n",
       " <bound method Tag.get_text of <div class=\"a-section aok-relative s-image-fixed-height\"><img alt=\"Samsung Galaxy M12 (Blue,4GB RAM, 64GB Storage) 6000 mAh with 8nm Processor | True 48 MP Quad Camera | 90Hz Refresh Rate\" class=\"s-image\" data-image-index=\"3\" data-image-latency=\"s-product-image\" data-image-load=\"\" data-image-source-density=\"1\" src=\"https://m.media-amazon.com/images/I/71yYaNztZ0L._AC_UY218_.jpg\" srcset=\"https://m.media-amazon.com/images/I/71yYaNztZ0L._AC_UY218_.jpg 1x, https://m.media-amazon.com/images/I/71yYaNztZ0L._AC_UY327_QL65_.jpg 1.5x, https://m.media-amazon.com/images/I/71yYaNztZ0L._AC_UY436_QL65_.jpg 2x, https://m.media-amazon.com/images/I/71yYaNztZ0L._AC_UY545_QL65_.jpg 2.5x, https://m.media-amazon.com/images/I/71yYaNztZ0L._AC_UY654_QL65_.jpg 3x\"/></div>>,\n",
       " <bound method Tag.get_text of <div class=\"a-section aok-relative s-image-fixed-height\"><img alt=\"Oppo A31 (Mystery Black, 6GB RAM, 128GB Storage) with No Cost EMI/Additional Exchange Offers\" class=\"s-image\" data-image-index=\"4\" data-image-latency=\"s-product-image\" data-image-load=\"\" data-image-source-density=\"1\" src=\"https://m.media-amazon.com/images/I/71KCwNV6MuL._AC_UY218_.jpg\" srcset=\"https://m.media-amazon.com/images/I/71KCwNV6MuL._AC_UY218_.jpg 1x, https://m.media-amazon.com/images/I/71KCwNV6MuL._AC_UY327_QL65_.jpg 1.5x, https://m.media-amazon.com/images/I/71KCwNV6MuL._AC_UY436_QL65_.jpg 2x, https://m.media-amazon.com/images/I/71KCwNV6MuL._AC_UY545_QL65_.jpg 2.5x, https://m.media-amazon.com/images/I/71KCwNV6MuL._AC_UY654_QL65_.jpg 3x\"/></div>>,\n",
       " <bound method Tag.get_text of <div class=\"a-section aok-relative s-image-fixed-height\"><img alt=\"Oppo A31 (Fantasy White, 6GB RAM, 128GB Storage) with No Cost EMI/Additional Exchange Offers\" class=\"s-image\" data-image-index=\"5\" data-image-latency=\"s-product-image\" data-image-load=\"\" data-image-source-density=\"1\" src=\"https://m.media-amazon.com/images/I/61IhTtJUXJL._AC_UY218_.jpg\" srcset=\"https://m.media-amazon.com/images/I/61IhTtJUXJL._AC_UY218_.jpg 1x, https://m.media-amazon.com/images/I/61IhTtJUXJL._AC_UY327_QL65_.jpg 1.5x, https://m.media-amazon.com/images/I/61IhTtJUXJL._AC_UY436_QL65_.jpg 2x, https://m.media-amazon.com/images/I/61IhTtJUXJL._AC_UY545_QL65_.jpg 2.5x, https://m.media-amazon.com/images/I/61IhTtJUXJL._AC_UY654_QL65_.jpg 3x\"/></div>>,\n",
       " <bound method Tag.get_text of <div class=\"a-section aok-relative s-image-fixed-height\"><img alt=\"Vivo Y91i (Fusion Black, 2GB RAM, 32GB Storage) with No Cost EMI/Additional Exchange Offers\" class=\"s-image\" data-image-index=\"6\" data-image-latency=\"s-product-image\" data-image-load=\"\" data-image-source-density=\"1\" src=\"https://m.media-amazon.com/images/I/51ZoulFBPGL._AC_UY218_.jpg\" srcset=\"https://m.media-amazon.com/images/I/51ZoulFBPGL._AC_UY218_.jpg 1x, https://m.media-amazon.com/images/I/51ZoulFBPGL._AC_UY327_QL65_.jpg 1.5x, https://m.media-amazon.com/images/I/51ZoulFBPGL._AC_UY436_QL65_.jpg 2x, https://m.media-amazon.com/images/I/51ZoulFBPGL._AC_UY545_QL65_.jpg 2.5x, https://m.media-amazon.com/images/I/51ZoulFBPGL._AC_UY654_QL65_.jpg 3x\"/></div>>,\n",
       " <bound method Tag.get_text of <div class=\"a-section aok-relative s-image-fixed-height\"><img alt=\"OPPO A31 (Fantasy White, 4GB RAM, 64GB Storage) with No Cost EMI/Additional Exchange Offers\" class=\"s-image\" data-image-index=\"7\" data-image-latency=\"s-product-image\" data-image-load=\"\" data-image-source-density=\"1\" src=\"https://m.media-amazon.com/images/I/61IhTtJUXJL._AC_UY218_.jpg\" srcset=\"https://m.media-amazon.com/images/I/61IhTtJUXJL._AC_UY218_.jpg 1x, https://m.media-amazon.com/images/I/61IhTtJUXJL._AC_UY327_QL65_.jpg 1.5x, https://m.media-amazon.com/images/I/61IhTtJUXJL._AC_UY436_QL65_.jpg 2x, https://m.media-amazon.com/images/I/61IhTtJUXJL._AC_UY545_QL65_.jpg 2.5x, https://m.media-amazon.com/images/I/61IhTtJUXJL._AC_UY654_QL65_.jpg 3x\"/></div>>,\n",
       " <bound method Tag.get_text of <div class=\"a-section aok-relative s-image-fixed-height\"><img alt=\"Samsung Galaxy M21 (Midnight Blue, 4GB RAM, 64GB Storage)\" class=\"s-image\" data-image-index=\"8\" data-image-latency=\"s-product-image\" data-image-load=\"\" data-image-source-density=\"1\" src=\"https://m.media-amazon.com/images/I/71dujTTJDZL._AC_UY218_.jpg\" srcset=\"https://m.media-amazon.com/images/I/71dujTTJDZL._AC_UY218_.jpg 1x, https://m.media-amazon.com/images/I/71dujTTJDZL._AC_UY327_QL65_.jpg 1.5x, https://m.media-amazon.com/images/I/71dujTTJDZL._AC_UY436_QL65_.jpg 2x, https://m.media-amazon.com/images/I/71dujTTJDZL._AC_UY545_QL65_.jpg 2.5x, https://m.media-amazon.com/images/I/71dujTTJDZL._AC_UY654_QL65_.jpg 3x\"/></div>>,\n",
       " <bound method Tag.get_text of <div class=\"a-section aok-relative s-image-fixed-height\"><img alt=\"Vivo Y91i (Ocean Blue, 2GB RAM, 32GB Storage) with No Cost EMI/Additional Exchange Offers\" class=\"s-image\" data-image-index=\"9\" data-image-latency=\"s-product-image\" data-image-load=\"\" data-image-source-density=\"1\" src=\"https://m.media-amazon.com/images/I/51FnmxwFHDL._AC_UY218_.jpg\" srcset=\"https://m.media-amazon.com/images/I/51FnmxwFHDL._AC_UY218_.jpg 1x, https://m.media-amazon.com/images/I/51FnmxwFHDL._AC_UY327_QL65_.jpg 1.5x, https://m.media-amazon.com/images/I/51FnmxwFHDL._AC_UY436_QL65_.jpg 2x, https://m.media-amazon.com/images/I/51FnmxwFHDL._AC_UY545_QL65_.jpg 2.5x, https://m.media-amazon.com/images/I/51FnmxwFHDL._AC_UY654_QL65_.jpg 3x\"/></div>>,\n",
       " <bound method Tag.get_text of <div class=\"a-section aok-relative s-image-fixed-height\"><img alt=\"Redmi Note 9 (Pebble Grey, 4GB RAM 64GB Storage) - 48MP Quad Camera &amp; Full HD+ Display\" class=\"s-image\" data-image-index=\"10\" data-image-latency=\"s-product-image\" data-image-load=\"\" data-image-source-density=\"1\" src=\"https://m.media-amazon.com/images/I/71X5I1cVfbL._AC_UY218_.jpg\" srcset=\"https://m.media-amazon.com/images/I/71X5I1cVfbL._AC_UY218_.jpg 1x, https://m.media-amazon.com/images/I/71X5I1cVfbL._AC_UY327_QL65_.jpg 1.5x, https://m.media-amazon.com/images/I/71X5I1cVfbL._AC_UY436_QL65_.jpg 2x, https://m.media-amazon.com/images/I/71X5I1cVfbL._AC_UY545_QL65_.jpg 2.5x, https://m.media-amazon.com/images/I/71X5I1cVfbL._AC_UY654_QL65_.jpg 3x\"/></div>>,\n",
       " <bound method Tag.get_text of <div class=\"a-section aok-relative s-image-fixed-height\"><img alt=\"Samsung Galaxy M31 (Space Black, 6GB RAM, 128GB Storage)\" class=\"s-image\" data-image-index=\"11\" data-image-latency=\"s-product-image\" data-image-load=\"\" data-image-source-density=\"1\" src=\"https://m.media-amazon.com/images/I/71OxJeyywSL._AC_UY218_.jpg\" srcset=\"https://m.media-amazon.com/images/I/71OxJeyywSL._AC_UY218_.jpg 1x, https://m.media-amazon.com/images/I/71OxJeyywSL._AC_UY327_QL65_.jpg 1.5x, https://m.media-amazon.com/images/I/71OxJeyywSL._AC_UY436_QL65_.jpg 2x, https://m.media-amazon.com/images/I/71OxJeyywSL._AC_UY545_QL65_.jpg 2.5x, https://m.media-amazon.com/images/I/71OxJeyywSL._AC_UY654_QL65_.jpg 3x\"/></div>>,\n",
       " <bound method Tag.get_text of <div class=\"a-section aok-relative s-image-fixed-height\"><img alt=\"Vivo Y31 (Ocean Blue, 6GB, 128GB Storage) with No Cost EMI/Additional Exchange Offers\" class=\"s-image\" data-image-index=\"12\" data-image-latency=\"s-product-image\" data-image-load=\"\" data-image-source-density=\"1\" src=\"https://m.media-amazon.com/images/I/71YW54xTE1L._AC_UY218_.jpg\" srcset=\"https://m.media-amazon.com/images/I/71YW54xTE1L._AC_UY218_.jpg 1x, https://m.media-amazon.com/images/I/71YW54xTE1L._AC_UY327_QL65_.jpg 1.5x, https://m.media-amazon.com/images/I/71YW54xTE1L._AC_UY436_QL65_.jpg 2x, https://m.media-amazon.com/images/I/71YW54xTE1L._AC_UY545_QL65_.jpg 2.5x, https://m.media-amazon.com/images/I/71YW54xTE1L._AC_UY654_QL65_.jpg 3x\"/></div>>,\n",
       " <bound method Tag.get_text of <div class=\"a-section aok-relative s-image-fixed-height\"><img alt=\"Redmi 9 Power (Mighty Black, 6GB RAM, 128GB Storage) - 6000mAh Battery |FHD+ Screen| 48MP Quad Camera | Snapdragon 662 Pro...\" class=\"s-image\" data-image-index=\"13\" data-image-latency=\"s-product-image\" data-image-load=\"\" data-image-source-density=\"1\" src=\"https://m.media-amazon.com/images/I/61LHaUOhehL._AC_UY218_.jpg\" srcset=\"https://m.media-amazon.com/images/I/61LHaUOhehL._AC_UY218_.jpg 1x, https://m.media-amazon.com/images/I/61LHaUOhehL._AC_UY327_QL65_.jpg 1.5x, https://m.media-amazon.com/images/I/61LHaUOhehL._AC_UY436_QL65_.jpg 2x, https://m.media-amazon.com/images/I/61LHaUOhehL._AC_UY545_QL65_.jpg 2.5x, https://m.media-amazon.com/images/I/61LHaUOhehL._AC_UY654_QL65_.jpg 3x\"/></div>>,\n",
       " <bound method Tag.get_text of <div class=\"a-section aok-relative s-image-fixed-height\"><img alt=\"Redmi 9A (Nature Green, 3GB Ram, 32GB Storage) | 2GHz Octa-core Helio G25 Processor\" class=\"s-image\" data-image-index=\"14\" data-image-latency=\"s-product-image\" data-image-load=\"\" data-image-source-density=\"1\" src=\"https://m.media-amazon.com/images/I/71sxlhYhKWL._AC_UY218_.jpg\" srcset=\"https://m.media-amazon.com/images/I/71sxlhYhKWL._AC_UY218_.jpg 1x, https://m.media-amazon.com/images/I/71sxlhYhKWL._AC_UY327_QL65_.jpg 1.5x, https://m.media-amazon.com/images/I/71sxlhYhKWL._AC_UY436_QL65_.jpg 2x, https://m.media-amazon.com/images/I/71sxlhYhKWL._AC_UY545_QL65_.jpg 2.5x, https://m.media-amazon.com/images/I/71sxlhYhKWL._AC_UY654_QL65_.jpg 3x\"/></div>>,\n",
       " <bound method Tag.get_text of <div class=\"a-section aok-relative s-image-fixed-height\"><img alt=\"Redmi 9A (Midnight Black, 3GB Ram, 32GB Storage) | 2GHz Octa-core Helio G25 Processor\" class=\"s-image\" data-image-index=\"15\" data-image-latency=\"s-product-image\" data-image-load=\"\" data-image-source-density=\"1\" src=\"https://m.media-amazon.com/images/I/71sxlhYhKWL._AC_UY218_.jpg\" srcset=\"https://m.media-amazon.com/images/I/71sxlhYhKWL._AC_UY218_.jpg 1x, https://m.media-amazon.com/images/I/71sxlhYhKWL._AC_UY327_QL65_.jpg 1.5x, https://m.media-amazon.com/images/I/71sxlhYhKWL._AC_UY436_QL65_.jpg 2x, https://m.media-amazon.com/images/I/71sxlhYhKWL._AC_UY545_QL65_.jpg 2.5x, https://m.media-amazon.com/images/I/71sxlhYhKWL._AC_UY654_QL65_.jpg 3x\"/></div>>,\n",
       " <bound method Tag.get_text of <div class=\"a-section aok-relative s-image-fixed-height\"><img alt=\"Samsung Galaxy M31s (Mirage Blue, 6GB RAM, 128GB Storage)\" class=\"s-image\" data-image-index=\"16\" data-image-latency=\"s-product-image\" data-image-load=\"\" data-image-source-density=\"1\" src=\"https://m.media-amazon.com/images/I/61d-phh4GfL._AC_UY218_.jpg\" srcset=\"https://m.media-amazon.com/images/I/61d-phh4GfL._AC_UY218_.jpg 1x, https://m.media-amazon.com/images/I/61d-phh4GfL._AC_UY327_QL65_.jpg 1.5x, https://m.media-amazon.com/images/I/61d-phh4GfL._AC_UY436_QL65_.jpg 2x, https://m.media-amazon.com/images/I/61d-phh4GfL._AC_UY545_QL65_.jpg 2.5x, https://m.media-amazon.com/images/I/61d-phh4GfL._AC_UY654_QL65_.jpg 3x\"/></div>>]"
      ]
     },
     "execution_count": 263,
     "metadata": {},
     "output_type": "execute_result"
    }
   ],
   "source": [
    "url = []\n",
    "for i in ur:\n",
    "    url.append(i.get_text)\n",
    "url"
   ]
  },
  {
   "cell_type": "code",
   "execution_count": 264,
   "metadata": {},
   "outputs": [],
   "source": [
    "##<div class=\"a-section aok-relative s-image-fixed-height\"><img class=\"s-image\" src=\"https://m.media-amazon.com/images/I/71KCwNV6MuL._AC_UY218_.jpg\" srcset=\"https://m.media-amazon.com/images/I/71KCwNV6MuL._AC_UY218_.jpg 1x, https://m.media-amazon.com/images/I/71KCwNV6MuL._AC_UY327_FMwebp_QL65_.jpg 1.5x, https://m.media-amazon.com/images/I/71KCwNV6MuL._AC_UY436_FMwebp_QL65_.jpg 2x, https://m.media-amazon.com/images/I/71KCwNV6MuL._AC_UY545_FMwebp_QL65_.jpg 2.5x, https://m.media-amazon.com/images/I/71KCwNV6MuL._AC_UY654_FMwebp_QL65_.jpg 3x\" alt=\"Oppo A31 (Mystery Black, 6GB RAM, 128GB Storage) with No Cost EMI/Additional Exchange Offers\" data-image-index=\"4\" data-image-load=\"\" data-image-latency=\"s-product-image\" data-image-source-density=\"1\"></div>"
   ]
  },
  {
   "cell_type": "markdown",
   "metadata": {},
   "source": [
    "## Task 8"
   ]
  },
  {
   "cell_type": "code",
   "execution_count": 267,
   "metadata": {},
   "outputs": [
    {
     "data": {
      "text/plain": [
       "<Response [200]>"
      ]
     },
     "execution_count": 267,
     "metadata": {},
     "output_type": "execute_result"
    }
   ],
   "source": [
    "page8 = requests.get('https://forecast.weather.gov/MapClick.php?lat=37.777120000000025&lon=-122.41963999999996#.YJWDGNUzbIU')\n",
    "page8"
   ]
  },
  {
   "cell_type": "code",
   "execution_count": 268,
   "metadata": {},
   "outputs": [],
   "source": [
    "soup8 = BeautifulSoup(page8.content)"
   ]
  },
  {
   "cell_type": "code",
   "execution_count": 271,
   "metadata": {},
   "outputs": [
    {
     "data": {
      "text/plain": [
       "['Today',\n",
       " 'Tonight',\n",
       " 'Saturday',\n",
       " 'SaturdayNight',\n",
       " 'Sunday',\n",
       " 'SundayNight',\n",
       " 'Monday',\n",
       " 'MondayNight',\n",
       " 'Tuesday']"
      ]
     },
     "execution_count": 271,
     "metadata": {},
     "output_type": "execute_result"
    }
   ],
   "source": [
    "day = soup8.find_all('p',class_='period-name')\n",
    "days = []\n",
    "for i in day:\n",
    "    days.append(i.text)\n",
    "days"
   ]
  },
  {
   "cell_type": "code",
   "execution_count": 277,
   "metadata": {},
   "outputs": [
    {
     "data": {
      "text/plain": [
       "['High: 67 °F', 'High: 73 °F', 'High: 71 °F', 'High: 73 °F', 'High: 74 °F']"
      ]
     },
     "execution_count": 277,
     "metadata": {},
     "output_type": "execute_result"
    }
   ],
   "source": [
    "odd = soup8.find_all('p',class_='temp temp-high')\n",
    "odd_days = []\n",
    "for i in odd:\n",
    "    odd_days.append(i.text)\n",
    "odd_days"
   ]
  },
  {
   "cell_type": "code",
   "execution_count": 278,
   "metadata": {},
   "outputs": [
    {
     "data": {
      "text/plain": [
       "['Low: 52 °F', 'Low: 53 °F', 'Low: 52 °F', 'Low: 52 °F']"
      ]
     },
     "execution_count": 278,
     "metadata": {},
     "output_type": "execute_result"
    }
   ],
   "source": [
    "even = soup8.find_all('p',class_='temp temp-low')\n",
    "even_days = []\n",
    "for i in even:\n",
    "    even_days.append(i.text)\n",
    "even_days"
   ]
  },
  {
   "cell_type": "code",
   "execution_count": 292,
   "metadata": {},
   "outputs": [],
   "source": [
    "##soup8.find_all('p',class_='period_name')"
   ]
  },
  {
   "cell_type": "code",
   "execution_count": 290,
   "metadata": {},
   "outputs": [],
   "source": [
    "##<p class=\"short-desc\" style=\"height: 54px;\">Sunny</p>"
   ]
  },
  {
   "cell_type": "code",
   "execution_count": 291,
   "metadata": {},
   "outputs": [],
   "source": [
    "##soup8.find_all('p',class_='short_desc',style='height: 54px;')"
   ]
  },
  {
   "cell_type": "code",
   "execution_count": null,
   "metadata": {},
   "outputs": [],
   "source": []
  }
 ],
 "metadata": {
  "kernelspec": {
   "display_name": "Python 3",
   "language": "python",
   "name": "python3"
  },
  "language_info": {
   "codemirror_mode": {
    "name": "ipython",
    "version": 3
   },
   "file_extension": ".py",
   "mimetype": "text/x-python",
   "name": "python",
   "nbconvert_exporter": "python",
   "pygments_lexer": "ipython3",
   "version": "3.8.5"
  }
 },
 "nbformat": 4,
 "nbformat_minor": 4
}
