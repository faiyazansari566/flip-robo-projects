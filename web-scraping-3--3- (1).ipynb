{
 "cells": [
  {
   "cell_type": "markdown",
   "metadata": {},
   "source": [
    "## Task 1"
   ]
  },
  {
   "cell_type": "code",
   "execution_count": 454,
   "metadata": {},
   "outputs": [],
   "source": [
    "import selenium\n",
    "import pandas as pd\n",
    "from selenium import webdriver\n",
    "import time\n",
    "from selenium.common.exceptions import NoSuchElementException,StaleElementReferenceException"
   ]
  },
  {
   "cell_type": "code",
   "execution_count": 455,
   "metadata": {},
   "outputs": [],
   "source": [
    "driver = webdriver.Chrome(r'C:\\Users\\User\\Downloads\\chromedriver_win32 (1)\\chromedriver.exe')"
   ]
  },
  {
   "cell_type": "code",
   "execution_count": 456,
   "metadata": {},
   "outputs": [],
   "source": [
    "url = 'https://www.amazon.in/'\n",
    "driver.get(url)"
   ]
  },
  {
   "cell_type": "code",
   "execution_count": 457,
   "metadata": {},
   "outputs": [
    {
     "data": {
      "text/plain": [
       "<selenium.webdriver.remote.webelement.WebElement (session=\"2b19e2cd00982287de22e317cf227ce7\", element=\"01a97734-92e9-4d8f-9ee6-3ed37d10cfb1\")>"
      ]
     },
     "execution_count": 457,
     "metadata": {},
     "output_type": "execute_result"
    }
   ],
   "source": [
    "search = driver.find_element_by_id('twotabsearchtextbox')\n",
    "search.clear()\n",
    "search"
   ]
  },
  {
   "cell_type": "code",
   "execution_count": 458,
   "metadata": {},
   "outputs": [],
   "source": [
    "#search_input = input('Enter the name of the product :')"
   ]
  },
  {
   "cell_type": "code",
   "execution_count": 459,
   "metadata": {},
   "outputs": [],
   "source": [
    "search.send_keys('jeans')"
   ]
  },
  {
   "cell_type": "markdown",
   "metadata": {},
   "source": [
    "## Task 2"
   ]
  },
  {
   "cell_type": "code",
   "execution_count": 461,
   "metadata": {},
   "outputs": [],
   "source": [
    "driver.find_element_by_id('nav-search-submit-button').click()\n",
    "# driver.find_element_by_xpath('//div[@class=\"nav-search-submit nav-sprite\"]').click()"
   ]
  },
  {
   "cell_type": "code",
   "execution_count": 462,
   "metadata": {},
   "outputs": [],
   "source": [
    "brand_name = []\n",
    "product_name = []\n",
    "Total_Price = []\n",
    "ratings = []\n",
    "url = []"
   ]
  },
  {
   "cell_type": "code",
   "execution_count": 463,
   "metadata": {},
   "outputs": [],
   "source": [
    "for i in range(0,3):\n",
    "    \n",
    "    ##brand names\n",
    "    try :\n",
    "        name_tags = driver.find_elements_by_xpath(\"//div[@class='a-row a-size-base a-color-secondary']/h5/span\")\n",
    "        for j in name_tags:\n",
    "            if j.text is None:\n",
    "                brand_name.append(\"-\")\n",
    "            else:\n",
    "                brand_name.append(j.text)\n",
    "    except NoSuchElementException:\n",
    "        brand_name.append('-')\n",
    "    \n",
    "    ##product name\n",
    "    try :\n",
    "        product = driver.find_elements_by_xpath(\"//span[@class='a-size-base-plus a-color-base a-text-normal']\")\n",
    "        for k in product:\n",
    "            if k.text is None:\n",
    "                product_name.append(\"-\")\n",
    "            else :\n",
    "                product_name.append(k.text)\n",
    "    except NoSuchElementException:\n",
    "        product_name.append('-')\n",
    "    \n",
    "    ##Total Price\n",
    "    try:\n",
    "        totalprice =driver.find_elements_by_xpath(\"//div[@class='a-section a-spacing-none a-spacing-top-small']/div[1]/a[1]/span[1]\")\n",
    "        for r in totalprice:\n",
    "            if r.text is None:\n",
    "                Total_Price.append(\"-\")\n",
    "            else:\n",
    "                Total_Price.append(r.text)\n",
    "    except NoSuchElementException :\n",
    "        Total_Price.append('-')\n",
    "        \n",
    "    #ratings\n",
    "    try:\n",
    "        gr = driver.find_elements_by_xpath(\"//div[@class='a-row a-size-small']/span[1]\")\n",
    "        for g in gr :\n",
    "            if g.get_attribute('aria-label') is None:\n",
    "                ratings.append(\"-\")\n",
    "            else:\n",
    "                ratings.append(g.get_attribute('aria-label'))\n",
    "    except ElementNotVisibleException:\n",
    "        ratings.append('NaN')\n",
    "    \n",
    "    #urls\n",
    "    try :\n",
    "        urls = driver.find_elements_by_xpath(\"//h2[@class='a-size-mini a-spacing-none a-color-base s-line-clamp-2']/a\")\n",
    "        for u in urls :\n",
    "            if u.get_attribute('href') is None:\n",
    "                url.append(\"-\")\n",
    "            else:\n",
    "                url.append(u.get_attribute('href'))\n",
    "    except NoSuchElementException :\n",
    "        url.append('-')\n",
    "        \n",
    "    next_page = driver.find_element_by_xpath(\"//li[@class='a-last']/a\")\n",
    "    next_page.click()\n",
    "    time.sleep(5)"
   ]
  },
  {
   "cell_type": "code",
   "execution_count": 464,
   "metadata": {
    "scrolled": false
   },
   "outputs": [
    {
     "data": {
      "text/plain": [
       "(188, 188, 188, 180, 188)"
      ]
     },
     "execution_count": 464,
     "metadata": {},
     "output_type": "execute_result"
    }
   ],
   "source": [
    "len(brand_name) , len(product_name) , len(Total_Price) , len(ratings) , len(url)"
   ]
  },
  {
   "cell_type": "code",
   "execution_count": 475,
   "metadata": {
    "scrolled": true
   },
   "outputs": [],
   "source": [
    "rat2 = ratings.extend('None')\n",
    "rat2"
   ]
  },
  {
   "cell_type": "code",
   "execution_count": 476,
   "metadata": {},
   "outputs": [],
   "source": [
    "df = pd.DataFrame({})\n",
    "df['Brand'] = brand_name\n",
    "df['Product'] = product_name\n",
    "df['Price'] =  Total_Price\n",
    "df['url'] = url"
   ]
  },
  {
   "cell_type": "code",
   "execution_count": 477,
   "metadata": {},
   "outputs": [
    {
     "data": {
      "text/html": [
       "<div>\n",
       "<style scoped>\n",
       "    .dataframe tbody tr th:only-of-type {\n",
       "        vertical-align: middle;\n",
       "    }\n",
       "\n",
       "    .dataframe tbody tr th {\n",
       "        vertical-align: top;\n",
       "    }\n",
       "\n",
       "    .dataframe thead th {\n",
       "        text-align: right;\n",
       "    }\n",
       "</style>\n",
       "<table border=\"1\" class=\"dataframe\">\n",
       "  <thead>\n",
       "    <tr style=\"text-align: right;\">\n",
       "      <th></th>\n",
       "      <th>Brand</th>\n",
       "      <th>Product</th>\n",
       "      <th>Price</th>\n",
       "      <th>url</th>\n",
       "    </tr>\n",
       "  </thead>\n",
       "  <tbody>\n",
       "    <tr>\n",
       "      <th>0</th>\n",
       "      <td>Ben Martin</td>\n",
       "      <td>Women's Skinny fit Jeans</td>\n",
       "      <td>₹699</td>\n",
       "      <td>https://www.amazon.in/gp/slredirect/picassoRed...</td>\n",
       "    </tr>\n",
       "    <tr>\n",
       "      <th>1</th>\n",
       "      <td>Amazon Brand - House &amp; Shields</td>\n",
       "      <td>Men's Stretch Relaxed Jeans</td>\n",
       "      <td>₹759</td>\n",
       "      <td>https://www.amazon.in/gp/slredirect/picassoRed...</td>\n",
       "    </tr>\n",
       "    <tr>\n",
       "      <th>2</th>\n",
       "      <td>Amazon Brand - House &amp; Shields</td>\n",
       "      <td>Men's Stretch Slim Jeans</td>\n",
       "      <td>₹769</td>\n",
       "      <td>https://www.amazon.in/gp/slredirect/picassoRed...</td>\n",
       "    </tr>\n",
       "    <tr>\n",
       "      <th>3</th>\n",
       "      <td>Amazon Brand - Inkast Denim Co.</td>\n",
       "      <td>Men's Stretch Slim Stretchable Jeans</td>\n",
       "      <td>₹849</td>\n",
       "      <td>https://www.amazon.in/gp/slredirect/picassoRed...</td>\n",
       "    </tr>\n",
       "    <tr>\n",
       "      <th>4</th>\n",
       "      <td>KILLER</td>\n",
       "      <td>Mens SMU Jeans Skinny</td>\n",
       "      <td>₹1,199</td>\n",
       "      <td>https://www.amazon.in/KILLER-Jeans-Skinny-KJB-...</td>\n",
       "    </tr>\n",
       "    <tr>\n",
       "      <th>...</th>\n",
       "      <td>...</td>\n",
       "      <td>...</td>\n",
       "      <td>...</td>\n",
       "      <td>...</td>\n",
       "    </tr>\n",
       "    <tr>\n",
       "      <th>183</th>\n",
       "      <td>Amazon Brand - Inkast Denim Co.</td>\n",
       "      <td>Men's Stretch Slim Stretchable Jeans</td>\n",
       "      <td>₹459</td>\n",
       "      <td>https://www.amazon.in/Amazon-Brand-Inkast-IK20...</td>\n",
       "    </tr>\n",
       "    <tr>\n",
       "      <th>184</th>\n",
       "      <td>Police Jeans</td>\n",
       "      <td>Men's Regular Fit Jeans</td>\n",
       "      <td>₹849</td>\n",
       "      <td>https://www.amazon.in/gp/slredirect/picassoRed...</td>\n",
       "    </tr>\n",
       "    <tr>\n",
       "      <th>185</th>\n",
       "      <td>Amazon Brand - Inkast Denim Co.</td>\n",
       "      <td>Men's Stretch Slim Stretchable Jeans</td>\n",
       "      <td>₹849</td>\n",
       "      <td>https://www.amazon.in/gp/slredirect/picassoRed...</td>\n",
       "    </tr>\n",
       "    <tr>\n",
       "      <th>186</th>\n",
       "      <td>Cherokee by Unlimited</td>\n",
       "      <td>Men's Slim fit Jeans</td>\n",
       "      <td>₹1,105</td>\n",
       "      <td>https://www.amazon.in/gp/slredirect/picassoRed...</td>\n",
       "    </tr>\n",
       "    <tr>\n",
       "      <th>187</th>\n",
       "      <td>Amazon Brand - Inkast Denim Co.</td>\n",
       "      <td>Men's Skinny Fit Stretchable Jeans</td>\n",
       "      <td>₹865</td>\n",
       "      <td>https://www.amazon.in/gp/slredirect/picassoRed...</td>\n",
       "    </tr>\n",
       "  </tbody>\n",
       "</table>\n",
       "<p>188 rows × 4 columns</p>\n",
       "</div>"
      ],
      "text/plain": [
       "                               Brand                               Product  \\\n",
       "0                         Ben Martin              Women's Skinny fit Jeans   \n",
       "1     Amazon Brand - House & Shields           Men's Stretch Relaxed Jeans   \n",
       "2     Amazon Brand - House & Shields              Men's Stretch Slim Jeans   \n",
       "3    Amazon Brand - Inkast Denim Co.  Men's Stretch Slim Stretchable Jeans   \n",
       "4                             KILLER                 Mens SMU Jeans Skinny   \n",
       "..                               ...                                   ...   \n",
       "183  Amazon Brand - Inkast Denim Co.  Men's Stretch Slim Stretchable Jeans   \n",
       "184                     Police Jeans               Men's Regular Fit Jeans   \n",
       "185  Amazon Brand - Inkast Denim Co.  Men's Stretch Slim Stretchable Jeans   \n",
       "186            Cherokee by Unlimited                  Men's Slim fit Jeans   \n",
       "187  Amazon Brand - Inkast Denim Co.    Men's Skinny Fit Stretchable Jeans   \n",
       "\n",
       "      Price                                                url  \n",
       "0      ₹699  https://www.amazon.in/gp/slredirect/picassoRed...  \n",
       "1      ₹759  https://www.amazon.in/gp/slredirect/picassoRed...  \n",
       "2      ₹769  https://www.amazon.in/gp/slredirect/picassoRed...  \n",
       "3      ₹849  https://www.amazon.in/gp/slredirect/picassoRed...  \n",
       "4    ₹1,199  https://www.amazon.in/KILLER-Jeans-Skinny-KJB-...  \n",
       "..      ...                                                ...  \n",
       "183    ₹459  https://www.amazon.in/Amazon-Brand-Inkast-IK20...  \n",
       "184    ₹849  https://www.amazon.in/gp/slredirect/picassoRed...  \n",
       "185    ₹849  https://www.amazon.in/gp/slredirect/picassoRed...  \n",
       "186  ₹1,105  https://www.amazon.in/gp/slredirect/picassoRed...  \n",
       "187    ₹865  https://www.amazon.in/gp/slredirect/picassoRed...  \n",
       "\n",
       "[188 rows x 4 columns]"
      ]
     },
     "execution_count": 477,
     "metadata": {},
     "output_type": "execute_result"
    }
   ],
   "source": [
    "df"
   ]
  },
  {
   "cell_type": "markdown",
   "metadata": {},
   "source": [
    "## Task 3"
   ]
  },
  {
   "cell_type": "code",
   "execution_count": 822,
   "metadata": {},
   "outputs": [],
   "source": [
    "import selenium\n",
    "import pandas as pd\n",
    "from selenium import webdriver\n",
    "import time\n",
    "import urllib\n",
    "from selenium.common.exceptions import NoSuchElementException,StaleElementReferenceException"
   ]
  },
  {
   "cell_type": "code",
   "execution_count": 816,
   "metadata": {},
   "outputs": [],
   "source": [
    "driver = webdriver.Chrome(r'C:\\Users\\User\\Downloads\\chromedriver_win32\\chromedriver.exe')"
   ]
  },
  {
   "cell_type": "code",
   "execution_count": 817,
   "metadata": {
    "scrolled": true
   },
   "outputs": [],
   "source": [
    "url = 'https://images.google.com/'\n",
    "driver.get(url)"
   ]
  },
  {
   "cell_type": "code",
   "execution_count": 818,
   "metadata": {
    "scrolled": false
   },
   "outputs": [],
   "source": [
    "search_bar = driver.find_element_by_xpath(\"//div[@class='a4bIc']/input\")\n",
    "search_bar.send_keys('fruits')"
   ]
  },
  {
   "cell_type": "code",
   "execution_count": 819,
   "metadata": {
    "scrolled": true
   },
   "outputs": [],
   "source": [
    "ser = driver.find_element_by_xpath(\"//button[@class='Tg7LZd']\")\n",
    "ser.click()"
   ]
  },
  {
   "cell_type": "code",
   "execution_count": 591,
   "metadata": {},
   "outputs": [],
   "source": [
    "#url2 = 'https://www.google.com/search?q=fruits+&tbm=isch&sxsrf=ALeKk03bBalCeg_cmjNshx6FQBwR6Bct9A%3A1622474871456&source=hp&biw=1366&bih=568&ei=dwC1YL3TGefA3LUP9rC4wAc&oq=fruits+&gs_lcp=CgNpbWcQAzIICAAQsQMQgwEyCAgAELEDEIMBMgUIABCxAzIFCAAQsQMyBQgAELEDMgUIABCxAzIFCAAQsQMyCAgAELEDEIMBMgUIABCxAzIFCAAQsQM6BwgjEOoCECc6AggAUPDHH1j-5h9gtekfaAFwAHgBgAHEBIgBsQqSAQcwLjYuNS0xmAEAoAEBqgELZ3dzLXdpei1pbWewAQo&sclient=img&ved=0ahUKEwj96vjynfTwAhVnILcAHXYYDngQ4dUDCAc&uact=5'"
   ]
  },
  {
   "cell_type": "code",
   "execution_count": 596,
   "metadata": {},
   "outputs": [],
   "source": [
    "driver.get(url2)"
   ]
  },
  {
   "cell_type": "code",
   "execution_count": 820,
   "metadata": {},
   "outputs": [],
   "source": [
    "##fruits\n",
    "urls = []\n",
    "fruit_urls = driver.find_elements_by_xpath(\"//div[@class='bRMDJf islir']/img\") \n",
    "for i in fruit_urls:\n",
    "    urls.append(i.get_attribute(\"src\"))\n"
   ]
  },
  {
   "cell_type": "code",
   "execution_count": 908,
   "metadata": {},
   "outputs": [],
   "source": [
    "## download image\n",
    "def download_image(url , destination = 'D://fruits-images') :\n",
    "        resource = urllib.request.urlopen(url)\n",
    "        filename = destination+url[-8:]+'.jpg'\n",
    "        output = open(filename, 'wb')\n",
    "        output.write(resource.read())\n",
    "        output.close"
   ]
  },
  {
   "cell_type": "code",
   "execution_count": 926,
   "metadata": {},
   "outputs": [],
   "source": [
    "for i, j in enumerate(urls):\n",
    "    resource = urllib.request.urlopen(j)\n",
    "    filename = str(i)\n",
    "    out = open(filename,'wb')\n",
    "    out.write(resource.read())\n",
    "    out.close\n",
    "##download fruit images"
   ]
  },
  {
   "cell_type": "code",
   "execution_count": null,
   "metadata": {},
   "outputs": [],
   "source": [
    "ml_urls = driver.find_element_by_xpath(\"//\")"
   ]
  },
  {
   "cell_type": "code",
   "execution_count": 827,
   "metadata": {},
   "outputs": [],
   "source": [
    "driver.get(urls[9])"
   ]
  },
  {
   "cell_type": "code",
   "execution_count": 658,
   "metadata": {},
   "outputs": [],
   "source": [
    "driver = webdriver.Chrome(r'C:\\Users\\User\\Downloads\\chromedriver_win32\\chromedriver.exe')"
   ]
  },
  {
   "cell_type": "code",
   "execution_count": 659,
   "metadata": {},
   "outputs": [],
   "source": [
    "url = 'https://images.google.com/'\n",
    "driver.get(url)"
   ]
  },
  {
   "cell_type": "code",
   "execution_count": 660,
   "metadata": {},
   "outputs": [],
   "source": [
    "search_bar = driver.find_element_by_xpath(\"//div[@class='a4bIc']/input\")\n",
    "search_bar.send_keys('cars')"
   ]
  },
  {
   "cell_type": "code",
   "execution_count": 661,
   "metadata": {},
   "outputs": [],
   "source": [
    "ser = driver.find_element_by_xpath(\"//button[@class='Tg7LZd']\")\n",
    "ser.click()"
   ]
  },
  {
   "cell_type": "code",
   "execution_count": 666,
   "metadata": {},
   "outputs": [],
   "source": [
    "#cars\n",
    "cars = []\n",
    "car_url = driver.find_elements_by_xpath(\"//a[@class='wXeWr islib nfEiy mM5pbd']/div/img\")\n",
    "for car in car_url :\n",
    "    cars.append(car.get_attribute('src'))\n"
   ]
  },
  {
   "cell_type": "code",
   "execution_count": 928,
   "metadata": {},
   "outputs": [],
   "source": [
    "for i, j in enumerate(cars):\n",
    "    resource = urllib.request.urlopen(j)\n",
    "    filename = 'D:\\car_images' + str(i)\n",
    "    out = open(filename,'wb')\n",
    "    out.write(resource.read())\n",
    "    out.close\n",
    "##download car images"
   ]
  },
  {
   "cell_type": "code",
   "execution_count": 667,
   "metadata": {},
   "outputs": [
    {
     "data": {
      "text/plain": [
       "300"
      ]
     },
     "execution_count": 667,
     "metadata": {},
     "output_type": "execute_result"
    }
   ],
   "source": [
    "len(cars)"
   ]
  },
  {
   "cell_type": "code",
   "execution_count": 668,
   "metadata": {},
   "outputs": [
    {
     "data": {
      "text/plain": [
       "['data:image/jpeg;base64,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',\n",
       " 'data:image/jpeg;base64,/9j/4AAQSkZJRgABAQAAAQABAAD/2wCEAAkGBxISEhISEBIVFhAVFRUVFRgYFRIXFRUVFRUWFhUVFRgYHyggGBolHRUVITEhJSkrLi4uFx80OTQtOCgtLisBCgoKDg0OGhAQGy0lHx0tLS0tLS0tLS0tLS0tLS0tLS0tLS0tLS0tLS0tLS0tLS0tLS0tLS0tLS0tLS0tLS0tLf/AABEIALcBEwMBIgACEQEDEQH/xAAbAAEAAgMBAQAAAAAAAAAAAAAAAQUCAwQGB//EAEQQAAEDAQQHBQMICgEFAQAAAAEAAgMRBBIhMQVBUWFxgZEGEzKhsSJC0RQzQ1JTksHwBxUjYnKCorLC4dI0c5Oj8Rb/xAAaAQEAAwEBAQAAAAAAAAAAAAAAAQIDBAUG/8QAMxEAAgECAwQIBgIDAQAAAAAAAAECAxEEEiETMUGRBVFhcaGx0fAUIjJCgcHh8RUjUnL/2gAMAwEAAhEDEQA/APjqIiAIiIAiIgCIiAIiIAiIgCIiAIpKhAEREAREQBERAEREAREQBERAEREAREQBERAEREAREQBERAEUqEARSoQBFKhAEREARS3MLZcVkgYOzWKzkz5n1WKqCEREAREQBERAEREAREQBERAEREAREQBERAEREAREQBERAEUqEBKBQsla4JUOUIUbBCIiqDNmY4reVzszHFbC5WQMZczxPqViUkzPE+qxUMBERQAiIgCIiAIiIAiIgCIiAIiIAiIgCIiAIiIAiIgCIiAIiIApRQgMlBUIgCIiAkKSViilMGTvxKxUlQoAREQBERAEUqEAREQBERAEREAREQBERAEREAREQBERAEREAREQBEUICUUIgJRTGwmt1pNM6AmnGmS69G6MltDrsLC45k4BrRtc44Abyj0Bxrr0foya0OLYInyEZ3RgN7icGjeSvR2fRFks2M7vlEo9xpLYQf3neJ/KnNZW7tFI9txlGRDJjAGMHIZqC2Urpuy8kfz00DD9UPMjxuIaLv8AUucWGFubnv4AMH4lHzE5rEP3fnaEJsjd3cAyi6vJ9QtTo4j7g6kelFiFg91KACrjgAMyU1DSNobEPom/elP+a9HYOy0bm352MiZsJlvc/awO5btE6JZZI/lFrP7X3W53K5ADW8+Xmqi16TmtD6ta4geFrQTdHLXvXFt51pNUnaK3y/S9fb9FYWnQgpVlect0P3L0X9XDtBaOH0dpf/CWsH/scCtb9BaOOUFtbvvwO8r5VTMJ4xeex7W5VIotLdIv2lbwjFq6m3239ownUlF2lTiuzK/2zrtnZuzfRWmRh2TQSBv32AhVsnZm04mMMmaMzDIyTqAajou6PSjiCDiCKcta1NtTnuaKEyAgNI8d7IXTnVWyyS0lz19DPPTk/mhb/wAtrwd14FBNC5ho9padjgR6rWvuQ0QO6YJj3j7gv3qOaXU9qlRhjsVDbuxNlk8LTG4/VxHRcqxyTtNW7tUd0+iZWvTlfsen8HytSvXab7Cy2ehvBzTkbwB5ilfKi8+7R0oNO4eTuq7+0LrVaD3P9Hnzw1WG+L/GpworRuhrQcrM/nh6kLph0U8YSWUYa6zXj9ySnkirU39y5r1K/D1d+SXJ+hRIvQSaKjwNxzBWlLzicP4hgFTW2EMkewZA4cMx6rRO5m1bRmhERCAiIgCIiAIiIAi6dHWCSeRsUQq92+gAGJc46gBiSvUWXsnExodM58jz4WM9kFuouOJFc89ayrVoUo5p8TfD4apXllgtx41RfG0dV9FsHZN5xa1kLNvifT+J2PmvQaM0REw07yWVwzAJujjiGjnVcv8AkIcF799p3rompxlb8e/FI+NXhtWUTS43W4uOoYr7jaLBZCQZmMc4ZDB7v6A1oPVb7PbLPF81Z2D959K9AFD6Rgnr5u/Kxb/Dzf3eFlzbPBmzRQMaJnlrAAGwtIDztMmplczmcdSrLXplzm93C0Rwj3GDDi7W47zUr6c/S8RzjYT+7GwedK+SmLSANblljNMy5ocBxwAHRUp42jH5YJt/lt8kzWr0dWl805JJdlkubPjpa9xyJPAoYnDMEccF9dOnI7rnl1lDGG64sia8BxwDAWtIc+pHsDHHJcFo0paS8BsUbIzjWaIRSuG2OGO9IRni5rRlkuvaTtmyNLtaXm/M890Kall2qb7E35K3ifMmxEraLKd/Qr6Yy0Bjb0zWtcSaAEOcRqJww4VPFU9q7WRAkMNaZ3Q99ONwYLjWPnJ5Y07vvv5I7n0ZTjHNOrZPrVvN38Dxk9nLQKAknZj6L0nZvQzIB8pnH7WlWtJqWDaR9c7NSs4e2MTwGFobTO7eB4ua7Hmuy1W51YxCWGNwxfQuNdg1Dz1rLE4qpJZLZU9/W+zcdGDwNKD2qlna3dS7d7PI2y297amOtI/YNPgqMBSovCtcTSu5eh/Xzbt2ywSOAGAZGbo6DAclstuhoJsZIwXZhwAa4c2gKttmi7az/prXIWjJrnFrhwcMD5LHbYetli1a3W3bwT177d50bDE0HKS+bNrdL5vFrRcLXKy06MtM/tOgcZDrcZWhvAOcG+Smz9j5z43xs5lx6AU80f2l0jEO7mJOzvGBzuTziRzIXRYO1jhhO0EbW0B6HA+S7atTERX+rLbs92PPo0cLKX+5yvxv7udtj7GxAi/JI92xjQ31vL0Wj9BWWB15rAJdRJMkgO4DBp6KuZpaItvR2i4SNVK82uBHkqXSGnZYzVkrJW7KPjd0ae7P3VzU6lWt8sptPqadua/djsqUqNB5oU011p3l4/o9xNaiPCx3F1fQfFcEtsefeI4ez5jFeXsP6QZWVpUV1ObAR1bG13UrvH6TJnYPiiI2inofirT6Pq20l+El6pkQ6Vo31jbvv6NFgaZkVO04nzSpVRJ2uL8RHHQ4eHy8wrKzT3heNAM15NfDzp/UetRxEKv0s7IrLUVJoBmTkue1S2bLvRXcHEdQKKh0zphz3d2w4DH91o2upmTqCpjKK/PPBzwEdNWIBBwx2ld2H6Oc43engediulIU55Vrbq1/Z6O0wtzDgW7arxnaKzsD2yRvD2yVrRrm3XMu3h7WeDm48Vd2O3moZIQQ40a8ClTqa4ajs/DBYaesLHxOcBR7AXA7cqgjXgPILqwyeHqZZ8eJx4trF0c1Phrbjf8Ar+zyCIi9c8AIiIAiIgC6NH2J88jY4xVzugAzcdgC517XsLNEyN+P7Yn2q53R4abseqwxNV0qbkld+9X2I6sHQjXrKEnZcfRdp2dmNC3Ink4SOcYn11xtdV9BqBoxvC/tV461hri2Nt+TWfdH8R/BaX2oFpcD7OVR6ccfNVj31J9ohmpgNOuupOZXg1q08TLNNWsrJa+/fYfT0KEMLDLDW7u3p70WnHuLZ9or846+dgqGD8XcytUulCfZaCRsGDQqx1oZkXDhUINItGRCy2cnwbNXVS42LazxyvIbgCcgBU01mpyG/ILZaG2eIEumEsn1GVkNdhcAWjleXnnaVhBJLmXjmax1NNpzT/8AQxD32/1H0C6KVJR30835suSXmznq1ruyqqK7k3zbt4HQ/SNvfUQWeOJupzhfkpxfRnRiibQtokuie0lwaa3g594ggVDQ4XWDDCg1nNaGdqoRmSRuY4eZWyPtNCftK78BuyXRtsZFWpwUV2L19DlVHAyd6lRyfbL0PRsaGhjYyY44wRGxhLQ2vvV8RftdWpJKzdMyJjn0Gf3nHbtO9edk0w73QByx81wdo9KOMIFcTgOLsz0B6rlyYivUW1k3d8X+tx158NhqcnSilZcF7ZxaU0obQ9xLj3WIpj+0IzrTG5u181XnSBNWtNA0E0HhAAypl68VqtslyNjW4Gme/X0p5rlre9vDEFrhhi4g4034c178IRpxyx3HzFWrKpNynvO5ttMg9sXgMa0Ac2uFQQcVcdn9KGN1x+LHYjjqPlQrzcAI9gZkguOylachWp/0umQYYEVbjhljg4Dn6KtajGrBxkXw+IlRmpRPVz9qnCoa1oXDL2nmPvU4BUAvONTmtjYlxrB0Y8D0ZY6vPc9DttWlnyCj3Fw2HFcQdsC7bPomV/hYeeCsoezMh8TmjzTbUKStdIKjiK2tmyh7wqHOK9XF2Ub7zyeAC6m9lYdd481k+kKC/hG66OxD325ngXtWyzx4E4GvstrtObuAHqF6jtBoZkMYIDalwAOvIk+iooodQB2cBz1nM8gu2lXjOnnXceZXw0oVdk+q5NiiJc0DIZfHmvW2ybuoSTkGkngNSrNFWSmNB1/0su1UxEQGHtOY3zvH+1ebVe3rxhwuevRXw+HnPjYobXaDGwOdi5xDiNRJONd1BTptVYSWukNagg0JxqC5pBPL0XdpOXKrWkAaxjqAunMLW6EUvN8NLwGNWiuAOOOJ51XtWPnHv1MoZW4MI1UficCcbo3D1qvRRzX2e1mQWu3nInnnzXldGFt40q52B9oADxAVzNc9y6LY1xr7TgwNqQMtlT0Cyq0dqkuKOjDYjYtu17rcVr2FpIOYJB5KERdBxhERAEWVFLW8eiE2MaLdC+gqdR6VBFfRY3BvXRDZiRRo9p+DcQK47TgMQobJUbm+J4Ix4axQrU6T81K6ZdE2hpNWEAjHC8Mtd2vVc8lhlaASw0ORq2hANEsTmkR3+xYWiZjmgEe0D4sSabKE0WLoX08O7CpOPBdWj7EB7cgx91p9XfBVnJRVyadOVSVkaIbEaXu7kPNrfItJUOmYCaQiuPifIfJpartz5HA3Wk8lUDRsxziedeLTrzWdOu39TS/JvWwuS2zTf4NYteyOMcif7iVHfF3ipyDRnuA20XWzRUv2ZHBtfVbhoOYilx2O0YA6qnzWm1h/0ua9THY1bfS+T9CdHzkihzbhy1LTpmWrmDfX0W+KwSMeXSXWNxFXOaC7ZRufUKs0i+r8DUBc8FF1rxO2rOaw9pqz7TO3ykBuAINcCK1y2UIzOSzgiFaAAVLKZ5nPxGtdXVA4ujq3xDCusDds1rlgq1odte3+nE/3BdJwmdoA9pjTQ4VaaAl292R4YcFYzwAAUOdcOn+1X2Zt54Y+paHZ7gfCSdRpy4K4lLQ5rW0u+EUyJF5znDcXE03UUSdlctBXkkarJBeIBwbrcf8AS9Ro+CzR5EE7SvPtddGDHuG1rS7zGS1m3SnwRHmQPIrzK1CpW3XSPZo4mlQ32b5ntxbGAZii55dNRN114Cq8TILS7Og4kn0BWHyWXXK0c3/iAsodEx+5++RrPpp/bHn/AGevl7SD3Wk8aBcMvaSVxusFXHIAOceipoNHtPzkzyNjO7b5ucfRXtmtNmjYWBpjacyJIy5/8Ti4HkCtHgoQ+mDl36LxafgZrpGc9ZTUVzfgmvEq5Z5ZiDKcdTaD2eNNf5491isG0fFbm6UsrPAG86fg8rW/tS1vzb4wf+w53mFedCvJZYxUV3r9GdPE4aDzSk5N79Hrzt5FrHZnUwaV57tZ4Izq7z/EqLV2vtQ+bkB4RllOqorfpiacUldXGuQz2kpQwM4VFNtaEYnpKnUpSppPUztrhca66DqxJoNlRry1rW60ubWpN4ULsTro1zc9l3gVnYp2n2XgEGmeWC2nRhvPJdUODtWZJ1HIr0meQYaKa8vLiQWt1kA1Hjzz1DqFlpOU07sbr28jbzXdBGYmAE8Ac9vJtQDjStBqXBIw1JJb5KURluiu7sp3R2LsqdvkshXcp0GU4e7KldtXbP6QiaDKcwhO/oshCd/mu9jAM10Mprr0HxVLl8pWxwfnFdYexrQHRR0yqTJU87wpyXY2RutppwCxk7s5xk8mpcnJocJtNn1sI/gcP8mn1WLZ7PtmHAt+AW59nYco/wAPRYOsDfqHq5WzFNmw98GbbRM074yfNsn4LBttp4ZRhrMZcTvxCzbo9v1Xeaybo1mx355qsssvqRaKqQ1i7G9umsADOWEA4thDr51VvOF3kuWXTs5zndhsa1vouiDQYeaNDq76KJtChpoa4ZrPZUf+VyRrtcQ/ufNnA7SsxzmcebvisDb36zVd36rbv6qP1dHv6q2WmuCKudZ75PmVkk5OK1k1V03R0etrvvI6xRD3HdT8VZSS3GbhN6sqrNPdO7WrERxyAYjCtAXXSK8qHHGuHBdDLNEPo+v/ANW2OOIfQs5j4pdEqDRrknZGCbzamuDczXP2qClca0qTXMKkmthLr1aHVQ0oNy9PG5gyiiH8gW1ltLThcHBoTMS6bfE8u61zPzklcd73u/FZdzOfcmP8sh/BewZpaUZEfdHlVbP1xNq/tCh1UWWGkeMboy0H6Cb/AMcnqQsxoO0/YP8A6R6letOkpt3MBR8tm1u6AfFV2yLfCM81H2YtbvoacXM+K3N7IWr6rBxePwXom6RlGvyH4lR+uJxk/oxibVD4UpoexFrdqZ1d63aLqb+j2063sHOv4qxbpic++TxoofpKb7QjgAo2yLLCNnIz9HFoP0jfuj/ktg/RvNrnjH8o/wCa3M0hN9o7qVEukpQPnHdU26vYn4PS5lD+jw+9aBXc3/a7LP2Hc3AWlw4ABVL9LzfauHNywdpSX7V/UrTMY5Ei7PYSOtZJpjwkY0eca7YOx1gHiMp/nB63QvIG3v8Arnz+Kwdbn/XPmlxlR75nZrRrf9ySD/ILdHobRw9xh/ne71JXzZ1sd9c8sPRan2gnN7upS7Fj6h+r9HfZRdAi+WV/ePUolyDEPb9byUh7frlVF8qe8KmxXOi4vN2rJlzaqbvFIeosWU0XbRHt8z8Vn+y20/PFUYfvWxr96ixZS7C5uR7SsmNZt9PiqgSfvKRJvUWJzLqPS6PtAjcHDGhBpgNaxt8oke52IvEmmGFdS8/G7YVmZTt81TKaqppuLPum7VIDdvmVTmQ7VjXepylc/YXjWNUSRNOunJVLSVsLDtPJZvvN1K63HW+Jv1vJagxupy4nV48VgJCtF3mMmuotIhQg3sNhqtppeJrTdiqdkpqt7ZDVRIQeu4tmOA1raLUBtVMHn80WzvTuWDinvOqNRrcWptjdhQWtm/zVMbSRsWfy07GqVT93DrXevkWxtjNS1unByVWbX/D0CxNr4KVTKyr9fkWhmH5qodaBtHmq0Wvgjrdu8gpyaldrpvLBtpG1YS2gnWPNVvyo7fJDaTv+6rKCvcq6ratc67x2jqsS795cBnO1SZXbfRao5mzuawnX+eqy7gn8j4qvbO7b6LMzu/IUslNHWbOdZ/t+KxdZDtPVnxVc+ZygzFWRRtHd8iO139HxRV3fuRSVzRNKIikyCIiALKqxRATeUh6xRRYm7NzXnYpMhWlFGUtnNokUiTctCyqpykqZ0tlKyM5XJeU31TIi6rM3OmWBlWlFbKjN1GzaJFtZKuVSCjjclVGjtEp2qDOdq5byguVchfbPrN5lWBlWpQrZUU2jN3e/nFO9WqqmqnKhnZn3iOPFawVJclhmJ5lTfO0rBAhW5kXqe8WtEsRmZsEpUmdy1IlkMzMu8O1Zd6dq1opF2bO9KlakQXCIiEBERAEREAREQBERAEREAREQBERAEREAREQBERAEREAREQBERAEREAREQBERAEREB//Z',\n",
       " 'data:image/jpeg;base64,/9j/4AAQSkZJRgABAQAAAQABAAD/2wCEAAoHCBQSFBgTFBUYGRgYGRkYGhgZGB0YGBkaGRkaGhoYGRkbIi0kGx0qIRkZJTclKi4xNDQ0GyM6PzoyPi0zNDEBCwsLEA8QGxISHTMqIyozMzMzMTMzNTEzNDEzMzMzMzQzMzMzMzwzMzM1MzMzMzMzMzM8MzMzMzMzMzMzMzMzM//AABEIAOEA4QMBIgACEQEDEQH/xAAcAAABBQEBAQAAAAAAAAAAAAADAAECBAYFBwj/xABHEAACAQIEAgYHBQYFAgUFAAABAhEAAwQSITFBUQUiYXGBkQYTMqGx0fAUQlKSwQcjYnLS4RWCk6LxFhczQ1Oy0yRzg5TC/8QAGQEBAQEBAQEAAAAAAAAAAAAAAQACAwQF/8QALxEAAgIABQMDAwEJAAAAAAAAAAECEQMSEyExBEFRFGGBcZGhwQUiMkJSsdHh8P/aAAwDAQACEQMRAD8A1+Slko2WmK19Kz4+UFlqJSj5aiVqsMoApUClWStQK02TiVitQK1ZKVEpWrMZSvlp8tGyU2WmwoGFpZaJlpRVYgStRK0cioFabBgSlMUopFLLTYUgOWolKPlpFarDKVSlRKVaK1ArSpGXErFKiUqwVqJWmworlKZko5Wola1YUAyVMW6lFPVZUDNqoNao81EmqypFf1NKjTSptlSNcVpitFK00V4LPo5QJWmK0bLUStNhlAkVErRytRK02ZcQBWolaOVqJSmzLiAK0xWjFKbLTYUBimK0crUStVhlAkVEijFaiVpsKAkUoohWllrVhlBRTEUXLUYqsKBEVEijFagwpsAJFQIoxFQIrRlgiKiRRSKgRTZkGRTUQioEU2RCmipxTEU2QPLT1KKVVhRtIpoqZFMRXzrPq0DK0xWiEUopszQErTFaKRTEU2FAStMVoxFRK02FAitRK0YrUStNmXECVqJWjkVGKbDKBK0xWjFaiVpsy0AK0xWjFajlpsKBZaiRRitMVpsKAkVArRiKiRTYNAGWoFasFaiVrSkYcSsVqJFHK1ErTZnKAIqJWjlaiVrVhlARSy0UrTZarCgWWlRMtKqyo2MU0UTIeVMUPKvnWfWpgyKiRRCp5Ush5U2FA6YiplTUcp5U2ZoiRTRRPVnlTG23I02GVgiKYiiFTyqMU2FAyKYrRch5GoFarKiBWolaL6s8j5VAitWZcQZFMRRCKiVqsy0DIqJWilaiRTYUDK1ErRCKYimzNAitQK0YrUStasGgJWolaKVqJWmzNASlQK1YK1ArTZmgWWmiiFaYrWrKgcUqnlp6rCjZZabLSmlNfNPsiy0itNNLNUQ2QUxSnmmpKkNlPOpRTZqWaoqERUfVinmmmoqQinbTBI5U+alNRUhmB5ioKnYKkWpZqgpCjspmQHgKfNTZqhpEDaHIVE2RyFTmpTTbM5UANgchSNochRi1Rmm2WSIE2V5UzW1PCjzTTVmYZEV/sy/hobYUcqtzTFqs8ieFHwVThV/Cai2GX8Jq1mp81OeQaUPBQbBjnUDgzXRNNpWliSB4MX2Ob9j7aVdGlVqSM6ES9NPNcPFekFu0mdyqrp1mYAa7a8alY6cR1D28rqRoyuCPdWdNmtaJ2ZpTXL/xb+H/AHConpgfh94p0peA14eTqk1FnAEnQDcnQVlOmvTK3h1IChn2ieqDwBjUn+Ea91ef4vpzFY9tM78l0CKOByg5B/mnvrpHAffb+5iXURq1/o9TxnpTg7Rhryk8ll/eNPfVF/TnCjZbhHMKse9q81xnR1yzZa694KVHVRAxzMdFUwVAkngDGtZ7CXLrFVVmLswAJZuceGs68hW8mHHam/kwsWck2mvse0j05wxEhbh8B+hNCPp9hvwt5isY+A9WoYXXuERmDL1u0o0k6fgaQdtDrVDpzopTcsurhEvEIzRmVWI0MadVpHHtrq8LCcbSaa7N9jjDHnKWzVeUjf8A/cDDcm8xUh6fYU8G81+def3/AEMuj2MRabvzL5QGrO4m0bbFGYEjipDKe0HiK55If0/k2sWT4lfweyp6dYQ7lx4L/VVhPTLBN/5hHevyrw8N2mnDmrSh4/JrUn5PerPpDhH9m8njI+Iq8mNtt7NxD3Op/WvnlLh4yK6OBS45IVwCBMFonuq0Ivhsn1E480e9TSzV4xhemsZhjAusByMMp85FafAenzEBb6Ip2zrOQn+IHVD3yO2sS6drg3HqVJG/mmms0fSF/wAA8j8qifSJ/wAA8j8qvTyD1cDTE0iayx9I3/B5KTTXfSRp6qNHahn3VenkXq4momlNZL/qK5+E/kb5U/8A1Bc5H8jfKn08i9XE1c0prKf4/c/A/wDpt8qb/qC5xVx/+M1aEjPq4msmomsr/wBQvwzHuQn9KkvTd0mAH/02+VPp2PrI+5p5pVmv8Uv/AIH/ANNv6aerQl5L1Ufc8zxGHw6BFOKe5oWKpb0QxEBXffSIA4UboYYcuUGNvWliZyeqB7A2YhSIG414VoL37MzAFvERzJt7nwYVRxH7PriS1zFKq7TDa8gqTyHOvOozvg7uUGuTTdE2VVYXFteXcFirkA82AmNeNU+lOl46lttNi49+X51Qw4s4W36q0pafbuP7bkc44DgOHeSTVJDHbwBHwFfd6XpGkpT58Hw8fGTm1DdefJR6Xs/vSsmOooP4QyqWK+9uZI1mK6F3pJLSBbIAAnQbbacBqedCcIYVtSuwbcaeex99QfAI3Ejxn3Vzl0WJG2t/c6PGhKr29mcTpnpV7yqrRAJaANzED9fOidC5bbl2iLaEiSBJ0WBzJltPlVm/0JJkXBuu4I0BBO08q6Nvoy1btqxuMXca5cO9xVOZtMyuDsAfZ+9XmlhOMrxNl5pnqg4zjlw9/YyN69cYlizSSSSCRqa2HQI+24G7hmPXQdUnmJZD5hlP+WuL0mWT2XDA75rT247DnpvRrpX1GItzGW7bKMRsGduo/YQ6W289qxLTg04ytd9qPQoSriitienLjqEPVIGVo3YjQ5vltXPuOeMz212fS3o7Je9dbBNu+M4gTlb76mNtdfGuPZuMARBIIj2ZrE4yTaCMYJXFHU6BuWx6wuVzBCVzBjMe0qx94jnwmuWHqIsvwVvyn5VMYa5+BvympZn2LKk275LuFtestOQOspBnXUGZHuNAs4gqwYbj6irOAxN6yGAtg5iJzAnbhuNNT51UXB3eCnzA+JrpUtqT+xyVW7artuaRHDqCBKsPoVXu4cjVdjup18vlXOs2LqeypBmZnXu3iPCr4xd7jbB8I/Wuqt8pnieG4v8Acaa+obozpd8OY1a1xT7ydqTuP4T4Vs8JdS8guIwZW1BH68j2GsLduC5qUZW5hSQewwJ91CwuPu4Ys1osub2kIIDdqyOq3bxrLWX6HbLn5VM9BZI4fGhOvZWb6C9I8RcvBGysjNAzsFYDjlaAGI10OpjxrZtiLf0KnJXS3Oc8Jw5OZk7/AK8Kb1Z3199X2xVoc/KhnGp2+X96cxz+Sp6s8z5kU/qz2+bVZbGp/F5f3pvto7fL+9VlZXW3G2ncSPhUjmGstp2t86mcceRoTYzs+Pzpssw/rrn4m/M3zpUL7QeXvPzpVfA5n5N5l7/fXI6XguUJMG3Krv1pYsTy6qjzNdSxct3EV0KsrAMpGxBEgisP6f4prAa6pykFUSNDqmpX8xE8N+FeKEkpJn01BtNexwsUCXKjWDVdkctJKkRAEQw0jcETz1BrL4ezddoEKzSAoJVmndZ2JPInXbfSqzIZM6HiCNQeII76+rDrFix44+DhHocnEvwbI2GOhEjtE0NsOeBKnmrEe4yPdWQCRx8qOuNur7NxvzEjyNdvUp8oz6NriX4NBnvhiEuW3ynWWysBwlYBJ32FTONuffs5hzUhvcda4Frpa4rEnKxO5ZRJj+IQffV+304D7dvxU/ofnRh4rpqUr+P8msXp3s1Ff99ieO6VtqpFpArnmuXL2wdCaJ0DZJJuXLpJYEZQ0iDvMHc8htVfG9JWmAHWOuxUH9YqVtLBylXylY3kDThDcNToDXLTjLFzNJpduBuSw8qtX35NNYthPYK8OLR5ZoozKW9q3ZPaV/UGuTbUuhK5BGmZMxjty5iPfS9eye02nM6V9GEoz5VHzZwnF1GV/B0HwCnZEn+G6V9zUB7RTQl1/mAYeB411OhrNnECHOvAg10cT6KsAWtXARyJj37ViU8ODyydfH6lGGJJcGY9YeYPdUhcP3WB7Jg+RpsXhihIYCVMEqQYPIxpVB55gj312UIyVxf6gsLyXTiSDqNe0VJcd3eQrmG8RxkcjrQWvjurE8NLk2sE76Y1eSdzKPj/AMUU9IjTMmXkVOU94I3rMm/20hiyNjpy4eVcXCJrRl2ZqLXSTIcyMrH+NFzfmjXxq6vpEraXLST2DKfNdDWJOLqX2ltiGM7dU+6uUsPDfKNrCxPJtT0hbbVPykwfA6z7qe1jbLnKxyHk+g/Nt51iPtLDWGjnBqYx8iDrXJ4UGZeDNHo56O7vOojAEcqxnRXpFcw5gNmT8JO38vKtn0P03axOisA5+6dJ/l+XxryYkJR90b0yLYU9n140I4P6mu+bX1FCeyPoVx1C0ji/ZDy99Kux6kfQp6dQtIx/Q/8AiOCVcOGw9lAC4FxjckNrIgHKJniBvVf0xN27awS3HzlyzZwSQSqqpYTrE660Xpf0FxruqqXuIiNkzOpyk3JChnYkHKd44R21P0rwlyzg8Gl2EuIXTrNmUDIYOZdx1RtrXy4tn3mkY++7G6uGUZkObLtmGbNrI+8pGh02jY6t9m+1XFOodwudjpldcwuHtJKg971c+x3bVp3fLnVXCFQxKh1LNMqI9klTwLN2UP0bukm7xIdXEn8WYPJA5lPKu+BNxkZkrOgnobaaQt1yw4SP6aBiPQxwDkuSeCnjw3nTyrpYrC9I24ZLYKxobah9Dw63W4DgNq5R6Xvo0Oi5uIdGVgN9BIy+Ve+MMSW6aZyckubOXd9GcUpj1ebtDD9YqC9E3F9uxc8FLg9wUiPM1pLXS7jrNZciN0YONt4I+Jq3h+m7L6ZspjZ1K694lffWnqR5QqUXwzI3MGo3V071Y+eZNPOgHDieq6nsPVJ7BuJ8a9ERwwlWWABsQ0/pUHwyuYPWkbZQfdQsdrkqMvhGuYeyrKwD3HaBAbqJAYsdRBbTTXqtXJxmKe9dyoGuOdBCzrxCIOHnNd/0mAthnVSq21Fq31cikksCy8x7bg83HKqfR2FWxaZ3dkXLFxl0dyf/ACUP4RoDwJ5wI8+N1Mkkk6vcYYUbbopWXxGGcZ0KHip6s9hU7d/CtJY6XZlHWkSCA3WEqZEg6HUbVysXhcELKs2e2bigoR1oJ3zgCCokba6mJ2oGCtsqtP3XytrMNwM8Qwgg8dfH2/s7rM94WJun5PN1eAv447NeD0m/0/axVkC6BntglbRmLjfdVSvWaToACCJO+hrKekFi16y0ttCjXlViocFUZnKer9nMxQjrFiCJFcq3iGQggkEGQQSCDwII1B7RVbEMGmLl2WJLAOTJOpJnU+Nbn+z5YbcsKe3hvj6EuoU0lOO/lLn6lmxgfWs9q1dY3bbsj5rbtaaGKg23tByBpPWAGo1qN/oPFqSCgJHBLtt2PaEzh/8AbQH6QxHq1QXbgRFChS7ZIB06pePICqH+OYlNFv3AOS3HUeSsK88sTqIfzX82doxg+EExdu7ZMXFZDEhXVkYiSJAcCdjtyoYZoBLKJ5uBvqNyKoX773HLuxZmMkkySe08as38GyFQwILIrAbEqRAInQqYrGJ1WLGKdmtKNhSN5dRG+oPwNWrPSF22Mi4ohQPYzlkg79QgqZnYVywNiPAjaeSncHv091Fw9sFo6vLrDRT/ABAahu7SYnjXmfVYktmzWnFI6GJxV0oqPfAQqCqglVKgAr1VXXhANUZXT94uv839O9Xf8PiZUDKJOYA5QT7V2PaGumXXmNp5txOsY13PORwJ4EaaLvVr4kVyShFlhdpF1fGR5zWm6B9Grj2mxTuoRZKAEsXZToBl215kHsMyMgFnb5z577ewa0SNdGFw4t6HrGRvHrHgqTqPdWoY2JN1ZicIpHreBdmtpnbM4UB44PAPfsRxM8zRDPbWA9FMdiLGKtpduF1xAKfvCYUrGVpJMAEgT/Ea9Lay2klBJygz7RgExrr/AGonJRfJx0myjJ7aeuh9kb+HzHzpVnUXktFh1xjGRGxjMFOoBGZuMEAnTLuKxf7SsPcvW7bB3GW4ECZCgBZGGcEgZmLQNNgdhW/+yKdYE66iNzxg8dxVDpnor11prUxoGRyTIuKwZHaDB6wU7aa15VKj20zwbAFsPcGGvAzdcrcknYgKsjxO+09mlroQi2zO5hXLDM5gASrAnSPaUCZjWeFWemsJkuu1/N68sQz3H0Ua6ji5gkZsxEdoFcnpDpG2FCIwMCJGoJ4nz18Bzoct1RpLbc9Dw3Slu3bA9ajgn2NH009nIQeXGBPCir0jg74yt6p/4dFP5bqgD8xrAeinpRbwPrH+zi41yB1myqqKNFAyNJJMnsVe2rfSHp562QcHheEEozMogAgMpXkTtxrvCS5d35TOcr7Gqxno5g21UPaJ4qSq90mU8q42I9DbhGa3cVxwzf1KSCaz2G9KEQz6prZnexedNP5XDz3SPCuta9K7b+1dmNvX2NdNR+8tFmJnjHCvVHqJLif3RiUE+V9inc6GxFvX1T/zJJ/9utPhelL1txLscu6kwe6dxtWtwHTi3OqtxCSPuXlcn/Jc/efDeuhFq4CLttGkAQ9sodJ1klpPlXT1be0kn9DGhW6bRlfTJ1e3h7iaqzBwP5UZgpHhFcL0j6PuBbcA+qVVDR915MsR2zvznx2fpVgFSxbuW1hUeY0IAKsNIO0kVjejOn7pcqSpRlJZXEiBBMayNJ4x2V87ElbtcHqhF7Luyri737jDPBIVbiNpsQVA90edW8Bba4pDKVF226rIgsbOVkP+5l7lrojIbXrMjMBmuOhJPqlKBLbOR7GiQGjQlAIqj0X0oLzW1yKmS6AACT1XtODJOpMr7xThScZJryZnumc17FxdgYHLUV0sJhlVsOt0KTeYuQxURbXMBOfQZnB/J20bErEgQDtroJOgk8q5npfdY4tkQkLaVLKRpCogBE95Y+Ne7qsackoLuccOCW7NF090Ytlle2P3Vz2YByqyjVQciiCNRE7NwArjMgO4HlXDw9xkMzJ7tKurjmO48qcNSUakYxEm9i56tR90eQq4U+02fVb3LeZrUn209q5ZPM7uvbmHGuO3SSL29g+o99Na6TXMCpYMCCsDUMDIIjjNYxHCSytjBSTugIjU8gM22YD+LgE7tfdU1TURuBIjfL+JJ3XtbX31exGS65cKyOSGhQpyOdWZFLqUDHXKRpJihfYxrAuAHXKVSA34hN0Sd/OvFTPQVAghYA11WDp2lJ2bUSW05cKfTsPHhBInUzs38Z05bVdXB5gWCu2YaghVzcmbrNJ13/vVe6yIwDoQQNQ1wsTyzRbMxwnaKCFhsP6xspkIAWcxqFkCDO7GRlbckjYbaPAuXaIAGgAH3QAAF8AAKzSYkhcltQyg5mAYs5I0lpUEgAmIECTzNWejOmQrKHBVc4zsAWGQESNNRpI4+FdYNJc7mHZp+jbmfpS2ltj+5QmVQuQ0gmAIJ0K9k16mXYsHLmFLKuaACSNH0XTYwdfa47V5r+zzAq2NzyWZrVwrJDEqGQJmJ0JYTGoMJvvHpV+zce36sXFAeTnCqWkalUR8y785Ik8a5zVPc0naA5D+Nv8A9Zf6aaqn2HHf+q3+nb/opVkDTZiAQDzInX+9OWbSNRxM/U607Kd5PDQAcPGkLYP6/rIGlcjuQvpm6rKGHCcp88w/Q1SxXQGEuGbmFsuebWrZPfJU10vVnn+nGpBNNdflURwL3opgSDGCwuo421TXSBIEqN9fca4/SP7Nuj70qlt7L+1mtsWUTIjK8iOrsI8JrbOwGpiBxJ0Hups+0xqdNd9J89NqbaCkeMdIfsnxCT6q7buAToZtse4GV82FZLH+ieLsmLmHur25Cy+DrKnzr6Wjz8x5caQ+o0pzvuZynygcMZI4jhxHeKPh8ZiLOlu7cQcldlHkDFfTmL6OtXwRdt23/nRX/wDcDHCs/j/2edH3Z/dm2edtyoHKFfMo8qc6ZZWjx3BelOKuf/T3nDW7sIxKqGXNoGDKAdCQdZ2ogwCWT9ozsCFYlBoQxOUry3kRxPLjselv2UBQzpi0VAJ/epk83Vo/21Rx/o/6lUbHo7WXlXfDsRDgaP10ETvlZYJ7d3MiqXJjsF0g9y3iLRkesQSBAkK6uqnST1wpkn+9jA2URsKEILMM9w5tJ6+VeQIBafCruMsYO2+excu3Vgj94oR9RoCVENrBza7UHDoQzYi4YJ2mZ5Tz4ACrPTT8Eo3ZbxyGTmXQ89QfnVG6QYzHNpHXVWJAERnIzwP5q5vSeOVp48h+vuHl21xa9GvfKOeSuGaJ7VvWVUfyllPm5Ye6ql2zYO7N/qK3+3IPjXImlRLFT5X5FRouth7Q2uMf8ij/APuntYrIeoFGkcS2v8UfCKoxSiudrsho6dzpRz94RyAP6xUBinOup/yyPjpXPqasw2MU5vYqLRxbkZc2mmgAG3aDPvodxiQJ0XgBA92p8aAVNLIaL9ioIscJkayDt7q1Ho90LiMWWZRZ/dxL3XCFifuglSGbQaxmEjrais3hljcx4TXXwmNe3ootsB+O1bc6/wD3EP1wpVsG0j2/oToO3YUC2FOss0FiWKiGDsJeBpM9mkRXR9S2mZAI+8BmIUCSBK6yQdtYrzHo39pN+2AtyzacAADJNogDYfeWBwAUbVo8J+0vCMevbvW+ObKrrPKVM+7yrm4yFSizU+oH4R5D/wCOlXE/7gdH/wDqt/ov/TTUVLwP7pqrWKkkHSDA4ZtJ0G//AAaKj79Zm1nUbcIEAaaUzhYyxA2gAfCoO40ANc7OgRryjQkak6TrzOgpw87fXfQQ54ajvEzx0im6wGpJ15AeG22+9VjQb1u/Z5b063e/nH6UBlB3A5Sdf+NqF6kMBr28YI4SG1AkTw2osqLbXRO4nTjwNDTE5zAPiIIOsHnUTZU7ye4kdpkzr3GlatogyooUcgOJ1JMce2qwDJc59hiIidB+tQxGNVNDxOUDUEkiYUfePYKWQ8/Pt+oqXMc6bIHnYx1O3MYHuJkeNV8RhBdTJdRHBOYqy51nszce3T9KslgCNNgYPLadfraoXn0kzHId3Z3UGjOYj0EwL6+rdDvKM28bwSQNuUedcHpL9lVt5KYy8DpGcK4g9ilO2t8VmD2cyCPDXnVVrjLLe0RsM5I74AjwHIdwVKgqzy/E/smvLOS9af8AmL2yfCG+NcTFfs+xtvewz9ltw0dp0+Fe22cU7asgB/mJG3HQc6Mj3CQCIHEiI2jv3PupWIwcEfPOI9F8Uupwt9QNybbkeYWKqP0PcUEm24A3JRgB3kjSvpSO2dSPjpvuKA9tSZCgNsGIEgSJE71rU9jGn7nzT9l4SKl9iNfRuKwlhp9bbRxsc6qw0Ezr41Rf0dwDGPstnbXLbUe8AU6sfAacvJ4B9jNOMLXtr+iPR9wmLGXXg9xewQA+kmdI4d1Df0EwJ0COD/DdbbnDFuG30aVixBwkeLHCHnSbDV7FiP2c4QxluXk7mRh70ql/20st7OKuDh1kXh3xTqxDTkeVi120wAGxr1B/2bWQetibhEawij3waNh/2b4ORLXH39poH+0Ltr491WtHsWlLueVl4pxd5yPCvYh6GYNLiouHTJlILNnZmbf2i3V74PhXWsejGDQjLhrakbMEUn8xk0a68Dongv2ledKvoj/CLf4T+amo1/YdH3OoX5we6orcAkjjuSSB4TNQdzpC9/WiO3Qa61AwCGLEbDfQ8vGuFncO2JVY13McdzzjapLezQQdPnQHVSZKiRsTE9tIvy18x74qsKDuAeOvYY93lQ/UE/eIOuoJ37AdPCIoWf6/vUEIXb8x6xPZJkxVZUXGzAQDr26+eomoLitQInT2hEfGgNeDGCAeOvxpmI2j62ocioI+OUEL94gkacokaTzFDt4tXYgMeoQrbgAxMdvDuoLBgIXXsJLE/wCYn40J1fhmWPw6k8dRB08arGjp5+0/Ub0z3QOXjp5VStu0yZOpjbY8dNxt4U7cCNI9/DU1WVB7pVtDB4x/f9KmAseyPDXaqjYhVGpJI1Jgme7KN+0Cio0jTTbca9xnWohFVmcg33IEzz+tal9q00j/AC7RPEgUzAH7236d3wqJt89QOfWM7fMc6iBjHh2IUScxSVBIUgA9YlYUwdqIttmbMx4EEBmPukDnwqtasWiWyAAyA4UiAwA0YA7xHI7U/qwOJHHTUkniYGtVkWhaEEGN9NPI99DzDYQJGug7t+XfQdWGjb7daZ/Q923fUAZmCTGkmIJ469+k8KBLMye3tE+6pZ2HzrnurkytwL5N4QdI7YmjkvrBXsOU+O8Cgiw1xufuFRRyJkj+31NAR2GhBOpgz8qa9iSgBYGCQNAzGSY2WdOZ2A3qIjckidDqTz2PfRLdwgaCdhxHYe7iarszAkAa6kdoMk/H4URHOkdszwjYmeYqIeyWNyXJMTCsBxiDA5awRz14Grnrx21Xe6imDpoST/bjsfKmfF2wNGnx7uJ23HnSBYz/AMI8qVUf8Stcx/t+dKojoetPOotiDy+VUreKDEgNJUwRB3gGJjXQipnnoNv+N6rIs+tbgB5073mj2ffGnzquI3nlwjbWnRl7e8x+lRB84I247SefOl3A+MUJnA47VHMfxHw+taiLB+hUCx4RHbp+lCFwcNR2Gaiz/WvwoImrA8VgcuHl2frTXXAk/GBp38f70ByQDlyljwMgHnJAMU0bFSI5kGYjv0PfUIQPrKvofunnxPMcooN5AzAnNK7QzAeIBhvEU7oPrTxpdzbDYjSohkMgEOOHCRvO20d0HfajG6Cdv1HjQ+ueAPb2VFiDPfHLXxFRFg7zpHdpQHVRqeBka6KSIkfh0qLsdwYjcHQbbz/yKdG5t38PEwaiCesYzBiY1nXx+vGkg+9m3A47jgffUmtzB0I34fr5+FOR261EQYmNCfADn5UNXc6xA7teI1g91K4Af7b69vgKi+kbmd9QI7TNRBPtWmw+BHgeNI4iZgwdtwY/ynSaEFjZoHjHuqTIRufHYVET9eYGknTXnHHTQVL109/13cqGFG4jbiNarrhArm4C2ZoHtuQYkgBS2UbnYUgWCwiBmHGdyD40B3IOk68xOnGPl20YgkaGdI3+VRW3zE851+t6BA3GzAgzHKSp1H4tCKWGxQVQLkljAmCRPKY5gmYG4pr9sgjKe+d4iCRHGlkHEyeYWI7p1FRFn1i9n14U1Ak/jH5aaoi7c2HdUT8viKVKoAi+ye+mXh4UqVQgMb/4Z71+NEt7DupUqnwAQfP41DivcfhSpVESO57/ANBTLx76VKoQn17zQcT7B+uNKlUBB92qa/d7qVKpiDucO8fGq44/zN8KVKoiwu5+uNCT2R/M3xpUqi7Br+31yFLgO4fpSpVATPDu+VK7sPrhT0qiEmw7h8TVe5/4i/yN+lKlSuSJYXf65U2I9pP5v0pUqiCX/ZbuNULvypUqCRWpUqVQn//Z',\n",
       " 'data:image/jpeg;base64,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',\n",
       " 'data:image/jpeg;base64,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',\n",
       " 'data:image/jpeg;base64,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',\n",
       " 'data:image/jpeg;base64,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',\n",
       " 'data:image/jpeg;base64,/9j/4AAQSkZJRgABAQAAAQABAAD/2wCEAAoHCBUVFBcVFRUYFxcXFxcbGxoaGx0aGhcaGxobGhcaGhsbIiwkHB0pHhcbJjYlKS4wMzMzGiI5PjkyPSwyMzABCwsLEA4QHhISHjIpICoyMjIyMjIyMjIyMjIyMjIyMjIyMjIyNDIyMjIyMjIyMjIyMjIyMjIyMjIyMjIyMjIyMv/AABEIAJIBWgMBIgACEQEDEQH/xAAcAAAABwEBAAAAAAAAAAAAAAAAAQIDBAUGBwj/xABJEAACAQIEAwQHBQQHBwMFAAABAhEAAwQSITFBUWEFEyJxBjKBkaGx8EJicsHRBxRS4TNTgpKywvEVFiNDc5Oi0tPjFyREVIP/xAAaAQADAQEBAQAAAAAAAAAAAAAAAQIDBAUG/8QALhEAAgIBAwMCBAUFAAAAAAAAAAECEQMSITEEQVETYQUiMqEUcYGRwUJSseHw/9oADAMBAAIRAxEAPwDU3OyHPE+Un9abbsa4Np99aRXHMURccGqtcjleGLM6vZ18fzNSEs4jiB76ti/3hTT4lRxmjW32D00u5HCXNJAnoaVLcqNsSOVMPjVHGjcHSHp9lJa3PGmTjk50zdxY4GqUSXNIllI3iiKTsagPihwNJGKNPQT6nsWYWi7qo9rGDkPfUu1fB5fGoaaNIyTCCUeSnM3lQJ6UrKoZZTSQs08zUYccqVhRGNvrRonWpBINJNuix0H3Z50WtKQEUotSAQrkcKXmmk5TQIqaKTFECklBwFACjAPOigEhBxFEyClBaBWgBKrSqMJQZDwpgAGgVJolmnxSBDOWk5iKkg9KOOlFhRHVzQM0/lo8k0Wh0xkGgad7qgbVIYhIpUUXd0oLQUArQC0YFKpAJFKzUKOKQAoTSSaGakUVBvU01w0vuz0ojbNdexxtMbznnRtpu0npS/3c86P93PWgVMjPJ503k6VLa0eRpBU/Rp2JxI/d6+qPaTQj7q/Gnhb86cXDLxze8UWLSQ+6PMD2Ua2iONSmwtv71NtYXgD76NQaAktj+OnUdR/zDTP7uP4fjQFr7q0hpUSe8t8Xb2afKkG4h08R8zFM5DyWlLmn7Pup0OxzNOyk+00pUP8AD8aULrjgvupQxrDgtS7K2F2n+7FSEv8AMVG/fSeAo1xh5e4VLRSZLN4HhRZxypgYyj/eAanSyrHziF2pAxS0kMD09lJyrRQWx031PCnEuCohC8/dRgCigsm5h0oZRUZYpWc0qHY8Vo5IpjvDzow5ooLFyacCnnTIej7w0UFj6p1pWU1G7w0YdqVMdofINKU0wHNKzGlQ7Hmakh+dN0YFFFDkigx6UiKMedKgAXFJLilwKLKOVMBOei7w0rKKOgKGs9DPTuaizdKQzMWe37DRF1JPAyD7QdqnWsUraqysOYIPyrmAyIq6wSJ33PQcqavXRmzqWUpJBDQQZ5iiOZ3uipdOuzOthxzpnE4u3bjPcVJMDMQJPSawGG9J8Qi5XIcEABmADieOgg7jeoT40XSDcaGJMFp3EnWPKnLKq2RMcDvdnTM86zNIYisl2Z2wbVpVe0zKCRmDSQCeCncDzrUWgGAZTIIkGdxW2OcZrYxy45Qe4ssOdJz9aWuFJ4ilrgeoq9jKmMF+tJL1JOAPBhSHwLcCD7aewUxjNSc9OGww4UtLJPEUbAM0YNSjhSOIpPcHnStBpY0J50sLTgsmlqlDKSGgk0ruaXcZVBZmVVG5JgDzJrK9s+mVu3mW0A7AEy2g045ZBj8RXyqR6TUAdKgYzt3D2f6S/bQjgWBb+6Na5Xc7Sx2PcqruyzqAcltRyOWAd9jJqVhvQZj695V5hFLfFivyoHsuTYXv2g4NfVe4/wCFG/zRVfc/aXZ+zYunzKL+ZqLZ9BsPBzPcYwdcyqB10X51g+0sNbS4y2mz2wfCzEHMOLCANJpFRpm8b9qHLC++7Hyt0j/6pN/+qP8Aun/26yfo+bRdResi5bJ1IVywErmPgMQFLHbcV0jsvsXs64M1m3ZuDjpnIn+IPJU9CBSsbpFOn7Ujxwnuvf8Ax1OsftQsH17F1fwlH+ZWrR/RbBNvh7fsGX/DFRn9BMC21pl/C7/5iaCdUS07N9MsFeOVb2Rj9l1ZP/IjL8a0YU155awpuG3aYlbl1lQ87asQG9uh/s11n0M7dw6W1w5uOWUwMwOVFEKqBpPh03MDxe2k2VpNcENH3VcMuY26cdduJ3jst67BBcsq5mCwyaqBppIGkV0bsH0ovRGItl1AnOikXFUfaa2QM421TxaxlMFqVhpNcLdKFuk4bErcUPbZXU7MpkabjzHEcKc1oFQQHSlDyoiDzoQaBigKVTetGJoGKFGKSBR0FBzQmioVNACaE0KFKgsOhRUJooZxG3YUsJYajUzJG8LA240WJYzBK68faJG/SrJ8AgMjfXQ7iYNMNg4M68oGvurJSRs0yAHYkkweskRqddZ8qF19VlBoTAzetoenWrUYUKhDHLvEmAOXHfamsEikzoC20ECJJ110o1Lkelkrs3tVGVbdzMrCRmiVgk+3bSrLBY+5bbKtxWtgrCtqQDGaDoQBwHnUBrI2YEwxAJiYjmBE03ZshTkImWgzwGVpPvHxrNbO4ujR/MqlubPsrGd6WBGUjUZTIK8/OassnU1isGuQqygo2+ZIA1GxHu0I41ouzu1pK27pGZmhWiATwBHA6b7V0Y89/LLk5suCvmjwWeWONFrzqQUod3XTZzURDNEAafxDJbE3HVB94gT5c6jW+0bLercn+y36VLyRWzYLG2OqTVJj/S2zbdkXPddJzi2shI0OZ2IQRx10qRi+1mUgd2LYbQNcZQSfugGDG+9YH/dLF5GyYlBmuZsilypE6FmA1idorOWaN0nuaRxPlnQ+we2hi7XeorKuZl8UalYkjKSCNY9hou1u2LdhTmMtEhAY05sfsr14wYBqusC9hsPaw+Hti48TcveBEUsSzlEaCzSTEqBtPEVne0+xcZcJhFAJkl7gLOebETWilHuyXF9kVXbnpHdvk+LKoOnALwGUcD11YydQDAe7H9FWeHvAqh1Fs6O/IuRqo+6NecbVa9idgtZOe5bS5cB8IzgIn3hIJLHnGg0HEmzGPxYYzbwuX7I715G/rHJB4bAVLywXcPTn2JeGwuVQqqFUaAAAADoBT4tdPhVd/tjED7OFH/8AS4fklE/bF4qQP3cGCAQbjQY0MFdYOsVm+oxruCwTfYznpt27vhbRjhdYdf8Alg+Xre7nWIstmaOG/srT/wC67He+GJkk5GYljqWMsJOtPYb0LYSe+ieJtx83qJdViXMkaxwySpIqcP2hcDpLeFYHDQe6n8ZiUs3SUdkYa+AmQTvlK7A/yq4PoWm7Yn3W/wA81S8P6J2Bs95+mZEHy/Osn12JcO/0L/DSfYZ7K/aCyCLyG6v8UKrx7Dlby0PWpfav7QrLWLi27dxbjoyoxyQCwgNoxOkztwqT/ujbfLmtKSoAkuTP4ghAPtmjt+hGGXU2tubOY97Vk/ieFefsWuil7GB7ISLlxxtZtED8Z0n+9mNSezMULdxHOwMNHFTo3wJroGH9FcOFYLaZQ2pyl9dInU9TVFivQNCT3V24o+8A4j/x+Zqo/EMMubX5oH080Z7G4W1bu3bV3NkNwXAUElgQwEA7gEt/eqw7P7JsGBZs41m4ubACry8QbTTia03Zfo2torcxDd/cVQtu2BAGUEKz7mYJEAxETPCbiuznvuHuXboUaKiLkCjkOPyqMnXwTpPbyXHp5VbKa13uEm7avp3iQbtsMG8B0R3SYfaDlMrEggExq/R70ys4oi2SLV3ghPhudbbH1vw79CNarrvZaAELaTxEFnuL3jmNtTxgc9I2pvD9npbcOLdtnGzFQGH4SBp7KmPxGCW+5L6WT4NxJ50YJ51nW7XuIBlQNPMxB6/yo/8AaOIbbu09hf8AStn8QwpW2SummaMGjms6l/Ef1k/2VH5VNw2PaQLgAnZht7Rwox9fhySpOvzCXTTirLXNQzU2DR120Yi5oqTNHNACpoTSZoUALoTSKFAHI2wzz688NR+nGaN8G++fXz+cA67VLO5g6EgezmTvPkeNEbZB1nrqddQOHSuOzr0Mr7mE3ZmAHAkmI6kDTcD6NNfu1uRDzrwJ+Qj+VWYtsIJEeckcYkbz+tG1lzHqa6A5Z3AJXcRKj+VGoNDIlnkpJHIkwCJjUa+8ceIp58Q2hgjU6anMNVMadZ91AYV+EEwDEEbCIP6Gn17OuFQynhxkaQJjqAR7qlyRSixnvGOVQGVi4MiBIgwDMcxrtUxsVcRrTFCxVo3EHzI0yzB9lV6YaZ8QYGRpOg8joNvhT2HwjNIBJmJ1JHzIA606rcd9iUvpRie89dTDarlXJ5czvzqfjPTJiGW2ArqVDfayZgSCTtqAYHTXrVYi0ttCR4vCYVTLPyRQvE6AedY/sDHv3jpcQnvnHiMjI4DEACNSRAjgK0UpSjJpmE4xTSo0z3HusXuMWY8SZ+h0qRhcV3bA7jkPn1qGzRtSVad+YNeam7s6HFVQ12mWxd4i4sIp9ZgVIynRU4AGCSw3BXlrfYftZLSBEWY846b6n31VtJod390nyj8yK1edypEemkTbvbV1tjl8qjPi7jbu1ElvTaOhj8qeVPL3isZZZd2aKCGPEdyffRi3UhUHM+Sgk/GBT6WHOiWz5mWP5D3g1m5+SqIyYdjtTyoq+s4nkNT8J+Yp7GYQWlLYh28Mf8NIzAnYNJCWyfvEHoapH7RxDwMMLeHQ7Oqtdutw0uFcs/8ATjzrbF088m/YznkjEvmIRc7FbSHZ7rLbB/CGOZvZNRB21aPqd7fPO2gRJ/6t2PgKz6eiuILm41u9euEzmvW3Cz/EzS2byJHOdIqwHZeLzQ96zZDaa3bKCJGhVyGjbQHhXbHoca53MJZ5PgvcMbzkf8PD2p2Nxnv3OswUX51dYe8LYQtirFxnuW0FpbRVmLsqyhD6EZs2oYQp23GEv9nZWbvO1LDHXMovXG85ys4+Faj9n/o3aNxcYrm4lsMqNL5GdvCzKHVDCiRMQS2h8NGfp8MMbbS4FDJNvk3D4ccqo+3u0Uw9tniWGirMZ24LPAaangKk+lfbSYa2ozZXuEqkKWbQSxCiSSBHtIrmPbuLuO+Us5IGXxAAydTIAEHQDnXidH0EpzTl9P8Ak7Xk0wbvfwRcf6TdpBjczqEGuVAjKo5EEFiOZ+Ira+i3pO2Js5ioDq2VgPVmAQwHAEH51hFxFuBkJ8Ntmdp/hZgSqwcywo16+VN9mdoHB4tWUgWLrKXURkK7EjoubMI5xXtdT0kZ46ikmuDlx5WpfNujraXXJBYoo5x4o4gTTj4q35+QqHircajY8qjzXzrjfc9JQT3Jz41P4W+App8Uh/5c+Z/lUffrSYpqCK0Ie7xP6vSDMOeU7EU0mLtjhcT2yKNRofr60Hxomthhr11qqQtKLPDXVI3kc/8ASl3Uny+t6rezUOYjhGvnTXpNjmt21toYuXSVBG4URmI66gf2p4VEMbnkUI9zOdR3Zc9n4sa2y4JBjQiV6NyqzFcXu4U2iL+HK95agnJqHUjMVcDeV+uXV+we0RiLFu6NM6zEzHIE84ietfU4IyxpRbvw/wCDzMlS3SosaFFQroMg6MUVClQB0KE0KAOcrGUgppBEeWnypi74jvsZmDpv7tZ3qzcIgzFg0R6qsxOu0rpO80bAFfEyamIgxEc4+HWuGztciuQyNT4oJnQRxgjjqCYpN15kGYgEDQ7cenCpXcqZyhdIjfh5CdudIuWVgqWEkHSdY4+UfnT2CyGxIB1bifZ7NY4eymHYsDBPijck6a8/lU8DkwAEgyJIHGOB4aGomIJcnUxwMAHbkOdNEtjK2uETB2O+3Ceh+dSxeYEhWnSNQQTvswiY0gRUG0msgagnL04RrwqZZzDVgFE7nYH2c6bITKX0ixly0iMhZbhuJlb7Qyyw67hdKnYC5i72W5iUtCNVm2EuOeDNlgaESMwJkbDeptxGuOoBIkjkN9DEbDnUbtjtgG73VtsirALSuYxplRSfe3nFRLNL6ILfuzSGOL+aT2JXd/xKD9eWvGnFRP4F+NRkv2Bpng8c8g+0tUm2Vb1XVvwsD8q86UWuU0d0VCXBISzb/h+NSUw9v+H41EW2Rzp9Caxkvc09OPgmW8Pa/q/jUlLdof8AKX21DQmg+Ntpq9xE/Eyr8zWLg35Bxii0t4q0v2ba/XWp2G7UQnwG3P3YJ+FZG96R4Nd79s9Elz/4A1ExPbeDdf6G44nfIqe2XZTVLo5y7MylPGu6NPi+xS4cW8XfsrcJLJm7y2STJhX8S/2WHlWQxvoBjcwa1ftPGxL3bbzuI1YD+9VZf9KBaM2LroJ9R7ner5ZcrZfYRVt2T+0pJC31j76BiPajCQPImu9LrcUbj8y8Pn/v1ORrDJ1dGfx/oN2oWJNm4/VbqXJ5/bn31AHod2iAf/tb+23dsd9DGkDYajlXceyu1rd5A9q4txeamY6Ebg9DVvbv9aiPxiSenJGmRLpq4Zxb0W/Zfibzh8WpsWQQSCR3j/dVfs+bewGuzoiWraoihERQqqNAqgaCl3b9Z30vN5sHfWwC1xkKgAwYYgPHXKWjrXLn659TNQWyuvYuGLSrM/2f2vbvX72MeCq5ksz9lFlQwB4sxZp5ZeQrC4m8XW5cY5Zk5jwNxiBPuOvCKTmupaVBbuAZgGlWAUIugaRpud+R5U13IuqLRcWw7rLkT6quQIkSSSONfQ4oxiko8I5ZNvdkfs6ywR2ZdLdt0I/iDCRHOZEc81NYyyP3fLJJtuNCPEit6qtEidTttp7LOxauW7KKiEq6EG4oLEesYkHLbYEwTOkb1Btpms3GKFGFtJBI8RUxnCwMogxG2m+kVsSdP7HxRuYe05M57aEjqVGb41IS2arvRFJwVj8H+Zoq/wAO5TbUH6mvk81RySS8v/J7GOT0J+xFWyf9KX+7N/CanfvdI/ftYAk8hWOpsNb8EdcK0DTmfbP6AU6uCPHTyFTLTExIiivYhV0mTyH58qG5MSm3sNpbCDlzNYX02xGa4QrQVW2gmR4nOYgfeK7dYraMxc6+7hXPvSm2LmIZSSCb9rKB9orb9XzIBjrFd/wuCea32TMOptREX7jW7Vo66NnZedpQEc+QFwN7K137Pjlt3bXC1eYL+FocfB6weJ7TNzEraUBCivbzOwUhobiRCDNHCTAEit36FbXW4v3RPMsbaE+3avffK/M4ezNdNHNUN70itg6SRr4toAJB0Osyp4cqsG7Rt5CwdQIPWD5cf5U1lg3VkaJeCdNFmrKJ2jfuOrIcqROZoUt4JnLyHGJGx0q7xOOVUkNmYCYAMvG8QONKOaLsfpyLIGjmq5O0bYUTmnTZSdaZ/wBtj+rf4U/Wh5D05eDFHtFGYrBZCCSQunTjrOu9PXchg5yFDRAIYctjGYcfDt76tn7COutonxQTm20gZSvhjUb/ADpjD9jO5Y22teEqB47ihv4VGZYOvLmK89ZNXB06H3K24EO8ECdNdtjPvpYdckESFgDJLFZEceUnXUfKjfsXF22YXLN1bYaUZGzQYBJPdloEzoYEaHrCuy5J8Cj1RAPhM+JfCRA0mI/SrcmuRbMfZQQCNjl1MoQdTx02E6Uk4cFdbi8CQPWy5omDG4OaBMwY10pvEKXUKBbZLZAZS1zMCd2yE6wdYHlTt/DWUKkgkaBiA4gDVQMskeLUATw2pa2Gl0C7hzaB1lfCQyieuq6QJBGvKiALqWPjJ+yvA6SJ6Aiod3HWgWZVBBgkb5zudGYS206cKOxjkCzmKuDwt+HKdGBA11kz8NaNbFshztS73Fm5cSZQQSTBzOMqQOB1Y+Sz58wuXCxJOpPGuidr571tUtp31tmLkG53bhtdxcGoUQAQfZrWevej2JTUYMx95s8f3CF26V14dKV3uyJuT27FJY7QuIMoaV/hbVfYOHmINWlzBl0zoCIgsjjVZ21IHhMaNsdjB1aE2NH9VYHkpPxmKWe2bmUJ4So2UglRw0UtFbMz3I4xd1dAXXoCwj2A04vad6CDcuGRp430PvpSdsXAIAQDkEEfOn8L2jibhhMpI1iEBjoG3pOMe6HqkV9y5df1i7eZY/Okiw/8JA5kQB1J4VfKnaJ2ViPwp+nQ+6oGL7QxCtkunhMFUO+x9UihNdhOybhez7gQd3bLO27ZZjyB4/XWlH0YxTmXRzpMsfaYJMU3hMPjr650U3FM6wh2JmZGmoNLHYuPU6WMpOmiWxM8JA6/GlqSfKHTKvG9lPbEnJpuBctsw81RiagZTWoTsbGvo1hW2PihORHqFZ3HPenk9Hb41OFteZa4wnrDwKPUiu6DS/Bnuye0r2HuB7LsjDlx6EbMOhr0r6PO17C2rt1e7uOgLLtB8jqAd4O01wbAdufud1g2Es94pEErclOMgM2s6GfdWhX9qN0/Ztj+w5+T15/W4HmaqCfub4qS3lR2S7ho2IqBiLLCuWj9p1z+K2P7D/8Aqpxf2lud3T/tt+teRP4blu4xr9WzqhNL+pGy7WY9ze/6Vz/Aa4zetF0YCNFDakDRSJiSJMToNTwrZYv04DW3GZWZkZQMjrOZTxOmxmslhChK59VkZo4odHjjOWvW+HYZ4k1NVdGHVSjJqnZa3v3lcOrpcyi3pcRjKHTMWhp1BBWBroDNNLfFzC33ylcuHtWzJJ8Zu3WMEyToJ11+dMdqX2Swmfd7ruyjbL4g+2wbvdPOgMOO77hWZVu3c3i8TBEkK0IJJKhjGvDqa9K63ZypW6OlejNorhcOsGRaSehKg/nVuMOx4R51jx6VZAttGYZQFA7hydBEapvpTZ9Kbh3e+fw2nHyUV81k6TLOTlXLvueopRSStfubb9zA1dtPcKi43tjDYdczOoHz/X2TWQPa4bxNbxLRElrVwgTzMU32n2zgnUW74uLxAa266jc7SeW1VDo5WtSbXshSlGvqX8Ey/wCnDXbgtYS21xmJgnwKBxYsRIUcSQunGrzDg6ZiGbiygqCegJJA8zWUwPbuAtAradbYaJ8FyXjXxMV1jlt0qaPSPCxpeUexh8xWmXB2hBpe/LKxNJfNJfobC0w41gO29cW5U+rfQyOEAK3wJqyb0jsKpYXFcgEhQdWMSFA5msx2fiC7XC2rOXJPPPOaOviMdSK2+H9NKE3J+KMOrlGkk7LFcW74kW8Q6kLnYXMqzcQIzKrGJDCN1IEgggzNaHsrD/8ADtZmIZVs6kzL9zbmR9oyPPfrWSu4RnvMGzqpKtbcLKSuRLgJJGmUBxH51tcMlworoqsjBm1gbkm2BMiAqrruNd507uq+mjmxcgwzLPhDMS0QEylQNxJAE7b71NZwMy5XRcwlo0PLY6HSo93Ds3dk3GtMhE5PEuYRMmQAIJkEaAdIMt7YYnh7s2wkjxQBPPrrXHSN022MB1JlQZH3gSJ3zA67GNJoncICCc2p+0OPIAbU24RTlnSBJMiQxIjQanwEeQPShcdVEouo2WQZkeHWBy1HCimhNhvfXLqWIiTAKnT8I2nh+tI761yP94/rUy2EKlvEoII0gBtDmygA6iOGu3OlpYMCM5ECDn3HCjcVPyWOJwLwF8C5okK0nUHVRprx34HeoeG7KW2T/wAMsDxAyxuSVABmZ8/fovE9jS7utyCxkiSBIC+IBIIYBdKlWMI+UeJXKzqZmdtZBPPXyqnFXsNSfckYMd3AVXjh4lMREaHUezkNNBUy5aS4uV0zhpHjVTO2hBH5VBdyD4ttYPrAGRAPAHXz0NOJi31ByrGzCSfKBA5a1cZ1sxON7oTiewbZWEHdbDQCI2jbQRGxgQKosb6HXCcwv7CEJtq2XkSSSSQdeHGtXh75gnPIkjUgdN550kvB8LKDrpJMDaYnp8Kqo8olN8GQT0VYMT3iNPArBHhjcbiROs71HxPolcM5GtAneSxzbEyGUqNRwH6VtTYDak5W28MZDBknUb1HxGDuIJDZl1PM9Bz5VNNb0P5WY7D+juKtrH/CuAkSM5A011lBPtilnB4wMT3CnnkuJzmQGIE+fKr/AL65m1C5Z6yJ5xMnXYaaHWn1xDRMCDoeBHnz9lK14Ko5T296A4h3L2LDKWJLK1yzlk7lSH014Rx34VSv6A9oj/8AG91y2Z8vHXc2uGdgRpx191KcsN1JGx01Gk7HryrePUSSM3jicEb0I7QG+Gf3qfka1Po/gWwcN+44t3kFnNsCI4IqsdBodyTrtpXUlbh/qOelJmR4h9R19tKWeUlTQ1jijD3vSFxcLHCY3u5BA/dspQghtGLc+g3mqrE9s4V473B4liM0ZrKgKs5oGu0t8q6WpGgHE8oO/Ib0J4R8R7udZxcV2+49Huc2t+l2BtgKlq5bAUwMgEag7BhOus8x72MV6c4ZhHd3CYXUqsabcZnfWum3bYPrKG6b+f0elR2wlrfukkfcWQd9441ScP7fuGl+fscv/wB9LWYZbbqoDTETOuWBMLrHA6VJtenFoHVGIyaaEePKZO8AFiDEGJNdGbs6y0TZtMBtNtTHDiKZbsjDf1Fr/toP8uu/xpaof2v9xaJeTC3vTLCsrZkuMxWFLqHiCp6RIBEjUSOtZb0pxmHvFHs5w2Uq6uuXQaqRBPX3iuyr2TYB0s215wij5KOuvnTlvs62u1pB/YUe/SnDLGDtJ/uDxtrdnntLDsJW2zAcQpI94o1sXAf6N5/Cf0r0WEUaiAOEbb8I5zSwev17a0/FPx9yfQXk88ZCB6rAdVPDUfn7DR4fE5eIj2aV6FjqT9fzpUe/5dONH4r2+4/R9zieCvNcItraa6ZygKDmAOmUwPV89gDyrZ9nejl0LmZbq3WPiVXthBrp9onQHed551uzH+munl7aONeNRPM5KkqKjjUXZnH7Mugq6W0LKNCxUFjESXljtGmnCl4jsq/d3W0kITPrePMCo4QIETuN/LQh9JB/XrQzajXrHTWsC2rM+nY2JJOZrTLoMrZ2HgWEMEetqZPQcyalX+xjcUrcCN0k7RtMb7GZ11q1z9entoZp4ztw670qEopFC3o8wuK6JaJ+2GZgupzFgqggmQOA3npUHtT0SuYi01u53SsDmRk2VtRqAgJUg6iTtvIrXgeev1+VGB/rtVK07XIOKZyo/s4xYH9Jh5H37nDZp7vfpxqVZ/Z9ilIbvbCkcQ1w+YPgFdKVaMqfr+dbetInQjFp6JXyMrXbWQn7JfXjpKwJOs9auk7IuSZdckQEBIURtw+UVdA+VGCPfWU25u2Uko8FKnZNxT4WthdRBXNxOokb60bdlXCNLihdNFAB6nQeyBV0CPrT50eWlpHZQXPR9WGU3CIiI3mZM89Sff1NSV7FtxDMW5TGkchEfCrUedAL9cKekVIrbXYdpWDwxYOWnMNSeYAg7n30/wD7Ltfw/EfpU0Ci9/wp6Uw2Ku4lxLkt4rXPRm15wNgYjj7tZdtFYShMZgQNQugiImI9lQk7VGY50YMo8UAhZAmVU+todSpI56iKr37ZRrgVS1tQokyupJbdACdgsa/a9tc177GlGjcsmUKkiNQDpx068Kj9o4juwHyykmSN10OpPKJ+FUl3tq6HAkACZLRDggRlI3aSNNiCddAKru2u3sQHa2hUWymYuUEHNoqAu0EljsJ02E1cHqdEyWnc0QxwuWxqGB0VZUkjQksN+PEAinr1u5lUaAnYFho0kwI9aJInlzrLdg+kQ7tmYKoGUhICl5MkgsQCo8Wg2kidKtf363dg5xbIBbaSA2+ZjsIJ9sx1iUGm3vYRdk84a+YZSEMMriSVGbYoSonU7Hn01ubSGZBEE7SYI8jx0qv7xci6+FiFzCYnhw00B0py47LAGY6mN4OkakcPPpVxyUKUbJ160msrB32Ec9YM0wtpJ8QVCePhAuchE6np86bw+LOZlIYOoBM7QdJ67fruKeu2iZVgBpO8iJmfZvvWqmpIhxaEwyj1QwAGmmu20+2o1zGqSQ8ocpIkESIBIBMT5b1MyGdyRrx016bVAZrmU221lTDLJYwRJ1GQN0kTw50NjI6Yu2xzd8SJkTl0HqxoBIG/PahexqoPWVyV0OYAEgayeA4z1FU47BbCjvLNtL5DSwREtuFEyQrEK5gARMtqelP4S33mTPhjau5WbKw8I0VozidZI38Q5cxp1sCZcl1Zftb7gSesDWd+HuoW2kCNoBnpPWqbDdqsbkKwbKGGVbgdAynLkI0eSASIBG9XVzEBgpSSCOIiOYmBGooCxbT6u31rHvFA6cDp8vn/AKVGdoIzKZUkzyPE6+2g+NLDMFLENAOgBiDJLbDeeWhqbQx5HXceLltMkcPriKItBjUeegPPU77fGo1lysymhGnA+0QOPDkKdTFZt5k6QRJjh+VGodDqgEakRpG3kfcY5UWQdfPX8qCoNzrw2iPrTTrTV5CJIgEcevLTYH4x0pNoFY4EHn7PrlQnlp+fCiBMfmDt1+O3X3mgOs+86nkJ+uFK0MNWmP1+uFBV14/ptt9caCMOem+36RSpEA5tTsOc7a/XDpTsAwjcRPwpzuz9EU0gMiTv8OmmhNPLI5g+dCALKQNR9a6edJZddNDPMUppkz7/ANTHI0ZBWQAuxg6tG3Wi0IbyEaNrpr+Xnv8AOhkBH5fKhO8an4A8PrWhpMx7TQmg3HFt7fXWgQef19eVJnjv8/raiD+f19CnYBsp3n631NKVdfr640QfTf30vfamAkx+fv6GjKx/LSiP1t50Qjz+uFMA5I/0/ThSg5/0+vqaaFwgmR7dwp8t/wDSnCd9NfzgaSefnTQrBx+p9lGddiDH1rTKDMZysAefXxcDp16xvThXQ+IwJjcn5yeFUIWD9b0J8qQWCgydhJ/PT4UrOvL/AMaBWZfGOQ5gkb7acarcRaUd3CgeLgAONChXnLhHT3LBkHckwJga8dxxrLdvmGkaHI4kaGJfSaOhWvT/AFE5OCLj/wCgB4668d340jH4l1uqquyg2jIBIB1O4G9HQrs/2YF/cvMIAZgAzQASI8IrVYZzlXU+sv8AhoUK4PB0vgj4JybjSSYYROsaGrPC6qZ19b/CaFCrXYhk/D7N+JvzpV/1faP8VFQrePBmyMw1P1xFKt/b+uK0KFT3Q+xzi7h0F52CKG/enGaBMZrek7xWhxd5lvIFYqO7cwCRrn3040KFbS/gzRZXmM3deH/qqntucy6n+iT/AAUKFYGiLG8xg68T8qPF6ERp5aUdCqQD/PyX8qcRQQZE6jfX7VChUvka4CTgOGuntWnb+3v+YoUKhcoobb1R7P8ALTttQdxO/wAhQoVqiGJvKJ24f5RUm1t7qFCp7jFr+tN/qfzoUKYIZPHzHyoWuHt+QoUKP6gFrsPwijO5/tUKFACk/I0X2j5r+dChVCHV4ez50Tbnz/WhQpiErs3t+dE+4+uIoUKADuH1Pxfkaa7U/o2/C3+BqFCgEPD1R5Go9ChVMSP/2Q==',\n",
       " 'data:image/jpeg;base64,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',\n",
       " 'data:image/jpeg;base64,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',\n",
       " 'data:image/jpeg;base64,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',\n",
       " 'data:image/jpeg;base64,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',\n",
       " 'data:image/jpeg;base64,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',\n",
       " 'data:image/jpeg;base64,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',\n",
       " 'data:image/jpeg;base64,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',\n",
       " 'data:image/jpeg;base64,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',\n",
       " 'data:image/jpeg;base64,/9j/4AAQSkZJRgABAQAAAQABAAD/2wCEAAkGBxATEhUSEhIVFhUVFRYVFRcVFhUXFRcVFRYWFxUVFRYYISggGBolHRUVITEhJikrLi4uFx8zOjMsNygtLisBCgoKDg0OGxAQGy0mICUtLS0tKzAtLS0tLS0tLS0tLS0tLS0tLS0tLS0tLS0tLS0tLS0tLS0tLS0tLS0tLS0tLf/AABEIALkBEAMBIgACEQEDEQH/xAAcAAABBQEBAQAAAAAAAAAAAAAAAgMEBQYHAQj/xABLEAABAwEEBwYDAwkECAcAAAABAAIDEQQFEiEGEzEyQXGRIlFSYYGxB0KhcsHRIzNDU2KCkrLwFESi4RUWc5PC0uLxCBckJVRjg//EABoBAQADAQEBAAAAAAAAAAAAAAACAwQFAQb/xAA3EQACAQIDAwoFBAEFAAAAAAAAAQIDEQQhMRJBgQUTUWFxkaGx0fAiMkLB4RRS0vEVYoKSo8L/2gAMAwEAAhEDEQA/AO1QxNwjIbBwHcnNU3wjoF5FujkPZOIBGqb4R0CNU3wjoEtCARqm+EdAjVN8I6BLQgEapvhHQI1TfCOgS0IBGqb4R0CNU3wjoEtCARqm+EdAjVN8I6BLQgEapvhHQI1TfCOgS0IBGqb4R0CNU3wjoEtCARqm+EdAjVN8I6BLQgEapvhHQI1TfCOgS0IBGqb4R0CNU3wjoEtCARqm+EdAjVN8I6BLQgEapvhHQI1TfCOgS0IBGqb4R0CNU3wjoEtCARqm+EdAjVN8I6BLQgEapvhHQI1TfCOgS0IBGqb4R0CblibhPZGw8B3J9Ny7p5H2QBFujkPZOJuLdHIeycQAhCEAIQhACEIQAhCEAIQhACEIQAhCEAIQhACEIQAhCEAIQhACEIQAhCEAIQhACEIQAm5d08j7JxNy7p5H2QBFujkPZOJuLdHIeycQAhCEAIQhACEIQAhCEAIQhACEIQAhC8qgPUIQvbMAhCEswCEIXgBCEIAQvKr1ACEIQAhCEAIQhACbl3TyPsnE3LunkfZAEW6OQ9k4m4t0ch7JxACEIQAhCEAIQhACELxAeryqqrxvqKI4QHSSUyjiGJ/liNQ2MebyB5rOW602yf8AOTizR/q7MQ6Zw7n2hwoyo4MbUcHqO1fTM9sa+0W2Nm+4A93Hooj70ruMJ8yWtH1WXuy6YYiXQQNDjvSvq6V32pX1e7qrQWWu+8nyGX1VM6Vaek9ldUVfvd14HqlFaq/EstdM754mjyOIpLrPO79P/XoAq11jjPA9SqC8pWtkc1uwUHrQVWeeA2l8VST/AN0v/LRONfoS7l9zXG65DtnP+L8V5/oZ3649P81k7M6oyeQ412OoMvLqoj70lYaCV2Xc51FmfI1Lo75VP5Ms/VT6fBehuhdknCd3+L8V4bvmH6dx9XfisXBflpNaTOyHGh9163S20j5webW/dRef4xLKK/7KnqP1EuruXobOGyWnjNT6qQ2z2gfpwebAsZFpxKN6Nh5Ym/ir+59INexz9WWBuVSQWnvofLkoOhKhG8lLt5yf2l9hzkpuyt/xXoW5baP1jPVpCadPaBxjdyxLGXnpbLKS2y4Qz9c8Yg7/AGMeVR+27LuBGarGWZ8xGunnkOe9K9raj9iItZ9FsjSqyje7j2ybfd+SO1FZWT4HRxbZRvMZ6PA+hTzLcDtaRyLT7Gq5W64bJXEbNC4jeDo2uJHqDU8R04prSLQKyWizOkscTYbSxuOMwksbLhz1ZaDhBI2EAZ0V9OjVjrUb7UvtYhKUX9NuLOvC2x8XU5gj3Sm2mM7HtPqF8n3PpxednyjtUuXyvOsaafKWvrTuyoupXZ8QLYwN/wBI3aSCATLAA4itN6OuIefa9FCrVr0s3s++Plc9jGMun3wOwtladhCWshcV83fbATZ58xvMr22/ajkGJvRXUUUjdyRjh3OqPao+iqhjal7Sh3STa4NRZ66cbZPw/tFshV7bXIN6F3NhDh9xUqKYO4EcwQfqtsK8J6eKa80itxa1Hk3LunkfZOJuXdPI+ytIhFujkPZOJuLdHIeycQAhCEAIQhAC8Kalma0VcQAsxf2ljIiGgOa0jOZzCY29wJGTSe91AqZ14QkoN/E9I73w++hJQbV93SXNvvZsZwgYnf11VXar3e4UJw94aSD6u29KeqoTeTXDE1wdXa4EOqeYUKe114qFOlUbcqsr/wClZJfdvp3dVj2Uo6RXHeXUDnP7MYAAOfAAnj5lTYbI1uZ7R7zs9AqGzXy2KMNawudtJJAFT1rwCjWi/p3bCGj9kZ9TValZFTuzWvkAzJoO85Dqq+033Az58Xk3tfXZ9VjbTaHOzc5zj5kn3UV8x5JcbBqrRpP4I/V5+4fiqC0WsucXk5kkmmW3uTdhhxmp3R9T3KHNKMRpsrkoKabcegls2VzTQysIBAGzuCqL2dhfXg7Mfem7utJBLeFK/innWwE0AJ50A6krJFShUdlcvk1KJ5ZnYcJPHM8iq20zds02VVsbDK/wt9S4/QKrtMUgeyON+sc80AAoK92fDz4LRBNXlL3vK201ZEi47A+0y4BUNGb3dze4eZ4f5LSXi5sp/skXZs8XZmI+dw/Qg8Wja48TlwcCWgCw2dsER/Ly1OKmY8cufdkGjvp3FV+j7gwuh4Dtt45O3qk7Tir1Cw7UsRet9K+VecvTruWpKL2e/wBBy22YMfQbDQjkn7AzPF3KxksrZKVrXhT2UuG56NprGjyzJ9aK54qCglN2fWec29orbXEGvy2HNLu20atxByGbgeApvZ8KVB9fJSrbdUhzY+N7tgaXOYP4g13snrJo+zJ05ErhQhtKRNPAhpqXnzcTsqAEWMpRpr4r9nvIi6cnLQyFxaCwS3jNeJbWAvEkDCKB8hAc+QA/ow+pafmyIypXoElijO1oT58sv67lGtdsbGO2QO6m08mrlV8Q6j2pGmnFxVkUdq0Ss8loimAwmJ2OrcnVGYAeMwO8cRlxWoas9HfZxHIYeA49e9TGX03w/Vc+WMpv6s+Jc6M9bF3HMQl2+akL3ja1pcObcx7LL3zpSyGJzwO1saMtv3rkNs+IVtbMS8sfGTRzGudiA5nI9KeQXTwdWvWpydNXVmtbZ/j280ZqkIxktvI+j7PMHta8bHNBHIiqVLunkfZUOg95stFiikYatzAPrkCOBFaU8lfzbp5H2Xbozc4KTVrpeWfiZpK0mjyLdHIeycTcW6OQ9k4rCIIQotutscLHSSODWMBLie4LxuyuwOyytaKuNAFVSXm95wxCg4uIz9AolvdI8guFK7re4H71MsEQaK9/9V/rhTzXzlblKrXrOnT+GC1f1P8AimuNs8rmtUowjd5t9358iVHAPm7R73Z9Ep7GEULQQdoIFOiafL/2SQwneOXhH3nin6iWkUQ2XvM1PoNYnPc6zF9mcc3agjVE14xOBZ/CAfNR3aETf/JY7/8AJzf+MrZB1F4ZFYsdVirXPNgwc2hdrG6+E83PH/CVAtOi94t3Yg/7MrB/OWrpRkXmsXq5TqrW3cOaOUS3NeDdtll9NW/+RxKizWa1t3oJhzhkp1w0XXjIkseSfIfVSXK8/wBq8RzRx9r5+ET/AEY/7l4ILQdlmlPKKT/lXaNYkmVT/wAs/wBq72R5o45HYbZ8tknFeOrf97Us3XeB/us/8AH0wrrb7YBszUd9qedmSrfLLX0rvJqhJnKHXTef6ib94ArU6GXE9hM9oH5U9lrag4GcdmWI+3MrUEeIr1jwOCor8pTrx5uyinrnn7/ouhh1F31MfeF3WsyPmljJc47Y+21rBusFMwADxAqSTxWdt+kNlgmYXStxtcWuY01cGuGdRsBqG7aLrbbxs26+RjT5uGX4JFrgjd2xgkw5h1GuLeR4Lp08UnTskmtMn1dBRzXxdHac2/1olYdayyuDHdlr5iW4vsNOZFBtAp5qdZNIbymbihsjHNrSoNRUcM3DvV7pDdsNqGrMlHNNRsOdOI47eHemdH7K2xRvZJK11XYgADUZAHLzoOi5FfYqSc5JdGt9DXGEoqyK9jr8efzUcdfmrHl1c4/RaqDDZ4miWUuIHac4kuc45uIG3bsHAUVNa9InHKMYR3mhP4BU005cauJJPE5lZJ4iEcqaJqk38zL62aQE9mMYR4iKu9BsCpZ7QXGpzOeZNTs4lRHPScazupKepaoxjoSRIvdcowejEqNkncyum15Vdqy4hrG1eW71DQUb+0cTWg8MZPBUF9WOAuEcUTWnVsLS0HEHuaXAPd87XYXNqcwad6ftYfMJntdHV8pZgc4B7mR0cXRtO/QvzANezsKl3DZ4xPrp2ue1sbQGfoxhIc1z5ABShoQGkuOwbcvvMLRVGjGmty8d/icWpPbm5M6P/wCH6Um75G1JDZ3Ur+01pI6/eunS7p5H2XNPgRZmss1rAP8AfZBTuDWtAH9eS6XNunkfZWxVvfWRYRbo5D2Tibi3RyHsnFI8PCub6bXy+WbURVIiMWQFazSnEzLiWxskf5EsPA12t82zA0NG13sNv4dVjLfdk0docYwNVM8zCQVxY8IpDIduHF2q8WjD34sM8ZR5905SSUFd30vu7te4tVOWzdLXJGhgmMuBxFOw0UyyOEF4y7q09VMLzsH+QVNcVgNmgjiBMjWMw1NA/aSTQUBGY2UpQbVYxztOQPpsI5g5hcCVrtp3u279unhY1JbmSmkDn3oMijl68L1Xt7iSgSNYjGo+NJxKDke7A+XoxqOXILlBzJbA9irySjJRRNbXdz8+A9VDlvGIGhfjd4WAvOX7LAacykW5O0U2+hZnjilqWTrR3JpzidqzF9aW6k4GwOc8itHPY2g4E0LqV7jQ9U9dNvltMQeTJG4jcaxrBQ/MXvxHD3OoMW0A5rSuT8S47U7Qj0ydvV+BDnaadlmzQVSDMOH0qodisQjqcTnOdSrnuc7ZwbiJwjyHen5pWtzcfxWN07N2eS36GmKbWYvGe7rRY7S7Sgx1iiLQ6mbq5Ad5OWXlx5bbC/L8wRucMgB6ngBX6LklqkdLime0yMa+gaNj3/M9/wD9bMhQbSabAV0+TMFCvJzkrxXi/Rb+koxNV01Zasrbyvad78TbdIXcAHFjeQDaAdFsfh1ppO5+oledYAS12zEBtDhsJH1VXpNaQJRE0Atw0bGQ3A5oYxxaKDsv7RI4Hosy12otUMrDVpcx7SeLHZZ+dKj0XaxODp1KbUYpNZprJpmOnVlGV9287VLLU178005yQHJJK+LsdY9xLxzkkpD5QFdGnfNnlz13mvYg9xwsa5x7mgn2UCS0bc6ACpJ7vuXNtI76mmmD2OcxrMo6Owkd7tuROWXcAulg8G6zajklv1M9WqoLrOuSQvbvsc3zc1zfcKJb5gyKR9d2N7v4Wk/csnob8RLY2QQWi0PcxxDWuxZsdsAJG1pWp0nvBps8+scT+SkBJpXNhFKnjmo18I6VVQab68rPjl3WuIVdqDfqYfRaVhAa+pD2ynMB7KsxEFzAMbqUqRUVoBxKurPd87rQcdpdPDha1pxEgayaKhwUFAWOc4ODQHAVHFVHw/lbqp3nN8DS9rWgl7tZRgw020q88yFLuGxW2BhD2EPNIYBiBpLaG/kWUGYwmV78J3cbjxFfq2cw7H8IrAI7vEvG0yy2k8pHkM/wNYfVbOXdPI+yjXRZGQQRQM3Yo2Rt5MaGj2UmU9k8j7IAi3RyHsnE3FujkPZOIDGfEG8BZWx2p9dSHaqUgVLcR7DwOIBqCP2h3JMVsErI8Dg5hzY5pqCHUoQeIU74i3Wy03daIXkCrKsJ/WtIdHs73AD1XIrhvhl02drHkyvDsb2h1GNe6lY4znmKdalfOcrYCFSopU38crJpb1lm88tOJuw1VpWlotH1nZHFMyMadoB5/csPd3xZuyT84ZIXdz2VH8TKrRWLSewTfmrVC492saD0JqstajVg/ii1wZbCcXoyZarVBHQSPArWge4mtKVoDw2J0RsIBAFNoIy+oUWawRSvEhOKjQ2gdVhAdiGIDezzzyU5ZpzikrPPeTSe8baHjLED5kGvrnmV7R/e3+E/8yWvC5UOZKwkh3iHT8SmbZZ3uY4NkLXUOE0aQHcCWkZjyT2JNy2ljd57W/acB7qO1K+QcTB2GyW6Sci1OmcGNlaWurqy90b2xlrGijhiLSHUoKVyUux3XbYvydmD2g5GQ9iGMHMuhs7nAuccu06mwUaDmtHNpFY27bRH6HF/LVVlq07sDNshPJtP5qLtw5VxGyo06SXYn5KxkeGje8pD9k0caNXj7RjZgxPo9x7b5C/CRhxlzycRxU7q9pXTWACgyG051qeJJOZPmc1mbJpxBPX+z4XEbQ54qB9lv4pFovSV+11B3NFAseJxNabvX1X02sl76Xd66GilThHOJfWu8Q3JvX8FTTWkuO3qVAL+9eVWLa2pJzV10Xsvfj1l7eVomf8AiBbdXCGg1JJOXlkB57T0WTtMlohL43RlscYEIxMc0l5Bq+p8TtY4d+fcrLTC0h1sgZwa5leQLXHL94qZYbdNamEOmtMjCWu1cgbI11O1hic8Gr6lpDMRpQ7V9ngoxhh47MbZXsuvtzORWbdR3ZRT2aW0zxEFrGR0c+VxAa3dAJJ8owfVSdP7PZmR2aSyhwDS7NwIxkkPDww7jSa0HdnkCFKva8xFG8GFksjHAB76GPHniayJlBVuHiBXI0IIrC06jIhGI1c+0uJ7yWwsY49Qta1KjoEBOFvm0eyUTTam2OoA0ZnIADMmg4BO2awSyuwtBceIZnT7b91n1PkviVTTd0dhysiPLPnQZngAvbLd0srsLWlx8LaEj7R2M9TXyVpMLvsgrbLVGD+qidUnyc/edyyHkqy2fFMNbq7vsZwjIOeMDeYbt91vo4Oc80r+Xvx6mZ51ki/f8PmSwuZaJXMDhmISBQVzxPeDiyy2AZnJZS9tEtGbGPy80r3D5RKCT5dgAeiprXa74tx/KzvDT8kQwjr+FFKur4YyuOJzcztLsyuvQwk4RttW6l6/gyzqKT0KC13/AHZC+tgsHbbuyyvlcQdmJocSAfTLvWWvS97TP+cccPhAIb04+q73dXwzgbTHnyWqsOiVljGULPUArXClGL2tX0vN+/DqK3JvI+V7lvOSzyiSI9rNpFKhzXZFpHEHuXZ/hnYLVapm2m0QOijgbSzR6rVRNLhR0jW5VNCQMuJPcus2a7Y2brGt5NAUwRqwiMxMonHjsnkfZOBqTLunkfZAEW6OQ9kspEW6OQ9kslAcK03+K8cplgjZIwRyOjB4uDci+mWEk4gAcwBXaaDlN6Xi2Z2eJrW7oyPMnzX0Xp58M7HeBMwrBaCM5WAEPps1rPm5ih2Zmi5zD8JnQVdLNDK4brfygZ69mteqpjQhGbqLVknNtbO45a14pm0Eeo+oQNUeDhyId+C394XPqsjEGjvjILfQb30VLNZYCd4A9zhhVxEo4LQ5n5u0PZyL2/yqxh0ivFm5bpP98fZyXLdLCMg3mCmHXIO8+lFCVKE/minwR6m1oWLNNb5Gy1PP+7d9yvLn+KV4RECeMTt7y3BJ1bkenqsU65nf90y+6pBsofp7qqWEoSWcF3W8iSqzW9ndbq0tuu8KMc4xyHLA9zmmvdQGjvRP3hoZZy00Dm4gQ17HVpXY4VqK818/OsrxtYfotVozp9eFj7NTLFxjlqcv2XbR9VzK3JdSL2qEuD9270u00wxK+te/PuHtKNCbxgq9r32iLiWE4gP2o616VHJYUr6G0d04sFso0O1Ex/RykAE/sP2HltXmk+gVktVXPZgkP6SOgcftDY/Zxz8wvaXKc6cubxMbPptbw+6Dw0Zq9J8GcJu626rtNqH1ycDQjkugaMaYCWkc4wO2Nf8AI/uBOxrvofoqO+/hvb4Xfkmf2hnB0Q7X70e0HlUearW6H3mdthtFP9m4fUhba0MPioZyXU7q699DKYOpSejOu1C8c5V2jN22mKAC1vaHDcbXE9rKbJHVpXyFad/BTZHN4ElfKVEqc3BNO29aHUi21dqxzK/5/wD3M1OQljHoWxj8Vf6HWF8ckZtLRgiIYcJOyRzYmnycC4HzwrHaXu/9bMR4h/K1b+x2h1qu8mz0MxJM3aDSxwYWVA8NHyPG01DQvssPlRgupeSOPP5n2lTYb7FpEUdoJeyJ8cZqB+Z1h1ErHDtBwPYdWoc14O3ETE04kBtFmgfRpaNbNX5H2mTWSNdTwtwqfBoxFZI22mSV1MFHNMZpNK8t1cEMbgHuyqHOIG3LjS9ubQq0TuMs4/KSHHITwJ+UeQFB6K4iMP0tjzEFnfMTxfWKLkRvvH08k3Jab1tYwGUxx/qrO3VtA7qjbzXRbq0FiZvZrU2O6ImbrQPRZqWDo0vlXF5lk6kpas5Hc/w2cTic2h4uccTupzW2uvQKBlMQxH6LasgCeDFpKyrsdzxMFGtA5BT2WcDgpFF6gG2xpWFKQgPKL1CEAJuXdPI+ycTcu6eR9kARbo5D2SnBJi3RyHsnEBGmjqqC8roc7YtPRJLEByu+tF3u2grD3noi/Oi+iHwAqFaLoidtaEB8v2zRuVhqARyVbJZbQ3i73919Qz6LQu4eyq7ToJE7u6BAfNptFoHH6JTLyd84d+6fuK73avhrGdgb0VbP8LW8AEBxyO8rP80T3eoHsUs3lZP1Mg/eH4rp83wrPAH0UV3wsd3O6IDmj7TYj+ik6tWkuP4hTWVuBj5ZI+DJsMgb9kkhw6rS/wDlU/uPRPxfCh3EH6KFSlCotmcU11nqbTuimd8WbR8sLR6f9RUO0fEm8JBQNFD6ewW2s/wrHEfVXNj+GkTdtOizfoMN+xe+25Zz9T9zOPyX3eUmwhv2W59Soc93XnLtdK7yxEDoF9D2PQazt2iquLNcEDNjAtEKNOHyxS4Ig5N6s+U/9U7wP92kPIVV1cOiF/Mfis1mnYfFURj1LiAQvqGOyNGxo6J4Rqwico0O+HNr17bXecwlkZ+bZiLxGTtdU5V5ZBdPhsgbsCl0QEAhsaUGpSEB5ReoQgBCEIAQhCAEIQgBNy7p5H2Tibl3TyPsgCLdHIeycTcW6OQ9k4gBCEIAQhCA8oii9QgPKIIXqEAnCEYAlIQCcARhCUhAJwhe0XqEB5ReoQgBCEIAQhCAEIQgBCEIAQhCAEIQgBCEIATcu6eR9k4m5d08j7IAi3RyHsnFTs2DkEpAWyFUoQFshVKEBbIVShAWyFUoQFshVKEBbIVShAWyFUoQFshVKEBbIVShAWyFUoQFshVKEBbIVShAWyFUoQFshVKEBbIVShAWybl3TyPsq1JfsPI+yA//2Q==',\n",
       " 'data:image/jpeg;base64,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',\n",
       " 'data:image/jpeg;base64,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',\n",
       " 'data:image/jpeg;base64,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',\n",
       " 'https://encrypted-tbn0.gstatic.com/images?q=tbn:ANd9GcSPTXYOJCG-NmDxyu_Rzo6oO5OMgCdRWgTkkA&usqp=CAU',\n",
       " 'https://encrypted-tbn0.gstatic.com/images?q=tbn:ANd9GcRlhaYELczGreXbrRB-szpKkhD0ehzvCFcjDQ&usqp=CAU',\n",
       " 'https://encrypted-tbn0.gstatic.com/images?q=tbn:ANd9GcSpZ_PDUP9riLSxSoep77PZ9biFYtabFd31DQ&usqp=CAU',\n",
       " 'https://encrypted-tbn0.gstatic.com/images?q=tbn:ANd9GcSLQkjdNsFkXvUwJhhOsJXEkte3R8AW8khX7Q&usqp=CAU',\n",
       " 'https://encrypted-tbn0.gstatic.com/images?q=tbn:ANd9GcRm5bry8IRa6hsiwr-WmKOo_bbdPZF-MxE0_g&usqp=CAU',\n",
       " 'https://encrypted-tbn0.gstatic.com/images?q=tbn:ANd9GcQFQD8FHJ2cf_3_trxiRLElMRBl6yHz--OmJA&usqp=CAU',\n",
       " 'https://encrypted-tbn0.gstatic.com/images?q=tbn:ANd9GcT_CzmXhj1J-lGs5kRvVGref4_lqg1qRQ4l7g&usqp=CAU',\n",
       " 'https://encrypted-tbn0.gstatic.com/images?q=tbn:ANd9GcSuj2hiPtNHEXZcmp_gsFURBLWEBWpmzj237Q&usqp=CAU',\n",
       " 'https://encrypted-tbn0.gstatic.com/images?q=tbn:ANd9GcTQjBHWfRvri4hUjmGWPUPCorhGfoTbdRVHSg&usqp=CAU',\n",
       " 'https://encrypted-tbn0.gstatic.com/images?q=tbn:ANd9GcS3HcVG27eK--uy6usCydFQ3udgQUt8firi2A&usqp=CAU',\n",
       " 'https://encrypted-tbn0.gstatic.com/images?q=tbn:ANd9GcRlMQlh_EQTkktcVSmCx_p7LdZ2tA9eVg1Gow&usqp=CAU',\n",
       " 'https://encrypted-tbn0.gstatic.com/images?q=tbn:ANd9GcTkwGXQDS6Q-IVLhKWrdyaHw8WYNgWTE2juJQ&usqp=CAU',\n",
       " 'https://encrypted-tbn0.gstatic.com/images?q=tbn:ANd9GcQkjXP8X0w46em9bcD8NuKKwmVDV5eVLSETdA&usqp=CAU',\n",
       " 'https://encrypted-tbn0.gstatic.com/images?q=tbn:ANd9GcTEQuybHIBWDz68w9q9HYT-2juK6ZD0qR3keQ&usqp=CAU',\n",
       " 'https://encrypted-tbn0.gstatic.com/images?q=tbn:ANd9GcRoMjzxd2-Z-8V4veedZu4Bq-gvxRyhij-r3w&usqp=CAU',\n",
       " 'https://encrypted-tbn0.gstatic.com/images?q=tbn:ANd9GcSXYx6Yw26_Ne5C8TVWWGHx-fWFXKcAQbuKhw&usqp=CAU',\n",
       " 'https://encrypted-tbn0.gstatic.com/images?q=tbn:ANd9GcRu-ZUNngwwx6Ezlq_qcXfVSoltHHccusuuMA&usqp=CAU',\n",
       " 'https://encrypted-tbn0.gstatic.com/images?q=tbn:ANd9GcT_O13qbjKt5a9bDZxydTj-m7R5F8UONq_efw&usqp=CAU',\n",
       " 'https://encrypted-tbn0.gstatic.com/images?q=tbn:ANd9GcTQjFcOsHo5tCzy367Ot3CZDD_FUtiJHtWYBQ&usqp=CAU',\n",
       " 'https://encrypted-tbn0.gstatic.com/images?q=tbn:ANd9GcQHv9g5rzyFcqrVod5trntRDbCIX5wuUxLVxA&usqp=CAU',\n",
       " 'https://encrypted-tbn0.gstatic.com/images?q=tbn:ANd9GcTxbjXwkwVr-14A0KU5__5zZb-b5nUEyJv2Rg&usqp=CAU',\n",
       " 'https://encrypted-tbn0.gstatic.com/images?q=tbn:ANd9GcQ1m_wex1eUWm67XFry7uORB2RvhsWkVkPTtQ&usqp=CAU',\n",
       " 'https://encrypted-tbn0.gstatic.com/images?q=tbn:ANd9GcRAiDN7gQzQ454oFAECduD9XvO2mVsdBGvrzw&usqp=CAU',\n",
       " 'https://encrypted-tbn0.gstatic.com/images?q=tbn:ANd9GcQXGlTy0FUnhNi4cc9phU677dGdWb6y_lzx1Q&usqp=CAU',\n",
       " 'https://encrypted-tbn0.gstatic.com/images?q=tbn:ANd9GcSquA69N-5k10fcW_U1J6bmClSbvs0KRq8b9w&usqp=CAU',\n",
       " 'https://encrypted-tbn0.gstatic.com/images?q=tbn:ANd9GcSbP8hxVs6H_h-3NogbQQ6C6uFh_wpVwpsniQ&usqp=CAU',\n",
       " 'https://encrypted-tbn0.gstatic.com/images?q=tbn:ANd9GcRF7Y4YPlf8pI6rYlxezggjKXhlVo2BRcIS9w&usqp=CAU',\n",
       " 'https://encrypted-tbn0.gstatic.com/images?q=tbn:ANd9GcSMR16F7LgH7zGoJN3EbtLYlLzDcgAnjG_V-Q&usqp=CAU',\n",
       " 'https://encrypted-tbn0.gstatic.com/images?q=tbn:ANd9GcSLcc1Gf0crJNxlRq3XWcde64adE7tPB3E6mA&usqp=CAU',\n",
       " 'https://encrypted-tbn0.gstatic.com/images?q=tbn:ANd9GcSoZG2_f_iX4KPXK5lkCgOnSRBhdLnCuW89cA&usqp=CAU',\n",
       " 'https://encrypted-tbn0.gstatic.com/images?q=tbn:ANd9GcQ-3MwDlCOEG1GrAbFYmre27Ch1kvR5nBt1Qw&usqp=CAU',\n",
       " 'https://encrypted-tbn0.gstatic.com/images?q=tbn:ANd9GcSqyiBuexlR8OUYry8KH_2QVMYaJ0GLAMlY_Q&usqp=CAU',\n",
       " 'https://encrypted-tbn0.gstatic.com/images?q=tbn:ANd9GcRbNcWrULFV58WQ5lJdCKHk_U_nwNQ48BqeSw&usqp=CAU',\n",
       " 'https://encrypted-tbn0.gstatic.com/images?q=tbn:ANd9GcTJMric83qz2OdczJmQTw_jNnbCRM8DTlGigg&usqp=CAU',\n",
       " 'https://encrypted-tbn0.gstatic.com/images?q=tbn:ANd9GcQxBk1q_c-qFjvvvvQS6T7r0PvdOBTkE6TNuw&usqp=CAU',\n",
       " 'https://encrypted-tbn0.gstatic.com/images?q=tbn:ANd9GcQI04riPEjFNy4R1b0P1h6h8bqkoa-eUeAhQg&usqp=CAU',\n",
       " 'https://encrypted-tbn0.gstatic.com/images?q=tbn:ANd9GcSlpGoItMqWkOmfAKHTEtI1wIiTb7GTvaqmkA&usqp=CAU',\n",
       " 'https://encrypted-tbn0.gstatic.com/images?q=tbn:ANd9GcQ2wyQeU49zZjJonR1H4JmKJYkvOehfVTN2qQ&usqp=CAU',\n",
       " 'https://encrypted-tbn0.gstatic.com/images?q=tbn:ANd9GcRgVDYdBWuLWCxg_RcWaLxRkKz9Z3llNETlVQ&usqp=CAU',\n",
       " 'https://encrypted-tbn0.gstatic.com/images?q=tbn:ANd9GcQx6Y26YOjgzDm8RNQL3V0oa3ZqrYhfHmnLyA&usqp=CAU',\n",
       " 'https://encrypted-tbn0.gstatic.com/images?q=tbn:ANd9GcTiexpmorpTkjpSSBkwxYcWvYxpCD5b7unqgQ&usqp=CAU',\n",
       " 'https://encrypted-tbn0.gstatic.com/images?q=tbn:ANd9GcTt2_hGGIAmONOkFx0RaUi7GcQIr9qcSO-q4w&usqp=CAU',\n",
       " 'https://encrypted-tbn0.gstatic.com/images?q=tbn:ANd9GcQhNdQW_RyoJBdBSA5_uYWWJgp2pNLTOvTQDQ&usqp=CAU',\n",
       " 'https://encrypted-tbn0.gstatic.com/images?q=tbn:ANd9GcTQ94VEkkPsuwMeJm-RPLw5rzduU_6_kFJ1bg&usqp=CAU',\n",
       " 'https://encrypted-tbn0.gstatic.com/images?q=tbn:ANd9GcSySY6DpujQ1JuJcborc--Lbx68WdRpwH_8hA&usqp=CAU',\n",
       " 'https://encrypted-tbn0.gstatic.com/images?q=tbn:ANd9GcTvC4Trcx9oGaA-byaW2J633fFPYzWfg9IUbw&usqp=CAU',\n",
       " 'https://encrypted-tbn0.gstatic.com/images?q=tbn:ANd9GcRJbB6InU5GDEPql_neXAo7brWDkKGKONC1uA&usqp=CAU',\n",
       " 'https://encrypted-tbn0.gstatic.com/images?q=tbn:ANd9GcTsKzLErpnHncFM5VV1iB89o3VRvElixI9n_Q&usqp=CAU',\n",
       " 'https://encrypted-tbn0.gstatic.com/images?q=tbn:ANd9GcSiyRiZ_loY8PCKaKBH-j4Q5lLm3Rg7M30CMg&usqp=CAU',\n",
       " 'https://encrypted-tbn0.gstatic.com/images?q=tbn:ANd9GcR5zXg6uvq0RyAGpwwyA_jtGxahKX47243dmA&usqp=CAU',\n",
       " 'https://encrypted-tbn0.gstatic.com/images?q=tbn:ANd9GcTyejoDmoNx02SsCNHE9Ff5FjTwzOOlG1z78w&usqp=CAU',\n",
       " 'https://encrypted-tbn0.gstatic.com/images?q=tbn:ANd9GcQZGJVO13w5HUQ1dL1D_Vmy40tqj6zdJoQQXw&usqp=CAU',\n",
       " 'https://encrypted-tbn0.gstatic.com/images?q=tbn:ANd9GcRC7gV-cpve4nugvUAOiPd9rvJc5RSyy9gTaw&usqp=CAU',\n",
       " 'https://encrypted-tbn0.gstatic.com/images?q=tbn:ANd9GcSrQpXxz0XfZAqz_v9FUuPEWbIue6K_Ilb4nw&usqp=CAU',\n",
       " 'https://encrypted-tbn0.gstatic.com/images?q=tbn:ANd9GcTr6cDGx33MNBecyI34m9s5Uq1ErDJ6G-DXQA&usqp=CAU',\n",
       " 'https://encrypted-tbn0.gstatic.com/images?q=tbn:ANd9GcSnl2LQ95Vv0uDsqUbYG4VJnBOSWBFjMOmqnw&usqp=CAU',\n",
       " 'https://encrypted-tbn0.gstatic.com/images?q=tbn:ANd9GcSS0H6ETrj7gs1EWw8tCwVIhmDIx5E-qYrrWg&usqp=CAU',\n",
       " 'https://encrypted-tbn0.gstatic.com/images?q=tbn:ANd9GcSXPek6PMZlBK7JtCXTQ9P3hvshTzzGQZ3MmA&usqp=CAU',\n",
       " 'https://encrypted-tbn0.gstatic.com/images?q=tbn:ANd9GcSlSLLqU3Jt9rhgy4GniKlPwwTYAH1aGw582g&usqp=CAU',\n",
       " 'https://encrypted-tbn0.gstatic.com/images?q=tbn:ANd9GcSAF2pL6Wa0lPZSriBIvmpO_Ez7xgKAGJY4UA&usqp=CAU',\n",
       " 'https://encrypted-tbn0.gstatic.com/images?q=tbn:ANd9GcRY59tZHJeRLKQqrwCsNK0Eop4QPTr2jiSWVA&usqp=CAU',\n",
       " 'https://encrypted-tbn0.gstatic.com/images?q=tbn:ANd9GcQjBv8YYcjX9sIrPnb3fvahxD7V1Q7vVpntGQ&usqp=CAU',\n",
       " 'https://encrypted-tbn0.gstatic.com/images?q=tbn:ANd9GcRIx5iWhUbv9UYTkibAPZ1rSgl1HSbo87t6TA&usqp=CAU',\n",
       " 'https://encrypted-tbn0.gstatic.com/images?q=tbn:ANd9GcRVkCO4ivr8ekmy7mwlk0HdBVPZJMhfnclepA&usqp=CAU',\n",
       " 'https://encrypted-tbn0.gstatic.com/images?q=tbn:ANd9GcTj3seh7KiiJVgbjhLMJdLNEnJggQEwsy6nMQ&usqp=CAU',\n",
       " 'https://encrypted-tbn0.gstatic.com/images?q=tbn:ANd9GcSsbdUipD5QWGPFrYq4DFHiLq5xMxpKXTGneg&usqp=CAU',\n",
       " 'https://encrypted-tbn0.gstatic.com/images?q=tbn:ANd9GcTdlqxGPR5yLyELuI7_mP1yxzF4R3BhrWk9tw&usqp=CAU',\n",
       " 'https://encrypted-tbn0.gstatic.com/images?q=tbn:ANd9GcQOhToqAMDmuqDIiYnrA-NmtwwOHoU3bnZ7yQ&usqp=CAU',\n",
       " 'https://encrypted-tbn0.gstatic.com/images?q=tbn:ANd9GcSORIc4a7LqnFfCas_fJaa1MwS40AsdqMWpgw&usqp=CAU',\n",
       " 'https://encrypted-tbn0.gstatic.com/images?q=tbn:ANd9GcQzmdjPPbqMFfeig7RTITLu19BwflVQoIgRgQ&usqp=CAU',\n",
       " 'https://encrypted-tbn0.gstatic.com/images?q=tbn:ANd9GcQq49i_gSDz68IEp6SQADz5QwLaL1Ro_4M9kg&usqp=CAU',\n",
       " 'https://encrypted-tbn0.gstatic.com/images?q=tbn:ANd9GcS7X_TNzLL4j8hpatJUcU8IHJ8xSNGNcz8mOA&usqp=CAU',\n",
       " 'https://encrypted-tbn0.gstatic.com/images?q=tbn:ANd9GcQwcJrva0tOm4Aef3XCLdDDklQ0tGkfuu5Ekg&usqp=CAU',\n",
       " 'https://encrypted-tbn0.gstatic.com/images?q=tbn:ANd9GcSRYNL0rO0wYIOhnOMJQazi1BRYuSoX8Iq0bA&usqp=CAU',\n",
       " 'https://encrypted-tbn0.gstatic.com/images?q=tbn:ANd9GcQIWumx19rTpQ2sgKrLrU1KY_Sb-jWo9BYG8Q&usqp=CAU',\n",
       " 'https://encrypted-tbn0.gstatic.com/images?q=tbn:ANd9GcTueGhtvAN6ENpdlf1fKCODJDfKEznhAeuNdw&usqp=CAU',\n",
       " 'https://encrypted-tbn0.gstatic.com/images?q=tbn:ANd9GcSRH839BmZsHJsYR0IhbBVbAzOHqTqGAo4xcQ&usqp=CAU',\n",
       " 'https://encrypted-tbn0.gstatic.com/images?q=tbn:ANd9GcSQVnvoioSpz8DoNZuemeH3gQLB6wLpUzNySA&usqp=CAU',\n",
       " 'https://encrypted-tbn0.gstatic.com/images?q=tbn:ANd9GcS8tJrGZrPMJ90WSDdy__WeopccGPwyHbdWTw&usqp=CAU',\n",
       " 'https://encrypted-tbn0.gstatic.com/images?q=tbn:ANd9GcTe95-bGY1zliejdM0FssE9jzcTpr_zMSZjiw&usqp=CAU']"
      ]
     },
     "execution_count": 668,
     "metadata": {},
     "output_type": "execute_result"
    }
   ],
   "source": [
    "cars[:100]"
   ]
  },
  {
   "cell_type": "code",
   "execution_count": 674,
   "metadata": {},
   "outputs": [],
   "source": [
    "driver = webdriver.Chrome(r'C:\\Users\\User\\Downloads\\chromedriver_win32\\chromedriver.exe')\n",
    "url = 'https://images.google.com/'\n",
    "driver.get(url)\n",
    "search_bar = driver.find_element_by_xpath(\"//div[@class='a4bIc']/input\")\n",
    "search_bar.send_keys('machine learning')\n",
    "ser = driver.find_element_by_xpath(\"//button[@class='Tg7LZd']\")\n",
    "ser.click()"
   ]
  },
  {
   "cell_type": "code",
   "execution_count": 676,
   "metadata": {},
   "outputs": [],
   "source": [
    "machine_learning_urls = []\n",
    "\n",
    "ml_urls = driver.find_elements_by_xpath(\"//div[@class='bRMDJf islir']/img\")\n",
    "for m in ml_urls:\n",
    "    machine_learning_urls.append(m.get_attribute('src'))"
   ]
  },
  {
   "cell_type": "code",
   "execution_count": 929,
   "metadata": {},
   "outputs": [],
   "source": [
    "ml_urls_100 = machine_learning_urls[:100]"
   ]
  },
  {
   "cell_type": "code",
   "execution_count": 931,
   "metadata": {},
   "outputs": [],
   "source": [
    "for i, j in enumerate(ml_urls_100):\n",
    "    resource = urllib.request.urlopen(j)\n",
    "    filename = 'D:\\ml_images' + str(i)\n",
    "    out = open(filename,'wb')\n",
    "    out.write(resource.read())\n",
    "    out.close\n",
    "\n",
    "#download ml images"
   ]
  },
  {
   "cell_type": "markdown",
   "metadata": {},
   "source": [
    "## Task 4"
   ]
  },
  {
   "cell_type": "code",
   "execution_count": 1044,
   "metadata": {},
   "outputs": [],
   "source": [
    "driver = webdriver.Chrome(r'C:\\Users\\User\\Downloads\\chromedriver_win32\\chromedriver.exe')"
   ]
  },
  {
   "cell_type": "code",
   "execution_count": 1045,
   "metadata": {},
   "outputs": [],
   "source": [
    "driver.get('https://www.flipkart.com/')\n",
    "driver.find_element_by_xpath(\"//div[@class='_2QfC02']/button\").click()"
   ]
  },
  {
   "cell_type": "code",
   "execution_count": 1046,
   "metadata": {},
   "outputs": [],
   "source": [
    "search = driver.find_element_by_xpath(\"//form[@class='_2M8cLY header-form-search']/div/div/input\")\n",
    "search.send_keys('Pixel 4A')"
   ]
  },
  {
   "cell_type": "code",
   "execution_count": 1047,
   "metadata": {
    "scrolled": false
   },
   "outputs": [],
   "source": [
    "driver.find_element_by_xpath(\"//button[@class='L0Z3Pu']\").click()"
   ]
  },
  {
   "cell_type": "code",
   "execution_count": 1048,
   "metadata": {},
   "outputs": [],
   "source": [
    "url = []\n",
    "for i in driver.find_elements_by_xpath(\"//div[@class='_2kHMtA']/a\"):\n",
    "    url.append(i.get_attribute('href'))\n"
   ]
  },
  {
   "cell_type": "code",
   "execution_count": 1049,
   "metadata": {},
   "outputs": [
    {
     "data": {
      "text/plain": [
       "24"
      ]
     },
     "execution_count": 1049,
     "metadata": {},
     "output_type": "execute_result"
    }
   ],
   "source": [
    "len(url)"
   ]
  },
  {
   "cell_type": "code",
   "execution_count": 944,
   "metadata": {},
   "outputs": [],
   "source": [
    "product_name = []\n",
    "Price = []"
   ]
  },
  {
   "cell_type": "code",
   "execution_count": 724,
   "metadata": {},
   "outputs": [],
   "source": [
    "#brand_name\n",
    "for page in url :\n",
    "    driver.get(page)\n",
    "    try :  \n",
    "        name = driver.find_element_by_xpath(\"//h1[@class='yhB1nd']/span\")\n",
    "        if name.text is None :\n",
    "            brand_name.append(\"-\")\n",
    "        else :\n",
    "            brand_name.append(name.text)\n",
    "    \n",
    "    except NoSuchElementException :\n",
    "        brand_name.append(\"-\")\n"
   ]
  },
  {
   "cell_type": "code",
   "execution_count": 726,
   "metadata": {
    "scrolled": true
   },
   "outputs": [
    {
     "data": {
      "text/plain": [
       "24"
      ]
     },
     "execution_count": 726,
     "metadata": {},
     "output_type": "execute_result"
    }
   ],
   "source": [
    "len(brand_name)"
   ]
  },
  {
   "cell_type": "code",
   "execution_count": 728,
   "metadata": {},
   "outputs": [
    {
     "data": {
      "text/plain": [
       "'REDMI 9 Power (Fiery Red, 64 GB)  (4 GB RAM)'"
      ]
     },
     "execution_count": 728,
     "metadata": {},
     "output_type": "execute_result"
    }
   ],
   "source": [
    "brand_name[3]"
   ]
  },
  {
   "cell_type": "code",
   "execution_count": 1057,
   "metadata": {
    "scrolled": false
   },
   "outputs": [],
   "source": [
    "#Price\n",
    "for page in url :\n",
    "    driver.get(page)\n",
    "    try : \n",
    "        price = driver.find_element_by_xpath(\"//div[@class='_25b18c']/div\")\n",
    "        if price.text is None :\n",
    "            Price.append(\"-\")\n",
    "        else :\n",
    "            Price.append(price.text)\n",
    "    except NoSuchElementException :\n",
    "        Price.append(\"-\")"
   ]
  },
  {
   "cell_type": "code",
   "execution_count": 1058,
   "metadata": {},
   "outputs": [
    {
     "data": {
      "text/plain": [
       "24"
      ]
     },
     "execution_count": 1058,
     "metadata": {},
     "output_type": "execute_result"
    }
   ],
   "source": [
    "len(Price)"
   ]
  },
  {
   "cell_type": "code",
   "execution_count": 1059,
   "metadata": {},
   "outputs": [
    {
     "data": {
      "text/plain": [
       "'₹29,999'"
      ]
     },
     "execution_count": 1059,
     "metadata": {},
     "output_type": "execute_result"
    }
   ],
   "source": [
    "Price[0]"
   ]
  },
  {
   "cell_type": "code",
   "execution_count": 945,
   "metadata": {},
   "outputs": [],
   "source": [
    "## ratings"
   ]
  },
  {
   "cell_type": "code",
   "execution_count": 955,
   "metadata": {
    "scrolled": true
   },
   "outputs": [],
   "source": [
    "ratings = []\n",
    "for page in url :\n",
    "    driver.get(page)\n",
    "    driver.find_element_by_xpath(\"//div[@class='_3_L3jD']/div/span/div\").click()\n",
    "    try : \n",
    "        rate = driver.find_element_by_xpath(\"//div[@class='col-4-12']/div/div/div/div\")\n",
    "        if rate.text is None :\n",
    "            ratings.append(\"-\")\n",
    "        else :\n",
    "            ratings.append(rate.text)\n",
    "    except NoSuchElementException :\n",
    "        ratings.append(\"-\")\n",
    "        \n",
    "    time.sleep(5)    \n",
    "    "
   ]
  },
  {
   "cell_type": "code",
   "execution_count": 956,
   "metadata": {},
   "outputs": [
    {
     "data": {
      "text/plain": [
       "24"
      ]
     },
     "execution_count": 956,
     "metadata": {},
     "output_type": "execute_result"
    }
   ],
   "source": [
    "len(ratings)"
   ]
  },
  {
   "cell_type": "code",
   "execution_count": null,
   "metadata": {},
   "outputs": [],
   "source": [
    "##color\n",
    "color = []\n",
    "for page in url:\n",
    "    driver.get(page)\n",
    "    driver.find_element_by_xpath(\"//tr[@class='_1s_Smc row']/td[2]/ul/li\")"
   ]
  },
  {
   "cell_type": "code",
   "execution_count": 971,
   "metadata": {},
   "outputs": [],
   "source": [
    "##color\n",
    "colors = []\n",
    "for page in url :\n",
    "    driver.get(page)\n",
    "    try : \n",
    "        col = driver.find_element_by_xpath(\"//div[@class='_1AtVbE col-12-12']/div/div/div/div/table/tbody/tr[4]/td[2]/ul/li\")\n",
    "        if col.text is None :\n",
    "            colors.append(\"-\")\n",
    "        else :\n",
    "            colors.append(col.text)\n",
    "    except NoSuchElementException :\n",
    "        colors.append(\"-\")\n",
    "        \n",
    "    time.sleep(5)   "
   ]
  },
  {
   "cell_type": "code",
   "execution_count": 972,
   "metadata": {},
   "outputs": [
    {
     "data": {
      "text/plain": [
       "24"
      ]
     },
     "execution_count": 972,
     "metadata": {},
     "output_type": "execute_result"
    }
   ],
   "source": [
    "len(colors)"
   ]
  },
  {
   "cell_type": "code",
   "execution_count": 974,
   "metadata": {},
   "outputs": [
    {
     "data": {
      "text/plain": [
       "['Just Black', 'Mighty Black', 'Electric Green', 'Fiery Red', 'Blazing Blue']"
      ]
     },
     "execution_count": 974,
     "metadata": {},
     "output_type": "execute_result"
    }
   ],
   "source": [
    "colors[0:5]"
   ]
  },
  {
   "cell_type": "code",
   "execution_count": null,
   "metadata": {},
   "outputs": [],
   "source": [
    "driver.find_element_by_xpath(\"//button[@class='_2KpZ6l _1FH0tX']\")\n"
   ]
  },
  {
   "cell_type": "code",
   "execution_count": 985,
   "metadata": {},
   "outputs": [],
   "source": [
    "##RAM\n",
    "RAM = []\n",
    "for page in url :\n",
    "    driver.get(page)\n",
    "    driver.find_element_by_xpath(\"//button[@class='_2KpZ6l _1FH0tX']\").click()\n",
    "    try : \n",
    "        ram = driver.find_element_by_xpath(\"//div[@class='_1AtVbE col-12-12']/div/div/div/div[4]/table/tbody/tr[2]/td[2]/ul/li\")\n",
    "        if ram.text is None :\n",
    "            RAM.append(\"-\")\n",
    "        else :\n",
    "            RAM.append(ram.text)\n",
    "    except NoSuchElementException :\n",
    "        RAM.append(\"-\")\n",
    "        \n",
    "    time.sleep(5)  "
   ]
  },
  {
   "cell_type": "code",
   "execution_count": 986,
   "metadata": {},
   "outputs": [
    {
     "data": {
      "text/plain": [
       "24"
      ]
     },
     "execution_count": 986,
     "metadata": {},
     "output_type": "execute_result"
    }
   ],
   "source": [
    "len(RAM)"
   ]
  },
  {
   "cell_type": "code",
   "execution_count": 988,
   "metadata": {
    "scrolled": true
   },
   "outputs": [
    {
     "data": {
      "text/plain": [
       "['', '4 GB', '4 GB', '4 GB', '4 GB']"
      ]
     },
     "execution_count": 988,
     "metadata": {},
     "output_type": "execute_result"
    }
   ],
   "source": [
    "RAM[0:5]"
   ]
  },
  {
   "cell_type": "code",
   "execution_count": 993,
   "metadata": {},
   "outputs": [],
   "source": [
    "## Storage\n",
    "storage = []\n",
    "for page in url :\n",
    "    driver.get(page)\n",
    "    driver.find_element_by_xpath(\"//button[@class='_2KpZ6l _1FH0tX']\").click()\n",
    "    try : \n",
    "        stor = driver.find_element_by_xpath(\"//div[@class='_1AtVbE col-12-12']/div/div/div/div[4]/table/tbody/tr[1]/td/ul/li\")\n",
    "        if stor.text is None :\n",
    "            storage.append(\"-\")\n",
    "        else :\n",
    "            storage.append(stor.text)\n",
    "    except NoSuchElementException :\n",
    "        storage.append(\"-\")\n",
    "        \n",
    "    time.sleep(5) "
   ]
  },
  {
   "cell_type": "code",
   "execution_count": 994,
   "metadata": {},
   "outputs": [
    {
     "data": {
      "text/plain": [
       "24"
      ]
     },
     "execution_count": 994,
     "metadata": {},
     "output_type": "execute_result"
    }
   ],
   "source": [
    "len(storage)"
   ]
  },
  {
   "cell_type": "code",
   "execution_count": 995,
   "metadata": {
    "scrolled": false
   },
   "outputs": [
    {
     "data": {
      "text/plain": [
       "['128 GB', '64 GB', '64 GB', '64 GB', '64 GB']"
      ]
     },
     "execution_count": 995,
     "metadata": {},
     "output_type": "execute_result"
    }
   ],
   "source": [
    "storage[0:5]"
   ]
  },
  {
   "cell_type": "code",
   "execution_count": 999,
   "metadata": {},
   "outputs": [],
   "source": [
    "## display_size\n",
    "display = []\n",
    "for page in url :\n",
    "    driver.get(page)\n",
    "    driver.find_element_by_xpath(\"//button[@class='_2KpZ6l _1FH0tX']\").click()\n",
    "    try : \n",
    "        disp = driver.find_element_by_xpath(\"//div[@class='_1AtVbE col-12-12']/div/div/div[1]/div[2]/table/tbody/tr[1]/td/ul/li\")\n",
    "        if disp.text is None :\n",
    "            display.append(\"-\")\n",
    "        else :\n",
    "            display.append(disp.text)\n",
    "    except NoSuchElementException :\n",
    "        display.append(\"-\")\n",
    "        \n",
    "    time.sleep(5) "
   ]
  },
  {
   "cell_type": "code",
   "execution_count": 1001,
   "metadata": {},
   "outputs": [
    {
     "data": {
      "text/plain": [
       "24"
      ]
     },
     "execution_count": 1001,
     "metadata": {},
     "output_type": "execute_result"
    }
   ],
   "source": [
    "len(display)"
   ]
  },
  {
   "cell_type": "code",
   "execution_count": 1003,
   "metadata": {},
   "outputs": [
    {
     "data": {
      "text/plain": [
       "['14.76 cm (5.81 inch)',\n",
       " '',\n",
       " '16.59 cm (6.53 inch)',\n",
       " '16.59 cm (6.53 inch)',\n",
       " '16.59 cm (6.53 inch)']"
      ]
     },
     "execution_count": 1003,
     "metadata": {},
     "output_type": "execute_result"
    }
   ],
   "source": [
    "display[0:5]"
   ]
  },
  {
   "cell_type": "code",
   "execution_count": 1004,
   "metadata": {},
   "outputs": [],
   "source": [
    "## display resolution\n",
    "display_res = []\n",
    "for page in url :\n",
    "    driver.get(page)\n",
    "    driver.find_element_by_xpath(\"//button[@class='_2KpZ6l _1FH0tX']\").click()\n",
    "    try : \n",
    "        dr = driver.find_element_by_xpath(\"//div[@class='_1AtVbE col-12-12']/div/div/div[1]/div[2]/table/tbody/tr[2]/td/ul/li\")\n",
    "        if dr.text is None :\n",
    "            display_res.append(\"-\")\n",
    "        else :\n",
    "            display_res.append(dr.text)\n",
    "    except NoSuchElementException :\n",
    "        display_res.append(\"-\")\n",
    "        \n",
    "    time.sleep(5) "
   ]
  },
  {
   "cell_type": "code",
   "execution_count": 1005,
   "metadata": {},
   "outputs": [
    {
     "data": {
      "text/plain": [
       "24"
      ]
     },
     "execution_count": 1005,
     "metadata": {},
     "output_type": "execute_result"
    }
   ],
   "source": [
    "len(display_res)"
   ]
  },
  {
   "cell_type": "code",
   "execution_count": 1006,
   "metadata": {},
   "outputs": [
    {
     "data": {
      "text/plain": [
       "['2340 x 1080 Pixels',\n",
       " '2340 x 1080$$pixel',\n",
       " '2340 x 1080$$pixel',\n",
       " '2340 x 1080$$pixel',\n",
       " '2340 x 1080$$pixel']"
      ]
     },
     "execution_count": 1006,
     "metadata": {},
     "output_type": "execute_result"
    }
   ],
   "source": [
    "display_res[0:5]"
   ]
  },
  {
   "cell_type": "code",
   "execution_count": 1007,
   "metadata": {},
   "outputs": [],
   "source": [
    "## processor\n",
    "processor = []\n",
    "for page in url :\n",
    "    driver.get(page)\n",
    "    driver.find_element_by_xpath(\"//button[@class='_2KpZ6l _1FH0tX']\").click()\n",
    "    try : \n",
    "        p = driver.find_element_by_xpath(\"//div[@class='_1AtVbE col-12-12']/div/div/div[1]/div[3]/table/tbody/tr[2]/td/ul/li\")\n",
    "        if p.text is None :\n",
    "            processor.append(\"-\")\n",
    "        else :\n",
    "            processor.append(p.text)\n",
    "    except NoSuchElementException :\n",
    "        processor.append(\"-\")\n",
    "        \n",
    "    time.sleep(5) "
   ]
  },
  {
   "cell_type": "code",
   "execution_count": 1008,
   "metadata": {},
   "outputs": [
    {
     "data": {
      "text/plain": [
       "24"
      ]
     },
     "execution_count": 1008,
     "metadata": {},
     "output_type": "execute_result"
    }
   ],
   "source": [
    "len(processor)"
   ]
  },
  {
   "cell_type": "code",
   "execution_count": 1009,
   "metadata": {},
   "outputs": [
    {
     "data": {
      "text/plain": [
       "['Qualcomm Snapdragon 730G',\n",
       " 'Qualcomm Snapdragon 662',\n",
       " 'Qualcomm Snapdragon 662',\n",
       " 'Qualcomm Snapdragon 662',\n",
       " 'Qualcomm Snapdragon 662']"
      ]
     },
     "execution_count": 1009,
     "metadata": {},
     "output_type": "execute_result"
    }
   ],
   "source": [
    "processor[0:5]"
   ]
  },
  {
   "cell_type": "code",
   "execution_count": 1026,
   "metadata": {},
   "outputs": [],
   "source": [
    "## primary camera\n",
    "prim_cam = []\n",
    "for page in url :\n",
    "    driver.get(page)\n",
    "    driver.find_element_by_xpath(\"//button[@class='_2KpZ6l _1FH0tX']\").click()\n",
    "    try : \n",
    "        pm = driver.find_element_by_xpath(\"//div[@class='_1AtVbE col-12-12']/div/div/div[1]/div[5]/table/tbody/tr[2]/td/ul/li\")\n",
    "        if pm.text is None :\n",
    "            prim_cam.append(\"-\")\n",
    "        else :\n",
    "            prim_cam.append(pm.text)\n",
    "    except NoSuchElementException :\n",
    "        prim_cam.append(\"-\")\n",
    "        \n",
    "    time.sleep(5) "
   ]
  },
  {
   "cell_type": "code",
   "execution_count": 1027,
   "metadata": {},
   "outputs": [
    {
     "data": {
      "text/plain": [
       "24"
      ]
     },
     "execution_count": 1027,
     "metadata": {},
     "output_type": "execute_result"
    }
   ],
   "source": [
    "len(prim_cam)"
   ]
  },
  {
   "cell_type": "code",
   "execution_count": 1028,
   "metadata": {},
   "outputs": [
    {
     "data": {
      "text/plain": [
       "['12.2MP Rear Camera',\n",
       " '48MP + 8MP + 2MP + 2MP',\n",
       " '13MP Rear Camera',\n",
       " '48MP + 8MP + 2MP + 2MP',\n",
       " '13MP + 2MP']"
      ]
     },
     "execution_count": 1028,
     "metadata": {},
     "output_type": "execute_result"
    }
   ],
   "source": [
    "prim_cam[0:5]"
   ]
  },
  {
   "cell_type": "code",
   "execution_count": 1035,
   "metadata": {},
   "outputs": [],
   "source": [
    "## secondary camera\n",
    "sec_cam = []\n",
    "for page in url :\n",
    "    driver.get(page)\n",
    "    driver.find_element_by_xpath(\"//button[@class='_2KpZ6l _1FH0tX']\").click()\n",
    "    try : \n",
    "        sc = driver.find_element_by_xpath(\"//div[@class='_1AtVbE col-12-12']/div/div/div[1]/div[5]/table/tbody/tr[5]/td/ul/li\")\n",
    "        if sc.text is None :\n",
    "            sec_cam.append(\"-\")\n",
    "        else :\n",
    "            sec_cam.append(sc.text)\n",
    "    except NoSuchElementException :\n",
    "        sec_cam.append(\"-\")\n",
    "        \n",
    "    time.sleep(5) "
   ]
  },
  {
   "cell_type": "code",
   "execution_count": 1037,
   "metadata": {},
   "outputs": [
    {
     "data": {
      "text/plain": [
       "24"
      ]
     },
     "execution_count": 1037,
     "metadata": {},
     "output_type": "execute_result"
    }
   ],
   "source": [
    "len(sec_cam)"
   ]
  },
  {
   "cell_type": "code",
   "execution_count": 1038,
   "metadata": {},
   "outputs": [
    {
     "data": {
      "text/plain": [
       "['8MP Front Camera', 'Yes', '8MP Front Camera', 'Yes', '5MP Front Camera']"
      ]
     },
     "execution_count": 1038,
     "metadata": {},
     "output_type": "execute_result"
    }
   ],
   "source": [
    "sec_cam[0:5]"
   ]
  },
  {
   "cell_type": "code",
   "execution_count": 1050,
   "metadata": {},
   "outputs": [],
   "source": [
    "## battery\n",
    "battery = []\n",
    "for page in url :\n",
    "    driver.get(page)\n",
    "    driver.find_element_by_xpath(\"//button[@class='_2KpZ6l _1FH0tX']\").click()\n",
    "    try : \n",
    "        b = driver.find_element_by_xpath(\"//div[@class='_1AtVbE col-12-12']/div/div/div[1]/div[10]/table/tbody/tr[1]/td/ul/li\")\n",
    "        if b.text is None :\n",
    "            battery.append(\"-\")\n",
    "        else :\n",
    "            battery.append(b.text)\n",
    "    except NoSuchElementException :\n",
    "        battery.append(\"-\")\n",
    "        \n",
    "    time.sleep(5) "
   ]
  },
  {
   "cell_type": "code",
   "execution_count": 1051,
   "metadata": {},
   "outputs": [
    {
     "data": {
      "text/plain": [
       "24"
      ]
     },
     "execution_count": 1051,
     "metadata": {},
     "output_type": "execute_result"
    }
   ],
   "source": [
    "len(battery)"
   ]
  },
  {
   "cell_type": "code",
   "execution_count": 1052,
   "metadata": {},
   "outputs": [
    {
     "data": {
      "text/plain": [
       "['69.4 mm', '5020 mAh', '6000 mAh', '6000 mAh', '6000 mAh']"
      ]
     },
     "execution_count": 1052,
     "metadata": {},
     "output_type": "execute_result"
    }
   ],
   "source": [
    "battery[0:5]"
   ]
  },
  {
   "cell_type": "code",
   "execution_count": 1011,
   "metadata": {},
   "outputs": [],
   "source": [
    "##creating a data frame"
   ]
  },
  {
   "cell_type": "code",
   "execution_count": 1053,
   "metadata": {},
   "outputs": [],
   "source": [
    "df = pd.DataFrame({})"
   ]
  },
  {
   "cell_type": "code",
   "execution_count": 1060,
   "metadata": {},
   "outputs": [],
   "source": [
    "df['Brand_name'] = brand_name\n",
    "df['Price'] = Price\n",
    "df['Ratings'] = ratings\n",
    "df['Color'] = colors\n",
    "df['RAM'] = RAM\n",
    "df['ROM'] = storage\n",
    "df['Display_size']=display\n",
    "df['Display_resolution']=display_res\n",
    "df['Processor']=processor\n",
    "df['Primary_camera']=prim_cam\n",
    "df['Secondary_camera']=sec_cam\n",
    "df['Battery']=battery\n",
    "df['Product_url']=url"
   ]
  },
  {
   "cell_type": "code",
   "execution_count": 1062,
   "metadata": {
    "scrolled": true
   },
   "outputs": [
    {
     "data": {
      "text/html": [
       "<div>\n",
       "<style scoped>\n",
       "    .dataframe tbody tr th:only-of-type {\n",
       "        vertical-align: middle;\n",
       "    }\n",
       "\n",
       "    .dataframe tbody tr th {\n",
       "        vertical-align: top;\n",
       "    }\n",
       "\n",
       "    .dataframe thead th {\n",
       "        text-align: right;\n",
       "    }\n",
       "</style>\n",
       "<table border=\"1\" class=\"dataframe\">\n",
       "  <thead>\n",
       "    <tr style=\"text-align: right;\">\n",
       "      <th></th>\n",
       "      <th>Brand_name</th>\n",
       "      <th>Price</th>\n",
       "      <th>Ratings</th>\n",
       "      <th>Color</th>\n",
       "      <th>RAM</th>\n",
       "      <th>ROM</th>\n",
       "      <th>Display_size</th>\n",
       "      <th>Display_resolution</th>\n",
       "      <th>Processor</th>\n",
       "      <th>Primary_camera</th>\n",
       "      <th>Secondary_camera</th>\n",
       "      <th>Battery</th>\n",
       "      <th>Product_url</th>\n",
       "    </tr>\n",
       "  </thead>\n",
       "  <tbody>\n",
       "    <tr>\n",
       "      <th>0</th>\n",
       "      <td>REDMI Note 9 (Pebble Grey, 64 GB)  (4 GB RAM)</td>\n",
       "      <td>₹29,999</td>\n",
       "      <td>4.6</td>\n",
       "      <td>Just Black</td>\n",
       "      <td></td>\n",
       "      <td>128 GB</td>\n",
       "      <td>14.76 cm (5.81 inch)</td>\n",
       "      <td>2340 x 1080 Pixels</td>\n",
       "      <td>Qualcomm Snapdragon 730G</td>\n",
       "      <td>12.2MP Rear Camera</td>\n",
       "      <td>8MP Front Camera</td>\n",
       "      <td>69.4 mm</td>\n",
       "      <td>https://www.flipkart.com/google-pixel-4a-just-...</td>\n",
       "    </tr>\n",
       "    <tr>\n",
       "      <th>1</th>\n",
       "      <td>REDMI 9 Power (Electric Green, 64 GB)  (4 GB RAM)</td>\n",
       "      <td>₹10,999</td>\n",
       "      <td>4.4</td>\n",
       "      <td>Mighty Black</td>\n",
       "      <td>4 GB</td>\n",
       "      <td>64 GB</td>\n",
       "      <td></td>\n",
       "      <td>2340 x 1080$$pixel</td>\n",
       "      <td>Qualcomm Snapdragon 662</td>\n",
       "      <td>48MP + 8MP + 2MP + 2MP</td>\n",
       "      <td>Yes</td>\n",
       "      <td>5020 mAh</td>\n",
       "      <td>https://www.flipkart.com/redmi-note-9-pebble-g...</td>\n",
       "    </tr>\n",
       "    <tr>\n",
       "      <th>2</th>\n",
       "      <td>REDMI 9 Power (Mighty Black, 64 GB)  (4 GB RAM)</td>\n",
       "      <td>₹10,499</td>\n",
       "      <td>4.3</td>\n",
       "      <td>Electric Green</td>\n",
       "      <td>4 GB</td>\n",
       "      <td>64 GB</td>\n",
       "      <td>16.59 cm (6.53 inch)</td>\n",
       "      <td>2340 x 1080$$pixel</td>\n",
       "      <td>Qualcomm Snapdragon 662</td>\n",
       "      <td>13MP Rear Camera</td>\n",
       "      <td>8MP Front Camera</td>\n",
       "      <td>6000 mAh</td>\n",
       "      <td>https://www.flipkart.com/redmi-9-power-electri...</td>\n",
       "    </tr>\n",
       "    <tr>\n",
       "      <th>3</th>\n",
       "      <td>REDMI 9 Power (Fiery Red, 64 GB)  (4 GB RAM)</td>\n",
       "      <td>₹10,499</td>\n",
       "      <td>4.3</td>\n",
       "      <td>Fiery Red</td>\n",
       "      <td>4 GB</td>\n",
       "      <td>64 GB</td>\n",
       "      <td>16.59 cm (6.53 inch)</td>\n",
       "      <td>2340 x 1080$$pixel</td>\n",
       "      <td>Qualcomm Snapdragon 662</td>\n",
       "      <td>48MP + 8MP + 2MP + 2MP</td>\n",
       "      <td>Yes</td>\n",
       "      <td>6000 mAh</td>\n",
       "      <td>https://www.flipkart.com/redmi-9-power-mighty-...</td>\n",
       "    </tr>\n",
       "    <tr>\n",
       "      <th>4</th>\n",
       "      <td>REDMI 9 Power (Blazing Blue, 64 GB)  (4 GB RAM)</td>\n",
       "      <td>₹10,499</td>\n",
       "      <td>4.3</td>\n",
       "      <td>Blazing Blue</td>\n",
       "      <td>4 GB</td>\n",
       "      <td>64 GB</td>\n",
       "      <td>16.59 cm (6.53 inch)</td>\n",
       "      <td>2340 x 1080$$pixel</td>\n",
       "      <td>Qualcomm Snapdragon 662</td>\n",
       "      <td>13MP + 2MP</td>\n",
       "      <td>5MP Front Camera</td>\n",
       "      <td>6000 mAh</td>\n",
       "      <td>https://www.flipkart.com/redmi-9-power-fiery-r...</td>\n",
       "    </tr>\n",
       "  </tbody>\n",
       "</table>\n",
       "</div>"
      ],
      "text/plain": [
       "                                          Brand_name    Price Ratings  \\\n",
       "0      REDMI Note 9 (Pebble Grey, 64 GB)  (4 GB RAM)  ₹29,999     4.6   \n",
       "1  REDMI 9 Power (Electric Green, 64 GB)  (4 GB RAM)  ₹10,999     4.4   \n",
       "2    REDMI 9 Power (Mighty Black, 64 GB)  (4 GB RAM)  ₹10,499     4.3   \n",
       "3       REDMI 9 Power (Fiery Red, 64 GB)  (4 GB RAM)  ₹10,499     4.3   \n",
       "4    REDMI 9 Power (Blazing Blue, 64 GB)  (4 GB RAM)  ₹10,499     4.3   \n",
       "\n",
       "            Color   RAM     ROM          Display_size  Display_resolution  \\\n",
       "0      Just Black        128 GB  14.76 cm (5.81 inch)  2340 x 1080 Pixels   \n",
       "1    Mighty Black  4 GB   64 GB                        2340 x 1080$$pixel   \n",
       "2  Electric Green  4 GB   64 GB  16.59 cm (6.53 inch)  2340 x 1080$$pixel   \n",
       "3       Fiery Red  4 GB   64 GB  16.59 cm (6.53 inch)  2340 x 1080$$pixel   \n",
       "4    Blazing Blue  4 GB   64 GB  16.59 cm (6.53 inch)  2340 x 1080$$pixel   \n",
       "\n",
       "                  Processor          Primary_camera  Secondary_camera  \\\n",
       "0  Qualcomm Snapdragon 730G      12.2MP Rear Camera  8MP Front Camera   \n",
       "1   Qualcomm Snapdragon 662  48MP + 8MP + 2MP + 2MP               Yes   \n",
       "2   Qualcomm Snapdragon 662        13MP Rear Camera  8MP Front Camera   \n",
       "3   Qualcomm Snapdragon 662  48MP + 8MP + 2MP + 2MP               Yes   \n",
       "4   Qualcomm Snapdragon 662              13MP + 2MP  5MP Front Camera   \n",
       "\n",
       "    Battery                                        Product_url  \n",
       "0   69.4 mm  https://www.flipkart.com/google-pixel-4a-just-...  \n",
       "1  5020 mAh  https://www.flipkart.com/redmi-note-9-pebble-g...  \n",
       "2  6000 mAh  https://www.flipkart.com/redmi-9-power-electri...  \n",
       "3  6000 mAh  https://www.flipkart.com/redmi-9-power-mighty-...  \n",
       "4  6000 mAh  https://www.flipkart.com/redmi-9-power-fiery-r...  "
      ]
     },
     "execution_count": 1062,
     "metadata": {},
     "output_type": "execute_result"
    }
   ],
   "source": [
    "df.head()"
   ]
  },
  {
   "cell_type": "code",
   "execution_count": 1064,
   "metadata": {},
   "outputs": [],
   "source": [
    "df.to_csv('pixel4A.csv')"
   ]
  },
  {
   "cell_type": "markdown",
   "metadata": {},
   "source": [
    "## Task 5"
   ]
  },
  {
   "cell_type": "code",
   "execution_count": 1083,
   "metadata": {},
   "outputs": [],
   "source": [
    "driver = webdriver.Chrome(r'C:\\Users\\User\\Downloads\\chromedriver_win32\\chromedriver.exe')"
   ]
  },
  {
   "cell_type": "code",
   "execution_count": 1084,
   "metadata": {},
   "outputs": [],
   "source": [
    "url = 'https://maps.google.com/'"
   ]
  },
  {
   "cell_type": "code",
   "execution_count": 1085,
   "metadata": {},
   "outputs": [],
   "source": [
    "driver.get(url)"
   ]
  },
  {
   "cell_type": "code",
   "execution_count": 1086,
   "metadata": {},
   "outputs": [],
   "source": [
    "search_box = driver.find_element_by_id('searchboxinput')\n",
    "search_box.send_keys('japan')\n",
    "driver.find_element_by_xpath(\"//button[@aria-label='Search']\").click()"
   ]
  },
  {
   "cell_type": "code",
   "execution_count": 1097,
   "metadata": {},
   "outputs": [],
   "source": [
    "wiki = driver.find_element_by_xpath(\"//div[@class='TkWrSb-mXWxJe-ij8cu']/span[2]/span/a[3]\")\n",
    "driver.get(wiki.get_attribute('data-attribution-url'))"
   ]
  },
  {
   "cell_type": "code",
   "execution_count": 1101,
   "metadata": {},
   "outputs": [
    {
     "data": {
      "text/plain": [
       "'35°41′N'"
      ]
     },
     "execution_count": 1101,
     "metadata": {},
     "output_type": "execute_result"
    }
   ],
   "source": [
    "latitude = driver.find_element_by_xpath(\"//span[@class='latitude']\").text\n",
    "latitude"
   ]
  },
  {
   "cell_type": "code",
   "execution_count": 1102,
   "metadata": {},
   "outputs": [
    {
     "data": {
      "text/plain": [
       "'139°46′E'"
      ]
     },
     "execution_count": 1102,
     "metadata": {},
     "output_type": "execute_result"
    }
   ],
   "source": [
    "longitude = driver.find_element_by_xpath(\"//span[@class='longitude']\").text\n",
    "longitude"
   ]
  },
  {
   "cell_type": "markdown",
   "metadata": {},
   "source": [
    "## Task 6"
   ]
  },
  {
   "cell_type": "code",
   "execution_count": 1103,
   "metadata": {},
   "outputs": [],
   "source": [
    "##i m not able to access trak.in website ...its not opening"
   ]
  },
  {
   "cell_type": "markdown",
   "metadata": {},
   "source": [
    "## Task 7"
   ]
  },
  {
   "cell_type": "code",
   "execution_count": 1104,
   "metadata": {},
   "outputs": [],
   "source": [
    "driver = webdriver.Chrome(r'C:\\Users\\User\\Downloads\\chromedriver_win32\\chromedriver.exe')"
   ]
  },
  {
   "cell_type": "code",
   "execution_count": 1106,
   "metadata": {},
   "outputs": [],
   "source": [
    "driver.get('https://digit.in')"
   ]
  },
  {
   "cell_type": "code",
   "execution_count": 1115,
   "metadata": {
    "scrolled": true
   },
   "outputs": [],
   "source": [
    "search = driver.find_element_by_xpath(\"//div[@class='menu']/ul/li[3]/a\")\n",
    "driver.get(search.get_attribute('href'))"
   ]
  },
  {
   "cell_type": "code",
   "execution_count": 1117,
   "metadata": {},
   "outputs": [],
   "source": [
    "click = driver.find_element_by_xpath(\"//div[@class='Listbrand']/ul/li[10]/a\")\n",
    "driver.get(click.get_attribute('href'))"
   ]
  },
  {
   "cell_type": "code",
   "execution_count": 1134,
   "metadata": {},
   "outputs": [],
   "source": [
    "product_name = []\n",
    "price = []"
   ]
  },
  {
   "cell_type": "code",
   "execution_count": 1136,
   "metadata": {},
   "outputs": [],
   "source": [
    "name = driver.find_elements_by_xpath(\"//div[@class='right-container']/div/a/h3\")\n",
    "for i in name :\n",
    "    if i.text is None :\n",
    "        product_name.append('-')\n",
    "    else :\n",
    "        product_name.append(i.text)"
   ]
  },
  {
   "cell_type": "code",
   "execution_count": 1137,
   "metadata": {
    "scrolled": true
   },
   "outputs": [
    {
     "data": {
      "text/plain": [
       "['ALIENWARE AREA 51M R2',\n",
       " 'ALIENWARE M15 R3',\n",
       " 'ASUS ROG STRIX SCAR 15',\n",
       " 'ASUS ROG ZEPHYRUS G14',\n",
       " 'LENOVO LEGION 5I',\n",
       " 'ASUS ROG ZEPHYRUS DUO 15',\n",
       " 'ACER ASPIRE 7 GAMING']"
      ]
     },
     "execution_count": 1137,
     "metadata": {},
     "output_type": "execute_result"
    }
   ],
   "source": [
    "product_name"
   ]
  }
 ],
 "metadata": {
  "kernelspec": {
   "display_name": "Python 3",
   "language": "python",
   "name": "python3"
  },
  "language_info": {
   "codemirror_mode": {
    "name": "ipython",
    "version": 3
   },
   "file_extension": ".py",
   "mimetype": "text/x-python",
   "name": "python",
   "nbconvert_exporter": "python",
   "pygments_lexer": "ipython3",
   "version": "3.8.5"
  }
 },
 "nbformat": 4,
 "nbformat_minor": 4
}
